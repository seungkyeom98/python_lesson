{
 "cells": [
  {
   "cell_type": "markdown",
   "id": "433dfcf7-14bb-4b3d-93f5-ff68859882a8",
   "metadata": {},
   "source": [
    "### 딕셔너리\n",
    "- 불변한 key, 변화가능한 value로 맵핑되어 있는 순서가 없는 집합"
   ]
  },
  {
   "cell_type": "code",
   "execution_count": 1,
   "id": "1c3e3933-65d8-4545-b5fd-de2a87dd38c7",
   "metadata": {},
   "outputs": [
    {
     "name": "stdout",
     "output_type": "stream",
     "text": [
      "{'name': '신재영', 'age': 20, 'phone': '010-7121-2354'}\n",
      "<class 'dict'>\n"
     ]
    }
   ],
   "source": [
    "dict1 = {'name':'신재영', 'age':20, 'phone':'010-7121-2354'}\n",
    "#딕셔너리의 준말 dict\n",
    "\n",
    "print(dict1)\n",
    "\n",
    "print(type(dict1))\n"
   ]
  },
  {
   "cell_type": "code",
   "execution_count": 2,
   "id": "15838be6-7ea3-4ebb-b63b-e2620a505da7",
   "metadata": {},
   "outputs": [
    {
     "name": "stdout",
     "output_type": "stream",
     "text": [
      "신재영\n",
      "20\n",
      "010-7121-2354\n",
      "\n",
      "신재영\n"
     ]
    }
   ],
   "source": [
    "# 딕셔너리의 값 가져오기\n",
    "\n",
    "# 딕셔너리는 순서가 없기 때문에 인덱스 번호가 없다.\n",
    "# 대신, key값을 통해서 데이터를 가져옴\n",
    "\n",
    "print(dict1['name'])\n",
    "print(dict1['age'])\n",
    "print(dict1['phone'])\n",
    "\n",
    "print()\n",
    "\n",
    "print(dict1.get('name')) #get함수를 사용해서도 가능"
   ]
  },
  {
   "cell_type": "code",
   "execution_count": null,
   "id": "7e44cb80-a3ac-485d-bd4f-25e521965704",
   "metadata": {},
   "outputs": [],
   "source": []
  },
  {
   "cell_type": "markdown",
   "id": "2fb3f1e5-d8e2-4ca1-af18-24aee8e1bf78",
   "metadata": {},
   "source": []
  },
  {
   "cell_type": "code",
   "execution_count": 7,
   "id": "f0f688dc-85ae-4ef3-8388-90f8d8486097",
   "metadata": {},
   "outputs": [
    {
     "data": {
      "text/plain": [
       "{'name': '신재영', 'age': 21, 'phone': '010-7121-2354', 'birth': '12/14'}"
      ]
     },
     "execution_count": 7,
     "metadata": {},
     "output_type": "execute_result"
    }
   ],
   "source": [
    "#딕셔너리의 값 변경\n",
    "#키값으로 값을 불러와서 대입 (키값은 불변. value값을 변경하는 거다.)\n",
    "#                      (물론 키값에 재할당해도 되지만, 우리가 키값은 안바꾸려고 딕셔너리를 쓰는거다.)\n",
    "\n",
    "dict1['age'] =21    #이건 value값에 재할당. update한거다. key값을 재할당한것이 아니라.\n",
    "\n",
    "dict1"
   ]
  },
  {
   "cell_type": "code",
   "execution_count": 6,
   "id": "0588772c-9778-4042-ad85-88ed15b521a9",
   "metadata": {},
   "outputs": [
    {
     "data": {
      "text/plain": [
       "{'name': '신재영', 'age': 21, 'phone': '010-7121-2354', 'birth': '12/14'}"
      ]
     },
     "execution_count": 6,
     "metadata": {},
     "output_type": "execute_result"
    }
   ],
   "source": [
    "#딕셔너리의 값 추가\n",
    "# 기존에 없는 키값에 대입\n",
    "dict1['birth'] = '12/14'\n",
    "\n",
    "dict1"
   ]
  },
  {
   "cell_type": "code",
   "execution_count": 8,
   "id": "6b15407f-bc58-4e63-8245-e05cca1be657",
   "metadata": {},
   "outputs": [
    {
     "data": {
      "text/plain": [
       "{'name': '신재영', 'phone': '010-7121-2354', 'birth': '12/14'}"
      ]
     },
     "execution_count": 8,
     "metadata": {},
     "output_type": "execute_result"
    }
   ],
   "source": [
    "# 딕셔너리의 값 삭제\n",
    "# del 함수 키워드 사용하기\n",
    "#    (문법(들여쓰기), 연산자(=,==), 함수(멤버함수(=메소드), 내장함수,사용자 정의 함수))\n",
    "\n",
    "del dict1['age']\n",
    "\n",
    "dict1"
   ]
  },
  {
   "cell_type": "code",
   "execution_count": 9,
   "id": "57a482ca-be87-493b-8811-eff70eaa71d9",
   "metadata": {},
   "outputs": [],
   "source": [
    "# 딕셔너리 비우기\n",
    "# clear()\n",
    "\n",
    "dict1.clear()"
   ]
  },
  {
   "cell_type": "code",
   "execution_count": 10,
   "id": "7e38a016-243c-4910-b8bf-77ce0ab1681c",
   "metadata": {},
   "outputs": [],
   "source": [
    "dict1 = {'name':'신재영', 'age':20, 'phone':'010-7121-2354'}"
   ]
  },
  {
   "cell_type": "code",
   "execution_count": 14,
   "id": "f70314d4-4a9e-4cdb-8009-8003d617a138",
   "metadata": {},
   "outputs": [
    {
     "name": "stdout",
     "output_type": "stream",
     "text": [
      "dict_keys(['name', 'age', 'phone'])\n"
     ]
    },
    {
     "data": {
      "text/plain": [
       "dict_keys(['name', 'age', 'phone'])"
      ]
     },
     "execution_count": 14,
     "metadata": {},
     "output_type": "execute_result"
    }
   ],
   "source": [
    "# 딕셔너리의 key값만 가져오기\n",
    "print(dict1.keys()) # 딕셔너리의 키들을 명시해서 출력한다.\n",
    "dict1.keys() #키 호출."
   ]
  },
  {
   "cell_type": "code",
   "execution_count": 19,
   "id": "709732b3-8454-400d-b686-3a8d170a9b6f",
   "metadata": {},
   "outputs": [
    {
     "name": "stdout",
     "output_type": "stream",
     "text": [
      "dict_values(['신재영', 20, '010-7121-2354'])\n"
     ]
    },
    {
     "data": {
      "text/plain": [
       "dict_values(['신재영', 20, '010-7121-2354'])"
      ]
     },
     "execution_count": 19,
     "metadata": {},
     "output_type": "execute_result"
    }
   ],
   "source": [
    "# 딕셔너리의 value값만 가져오기\n",
    "print(dict1.values())  # 딕셔너리의 value값들을 명시해서 출력한다.\n",
    "dict1.values() #값 호출."
   ]
  },
  {
   "cell_type": "code",
   "execution_count": 18,
   "id": "b6cc075e-177e-46a9-9da8-219ce8bd7806",
   "metadata": {},
   "outputs": [
    {
     "data": {
      "text/plain": [
       "dict_values"
      ]
     },
     "execution_count": 18,
     "metadata": {},
     "output_type": "execute_result"
    }
   ],
   "source": [
    "type(dict1.values())"
   ]
  },
  {
   "cell_type": "code",
   "execution_count": 4,
   "id": "bf3c6e04-7481-4c6a-9e84-671736127bd7",
   "metadata": {},
   "outputs": [
    {
     "data": {
      "text/plain": [
       "{'팀원1': '신재영'}"
      ]
     },
     "execution_count": 4,
     "metadata": {},
     "output_type": "execute_result"
    }
   ],
   "source": [
    "mini= {'팀원1' : '신재영'}\n",
    "\n",
    "mini"
   ]
  },
  {
   "cell_type": "code",
   "execution_count": 8,
   "id": "093cc3aa-3cc3-4612-8f47-95a0692f74d9",
   "metadata": {},
   "outputs": [
    {
     "data": {
      "text/plain": [
       "{'팀원1': '신재영', '팀원2': '주미리', '마스터': '본부장님'}"
      ]
     },
     "execution_count": 8,
     "metadata": {},
     "output_type": "execute_result"
    }
   ],
   "source": [
    "mini['팀원2'] = '주미리'\n",
    "mini['마스터'] = '본부장님'\n",
    "\n",
    "mini"
   ]
  },
  {
   "cell_type": "code",
   "execution_count": 24,
   "id": "163cd1f5-8ae8-4aab-a7fe-9c6079fd9f6a",
   "metadata": {},
   "outputs": [
    {
     "name": "stdout",
     "output_type": "stream",
     "text": [
      "신재영\n",
      "주미리\n",
      "본부장님\n"
     ]
    }
   ],
   "source": [
    "for i in mini.values():\n",
    "    print(i)\n",
    "# 이것을 하나하나 리스트에 append하면, \n",
    "# 하나하나 문자열형태로 자료형을 저장해서, 데이터 연산및 분석이 용이하다."
   ]
  },
  {
   "cell_type": "code",
   "execution_count": 23,
   "id": "098b5157-b88d-4416-bbf1-99ada5821547",
   "metadata": {},
   "outputs": [
    {
     "name": "stdout",
     "output_type": "stream",
     "text": [
      "팀원1\n",
      "팀원2\n",
      "마스터\n"
     ]
    }
   ],
   "source": [
    "for i in mini: # 원래 딕셔너리는 불러올때, key값을 불러온다.\n",
    "    print(i)"
   ]
  },
  {
   "cell_type": "code",
   "execution_count": null,
   "id": "a27493ff-0b40-47b2-8827-68f3d55ce88a",
   "metadata": {},
   "outputs": [],
   "source": []
  },
  {
   "cell_type": "code",
   "execution_count": null,
   "id": "089b0299-5511-461e-83ec-f0b58b9ca287",
   "metadata": {},
   "outputs": [],
   "source": []
  },
  {
   "cell_type": "code",
   "execution_count": null,
   "id": "8b88fc5d-9215-48bf-a816-a2c336d7f8ae",
   "metadata": {},
   "outputs": [],
   "source": []
  },
  {
   "cell_type": "code",
   "execution_count": null,
   "id": "da0b605b-8389-44c7-9131-35ec835cc63b",
   "metadata": {},
   "outputs": [],
   "source": []
  }
 ],
 "metadata": {
  "kernelspec": {
   "display_name": "Python 3 (ipykernel)",
   "language": "python",
   "name": "python3"
  },
  "language_info": {
   "codemirror_mode": {
    "name": "ipython",
    "version": 3
   },
   "file_extension": ".py",
   "mimetype": "text/x-python",
   "name": "python",
   "nbconvert_exporter": "python",
   "pygments_lexer": "ipython3",
   "version": "3.12.4"
  }
 },
 "nbformat": 4,
 "nbformat_minor": 5
}
