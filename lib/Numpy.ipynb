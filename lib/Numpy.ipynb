{
 "cells": [
  {
   "cell_type": "markdown",
   "id": "868d2156-f616-476e-838f-b277c6f93fd7",
   "metadata": {},
   "source": [
    "## Numpy\n",
    "- 복잡한 빅데이터의 수학적/과학적 계산을 위한 라이브러리\n",
    "- 반복문 없이, 전체 데이터의 배열 연산이 가능한 수학 함수들 제공\n",
    "- 배열 : 같은 자료형의 원소들이 연속적인 형태로 구성된 자료구조"
   ]
  },
  {
   "cell_type": "code",
   "execution_count": 1,
   "id": "19a99d71-9c10-4810-832e-186e73f4f6b8",
   "metadata": {},
   "outputs": [],
   "source": [
    "import numpy as np # Numpy 라이브러리를 불러오고, 앞으로 np라고 부르겠다."
   ]
  },
  {
   "cell_type": "code",
   "execution_count": 23,
   "id": "7f3a4c60-ec39-445e-82aa-7c865b2635ab",
   "metadata": {},
   "outputs": [
    {
     "data": {
      "text/plain": [
       "array([4, 3, 2, 1])"
      ]
     },
     "execution_count": 23,
     "metadata": {},
     "output_type": "execute_result"
    }
   ],
   "source": [
    "arr = np.array([4,3,2,1]) # np안에 array 함수 사용\n",
    "\n",
    "arr"
   ]
  },
  {
   "cell_type": "code",
   "execution_count": 5,
   "id": "dfe78960-67b7-479f-a4ba-c66f27d5d817",
   "metadata": {},
   "outputs": [
    {
     "data": {
      "text/plain": [
       "numpy.ndarray"
      ]
     },
     "execution_count": 5,
     "metadata": {},
     "output_type": "execute_result"
    }
   ],
   "source": [
    "type(arr) #n dimention 배열, n차원 배열이 정확한 명칭이다. ndarray."
   ]
  },
  {
   "cell_type": "code",
   "execution_count": 7,
   "id": "44bedee0-5712-46ac-88ee-8f4782368e32",
   "metadata": {},
   "outputs": [
    {
     "data": {
      "text/plain": [
       "array([1., 2., 3., 4.], dtype=float32)"
      ]
     },
     "execution_count": 7,
     "metadata": {},
     "output_type": "execute_result"
    }
   ],
   "source": [
    "list1=[1,2,3,4]\n",
    "\n",
    "arr = np.array(list1, dtype=np.float32)\n",
    "\n",
    "arr # 파이썬은 자료형을 동적으로 알아서 주지만, 자바와는 일일이 자료형 선언, 그런데 println과 print처럼 안하고 또한 옵션 end = ''이런거 같은 옵션이 많은 것도 자바와 차별점인 파이썬 특징이다.\n"
   ]
  },
  {
   "cell_type": "code",
   "execution_count": null,
   "id": "fc65ca05-5a38-4865-99d2-a6a74957e65a",
   "metadata": {},
   "outputs": [],
   "source": []
  },
  {
   "cell_type": "code",
   "execution_count": 9,
   "id": "3c8d7ce3-abd7-473a-ae97-ece903225f07",
   "metadata": {},
   "outputs": [
    {
     "data": {
      "text/plain": [
       "[1, 2, 3, 4, 1]"
      ]
     },
     "execution_count": 9,
     "metadata": {},
     "output_type": "execute_result"
    }
   ],
   "source": [
    "# 연산\n",
    "# list의 경우\n",
    "\n",
    "list1 +[1]"
   ]
  },
  {
   "cell_type": "code",
   "execution_count": 10,
   "id": "3dcc8a6d-fadb-45ca-ac9f-30a235680006",
   "metadata": {},
   "outputs": [
    {
     "data": {
      "text/plain": [
       "array([1, 2, 3, 4])"
      ]
     },
     "execution_count": 10,
     "metadata": {},
     "output_type": "execute_result"
    }
   ],
   "source": [
    "arr = np.array(list1)\n",
    "arr"
   ]
  },
  {
   "cell_type": "code",
   "execution_count": 11,
   "id": "04b06b16-e789-48b6-9897-8a2270bd15bd",
   "metadata": {},
   "outputs": [
    {
     "data": {
      "text/plain": [
       "array([2, 3, 4, 5])"
      ]
     },
     "execution_count": 11,
     "metadata": {},
     "output_type": "execute_result"
    }
   ],
   "source": [
    "arr = np.array(list1)\n",
    "arr +1"
   ]
  },
  {
   "cell_type": "code",
   "execution_count": 12,
   "id": "d2caf9c5-c301-4377-a5d4-a6dabd84990a",
   "metadata": {},
   "outputs": [
    {
     "data": {
      "text/plain": [
       "array([0, 1, 2, 3])"
      ]
     },
     "execution_count": 12,
     "metadata": {},
     "output_type": "execute_result"
    }
   ],
   "source": [
    "arr-1"
   ]
  },
  {
   "cell_type": "code",
   "execution_count": 13,
   "id": "20cf730d-8b5f-48f1-96c0-12d996d8a6de",
   "metadata": {},
   "outputs": [
    {
     "data": {
      "text/plain": [
       "array([0.33333333, 0.66666667, 1.        , 1.33333333])"
      ]
     },
     "execution_count": 13,
     "metadata": {},
     "output_type": "execute_result"
    }
   ],
   "source": [
    "arr/3"
   ]
  },
  {
   "cell_type": "code",
   "execution_count": null,
   "id": "13c410c4-e353-40c4-abf2-2ff0914de8b6",
   "metadata": {},
   "outputs": [],
   "source": []
  },
  {
   "cell_type": "markdown",
   "id": "3849934f-9a30-4c66-af31-a40ff6fc91a9",
   "metadata": {},
   "source": [
    "### 배열끼리의 사칙연산"
   ]
  },
  {
   "cell_type": "code",
   "execution_count": 17,
   "id": "776a93e1-8c06-434b-b2c5-c1184bed9e80",
   "metadata": {},
   "outputs": [],
   "source": [
    "arr1 = np.array([1,2,3])\n",
    "arr2 = np.array([4,5,6])\n",
    "arr3 = np.array([7,8,9,10])"
   ]
  },
  {
   "cell_type": "code",
   "execution_count": 18,
   "id": "98eaad73-22ef-4c1e-a2e2-4a861e69a8e6",
   "metadata": {},
   "outputs": [
    {
     "data": {
      "text/plain": [
       "array([5, 7, 9])"
      ]
     },
     "execution_count": 18,
     "metadata": {},
     "output_type": "execute_result"
    }
   ],
   "source": [
    "arr1 + arr2 # 각각 대응되는 요소끼리 더해짐"
   ]
  },
  {
   "cell_type": "code",
   "execution_count": 19,
   "id": "640a147a-6f8c-480e-8797-c69a26d14747",
   "metadata": {},
   "outputs": [
    {
     "ename": "ValueError",
     "evalue": "operands could not be broadcast together with shapes (3,) (4,) ",
     "output_type": "error",
     "traceback": [
      "\u001b[1;31m---------------------------------------------------------------------------\u001b[0m",
      "\u001b[1;31mValueError\u001b[0m                                Traceback (most recent call last)",
      "Cell \u001b[1;32mIn[19], line 1\u001b[0m\n\u001b[1;32m----> 1\u001b[0m arr1\u001b[38;5;241m+\u001b[39marr3\n",
      "\u001b[1;31mValueError\u001b[0m: operands could not be broadcast together with shapes (3,) (4,) "
     ]
    }
   ],
   "source": [
    "arr1+arr3 # shape(형태)가 다르다. 그래서 계산할 수 없다."
   ]
  },
  {
   "cell_type": "markdown",
   "id": "23054859-b5b6-4164-8710-239cff85d34a",
   "metadata": {},
   "source": [
    "배열 연산을 위해선, 배열의 형태가 같아야한다."
   ]
  },
  {
   "cell_type": "code",
   "execution_count": 20,
   "id": "a54d3660-fb49-4954-86d2-874709939452",
   "metadata": {},
   "outputs": [
    {
     "name": "stdout",
     "output_type": "stream",
     "text": [
      "[5 7 9]\n",
      "[3 3 3]\n",
      "[ 4 10 18]\n",
      "[4.  2.5 2. ]\n",
      "[4 2 2]\n",
      "[0 1 0]\n"
     ]
    }
   ],
   "source": [
    "# 배열끼리의 여러가지 연산\n",
    "print(arr2+  arr1)\n",
    "print(arr2-  arr1)\n",
    "print(arr2*  arr1)\n",
    "print(arr2/  arr1) # 배열의 요소는 모두 동일한 자료형이어야하기때문에, 2.5가 나오는 순간 모두 float 실수 자료형으로 바뀐다. 파이썬 자료형 동적할당의 편안함이다~\n",
    "print(arr2//  arr1)\n",
    "print(arr2%  arr1)"
   ]
  },
  {
   "cell_type": "code",
   "execution_count": 35,
   "id": "cb6de84b-4014-4efb-9ffb-1c1c1d269f3d",
   "metadata": {},
   "outputs": [
    {
     "data": {
      "text/plain": [
       "array([4. , 2.5, 2. ])"
      ]
     },
     "execution_count": 35,
     "metadata": {},
     "output_type": "execute_result"
    }
   ],
   "source": [
    "# 정수와 실수를 같이 넣었을 때\n",
    "arr_f = np.array([4, 2.5, 2]) # 업캐스팅, 보다 더 큰 범위의 자료형으로 변환이 된거다. 그래서 업캐스팅. 부모 클래스로 자식 클래스가 업캐스팅됐다. 표현하기 떄문에 이것은 업캐스팅 됐다고 한다.\n",
    "\n",
    "arr_f"
   ]
  },
  {
   "cell_type": "markdown",
   "id": "ea2aa9ae-bd7a-4f80-a0b1-1183b2bfbe27",
   "metadata": {},
   "source": [
    "### 문자형 자료가 담겨있는 배열"
   ]
  },
  {
   "cell_type": "code",
   "execution_count": 22,
   "id": "992028b3-9d9e-4725-82c0-7560d2f3d12a",
   "metadata": {},
   "outputs": [
    {
     "data": {
      "text/plain": [
       "array(['a', 'b', 'c', 'd'], dtype='<U1')"
      ]
     },
     "execution_count": 22,
     "metadata": {},
     "output_type": "execute_result"
    }
   ],
   "source": [
    "arr_str = np.array(['a','b','c','d'])\n",
    "\n",
    "arr_str # < , U , 1"
   ]
  },
  {
   "cell_type": "code",
   "execution_count": 24,
   "id": "8f22c243-cc2d-4bbc-afbf-a27eef5d4e90",
   "metadata": {},
   "outputs": [
    {
     "ename": "UFuncTypeError",
     "evalue": "ufunc 'add' did not contain a loop with signature matching types (dtype('<U1'), dtype('<U1')) -> None",
     "output_type": "error",
     "traceback": [
      "\u001b[1;31m---------------------------------------------------------------------------\u001b[0m",
      "\u001b[1;31mUFuncTypeError\u001b[0m                            Traceback (most recent call last)",
      "Cell \u001b[1;32mIn[24], line 1\u001b[0m\n\u001b[1;32m----> 1\u001b[0m arr_str\u001b[38;5;241m+\u001b[39marr_str\n",
      "\u001b[1;31mUFuncTypeError\u001b[0m: ufunc 'add' did not contain a loop with signature matching types (dtype('<U1'), dtype('<U1')) -> None"
     ]
    }
   ],
   "source": [
    "arr_str+arr_str"
   ]
  },
  {
   "cell_type": "code",
   "execution_count": 25,
   "id": "5b98dd4f-9271-4aab-9329-8ccf4ca77f28",
   "metadata": {},
   "outputs": [
    {
     "data": {
      "text/plain": [
       "array(['a', 'b', '3', '4'], dtype='<U11')"
      ]
     },
     "execution_count": 25,
     "metadata": {},
     "output_type": "execute_result"
    }
   ],
   "source": [
    "arr_str2 = np.array(['a','b',3,4]) #이것도 문자형이 숫자형\n",
    "arr_str2"
   ]
  },
  {
   "cell_type": "code",
   "execution_count": null,
   "id": "9a90806b-8abe-4957-a8f2-b62792d8047f",
   "metadata": {},
   "outputs": [],
   "source": []
  },
  {
   "cell_type": "markdown",
   "id": "97229a0f-4ec3-438e-9382-5a7679b7f893",
   "metadata": {},
   "source": [
    "### 2차원 배열"
   ]
  },
  {
   "cell_type": "code",
   "execution_count": 26,
   "id": "31de4e93-0ed9-472e-b95b-294ff08929a7",
   "metadata": {},
   "outputs": [
    {
     "data": {
      "text/plain": [
       "array([[1, 2, 3],\n",
       "       [4, 5, 6]])"
      ]
     },
     "execution_count": 26,
     "metadata": {},
     "output_type": "execute_result"
    }
   ],
   "source": [
    "arr2 = np.array([[1,2,3],[4,5,6]])\n",
    "\n",
    "arr2"
   ]
  },
  {
   "cell_type": "code",
   "execution_count": 27,
   "id": "954c4705-39bf-4667-9638-34312defc731",
   "metadata": {},
   "outputs": [
    {
     "ename": "ValueError",
     "evalue": "setting an array element with a sequence. The requested array has an inhomogeneous shape after 1 dimensions. The detected shape was (2,) + inhomogeneous part.",
     "output_type": "error",
     "traceback": [
      "\u001b[1;31m---------------------------------------------------------------------------\u001b[0m",
      "\u001b[1;31mValueError\u001b[0m                                Traceback (most recent call last)",
      "Cell \u001b[1;32mIn[27], line 1\u001b[0m\n\u001b[1;32m----> 1\u001b[0m arr2 \u001b[38;5;241m=\u001b[39m np\u001b[38;5;241m.\u001b[39marray([[\u001b[38;5;241m1\u001b[39m,\u001b[38;5;241m2\u001b[39m,\u001b[38;5;241m3\u001b[39m],[\u001b[38;5;241m4\u001b[39m,\u001b[38;5;241m5\u001b[39m,\u001b[38;5;241m6\u001b[39m,\u001b[38;5;241m7\u001b[39m]])\n\u001b[0;32m      3\u001b[0m arr2\n",
      "\u001b[1;31mValueError\u001b[0m: setting an array element with a sequence. The requested array has an inhomogeneous shape after 1 dimensions. The detected shape was (2,) + inhomogeneous part."
     ]
    }
   ],
   "source": [
    "arr2 = np.array([[1,2,3],[4,5,6,7]]) #배열이란 객체를 만들어주는 함수!!!!!다!! 객체 생성을 return으로 반환하는 \"함수\"!!!!!!다!!!\n",
    "\n",
    "arr2 # 배열은 원소구조가 같아야한다."
   ]
  },
  {
   "cell_type": "code",
   "execution_count": 28,
   "id": "d8ec702a-d301-4e13-bb6a-e06741ed73f7",
   "metadata": {},
   "outputs": [
    {
     "data": {
      "text/plain": [
       "2"
      ]
     },
     "execution_count": 28,
     "metadata": {},
     "output_type": "execute_result"
    }
   ],
   "source": [
    "# ndim 몇개의 디멘션(차원)이 있는가\n",
    "# ndim : 배열의 차원을 확인해주는 함수\n",
    "\n",
    "arr2.ndim"
   ]
  },
  {
   "cell_type": "code",
   "execution_count": 30,
   "id": "2b460887-e5fc-4158-baa2-353ce0d43ff4",
   "metadata": {},
   "outputs": [
    {
     "data": {
      "text/plain": [
       "(2, 3)"
      ]
     },
     "execution_count": 30,
     "metadata": {},
     "output_type": "execute_result"
    }
   ],
   "source": [
    "# shape 배열의 형태(행, 열)\n",
    "\n",
    "arr2.shape # 2행, 3열 이란 뜻이다."
   ]
  },
  {
   "cell_type": "code",
   "execution_count": 32,
   "id": "5f3187a6-99d2-40ba-9ab8-0385f176053f",
   "metadata": {},
   "outputs": [
    {
     "data": {
      "text/plain": [
       "6"
      ]
     },
     "execution_count": 32,
     "metadata": {},
     "output_type": "execute_result"
    }
   ],
   "source": [
    "# size : 배열의 요소 전체 개수\n",
    "\n",
    "arr2.size  #가장 작은 요소의 개수, 2행 * 3열이기도 하다!!!!!!!!!"
   ]
  },
  {
   "cell_type": "code",
   "execution_count": 36,
   "id": "ca3bd1e7-f697-4542-8d43-e30b1475290f",
   "metadata": {},
   "outputs": [
    {
     "data": {
      "text/plain": [
       "dtype('int32')"
      ]
     },
     "execution_count": 36,
     "metadata": {},
     "output_type": "execute_result"
    }
   ],
   "source": [
    "# dtype : 배열 내 데이터들의 타입(자료형) 알려주는 함수이다.\n",
    "arr2.dtype # 정수형 32비트다. 4바이트."
   ]
  },
  {
   "cell_type": "code",
   "execution_count": 38,
   "id": "5fff030b-1db7-4651-8a9b-1ae7d8f6771f",
   "metadata": {},
   "outputs": [
    {
     "data": {
      "text/plain": [
       "array([[[ 1,  2,  3],\n",
       "        [ 4,  5,  6]],\n",
       "\n",
       "       [[ 7,  8,  9],\n",
       "        [10, 11, 12]]])"
      ]
     },
     "execution_count": 38,
     "metadata": {},
     "output_type": "execute_result"
    }
   ],
   "source": [
    "# 3차원 배열\n",
    "arr3 = np.array([[[1,2,3],\n",
    "                  [4,5,6]],\n",
    "                 [[7,8,9],\n",
    "                 [10,11,12]]])\n",
    "arr3"
   ]
  },
  {
   "cell_type": "code",
   "execution_count": 40,
   "id": "8e5a2f67-f342-46cb-9b04-5231600efaf4",
   "metadata": {},
   "outputs": [
    {
     "name": "stdout",
     "output_type": "stream",
     "text": [
      "차원 3\n",
      "형태 (2, 2, 3)\n",
      "전체 요소 수 12\n",
      "데이터 타입 int32\n"
     ]
    }
   ],
   "source": [
    "print('차원', arr3.ndim)\n",
    "print('형태', arr3.shape)   #가장 작은 오른쪽부터 찾으면 편하다. 물론 이렇게 shape함수쓰면 된다.\n",
    "print('전체 요소 수', arr3.size)\n",
    "print('데이터 타입', arr3.dtype)\n"
   ]
  },
  {
   "cell_type": "code",
   "execution_count": null,
   "id": "7ad2784a-f357-48da-9da5-6c248f7c72e6",
   "metadata": {},
   "outputs": [],
   "source": []
  },
  {
   "cell_type": "markdown",
   "id": "151f634b-640f-44d1-aeb7-8a6d91830943",
   "metadata": {},
   "source": [
    "### 편리한 배열 생성"
   ]
  },
  {
   "cell_type": "code",
   "execution_count": 43,
   "id": "f2f0b6e0-0594-4a57-a1be-19fca1cc4176",
   "metadata": {},
   "outputs": [
    {
     "data": {
      "text/plain": [
       "array([[[0., 0.],\n",
       "        [0., 0.],\n",
       "        [0., 0.]],\n",
       "\n",
       "       [[0., 0.],\n",
       "        [0., 0.],\n",
       "        [0., 0.]],\n",
       "\n",
       "       [[0., 0.],\n",
       "        [0., 0.],\n",
       "        [0., 0.]]])"
      ]
     },
     "execution_count": 43,
     "metadata": {},
     "output_type": "execute_result"
    }
   ],
   "source": [
    "# 모든 값을 0으로 넣어서 배열 생성 zeros =0들\n",
    "# zeros((형태))\n",
    "\n",
    "arr_0=np.zeros((3,3,2))\n",
    "\n",
    "arr_0 # 호출 ㄱ"
   ]
  },
  {
   "cell_type": "code",
   "execution_count": 44,
   "id": "5e6b6046-076b-4129-84bc-8cda20a3a72f",
   "metadata": {},
   "outputs": [
    {
     "data": {
      "text/plain": [
       "dtype('float64')"
      ]
     },
     "execution_count": 44,
     "metadata": {},
     "output_type": "execute_result"
    }
   ],
   "source": [
    "arr_0.dtype"
   ]
  },
  {
   "cell_type": "code",
   "execution_count": null,
   "id": "6e176f20-1c5b-4aa5-a27c-eb8b3f8709be",
   "metadata": {},
   "outputs": [],
   "source": []
  },
  {
   "cell_type": "code",
   "execution_count": 49,
   "id": "8ac5cab2-1a10-4284-938c-ff008d762a72",
   "metadata": {},
   "outputs": [
    {
     "data": {
      "text/plain": [
       "array([[[1., 1., 1.],\n",
       "        [1., 1., 1.],\n",
       "        [1., 1., 1.],\n",
       "        [1., 1., 1.]],\n",
       "\n",
       "       [[1., 1., 1.],\n",
       "        [1., 1., 1.],\n",
       "        [1., 1., 1.],\n",
       "        [1., 1., 1.]]])"
      ]
     },
     "execution_count": 49,
     "metadata": {},
     "output_type": "execute_result"
    }
   ],
   "source": [
    "# 1로 배열 생성, \n",
    "# ones\n",
    "#실수 float가 아니라, 정수형int로 하고 싶을때 dytep을 변경할수있다\n",
    "arr_1 = np.ones((2,4,3), dtype=np.int32)\n",
    "\n",
    "arr_1"
   ]
  },
  {
   "cell_type": "code",
   "execution_count": null,
   "id": "88252827-b5f7-41eb-87dc-447653bd743e",
   "metadata": {},
   "outputs": [],
   "source": []
  },
  {
   "cell_type": "code",
   "execution_count": 46,
   "id": "719f0b69-2aa2-4e31-88ef-723f8f3fa02d",
   "metadata": {},
   "outputs": [
    {
     "data": {
      "text/plain": [
       "array([[[4, 4],\n",
       "        [4, 4],\n",
       "        [4, 4]],\n",
       "\n",
       "       [[4, 4],\n",
       "        [4, 4],\n",
       "        [4, 4]]])"
      ]
     },
     "execution_count": 46,
     "metadata": {},
     "output_type": "execute_result"
    }
   ],
   "source": [
    "# 특정 값으로 배열 생성하기\n",
    "# full\n",
    "# np.full((형태), 값)\n",
    "\n",
    "arr_f = np.full((2,3,2),4)\n",
    "\n",
    "arr_f"
   ]
  },
  {
   "cell_type": "code",
   "execution_count": null,
   "id": "3312fc11-c8cb-412d-9c7e-0661128913f5",
   "metadata": {},
   "outputs": [],
   "source": []
  },
  {
   "cell_type": "code",
   "execution_count": 50,
   "id": "e69809ff-2aff-40d9-97fe-8f502d47d21a",
   "metadata": {},
   "outputs": [
    {
     "data": {
      "text/plain": [
       "array([ 1,  2,  3,  4,  5,  6,  7,  8,  9, 10, 11, 12])"
      ]
     },
     "execution_count": 50,
     "metadata": {},
     "output_type": "execute_result"
    }
   ],
   "source": [
    "# np.arange() : range() 시퀀스로 배열 생성\n",
    "# np.arange(시작할 값, 끝값(포함하지 않음), 증감량)\n",
    "\n",
    "arr_a = np.arange(1,13,1) #range는 시퀀스를 만들어주고, arange는 이렇게 배열을 만들어주는(=생성해주는) 함수이다.\n",
    "#생성한 배열을 arr_a에 할당(=저장= 초기화.)\n",
    "\n",
    "arr_a # 호출 ㄱ print안써도 호출 개꿀."
   ]
  },
  {
   "cell_type": "code",
   "execution_count": 51,
   "id": "1239e544-f5c1-45d5-a2ed-c1cdd4918c17",
   "metadata": {},
   "outputs": [
    {
     "data": {
      "text/plain": [
       "array([ 1,  4,  7, 10])"
      ]
     },
     "execution_count": 51,
     "metadata": {},
     "output_type": "execute_result"
    }
   ],
   "source": [
    "arr_a=np.arange(1,13,3)\n",
    "\n",
    "arr_a"
   ]
  },
  {
   "cell_type": "code",
   "execution_count": 54,
   "id": "e8c646d9-cc71-47f6-89a0-f7f59bcca701",
   "metadata": {},
   "outputs": [
    {
     "data": {
      "text/plain": [
       "array([ 0,  1,  2,  3,  4,  5,  6,  7,  8,  9, 10, 11])"
      ]
     },
     "execution_count": 54,
     "metadata": {},
     "output_type": "execute_result"
    }
   ],
   "source": [
    "arr_a=np.arange(12)\n",
    "arr_a "
   ]
  },
  {
   "cell_type": "code",
   "execution_count": 61,
   "id": "0121b5d5-d341-4e1b-b198-ee2bc741fe24",
   "metadata": {},
   "outputs": [
    {
     "data": {
      "text/plain": [
       "array([[ 0,  1,  2,  3],\n",
       "       [ 4,  5,  6,  7],\n",
       "       [ 8,  9, 10, 11]])"
      ]
     },
     "execution_count": 61,
     "metadata": {},
     "output_type": "execute_result"
    }
   ],
   "source": [
    "# reshape : 배열의 형태(shape) 재설정 -> 요소의 개수는 맞춰야 reshape할 수 있다. \n",
    "# 3 * 4 = 12\n",
    "\n",
    "arr_b=arr_a.reshape(3,4)\n",
    "\n",
    "arr_b"
   ]
  },
  {
   "cell_type": "code",
   "execution_count": 62,
   "id": "0e8a3e7b-a6b6-4f34-99db-67ab7a621b86",
   "metadata": {},
   "outputs": [
    {
     "data": {
      "text/plain": [
       "array([ 0,  1,  2,  3,  4,  5,  6,  7,  8,  9, 10, 11])"
      ]
     },
     "execution_count": 62,
     "metadata": {},
     "output_type": "execute_result"
    }
   ],
   "source": [
    "arr_a"
   ]
  },
  {
   "cell_type": "code",
   "execution_count": null,
   "id": "d2449ace-5353-4738-b572-44c4f935d80a",
   "metadata": {},
   "outputs": [],
   "source": []
  },
  {
   "cell_type": "markdown",
   "id": "96ba1ea3-9409-437a-bb03-a98601c0b876",
   "metadata": {},
   "source": [
    "### array의 데이터 접근\n",
    "- array는 리스트와 마찬가지로 인덱싱, 슬라이싱 가능"
   ]
  },
  {
   "cell_type": "markdown",
   "id": "a27b094e-d3df-4ab4-835c-9cd1edf5696c",
   "metadata": {},
   "source": [
    "### 인덱싱"
   ]
  },
  {
   "cell_type": "code",
   "execution_count": 65,
   "id": "556ec061-8b5b-4f68-b58d-69bdee21a08d",
   "metadata": {},
   "outputs": [
    {
     "data": {
      "text/plain": [
       "array([[1, 2, 3],\n",
       "       [4, 5, 6]])"
      ]
     },
     "execution_count": 65,
     "metadata": {},
     "output_type": "execute_result"
    }
   ],
   "source": [
    "arr1 = np.array([[1,2,3],[4,5,6]])\n",
    "\n",
    "arr1"
   ]
  },
  {
   "cell_type": "code",
   "execution_count": 66,
   "id": "76247cfc-1459-439a-8a9b-fcc5fc3c5afe",
   "metadata": {},
   "outputs": [
    {
     "data": {
      "text/plain": [
       "array([1, 2, 3])"
      ]
     },
     "execution_count": 66,
     "metadata": {},
     "output_type": "execute_result"
    }
   ],
   "source": [
    "arr1[0]"
   ]
  },
  {
   "cell_type": "code",
   "execution_count": 67,
   "id": "33577f98-9ba7-40b5-93b2-91e2420eec0a",
   "metadata": {},
   "outputs": [
    {
     "data": {
      "text/plain": [
       "2"
      ]
     },
     "execution_count": 67,
     "metadata": {},
     "output_type": "execute_result"
    }
   ],
   "source": [
    "arr1[0][1]"
   ]
  },
  {
   "cell_type": "code",
   "execution_count": null,
   "id": "0940199e-9d22-4633-8580-67a628843fad",
   "metadata": {},
   "outputs": [],
   "source": []
  },
  {
   "cell_type": "code",
   "execution_count": 70,
   "id": "0626c790-484d-4a2d-857f-8f0ece2ea80e",
   "metadata": {},
   "outputs": [
    {
     "name": "stdout",
     "output_type": "stream",
     "text": [
      "변경 전 \n",
      " [[1 2 3]\n",
      " [4 5 6]]\n",
      "변경 후 \n",
      " [[11 12 13]\n",
      " [ 4  5  6]]\n"
     ]
    }
   ],
   "source": [
    "# 인덱싱해서 값 변경\n",
    "arr1 = np.array([[1,2,3],[4,5,6]])\n",
    "\n",
    "print('변경 전 \\n', arr1)\n",
    "\n",
    "# 값 변경\n",
    "\n",
    "arr1[0] = [11,12,13]\n",
    "\n",
    "print('변경 후 \\n', arr1)"
   ]
  },
  {
   "cell_type": "code",
   "execution_count": 71,
   "id": "c7fc9a36-3278-4358-9952-1514946a285c",
   "metadata": {},
   "outputs": [
    {
     "name": "stdout",
     "output_type": "stream",
     "text": [
      "변경 전 \n",
      " [[1 2 3]\n",
      " [4 5 6]]\n"
     ]
    },
    {
     "ename": "ValueError",
     "evalue": "could not broadcast input array from shape (2,) into shape (3,)",
     "output_type": "error",
     "traceback": [
      "\u001b[1;31m---------------------------------------------------------------------------\u001b[0m",
      "\u001b[1;31mValueError\u001b[0m                                Traceback (most recent call last)",
      "Cell \u001b[1;32mIn[71], line 8\u001b[0m\n\u001b[0;32m      4\u001b[0m \u001b[38;5;28mprint\u001b[39m(\u001b[38;5;124m'\u001b[39m\u001b[38;5;124m변경 전 \u001b[39m\u001b[38;5;130;01m\\n\u001b[39;00m\u001b[38;5;124m'\u001b[39m, arr1)\n\u001b[0;32m      6\u001b[0m \u001b[38;5;66;03m# 값 변경\u001b[39;00m\n\u001b[1;32m----> 8\u001b[0m arr1[\u001b[38;5;241m0\u001b[39m] \u001b[38;5;241m=\u001b[39m [\u001b[38;5;241m11\u001b[39m,\u001b[38;5;241m12\u001b[39m] \u001b[38;5;66;03m#배열의 원소구조, 형태가 같아야 변경이 가능하기 때문에, 이건 안된다. \u001b[39;00m\n\u001b[0;32m     10\u001b[0m \u001b[38;5;28mprint\u001b[39m(\u001b[38;5;124m'\u001b[39m\u001b[38;5;124m변경 후 \u001b[39m\u001b[38;5;130;01m\\n\u001b[39;00m\u001b[38;5;124m'\u001b[39m, arr1)\n",
      "\u001b[1;31mValueError\u001b[0m: could not broadcast input array from shape (2,) into shape (3,)"
     ]
    }
   ],
   "source": [
    "# 인덱싱해서 값 변경\n",
    "arr1 = np.array([[1,2,3],[4,5,6]])\n",
    "\n",
    "print('변경 전 \\n', arr1)\n",
    "\n",
    "# 값 변경\n",
    "\n",
    "arr1[0] = [11,12] #배열의 원소구조, 형태가 같아야 변경이 가능하기 때문에, 이건 안된다. \n",
    "\n",
    "print('변경 후 \\n', arr1)"
   ]
  },
  {
   "cell_type": "code",
   "execution_count": 90,
   "id": "a046aa47-637b-4832-b169-54783cfd9e67",
   "metadata": {},
   "outputs": [
    {
     "name": "stdout",
     "output_type": "stream",
     "text": [
      "변경 전 \n",
      " [[1 2 3]\n",
      " [4 5 6]]\n",
      "변경 후 \n",
      " [[10 10 10]\n",
      " [ 4  5  6]]\n"
     ]
    }
   ],
   "source": [
    "# 인덱싱해서 값 변경\n",
    "arr1 = np.array([[1,2,3],[4,5,6]])\n",
    "\n",
    "print('변경 전 \\n', arr1)\n",
    "\n",
    "# 값 변경\n",
    "\n",
    "arr1[0] = 10 # 이정돈 해준다. 싹 10으로 요소를 바꿔주는 것. \n",
    "\n",
    "print('변경 후 \\n', arr1)\n",
    "\n",
    "# 배열은 크기가 변경이 불가능 -> 전체 요소의 개수를 크기라 말한다. \n",
    "# 배열의 원소 구조는 모두 동일 -> 원소의 배열이 몇개의 요소를 가지는가 말하는 것."
   ]
  },
  {
   "cell_type": "code",
   "execution_count": null,
   "id": "8c9e9994-7c3e-4578-8892-3405035d388a",
   "metadata": {},
   "outputs": [],
   "source": []
  },
  {
   "cell_type": "markdown",
   "id": "fdb0f2b0-4850-49b6-a834-8d3bcca5db9c",
   "metadata": {},
   "source": [
    "### 슬라이싱"
   ]
  },
  {
   "cell_type": "code",
   "execution_count": 77,
   "id": "187b0874-b05b-4726-adb5-59df6a248e72",
   "metadata": {},
   "outputs": [
    {
     "data": {
      "text/plain": [
       "array([[0, 1, 2],\n",
       "       [3, 4, 5],\n",
       "       [6, 7, 8]])"
      ]
     },
     "execution_count": 77,
     "metadata": {},
     "output_type": "execute_result"
    }
   ],
   "source": [
    "arr2 = np.arange(9).reshape(3,3) # 3*3= 총 9개 요소\n",
    "# 0~8까지의 숫자로 배열을 만드는데, 3행 3열의 형태로 만든다.\n",
    "\n",
    "arr2"
   ]
  },
  {
   "cell_type": "code",
   "execution_count": 78,
   "id": "e214945b-0daa-48e9-9957-47766eba3a8d",
   "metadata": {},
   "outputs": [
    {
     "data": {
      "text/plain": [
       "array([[0, 1, 2],\n",
       "       [3, 4, 5]])"
      ]
     },
     "execution_count": 78,
     "metadata": {},
     "output_type": "execute_result"
    }
   ],
   "source": [
    "arr2[:2]"
   ]
  },
  {
   "cell_type": "code",
   "execution_count": 84,
   "id": "c88f9812-516b-4aeb-806c-d68afe7b1ce9",
   "metadata": {},
   "outputs": [
    {
     "name": "stdout",
     "output_type": "stream",
     "text": [
      "인덱싱 : [0 1 2]\n",
      "슬라이싱 : [[0 1 2]]\n"
     ]
    }
   ],
   "source": [
    "print('인덱싱 :', arr2[0]) #해당 요소를 갖고옴 (1차원 배열 자료형)\n",
    "print('슬라이싱 :', arr2[:1]) #요소들을 2차원 배열 자료형으로 가져온다. + 끝값은 포함하지 않는다. "
   ]
  },
  {
   "cell_type": "code",
   "execution_count": 83,
   "id": "d4560cb5-b567-4e48-87c6-871b7ee885e9",
   "metadata": {},
   "outputs": [
    {
     "data": {
      "text/plain": [
       "numpy.ndarray"
      ]
     },
     "execution_count": 83,
     "metadata": {},
     "output_type": "execute_result"
    }
   ],
   "source": [
    "type(arr2[0])"
   ]
  },
  {
   "cell_type": "code",
   "execution_count": 86,
   "id": "38f61c16-901c-4898-9767-693fa8b11e97",
   "metadata": {},
   "outputs": [
    {
     "data": {
      "text/plain": [
       "array([4, 5])"
      ]
     },
     "execution_count": 86,
     "metadata": {},
     "output_type": "execute_result"
    }
   ],
   "source": [
    "# [4,5]를 슬라이싱\n",
    "# 인덱싱 후 슬라이싱\n",
    "arr2[1][1:]"
   ]
  },
  {
   "cell_type": "code",
   "execution_count": 89,
   "id": "81823ec9-7794-40da-a46f-18eb707be35b",
   "metadata": {},
   "outputs": [
    {
     "data": {
      "text/plain": [
       "array([[ 0,  1,  2],\n",
       "       [ 3, 10, 11],\n",
       "       [ 6,  7,  8]])"
      ]
     },
     "execution_count": 89,
     "metadata": {},
     "output_type": "execute_result"
    }
   ],
   "source": [
    "#arr2[1][1:]=[10,11]\n",
    "arr2[1][1:] = 10,11\n",
    "\n",
    "arr2"
   ]
  },
  {
   "cell_type": "code",
   "execution_count": null,
   "id": "92938fd9-19d4-400d-b8aa-076f4c254ac1",
   "metadata": {},
   "outputs": [],
   "source": [
    "#arr2[1][1:]=[10,11]\n",
    "arr2[1][1:] = 10,11,12 #크기와 원소 구조가 바뀌기 때문에 안된다.\n",
    "\n",
    "arr2\n",
    "\n",
    "\n",
    "# 배열은 '크기'가 변경이 불가능 -> 전체 요소의 개수를 크기라 말한다. \n",
    "# 배열의 '원소 구조'는 모두 동일 -> 2차원 배열에서 각각의 1차원 배열의 요소 개수가 달라지는걸 원소 구조가 달라진다고 말한다."
   ]
  },
  {
   "cell_type": "code",
   "execution_count": null,
   "id": "228697ae-c2be-4956-bc19-b22001d7eda5",
   "metadata": {},
   "outputs": [],
   "source": []
  },
  {
   "cell_type": "markdown",
   "id": "9b6e1632-09ec-4f34-87d4-6276a14a971a",
   "metadata": {},
   "source": [
    "### 2차원 배열에서의 데이터 접근"
   ]
  },
  {
   "cell_type": "code",
   "execution_count": 93,
   "id": "d56cbcc8-292b-4e4d-bf13-a262eb98c862",
   "metadata": {},
   "outputs": [
    {
     "data": {
      "text/plain": [
       "array([[ 0,  1,  2,  3,  4,  5,  6,  7,  8,  9],\n",
       "       [10, 11, 12, 13, 14, 15, 16, 17, 18, 19],\n",
       "       [20, 21, 22, 23, 24, 25, 26, 27, 28, 29],\n",
       "       [30, 31, 32, 33, 34, 35, 36, 37, 38, 39],\n",
       "       [40, 41, 42, 43, 44, 45, 46, 47, 48, 49]])"
      ]
     },
     "execution_count": 93,
     "metadata": {},
     "output_type": "execute_result"
    }
   ],
   "source": [
    "# 2차원 배열\n",
    "arr3 = np.arange(50).reshape(5,10) # 5행 * 10열 = 50개 원소.\n",
    "\n",
    "arr3"
   ]
  },
  {
   "cell_type": "code",
   "execution_count": 95,
   "id": "73a9345e-f419-4161-a4c2-84b8906c5209",
   "metadata": {},
   "outputs": [
    {
     "data": {
      "text/plain": [
       "array([[ 0,  1,  2,  3,  4,  5],\n",
       "       [10, 11, 12, 13, 14, 15]])"
      ]
     },
     "execution_count": 95,
     "metadata": {},
     "output_type": "execute_result"
    }
   ],
   "source": [
    "# arr[행의 범위, 열의 범위] \",\"로 행과 열을 구분\n",
    "\n",
    "# 0~1번 행 인덱스, 0~5번 열 인덱스\n",
    "\n",
    "arr3[:2, :6] #[행의 범위, 열의 범위]"
   ]
  },
  {
   "cell_type": "code",
   "execution_count": null,
   "id": "00113568-ad9b-4a64-a0ae-073b6df4b09c",
   "metadata": {},
   "outputs": [],
   "source": []
  },
  {
   "cell_type": "code",
   "execution_count": 99,
   "id": "001f949d-0e72-40a6-9781-a93d3148b430",
   "metadata": {},
   "outputs": [
    {
     "data": {
      "text/plain": [
       "array([ 0, 10, 20, 30, 40])"
      ]
     },
     "execution_count": 99,
     "metadata": {},
     "output_type": "execute_result"
    }
   ],
   "source": [
    "# 모든 행의 0번 열\n",
    "\n",
    "arr3[:, 0]"
   ]
  },
  {
   "cell_type": "code",
   "execution_count": 110,
   "id": "eb025ea6-724b-4dc6-b6eb-27aacdcd2000",
   "metadata": {},
   "outputs": [
    {
     "data": {
      "text/plain": [
       "array([ 0, 20, 40])"
      ]
     },
     "execution_count": 110,
     "metadata": {},
     "output_type": "execute_result"
    }
   ],
   "source": [
    "# 행 범위의 생략된 부분을 적어보자\n",
    "\n",
    "arr3[0:6:2, 0] # [0~5행, 0열] !!!!!!!!!!!!!!!!!!!!!!! 행, 열이다!!!! 헷갈리지 말자!!!!!!!!!!!!!\n",
    "#슬라이싱도 사실 증감량이 숨겨져 있다.\n",
    "#0번 인덱스부터 9번 인덱스까지 슬라이싱\n",
    "#증감량 1일 경우 생략 가능"
   ]
  },
  {
   "cell_type": "code",
   "execution_count": 106,
   "id": "e710430d-0857-4dcd-812c-1cce6adf142e",
   "metadata": {},
   "outputs": [
    {
     "data": {
      "text/plain": [
       "array([ 0, 20, 40])"
      ]
     },
     "execution_count": 106,
     "metadata": {},
     "output_type": "execute_result"
    }
   ],
   "source": [
    "arr3[::2, 0] # 0 생략가능, 끝값 생략가능"
   ]
  },
  {
   "cell_type": "markdown",
   "id": "7b06e2eb-52d0-4631-a2f3-f6befdaeb0bf",
   "metadata": {},
   "source": [
    "### 예제"
   ]
  },
  {
   "cell_type": "code",
   "execution_count": 107,
   "id": "301b382f-358c-459f-b84f-36129a1ebcce",
   "metadata": {},
   "outputs": [
    {
     "data": {
      "text/plain": [
       "array([[ 0,  1,  2,  3,  4,  5],\n",
       "       [ 6,  7,  8,  9, 10, 11],\n",
       "       [12, 13, 14, 15, 16, 17]])"
      ]
     },
     "execution_count": 107,
     "metadata": {},
     "output_type": "execute_result"
    }
   ],
   "source": [
    "arr4 = np.arange(18).reshape(3,6)\n",
    "\n",
    "arr4"
   ]
  },
  {
   "attachments": {
    "7cb9756d-fd0c-4c73-bc04-eb19bd6018bc.png": {
     "image/png": "[encoded data removed]"
    }
   },
   "cell_type": "markdown",
   "id": "b0c26693-cc86-498f-b183-4c5223a9294a",
   "metadata": {},
   "source": [
    "![image.png](attachment:7cb9756d-fd0c-4c73-bc04-eb19bd6018bc.png)"
   ]
  },
  {
   "cell_type": "code",
   "execution_count": 128,
   "id": "be6373f8-847a-47f0-a35b-d80e28e278eb",
   "metadata": {},
   "outputs": [
    {
     "data": {
      "text/plain": [
       "array([[ 7,  9, 11],\n",
       "       [13, 15, 17]])"
      ]
     },
     "execution_count": 128,
     "metadata": {},
     "output_type": "execute_result"
    }
   ],
   "source": [
    "# 방법1\n",
    "# 열의 범위를 슬라이싱으로 입력\n",
    "arr4 = np.arange(18).reshape(3,6)\n",
    "\n",
    "arr4[1:, 1::2]\n",
    "#print(arr4[1:, 1::2])"
   ]
  },
  {
   "cell_type": "code",
   "execution_count": 127,
   "id": "afd7f860-5b6c-4334-bef5-fa715c418c77",
   "metadata": {},
   "outputs": [
    {
     "ename": "IndexError",
     "evalue": "shape mismatch: indexing arrays could not be broadcast together with shapes (2,) (3,) ",
     "output_type": "error",
     "traceback": [
      "\u001b[1;31m---------------------------------------------------------------------------\u001b[0m",
      "\u001b[1;31mIndexError\u001b[0m                                Traceback (most recent call last)",
      "Cell \u001b[1;32mIn[127], line 1\u001b[0m\n\u001b[1;32m----> 1\u001b[0m arr4[[\u001b[38;5;241m1\u001b[39m,\u001b[38;5;241m2\u001b[39m],[\u001b[38;5;241m1\u001b[39m,\u001b[38;5;241m3\u001b[39m,\u001b[38;5;241m5\u001b[39m]]\n",
      "\u001b[1;31mIndexError\u001b[0m: shape mismatch: indexing arrays could not be broadcast together with shapes (2,) (3,) "
     ]
    }
   ],
   "source": [
    "arr4[[1,2],[1,3,5]]"
   ]
  },
  {
   "cell_type": "code",
   "execution_count": 124,
   "id": "225009b6-22ef-4cd9-a282-a379569efca5",
   "metadata": {},
   "outputs": [
    {
     "data": {
      "text/plain": [
       "array([[ 7,  9, 11],\n",
       "       [13, 15, 17]])"
      ]
     },
     "execution_count": 124,
     "metadata": {},
     "output_type": "execute_result"
    }
   ],
   "source": [
    "# 방법2\n",
    "# 열의 범위를 리스트로 입력\n",
    "arr4[1:,[1,3,5]]"
   ]
  },
  {
   "cell_type": "code",
   "execution_count": 125,
   "id": "adcacc66-aec1-403e-b228-85892cd04fe1",
   "metadata": {},
   "outputs": [
    {
     "data": {
      "text/plain": [
       "array([[ 7,  9, 11],\n",
       "       [13, 15, 17]])"
      ]
     },
     "execution_count": 125,
     "metadata": {},
     "output_type": "execute_result"
    }
   ],
   "source": [
    "# 방법3\n",
    "# range함수이용\n",
    "arr4[ 1: , range(1,6,2)]"
   ]
  },
  {
   "cell_type": "code",
   "execution_count": null,
   "id": "761b9127-c29e-4fc3-bc94-6d33761b5b38",
   "metadata": {},
   "outputs": [],
   "source": []
  },
  {
   "cell_type": "code",
   "execution_count": 130,
   "id": "6e970fa3-facf-4bb7-bcc4-0b44756aec65",
   "metadata": {},
   "outputs": [
    {
     "data": {
      "text/plain": [
       "array([[ 0,  1,  2,  3,  4,  5],\n",
       "       [ 6,  7,  8,  9, 10, 11],\n",
       "       [12, 13, 14, 15, 16, 17]])"
      ]
     },
     "execution_count": 130,
     "metadata": {},
     "output_type": "execute_result"
    }
   ],
   "source": [
    "# 전치\n",
    "arr4\n",
    "# 3행 6열 -> 6행 3열로 바꾸는 걸 '전치'한다고 한다."
   ]
  },
  {
   "cell_type": "code",
   "execution_count": 131,
   "id": "7db21cb2-4fea-49e8-a7dc-1f6c0f5702ef",
   "metadata": {},
   "outputs": [
    {
     "data": {
      "text/plain": [
       "array([[ 0,  6, 12],\n",
       "       [ 1,  7, 13],\n",
       "       [ 2,  8, 14],\n",
       "       [ 3,  9, 15],\n",
       "       [ 4, 10, 16],\n",
       "       [ 5, 11, 17]])"
      ]
     },
     "execution_count": 131,
     "metadata": {},
     "output_type": "execute_result"
    }
   ],
   "source": [
    "arr4.T\n",
    "\n",
    "# 행과 열을 바꿔주는 함수(transpostion = 전치)"
   ]
  },
  {
   "cell_type": "code",
   "execution_count": 132,
   "id": "c2bc139b-03c1-4871-80af-83ac4287005f",
   "metadata": {},
   "outputs": [],
   "source": [
    "#저장하고 싶으면, 재할당이나 다른 변수에 저장해라\n",
    "#arr4=arr4.T\n",
    "arr5=arr4.T"
   ]
  },
  {
   "cell_type": "code",
   "execution_count": 133,
   "id": "7136aa97-353d-4164-9d68-da62cb8c57b7",
   "metadata": {},
   "outputs": [
    {
     "data": {
      "text/plain": [
       "array([[ 0, 10, 20, 30, 40]])"
      ]
     },
     "execution_count": 133,
     "metadata": {},
     "output_type": "execute_result"
    }
   ],
   "source": [
    "arr3[:,0:1].T"
   ]
  },
  {
   "cell_type": "code",
   "execution_count": null,
   "id": "ad5b5abd-6c9f-4349-9441-0c85776c13d4",
   "metadata": {},
   "outputs": [],
   "source": []
  },
  {
   "cell_type": "code",
   "execution_count": 2,
   "id": "7ce7948d-a5a8-44c0-b8c8-29ef561e8306",
   "metadata": {},
   "outputs": [
    {
     "data": {
      "text/plain": [
       "array([87, 68, 62, 70, 76, 57, 76, 85])"
      ]
     },
     "execution_count": 2,
     "metadata": {},
     "output_type": "execute_result"
    }
   ],
   "source": [
    "# 랜덤수로 배열 만들기\n",
    "# random.randint(시작값,끝값(미포함), size)\n",
    "# 넘파이 라이브러리의 random함수는 끝값 미포함이고\n",
    "# 랜덤   라이브러리의 random함수는 끝값 포함이당.\n",
    "\n",
    "#랜덤함수 쓴 ipyhb파일 찾기\n",
    "\n",
    "arr5= np.random.randint(50,100,size=8)\n",
    "# 50에서 99까지의 8개의 값을 가지는 정수 난수 배열 생성\n",
    "# 실행할때마다 값이 바뀜\n",
    "arr5\n",
    "\n",
    "#데이터 분석, 머신러닝 때 코드(=프로그래밍=연산,계산,가중치,ax+b 수식) 모델을 훈련시킨다."
   ]
  },
  {
   "cell_type": "code",
   "execution_count": null,
   "id": "961c2088-675a-4ad8-a454-ddd033664b25",
   "metadata": {},
   "outputs": [],
   "source": []
  },
  {
   "cell_type": "markdown",
   "id": "bf3f5440-57e2-4a74-aab4-3d63bcc2da06",
   "metadata": {},
   "source": [
    "### numpy 불리언(Boolean) 인덱싱 --> 이거 진짜 중요. 판다스에서도 그대로 쓰기 때문이다.\n",
    "- 특정 조건에 맞는 값들을 찾아내고 싶을 때\n",
    "- 사용법 : 인덱스 주소 대신, '조건식'을 입력한다!!"
   ]
  },
  {
   "cell_type": "code",
   "execution_count": 5,
   "id": "75a72045-0a63-431c-9d46-88e39a074ea8",
   "metadata": {},
   "outputs": [
    {
     "data": {
      "text/plain": [
       "True"
      ]
     },
     "execution_count": 5,
     "metadata": {},
     "output_type": "execute_result"
    }
   ],
   "source": [
    "# 간단히 파이썬에서 불리언값 호출하는법: 조건식 결과.\n",
    "# 조건식\n",
    "a = 5\n",
    "\n",
    "a>3"
   ]
  },
  {
   "cell_type": "code",
   "execution_count": 6,
   "id": "5916c63d-4f1f-490b-9248-6415ab689375",
   "metadata": {},
   "outputs": [
    {
     "data": {
      "text/plain": [
       "array([ True,  True, False,  True,  True, False,  True,  True])"
      ]
     },
     "execution_count": 6,
     "metadata": {},
     "output_type": "execute_result"
    }
   ],
   "source": [
    "# arr를 사용해서 조건식\n",
    "arr5>=65"
   ]
  },
  {
   "cell_type": "code",
   "execution_count": 8,
   "id": "d9f5abee-5feb-41b8-8731-5f30d0a31c03",
   "metadata": {},
   "outputs": [
    {
     "data": {
      "text/plain": [
       "numpy.ndarray"
      ]
     },
     "execution_count": 8,
     "metadata": {},
     "output_type": "execute_result"
    }
   ],
   "source": [
    "type(arr5>=65) #배열의 원속가 boolean자료형으로 바뀌었지. arr5>65는 nd배열의 형태이다!"
   ]
  },
  {
   "cell_type": "code",
   "execution_count": 1,
   "id": "93617f5e-dfed-42eb-a56a-ad514d1e1362",
   "metadata": {},
   "outputs": [
    {
     "ename": "NameError",
     "evalue": "name 'arr5' is not defined",
     "output_type": "error",
     "traceback": [
      "\u001b[1;31m---------------------------------------------------------------------------\u001b[0m",
      "\u001b[1;31mNameError\u001b[0m                                 Traceback (most recent call last)",
      "Cell \u001b[1;32mIn[1], line 10\u001b[0m\n\u001b[0;32m      1\u001b[0m \u001b[38;5;66;03m# 다중 조건\u001b[39;00m\n\u001b[0;32m      2\u001b[0m \u001b[38;5;66;03m# 65이상이고, 85이하\u001b[39;00m\n\u001b[0;32m      3\u001b[0m \n\u001b[1;32m   (...)\u001b[0m\n\u001b[0;32m      6\u001b[0m \u001b[38;5;66;03m# & == and\u001b[39;00m\n\u001b[0;32m      7\u001b[0m \u001b[38;5;66;03m# | == or\u001b[39;00m\n\u001b[1;32m---> 10\u001b[0m (arr5\u001b[38;5;241m>\u001b[39m\u001b[38;5;241m=\u001b[39m\u001b[38;5;241m65\u001b[39m) \u001b[38;5;241m&\u001b[39m (arr5\u001b[38;5;241m<\u001b[39m\u001b[38;5;241m=\u001b[39m\u001b[38;5;241m85\u001b[39m)\n",
      "\u001b[1;31mNameError\u001b[0m: name 'arr5' is not defined"
     ]
    }
   ],
   "source": [
    "# 다중 조건\n",
    "# 65이상이고, 85이하\n",
    "\n",
    "# numpy에서는 and,or사용 불가능\n",
    "# numpy에서는 비트연산자 &, |를 사용합니다. numpy 내부코드가 비트연산을 기반으로 만들어짐.\n",
    "# & == and\n",
    "# | == or\n",
    "\n",
    "\n",
    "(arr5>=65) & (arr5<=85) # 비트 연산자 앤드와 소괄호를 사용해야한다"
   ]
  },
  {
   "cell_type": "code",
   "execution_count": 12,
   "id": "7a186459-bfcd-4314-b78e-7daeba6f2e95",
   "metadata": {},
   "outputs": [
    {
     "data": {
      "text/plain": [
       "array([False,  True,  True,  True,  True, False,  True, False])"
      ]
     },
     "execution_count": 12,
     "metadata": {},
     "output_type": "execute_result"
    }
   ],
   "source": [
    "# 짝수값 판단하는 조건식\n",
    "arr5 % 2 == 0\n",
    "\n",
    "# 불리언 인덱싱을 위한 '재료'"
   ]
  },
  {
   "cell_type": "code",
   "execution_count": 13,
   "id": "ad428524-a7fe-4dc0-b95c-cfeefe00076c",
   "metadata": {},
   "outputs": [
    {
     "data": {
      "text/plain": [
       "array([87, 68, 62, 70, 76, 57, 76, 85])"
      ]
     },
     "execution_count": 13,
     "metadata": {},
     "output_type": "execute_result"
    }
   ],
   "source": [
    "arr5"
   ]
  },
  {
   "cell_type": "code",
   "execution_count": 14,
   "id": "6df43f2b-4651-4bf3-b293-a3e828c1de9c",
   "metadata": {},
   "outputs": [
    {
     "data": {
      "text/plain": [
       "array([68, 62, 70, 76, 76])"
      ]
     },
     "execution_count": 14,
     "metadata": {},
     "output_type": "execute_result"
    }
   ],
   "source": [
    "# True에 해당하는 값들을 가져온다.\n",
    "# 인덱싱을 하는데, 인덱스 주소 대신에, '조건식'을 입력한다.\n",
    "\n",
    "arr5[arr5 % 2 == 0]"
   ]
  },
  {
   "cell_type": "code",
   "execution_count": 15,
   "id": "d7189f60-1587-4428-94c7-7a5ec6bc7043",
   "metadata": {},
   "outputs": [
    {
     "data": {
      "text/plain": [
       "array([[6, 9, 6, 8, 7],\n",
       "       [2, 3, 5, 4, 1]])"
      ]
     },
     "execution_count": 15,
     "metadata": {},
     "output_type": "execute_result"
    }
   ],
   "source": [
    "# 2차원 배열\n",
    "\n",
    "arr6= np.array([[6,9,6,8,7],[2,3,5,4,1]])\n",
    "\n",
    "arr6"
   ]
  },
  {
   "attachments": {
    "180c1f7e-70c6-4a71-9d1e-bd68c5db8ae3.png": {
     "image/png": "[encoded data removed]"
    }
   },
   "cell_type": "markdown",
   "id": "904ab08e-3a9b-4856-ab4d-92b50309f1de",
   "metadata": {},
   "source": [
    "![image.png](attachment:180c1f7e-70c6-4a71-9d1e-bd68c5db8ae3.png)\n"
   ]
  },
  {
   "cell_type": "code",
   "execution_count": 17,
   "id": "d725fe6d-2278-450c-9746-37fdb1cac5ea",
   "metadata": {},
   "outputs": [
    {
     "data": {
      "text/plain": [
       "array([[0, 9, 0, 0, 7],\n",
       "       [0, 3, 5, 0, 1]])"
      ]
     },
     "execution_count": 17,
     "metadata": {},
     "output_type": "execute_result"
    }
   ],
   "source": [
    "arr6[arr6%2==0]=0\n",
    "\n",
    "arr6"
   ]
  },
  {
   "cell_type": "code",
   "execution_count": null,
   "id": "8b423d24-14a9-49c2-b62e-18acfc1707ca",
   "metadata": {},
   "outputs": [],
   "source": []
  },
  {
   "cell_type": "markdown",
   "id": "f4926940-9eeb-4c3a-9721-72aa40371b7c",
   "metadata": {},
   "source": [
    "### 합계와 평균을 구하는 함수"
   ]
  },
  {
   "cell_type": "code",
   "execution_count": 19,
   "id": "218f016f-f064-4560-8c81-8a4847eb2d7d",
   "metadata": {},
   "outputs": [
    {
     "data": {
      "text/plain": [
       "array([[1, 2, 3],\n",
       "       [4, 5, 6]])"
      ]
     },
     "execution_count": 19,
     "metadata": {},
     "output_type": "execute_result"
    }
   ],
   "source": [
    "arr7 = np.array([[1,2,3],[4,5,6]])\n",
    "\n",
    "arr7"
   ]
  },
  {
   "cell_type": "code",
   "execution_count": 20,
   "id": "cc17e003-7668-42e4-916d-c25225ae2bb4",
   "metadata": {},
   "outputs": [
    {
     "data": {
      "text/plain": [
       "21"
      ]
     },
     "execution_count": 20,
     "metadata": {},
     "output_type": "execute_result"
    }
   ],
   "source": [
    "# 합계\n",
    "# nd배열명.sum()\n",
    "\n",
    "arr7.sum()\n",
    "# 배열 객체에 속한 메소드"
   ]
  },
  {
   "cell_type": "code",
   "execution_count": 23,
   "id": "862562e3-61a3-4404-b455-85796f673c63",
   "metadata": {},
   "outputs": [
    {
     "data": {
      "text/plain": [
       "21"
      ]
     },
     "execution_count": 23,
     "metadata": {},
     "output_type": "execute_result"
    }
   ],
   "source": [
    "# np.sum(시퀀스형)\n",
    "np.sum(arr7)\n",
    "# 넘파이 라이브러리 안에 있는 함수.\n",
    "# np.sum()소괄호안에 굳이 꼭 nd배열 자료형이 들어가지 않아도 된다."
   ]
  },
  {
   "cell_type": "code",
   "execution_count": 24,
   "id": "62fa090c-9179-42cc-9d3f-387700d51021",
   "metadata": {},
   "outputs": [
    {
     "name": "stdout",
     "output_type": "stream",
     "text": [
      "21\n",
      "21\n",
      "21\n"
     ]
    }
   ],
   "source": [
    "print(np.sum(arr7))\n",
    "print(np.sum([1,2,3,4,5,6]))\n",
    "print(np.sum(range(1,7)))"
   ]
  },
  {
   "cell_type": "code",
   "execution_count": 26,
   "id": "3913730d-e77d-4bc1-b75f-72835756bc63",
   "metadata": {},
   "outputs": [
    {
     "data": {
      "text/plain": [
       "3.5"
      ]
     },
     "execution_count": 26,
     "metadata": {},
     "output_type": "execute_result"
    }
   ],
   "source": [
    "# 평균\n",
    "# arr.mean()\n",
    "\n",
    "arr7.mean()\n",
    "# 배열 객체에 속한 메소드"
   ]
  },
  {
   "cell_type": "code",
   "execution_count": 27,
   "id": "596c9593-f68d-45a6-a963-82684693c12d",
   "metadata": {},
   "outputs": [
    {
     "name": "stdout",
     "output_type": "stream",
     "text": [
      "3.5\n",
      "3.5\n",
      "3.5\n"
     ]
    }
   ],
   "source": [
    "# np.mean(시퀀스형)\n",
    "np.mean(arr7)\n",
    "# 넘파이 라이브러리 안에 있는 함수.\n",
    "# np.mean()소괄호안에 굳이 꼭 nd배열 자료형이 들어가지 않아도 된다.\n",
    "print(np.mean(arr7))\n",
    "print(np.mean([1,2,3,4,5,6]))\n",
    "print(np.mean(range(1,7)))"
   ]
  },
  {
   "cell_type": "code",
   "execution_count": null,
   "id": "b9ea4e82-7004-4831-a7e6-8a163560faa6",
   "metadata": {},
   "outputs": [],
   "source": []
  },
  {
   "cell_type": "code",
   "execution_count": null,
   "id": "c341f64c-a3ca-4d99-9499-17c0267657a3",
   "metadata": {},
   "outputs": [],
   "source": []
  },
  {
   "cell_type": "code",
   "execution_count": null,
   "id": "c05fc59c-cbb9-4121-a3a9-84b4afef3a25",
   "metadata": {},
   "outputs": [],
   "source": []
  },
  {
   "cell_type": "code",
   "execution_count": null,
   "id": "25e52d06-4697-4ddb-9788-5402af9d25be",
   "metadata": {},
   "outputs": [],
   "source": []
  },
  {
   "cell_type": "code",
   "execution_count": null,
   "id": "f35be5f5-5c1c-43a5-a95e-9d9f844d4162",
   "metadata": {},
   "outputs": [],
   "source": []
  },
  {
   "cell_type": "code",
   "execution_count": null,
   "id": "5d5c19a6-9f25-4fab-a121-79173f564b4c",
   "metadata": {},
   "outputs": [],
   "source": []
  },
  {
   "cell_type": "code",
   "execution_count": null,
   "id": "a1180bc6-0422-4c09-86f5-f5bf6a97693b",
   "metadata": {},
   "outputs": [],
   "source": []
  },
  {
   "cell_type": "code",
   "execution_count": null,
   "id": "5b77e470-7711-4d72-b30b-153b96862c04",
   "metadata": {},
   "outputs": [],
   "source": []
  },
  {
   "cell_type": "code",
   "execution_count": null,
   "id": "21a902a3-d4c9-4874-90a9-b8ee112feac5",
   "metadata": {},
   "outputs": [],
   "source": []
  },
  {
   "cell_type": "code",
   "execution_count": null,
   "id": "3c604c43-9dc0-49af-a302-68adf5e38752",
   "metadata": {},
   "outputs": [],
   "source": []
  },
  {
   "cell_type": "code",
   "execution_count": null,
   "id": "670892d5-6d89-499d-99c4-e51afaf4d7cd",
   "metadata": {},
   "outputs": [],
   "source": []
  },
  {
   "cell_type": "code",
   "execution_count": null,
   "id": "7be8b477-82db-444f-8d33-b785d1fa5718",
   "metadata": {},
   "outputs": [],
   "source": []
  },
  {
   "cell_type": "code",
   "execution_count": null,
   "id": "e8f50ef9-4631-4fc5-9ceb-1a0ae1ccead6",
   "metadata": {},
   "outputs": [],
   "source": []
  },
  {
   "cell_type": "code",
   "execution_count": null,
   "id": "b3f016d0-9ea5-4519-8e3b-63b2090ced29",
   "metadata": {},
   "outputs": [],
   "source": []
  },
  {
   "cell_type": "code",
   "execution_count": null,
   "id": "51958381-fd56-4c48-9939-dc13936fceaa",
   "metadata": {},
   "outputs": [],
   "source": []
  },
  {
   "cell_type": "code",
   "execution_count": null,
   "id": "74c4f22d-8bdb-4c9b-b09a-d58c13a2bc0b",
   "metadata": {},
   "outputs": [],
   "source": []
  },
  {
   "cell_type": "code",
   "execution_count": null,
   "id": "c84756db-d265-40b9-a072-00bf82dea6d4",
   "metadata": {},
   "outputs": [],
   "source": []
  },
  {
   "cell_type": "code",
   "execution_count": null,
   "id": "3ddc47dd-9ac8-4ce1-9678-0cbcaff5072e",
   "metadata": {},
   "outputs": [],
   "source": []
  },
  {
   "cell_type": "code",
   "execution_count": null,
   "id": "60a6903d-71db-4554-9a22-027fa1ed5651",
   "metadata": {},
   "outputs": [],
   "source": []
  },
  {
   "cell_type": "code",
   "execution_count": null,
   "id": "e789c14d-d26e-44ce-bbce-e95973f0e374",
   "metadata": {},
   "outputs": [],
   "source": []
  },
  {
   "cell_type": "code",
   "execution_count": null,
   "id": "0763b711-ac62-4a6f-a7ff-e0139b7ccd5b",
   "metadata": {},
   "outputs": [],
   "source": []
  },
  {
   "cell_type": "code",
   "execution_count": null,
   "id": "da4c97d1-412b-499b-b533-7b12edbb6130",
   "metadata": {},
   "outputs": [],
   "source": []
  },
  {
   "cell_type": "code",
   "execution_count": null,
   "id": "9a9fd335-c073-4d19-b781-ac7ceb36cc7b",
   "metadata": {},
   "outputs": [],
   "source": []
  },
  {
   "cell_type": "code",
   "execution_count": null,
   "id": "88462c16-752c-426f-9804-5e316019903d",
   "metadata": {},
   "outputs": [],
   "source": []
  },
  {
   "cell_type": "code",
   "execution_count": null,
   "id": "ad8f6a90-f5cd-4825-a362-bdb46b49a27a",
   "metadata": {},
   "outputs": [],
   "source": []
  },
  {
   "cell_type": "code",
   "execution_count": null,
   "id": "2a18807b-a93f-418a-84ed-c6f0c20172d5",
   "metadata": {},
   "outputs": [],
   "source": []
  },
  {
   "cell_type": "code",
   "execution_count": null,
   "id": "4468ab20-7e3a-4b7d-8c28-4c106f1c5bcb",
   "metadata": {},
   "outputs": [],
   "source": []
  },
  {
   "cell_type": "code",
   "execution_count": null,
   "id": "926f4d75-71df-4cd3-9340-060bc26cbf6f",
   "metadata": {},
   "outputs": [],
   "source": []
  },
  {
   "cell_type": "code",
   "execution_count": null,
   "id": "89693ed1-c8ec-4184-ab3c-e08de53c2420",
   "metadata": {},
   "outputs": [],
   "source": []
  },
  {
   "cell_type": "code",
   "execution_count": null,
   "id": "4fee1cb2-b46b-4ebd-9430-efa287ac1e30",
   "metadata": {},
   "outputs": [],
   "source": []
  },
  {
   "cell_type": "code",
   "execution_count": null,
   "id": "7244b2f0-16b2-4138-98ae-c07258e857e3",
   "metadata": {},
   "outputs": [],
   "source": []
  },
  {
   "cell_type": "code",
   "execution_count": null,
   "id": "60502982-27e6-40a4-8be1-d81cdea96124",
   "metadata": {},
   "outputs": [],
   "source": []
  },
  {
   "cell_type": "code",
   "execution_count": null,
   "id": "172cb303-ae6d-49e7-a1b2-e81323f46551",
   "metadata": {},
   "outputs": [],
   "source": []
  },
  {
   "cell_type": "code",
   "execution_count": null,
   "id": "7d880e32-7f29-41e4-be79-20295340fd3b",
   "metadata": {},
   "outputs": [],
   "source": []
  },
  {
   "cell_type": "code",
   "execution_count": null,
   "id": "20c65927-e46a-4d62-875c-690b7b386af8",
   "metadata": {},
   "outputs": [],
   "source": []
  },
  {
   "cell_type": "code",
   "execution_count": null,
   "id": "e1777617-4bc8-403f-9e6f-8d4740a60841",
   "metadata": {},
   "outputs": [],
   "source": []
  },
  {
   "cell_type": "code",
   "execution_count": null,
   "id": "c13534e7-7f72-4ea9-99d9-f4df1b0e8e2b",
   "metadata": {},
   "outputs": [],
   "source": []
  },
  {
   "cell_type": "code",
   "execution_count": null,
   "id": "43a9d639-7716-4554-bf46-9cddd95cb794",
   "metadata": {},
   "outputs": [],
   "source": []
  },
  {
   "cell_type": "code",
   "execution_count": null,
   "id": "c4c2636b-89c9-489d-93cb-390ad07cf3e5",
   "metadata": {},
   "outputs": [],
   "source": []
  },
  {
   "cell_type": "code",
   "execution_count": null,
   "id": "819a06dd-f0ab-4d6f-8a43-12c757a45944",
   "metadata": {},
   "outputs": [],
   "source": []
  },
  {
   "cell_type": "code",
   "execution_count": null,
   "id": "59ec6634-2445-4127-a08c-f16c3851a253",
   "metadata": {},
   "outputs": [],
   "source": []
  },
  {
   "cell_type": "code",
   "execution_count": null,
   "id": "ab0b9465-4bcb-4627-83c4-b106c7c270db",
   "metadata": {},
   "outputs": [],
   "source": []
  },
  {
   "cell_type": "code",
   "execution_count": null,
   "id": "122bc948-58f6-44fc-b56a-c6ab2087f302",
   "metadata": {},
   "outputs": [],
   "source": []
  },
  {
   "cell_type": "code",
   "execution_count": null,
   "id": "ed8adf45-e1ee-4c0d-9fd0-881873c0e0fb",
   "metadata": {},
   "outputs": [],
   "source": []
  },
  {
   "cell_type": "code",
   "execution_count": null,
   "id": "e370ff29-9136-41ee-9890-9a45569d4de2",
   "metadata": {},
   "outputs": [],
   "source": []
  },
  {
   "cell_type": "code",
   "execution_count": null,
   "id": "7fea25e6-88f2-4a9d-968d-60f41a6d9649",
   "metadata": {},
   "outputs": [],
   "source": []
  },
  {
   "cell_type": "code",
   "execution_count": null,
   "id": "ad56d119-0645-4c25-81a5-c3b62b7b9ec8",
   "metadata": {},
   "outputs": [],
   "source": []
  },
  {
   "cell_type": "code",
   "execution_count": null,
   "id": "953ee1e7-c604-460f-ac9b-c27550394a41",
   "metadata": {},
   "outputs": [],
   "source": []
  },
  {
   "cell_type": "code",
   "execution_count": null,
   "id": "4a1fd092-697f-43ad-a18c-a1c1f949505d",
   "metadata": {},
   "outputs": [],
   "source": []
  },
  {
   "cell_type": "code",
   "execution_count": null,
   "id": "3ff52c8f-0b8f-4f55-98e4-c6dcd8852810",
   "metadata": {},
   "outputs": [],
   "source": []
  },
  {
   "cell_type": "code",
   "execution_count": null,
   "id": "c8a9a188-fa8f-41de-900f-53c0584a52cd",
   "metadata": {},
   "outputs": [],
   "source": []
  },
  {
   "cell_type": "code",
   "execution_count": null,
   "id": "c24275b6-be8b-4368-937d-9fa92e9ad92c",
   "metadata": {},
   "outputs": [],
   "source": []
  },
  {
   "cell_type": "code",
   "execution_count": null,
   "id": "9fa26618-181b-4ba1-82de-fa2af899aaae",
   "metadata": {},
   "outputs": [],
   "source": []
  },
  {
   "cell_type": "code",
   "execution_count": null,
   "id": "4cc3fd56-50c4-45cc-8d41-785e9d5ac587",
   "metadata": {},
   "outputs": [],
   "source": []
  }
 ],
 "metadata": {
  "kernelspec": {
   "display_name": "Python 3 (ipykernel)",
   "language": "python",
   "name": "python3"
  },
  "language_info": {
   "codemirror_mode": {
    "name": "ipython",
    "version": 3
   },
   "file_extension": ".py",
   "mimetype": "text/x-python",
   "name": "python",
   "nbconvert_exporter": "python",
   "pygments_lexer": "ipython3",
   "version": "3.12.4"
  }
 },
 "nbformat": 4,
 "nbformat_minor": 5
}
