{
 "cells": [
  {
   "cell_type": "markdown",
   "id": "1edc563e-fce6-4f4d-ba87-fd65114939dd",
   "metadata": {},
   "source": [
    "### Series : 1차원 데이터\n",
    "- 인덱스 + 값"
   ]
  },
  {
   "cell_type": "markdown",
   "id": "51b4d558-58fd-401e-950f-b5ce8832f958",
   "metadata": {},
   "source": [
    "Series 만들기\n",
    "- 각 도시들의 인구수를 Series로 만들어보자"
   ]
  },
  {
   "cell_type": "code",
   "execution_count": 2,
   "id": "3871a781-f41d-41d6-9e51-6e1ec11ff35c",
   "metadata": {},
   "outputs": [],
   "source": [
    "import pandas as pd"
   ]
  },
  {
   "cell_type": "code",
   "execution_count": 3,
   "id": "a2ad9d38-1bdf-427e-ab42-7beffc7f78f2",
   "metadata": {},
   "outputs": [
    {
     "data": {
      "text/plain": [
       "0    9901232\n",
       "1    3441423\n",
       "2    2891323\n",
       "3    2462123\n",
       "dtype: int64"
      ]
     },
     "execution_count": 3,
     "metadata": {},
     "output_type": "execute_result"
    }
   ],
   "source": [
    "# Series 만드는 함수\n",
    "\n",
    "pop=pd.Series([9901232,3441423,2891323,2462123])\n",
    "\n",
    "pop"
   ]
  },
  {
   "cell_type": "code",
   "execution_count": 4,
   "id": "442a753f-0c3c-4f9d-825d-f8233c6f1c5f",
   "metadata": {},
   "outputs": [
    {
     "data": {
      "text/plain": [
       "서울    9901232\n",
       "부산    3441423\n",
       "인천    2891323\n",
       "대구    2462123\n",
       "dtype: int64"
      ]
     },
     "execution_count": 4,
     "metadata": {},
     "output_type": "execute_result"
    }
   ],
   "source": [
    "# 인덱스에 이름 부여\n",
    "pop.index = ['서울','부산','인천','대구']\n",
    "\n",
    "pop"
   ]
  },
  {
   "cell_type": "code",
   "execution_count": 5,
   "id": "1cebb391-8a87-46ca-9b94-3ae0c8750d19",
   "metadata": {},
   "outputs": [
    {
     "data": {
      "text/plain": [
       "써울    9901232\n",
       "부산    3441423\n",
       "인천    2891323\n",
       "대구    2462123\n",
       "dtype: int64"
      ]
     },
     "execution_count": 5,
     "metadata": {},
     "output_type": "execute_result"
    }
   ],
   "source": [
    "# 이름을 재설정\n",
    "# rename\n",
    "\n",
    "pop.rename({'서울':'써울'})"
   ]
  },
  {
   "cell_type": "code",
   "execution_count": 6,
   "id": "8a1c8e41-c3c2-4d3b-aa2f-d22e92309356",
   "metadata": {},
   "outputs": [
    {
     "data": {
      "text/plain": [
       "서울    9901232\n",
       "부산    3441423\n",
       "인천    2891323\n",
       "대구    2462123\n",
       "dtype: int64"
      ]
     },
     "execution_count": 6,
     "metadata": {},
     "output_type": "execute_result"
    }
   ],
   "source": [
    "pop # rename은 재할당하지 않으면, 원본에 영향은 없다"
   ]
  },
  {
   "cell_type": "code",
   "execution_count": 7,
   "id": "e21b4c8c-cec9-4ce7-b7cc-35138d04fb41",
   "metadata": {},
   "outputs": [
    {
     "data": {
      "text/plain": [
       "서울    9901232\n",
       "부산    3441423\n",
       "인천    2891323\n",
       "대구    2462123\n",
       "dtype: int64"
      ]
     },
     "execution_count": 7,
     "metadata": {},
     "output_type": "execute_result"
    }
   ],
   "source": [
    "#Series의 인덱스 이름을 부여해서 만들기\n",
    "pop=pd.Series([9901232,3441423,2891323,2462123],\n",
    "             index=['서울','부산','인천','대구']\n",
    "             )\n",
    "\n",
    "pop"
   ]
  },
  {
   "cell_type": "code",
   "execution_count": 8,
   "id": "72727f25-f702-4fc5-ab33-6b584cfbb32a",
   "metadata": {},
   "outputs": [
    {
     "data": {
      "text/plain": [
       "k1    1\n",
       "k2    2\n",
       "k3    3\n",
       "dtype: int64"
      ]
     },
     "execution_count": 8,
     "metadata": {},
     "output_type": "execute_result"
    }
   ],
   "source": [
    "# 딕셔너리로 만드는 방법\n",
    "# key값이 인덱스의 이름\n",
    "# value값이 값\n",
    "pp = pd.Series({'k1':1,'k2':2,'k3':3})\n",
    "\n",
    "pp"
   ]
  },
  {
   "cell_type": "code",
   "execution_count": 9,
   "id": "460a0071-5952-4349-a103-3390d64c56cb",
   "metadata": {},
   "outputs": [
    {
     "data": {
      "text/plain": [
       "서울    9901232\n",
       "부산    3441423\n",
       "인천    2891323\n",
       "대구    2462123\n",
       "dtype: int64"
      ]
     },
     "execution_count": 9,
     "metadata": {},
     "output_type": "execute_result"
    }
   ],
   "source": [
    "pop"
   ]
  },
  {
   "cell_type": "code",
   "execution_count": 10,
   "id": "695d735b-b60b-43f1-be13-a86743e768de",
   "metadata": {},
   "outputs": [
    {
     "data": {
      "text/plain": [
       "서울    9901232\n",
       "부산    3441423\n",
       "인천    2891323\n",
       "대구    2462123\n",
       "Name: 인구, dtype: int64"
      ]
     },
     "execution_count": 10,
     "metadata": {},
     "output_type": "execute_result"
    }
   ],
   "source": [
    "# Series에 이름 부여\n",
    "pop.name = '인구'\n",
    "\n",
    "pop"
   ]
  },
  {
   "cell_type": "code",
   "execution_count": 11,
   "id": "d294f3cb-9696-467b-a4f5-42bdb66ee8c7",
   "metadata": {},
   "outputs": [
    {
     "data": {
      "text/plain": [
       "도시\n",
       "서울    9901232\n",
       "부산    3441423\n",
       "인천    2891323\n",
       "대구    2462123\n",
       "Name: 인구, dtype: int64"
      ]
     },
     "execution_count": 11,
     "metadata": {},
     "output_type": "execute_result"
    }
   ],
   "source": [
    "# Series의 index전체의 이름을 부여\n",
    "pop.index.name = '도시'\n",
    "\n",
    "pop"
   ]
  },
  {
   "cell_type": "code",
   "execution_count": null,
   "id": "9d1135d9-3890-450f-a5f5-98bcc7c203e2",
   "metadata": {},
   "outputs": [],
   "source": []
  },
  {
   "cell_type": "markdown",
   "id": "29178328-b9e9-4039-86ed-927d2b63e216",
   "metadata": {},
   "source": [
    "### Series의 값들 확인하기 (속성 확인)"
   ]
  },
  {
   "cell_type": "code",
   "execution_count": 12,
   "id": "33abc861-1870-451c-8cd4-c8e517b77674",
   "metadata": {},
   "outputs": [
    {
     "data": {
      "text/plain": [
       "array([9901232, 3441423, 2891323, 2462123], dtype=int64)"
      ]
     },
     "execution_count": 12,
     "metadata": {},
     "output_type": "execute_result"
    }
   ],
   "source": [
    "# Series의 값들 확인\n",
    "pop.values"
   ]
  },
  {
   "cell_type": "code",
   "execution_count": 13,
   "id": "21ebec2b-9386-4b59-923f-e94754f7cb92",
   "metadata": {},
   "outputs": [
    {
     "data": {
      "text/plain": [
       "numpy.ndarray"
      ]
     },
     "execution_count": 13,
     "metadata": {},
     "output_type": "execute_result"
    }
   ],
   "source": [
    "type(pop.values) #값이 넘파이 nd배열이라 인덱싱, 슬라이싱, 불리언 인덱싱이 가능하다!"
   ]
  },
  {
   "cell_type": "code",
   "execution_count": 14,
   "id": "7d6efae6-2b07-4b75-908b-d3e2ad132d72",
   "metadata": {},
   "outputs": [
    {
     "data": {
      "text/plain": [
       "pandas.core.series.Series"
      ]
     },
     "execution_count": 14,
     "metadata": {},
     "output_type": "execute_result"
    }
   ],
   "source": [
    "type(pop)"
   ]
  },
  {
   "cell_type": "code",
   "execution_count": 15,
   "id": "e6c14ac5-550c-4b28-93a2-76ec597ad1c7",
   "metadata": {},
   "outputs": [
    {
     "data": {
      "text/plain": [
       "Index(['서울', '부산', '인천', '대구'], dtype='object', name='도시')"
      ]
     },
     "execution_count": 15,
     "metadata": {},
     "output_type": "execute_result"
    }
   ],
   "source": [
    "# Series의 index 확인\n",
    "pop.index"
   ]
  },
  {
   "cell_type": "code",
   "execution_count": 16,
   "id": "a1ed1e9b-1e75-4bbb-8826-3fef316eb8d7",
   "metadata": {},
   "outputs": [
    {
     "data": {
      "text/plain": [
       "dtype('int64')"
      ]
     },
     "execution_count": 16,
     "metadata": {},
     "output_type": "execute_result"
    }
   ],
   "source": [
    "# Series의 데이터 타입 확인\n",
    "\n",
    "pop.dtype"
   ]
  },
  {
   "cell_type": "markdown",
   "id": "382fb3d2-8ae6-46a5-9655-56bb5e31dd26",
   "metadata": {},
   "source": [
    "### 인덱싱"
   ]
  },
  {
   "cell_type": "code",
   "execution_count": 17,
   "id": "21d78665-45b7-4f9e-a0e5-a47a3953584d",
   "metadata": {},
   "outputs": [
    {
     "data": {
      "text/plain": [
       "도시\n",
       "서울    9901232\n",
       "부산    3441423\n",
       "인천    2891323\n",
       "대구    2462123\n",
       "Name: 인구, dtype: int64"
      ]
     },
     "execution_count": 17,
     "metadata": {},
     "output_type": "execute_result"
    }
   ],
   "source": [
    "pop"
   ]
  },
  {
   "cell_type": "code",
   "execution_count": 18,
   "id": "3b99bd92-fe47-4361-aba5-42eb2682d3ab",
   "metadata": {},
   "outputs": [
    {
     "data": {
      "text/plain": [
       "3441423"
      ]
     },
     "execution_count": 18,
     "metadata": {},
     "output_type": "execute_result"
    }
   ],
   "source": [
    "# 인덱스의 이름으로 인덱싱\n",
    "pop['부산']"
   ]
  },
  {
   "cell_type": "code",
   "execution_count": 19,
   "id": "a1033dd6-de79-4aa9-8952-928056f7b543",
   "metadata": {},
   "outputs": [
    {
     "name": "stderr",
     "output_type": "stream",
     "text": [
      "C:\\Users\\smhrd1\\AppData\\Local\\Temp\\ipykernel_17608\\3473408226.py:1: FutureWarning: Series.__getitem__ treating keys as positions is deprecated. In a future version, integer keys will always be treated as labels (consistent with DataFrame behavior). To access a value by position, use `ser.iloc[pos]`\n",
      "  pop[1]\n"
     ]
    },
    {
     "data": {
      "text/plain": [
       "3441423"
      ]
     },
     "execution_count": 19,
     "metadata": {},
     "output_type": "execute_result"
    }
   ],
   "source": [
    "pop[1]"
   ]
  },
  {
   "cell_type": "code",
   "execution_count": 20,
   "id": "045400ac-a787-4611-ad86-561a7666eac3",
   "metadata": {},
   "outputs": [
    {
     "data": {
      "text/plain": [
       "도시\n",
       "부산    3441423\n",
       "대구    2462123\n",
       "Name: 인구, dtype: int64"
      ]
     },
     "execution_count": 20,
     "metadata": {},
     "output_type": "execute_result"
    }
   ],
   "source": [
    "# 여러 도시를 인덱싱\n",
    "\n",
    "pop[['부산','대구']]"
   ]
  },
  {
   "cell_type": "code",
   "execution_count": 21,
   "id": "9a060a57-fbad-485c-b1ef-1f9a0e5effca",
   "metadata": {},
   "outputs": [
    {
     "data": {
      "text/plain": [
       "도시\n",
       "서울    9901232\n",
       "부산    3441423\n",
       "인천    2891323\n",
       "대구    2462123\n",
       "Name: 인구, dtype: int64"
      ]
     },
     "execution_count": 21,
     "metadata": {},
     "output_type": "execute_result"
    }
   ],
   "source": [
    "pop"
   ]
  },
  {
   "cell_type": "code",
   "execution_count": 22,
   "id": "624d86f2-59c4-499f-a5a3-38ad8e1674d4",
   "metadata": {},
   "outputs": [
    {
     "data": {
      "text/plain": [
       "도시\n",
       "부산    3441423\n",
       "인천    2891323\n",
       "Name: 인구, dtype: int64"
      ]
     },
     "execution_count": 22,
     "metadata": {},
     "output_type": "execute_result"
    }
   ],
   "source": [
    "# 인덱스 번호로 슬라이싱\n",
    "# 부산 ~ 인천(1~2번 인덱스 가져옴)\n",
    "# 끝값은 포함되지 않음!\n",
    "pop[1:3]"
   ]
  },
  {
   "cell_type": "code",
   "execution_count": 23,
   "id": "2c7124bc-b356-478f-9de4-3846745aa69b",
   "metadata": {},
   "outputs": [
    {
     "data": {
      "text/plain": [
       "도시\n",
       "부산    3441423\n",
       "인천    2891323\n",
       "대구    2462123\n",
       "Name: 인구, dtype: int64"
      ]
     },
     "execution_count": 23,
     "metadata": {},
     "output_type": "execute_result"
    }
   ],
   "source": [
    "# 인덱스 이름으로 슬라이싱\n",
    "\n",
    "pop['부산':'대구']"
   ]
  },
  {
   "cell_type": "code",
   "execution_count": null,
   "id": "8908d505-21b8-4d58-9e2b-172e5f95fa19",
   "metadata": {},
   "outputs": [],
   "source": []
  },
  {
   "cell_type": "markdown",
   "id": "2c1407c2-8060-4c0c-acfa-ebadd87cd16e",
   "metadata": {},
   "source": [
    "### 불리언 인덱싱\n",
    "- 특정 조건에 맞는 데이터를 가져온다.\n",
    "- 인덱스 번호 대신, 조건식을 입력한다."
   ]
  },
  {
   "cell_type": "code",
   "execution_count": 24,
   "id": "2261b50d-bf5f-4b85-8c46-ed96476c6d03",
   "metadata": {},
   "outputs": [
    {
     "data": {
      "text/plain": [
       "도시\n",
       "서울    False\n",
       "부산    False\n",
       "인천     True\n",
       "대구     True\n",
       "Name: 인구, dtype: bool"
      ]
     },
     "execution_count": 24,
     "metadata": {},
     "output_type": "execute_result"
    }
   ],
   "source": [
    "# Series를 이용해 불리언 값을 가져와보자\n",
    "\n",
    "# 인구가 300만 이하인가?\n",
    "pop<=3000000\n",
    "\n",
    "# 불리언 인덱싱의 재료"
   ]
  },
  {
   "cell_type": "code",
   "execution_count": 25,
   "id": "6fe1b197-0c68-4721-983e-29e426357a77",
   "metadata": {},
   "outputs": [
    {
     "data": {
      "text/plain": [
       "도시\n",
       "인천    2891323\n",
       "대구    2462123\n",
       "Name: 인구, dtype: int64"
      ]
     },
     "execution_count": 25,
     "metadata": {},
     "output_type": "execute_result"
    }
   ],
   "source": [
    "pop[pop<=3000000]"
   ]
  },
  {
   "cell_type": "code",
   "execution_count": 26,
   "id": "01a717f7-0055-4d12-98c6-0ceed3b7a415",
   "metadata": {},
   "outputs": [
    {
     "data": {
      "text/plain": [
       "도시\n",
       "서울    False\n",
       "부산     True\n",
       "인천     True\n",
       "대구    False\n",
       "Name: 인구, dtype: bool"
      ]
     },
     "execution_count": 26,
     "metadata": {},
     "output_type": "execute_result"
    }
   ],
   "source": [
    "# 불리언 인덱싱\n",
    "# 인구가 250만 이상이고, 500만 이하인 도시들을 가져와보자\n",
    "(pop>=2500000) & (pop<=5000000)"
   ]
  },
  {
   "cell_type": "code",
   "execution_count": 27,
   "id": "ed7cd46f-6f89-46fa-9178-5ae6427117bc",
   "metadata": {},
   "outputs": [
    {
     "data": {
      "text/plain": [
       "도시\n",
       "부산    3441423\n",
       "인천    2891323\n",
       "Name: 인구, dtype: int64"
      ]
     },
     "execution_count": 27,
     "metadata": {},
     "output_type": "execute_result"
    }
   ],
   "source": [
    "pop[(pop>=2500000) & (pop<=5000000)]"
   ]
  },
  {
   "cell_type": "markdown",
   "id": "34c356d4-e2e5-48f4-bd16-beade19df494",
   "metadata": {},
   "source": [
    "### Series 데이터 변경, 추가, 삭제"
   ]
  },
  {
   "cell_type": "code",
   "execution_count": 28,
   "id": "8df29bbc-026e-496b-ab7f-be602aa80bd7",
   "metadata": {},
   "outputs": [
    {
     "data": {
      "text/plain": [
       "도시\n",
       "서울    9901232\n",
       "부산    3441423\n",
       "인천    2891323\n",
       "대구    2462123\n",
       "Name: 인구, dtype: int64"
      ]
     },
     "execution_count": 28,
     "metadata": {},
     "output_type": "execute_result"
    }
   ],
   "source": [
    "pop"
   ]
  },
  {
   "cell_type": "code",
   "execution_count": 29,
   "id": "08b43072-85b8-4f2b-b996-ce746e5f9244",
   "metadata": {},
   "outputs": [
    {
     "data": {
      "text/plain": [
       "도시\n",
       "서울    9901232\n",
       "부산    3400000\n",
       "인천    2891323\n",
       "대구    2462123\n",
       "Name: 인구, dtype: int64"
      ]
     },
     "execution_count": 29,
     "metadata": {},
     "output_type": "execute_result"
    }
   ],
   "source": [
    "# 인덱싱으로 불러와서, 새로운 값을 넣어줌\n",
    "# 데이터 변경(=update=재할당)\n",
    "pop['부산']= 3400000\n",
    "\n",
    "pop"
   ]
  },
  {
   "cell_type": "code",
   "execution_count": 30,
   "id": "53d55418-7787-47c8-8274-7207ce26c54e",
   "metadata": {},
   "outputs": [],
   "source": [
    "# 데이터 추가\n",
    "# 기존에 없는 인덱스 라벨에 데이터를 넣어줌\n",
    "\n",
    "pop['대전'] = 2400000\n",
    "\n",
    "# 두번째 실행부턴 이젠 '대전'이 있으므로, '데이터 추가'가 아니라, '데이터 변경'이다"
   ]
  },
  {
   "cell_type": "code",
   "execution_count": 31,
   "id": "de388b3d-d621-478c-a1f4-60cd834b157d",
   "metadata": {},
   "outputs": [
    {
     "data": {
      "text/plain": [
       "도시\n",
       "부산    3400000\n",
       "인천    2891323\n",
       "대구    2462123\n",
       "대전    2400000\n",
       "Name: 인구, dtype: int64"
      ]
     },
     "execution_count": 31,
     "metadata": {},
     "output_type": "execute_result"
    }
   ],
   "source": [
    "# 데이터를 삭제\n",
    "del pop['서울']\n",
    "\n",
    "pop"
   ]
  },
  {
   "cell_type": "markdown",
   "id": "05263ff0-b19c-4af0-9058-a5d071f15cb4",
   "metadata": {},
   "source": [
    "### DataFrame(2차원 데이터) 만들기"
   ]
  },
  {
   "cell_type": "code",
   "execution_count": 32,
   "id": "b943c2eb-acbb-4e45-b4ff-530c37ca857c",
   "metadata": {},
   "outputs": [
    {
     "data": {
      "text/html": [
       "<div>\n",
       "<style scoped>\n",
       "    .dataframe tbody tr th:only-of-type {\n",
       "        vertical-align: middle;\n",
       "    }\n",
       "\n",
       "    .dataframe tbody tr th {\n",
       "        vertical-align: top;\n",
       "    }\n",
       "\n",
       "    .dataframe thead th {\n",
       "        text-align: right;\n",
       "    }\n",
       "</style>\n",
       "<table border=\"1\" class=\"dataframe\">\n",
       "  <thead>\n",
       "    <tr style=\"text-align: right;\">\n",
       "      <th></th>\n",
       "      <th>서울</th>\n",
       "      <th>부산</th>\n",
       "      <th>인천</th>\n",
       "      <th>대구</th>\n",
       "    </tr>\n",
       "  </thead>\n",
       "  <tbody>\n",
       "    <tr>\n",
       "      <th>2015</th>\n",
       "      <td>9904312</td>\n",
       "      <td>3448737</td>\n",
       "      <td>2890451</td>\n",
       "      <td>2466052</td>\n",
       "    </tr>\n",
       "    <tr>\n",
       "      <th>2010</th>\n",
       "      <td>9631482</td>\n",
       "      <td>3393191</td>\n",
       "      <td>2632035</td>\n",
       "      <td>2431774</td>\n",
       "    </tr>\n",
       "  </tbody>\n",
       "</table>\n",
       "</div>"
      ],
      "text/plain": [
       "           서울       부산       인천       대구\n",
       "2015  9904312  3448737  2890451  2466052\n",
       "2010  9631482  3393191  2632035  2431774"
      ]
     },
     "execution_count": 32,
     "metadata": {},
     "output_type": "execute_result"
    }
   ],
   "source": [
    "# 딕셔너리를 이용, 데이터 프레임 생성\n",
    "\n",
    "data = {'서울':[9904312,9631482],\n",
    "        '부산':[3448737,3393191],\n",
    "        '인천':[2890451,2632035],\n",
    "        '대구':[2466052,2431774]\n",
    "       }\n",
    "\n",
    "ind = ['2015','2010']\n",
    "\n",
    "pop =pd.DataFrame(data, index = ind)\n",
    "\n",
    "pop\n",
    "\n",
    "# Series : key값이 인덱스 name으로 명명됨\n",
    "# DataFrame : key값이 컬럼명으로 명명된다."
   ]
  },
  {
   "cell_type": "code",
   "execution_count": 33,
   "id": "a1d2b2b9-e518-49b7-99e3-b82b8c60ce65",
   "metadata": {},
   "outputs": [
    {
     "data": {
      "text/html": [
       "<div>\n",
       "<style scoped>\n",
       "    .dataframe tbody tr th:only-of-type {\n",
       "        vertical-align: middle;\n",
       "    }\n",
       "\n",
       "    .dataframe tbody tr th {\n",
       "        vertical-align: top;\n",
       "    }\n",
       "\n",
       "    .dataframe thead th {\n",
       "        text-align: right;\n",
       "    }\n",
       "</style>\n",
       "<table border=\"1\" class=\"dataframe\">\n",
       "  <thead>\n",
       "    <tr style=\"text-align: right;\">\n",
       "      <th></th>\n",
       "      <th>서울</th>\n",
       "      <th>부산</th>\n",
       "      <th>인천</th>\n",
       "      <th>대구</th>\n",
       "    </tr>\n",
       "  </thead>\n",
       "  <tbody>\n",
       "    <tr>\n",
       "      <th>2015</th>\n",
       "      <td>9904312</td>\n",
       "      <td>3448737</td>\n",
       "      <td>2890451</td>\n",
       "      <td>2466052</td>\n",
       "    </tr>\n",
       "    <tr>\n",
       "      <th>2010</th>\n",
       "      <td>9631482</td>\n",
       "      <td>3393191</td>\n",
       "      <td>2632035</td>\n",
       "      <td>2431774</td>\n",
       "    </tr>\n",
       "  </tbody>\n",
       "</table>\n",
       "</div>"
      ],
      "text/plain": [
       "           서울       부산       인천       대구\n",
       "2015  9904312  3448737  2890451  2466052\n",
       "2010  9631482  3393191  2632035  2431774"
      ]
     },
     "execution_count": 33,
     "metadata": {},
     "output_type": "execute_result"
    }
   ],
   "source": [
    "# 리스트 이용, 데이터 프레임 생성\n",
    "\n",
    "data= [[9904312,3448737,2890451,2466052],\n",
    "       [9631482,3393191,2632035,2431774]\n",
    "      ]\n",
    "ind = ['2015','2010']\n",
    "col = ['서울','부산','인천','대구']\n",
    "\n",
    "# pd.DataFrame(데이터, index = 인덱스 이름, columns = 컬럼이름)\n",
    "pop = pd.DataFrame(data, index = ind, columns = col)\n",
    "\n",
    "pop"
   ]
  },
  {
   "cell_type": "code",
   "execution_count": 34,
   "id": "58640401-0518-4545-81f7-b184b5699f06",
   "metadata": {},
   "outputs": [
    {
     "data": {
      "text/html": [
       "<div>\n",
       "<style scoped>\n",
       "    .dataframe tbody tr th:only-of-type {\n",
       "        vertical-align: middle;\n",
       "    }\n",
       "\n",
       "    .dataframe tbody tr th {\n",
       "        vertical-align: top;\n",
       "    }\n",
       "\n",
       "    .dataframe thead th {\n",
       "        text-align: right;\n",
       "    }\n",
       "</style>\n",
       "<table border=\"1\" class=\"dataframe\">\n",
       "  <thead>\n",
       "    <tr style=\"text-align: right;\">\n",
       "      <th></th>\n",
       "      <th>서울</th>\n",
       "      <th>부산</th>\n",
       "      <th>인천</th>\n",
       "      <th>대구</th>\n",
       "    </tr>\n",
       "  </thead>\n",
       "  <tbody>\n",
       "    <tr>\n",
       "      <th>2016</th>\n",
       "      <td>9904312</td>\n",
       "      <td>3448737</td>\n",
       "      <td>2890451</td>\n",
       "      <td>2466052</td>\n",
       "    </tr>\n",
       "    <tr>\n",
       "      <th>2011</th>\n",
       "      <td>9631482</td>\n",
       "      <td>3393191</td>\n",
       "      <td>2632035</td>\n",
       "      <td>2431774</td>\n",
       "    </tr>\n",
       "  </tbody>\n",
       "</table>\n",
       "</div>"
      ],
      "text/plain": [
       "           서울       부산       인천       대구\n",
       "2016  9904312  3448737  2890451  2466052\n",
       "2011  9631482  3393191  2632035  2431774"
      ]
     },
     "execution_count": 34,
     "metadata": {},
     "output_type": "execute_result"
    }
   ],
   "source": [
    "# 인덱스 이름 변경 (=key값 이름 변경)\n",
    "# DF명.rename(index={바꾸기전:바꾼 후},columns={바꾸기전:바꾼 후}\n",
    "pop.rename(index={'2015':'2016','2010':'2011'})"
   ]
  },
  {
   "cell_type": "code",
   "execution_count": 35,
   "id": "eb897714-9dc6-4340-aa26-3548195e01c3",
   "metadata": {},
   "outputs": [
    {
     "data": {
      "text/html": [
       "<div>\n",
       "<style scoped>\n",
       "    .dataframe tbody tr th:only-of-type {\n",
       "        vertical-align: middle;\n",
       "    }\n",
       "\n",
       "    .dataframe tbody tr th {\n",
       "        vertical-align: top;\n",
       "    }\n",
       "\n",
       "    .dataframe thead th {\n",
       "        text-align: right;\n",
       "    }\n",
       "</style>\n",
       "<table border=\"1\" class=\"dataframe\">\n",
       "  <thead>\n",
       "    <tr style=\"text-align: right;\">\n",
       "      <th></th>\n",
       "      <th>서울</th>\n",
       "      <th>부산</th>\n",
       "      <th>인천</th>\n",
       "      <th>대구</th>\n",
       "    </tr>\n",
       "  </thead>\n",
       "  <tbody>\n",
       "    <tr>\n",
       "      <th>2015</th>\n",
       "      <td>9904312</td>\n",
       "      <td>3448737</td>\n",
       "      <td>2890451</td>\n",
       "      <td>2466052</td>\n",
       "    </tr>\n",
       "    <tr>\n",
       "      <th>2010</th>\n",
       "      <td>9631482</td>\n",
       "      <td>3393191</td>\n",
       "      <td>2632035</td>\n",
       "      <td>2431774</td>\n",
       "    </tr>\n",
       "  </tbody>\n",
       "</table>\n",
       "</div>"
      ],
      "text/plain": [
       "           서울       부산       인천       대구\n",
       "2015  9904312  3448737  2890451  2466052\n",
       "2010  9631482  3393191  2632035  2431774"
      ]
     },
     "execution_count": 35,
     "metadata": {},
     "output_type": "execute_result"
    }
   ],
   "source": [
    "pop"
   ]
  },
  {
   "cell_type": "markdown",
   "id": "14542b05-21af-4d68-9871-da1351569dc8",
   "metadata": {},
   "source": [
    "정리\n",
    "- DF(=DataFrame)를 생성하는 방법은 2가지\n",
    "- 딕셔너리 방식은 key값이 컬럼명, value값이 전치돼서 들어감\n",
    "- 리스트 방식은 보이는 위치 그대로 들어감"
   ]
  },
  {
   "cell_type": "code",
   "execution_count": 36,
   "id": "da0ed205-c3a3-4366-a241-4af427d3fdbf",
   "metadata": {},
   "outputs": [
    {
     "data": {
      "text/html": [
       "<div>\n",
       "<style scoped>\n",
       "    .dataframe tbody tr th:only-of-type {\n",
       "        vertical-align: middle;\n",
       "    }\n",
       "\n",
       "    .dataframe tbody tr th {\n",
       "        vertical-align: top;\n",
       "    }\n",
       "\n",
       "    .dataframe thead th {\n",
       "        text-align: right;\n",
       "    }\n",
       "</style>\n",
       "<table border=\"1\" class=\"dataframe\">\n",
       "  <thead>\n",
       "    <tr style=\"text-align: right;\">\n",
       "      <th></th>\n",
       "      <th>2015</th>\n",
       "      <th>2010</th>\n",
       "    </tr>\n",
       "  </thead>\n",
       "  <tbody>\n",
       "    <tr>\n",
       "      <th>서울</th>\n",
       "      <td>9904312</td>\n",
       "      <td>9631482</td>\n",
       "    </tr>\n",
       "    <tr>\n",
       "      <th>부산</th>\n",
       "      <td>3448737</td>\n",
       "      <td>3393191</td>\n",
       "    </tr>\n",
       "    <tr>\n",
       "      <th>인천</th>\n",
       "      <td>2890451</td>\n",
       "      <td>2632035</td>\n",
       "    </tr>\n",
       "    <tr>\n",
       "      <th>대구</th>\n",
       "      <td>2466052</td>\n",
       "      <td>2431774</td>\n",
       "    </tr>\n",
       "  </tbody>\n",
       "</table>\n",
       "</div>"
      ],
      "text/plain": [
       "       2015     2010\n",
       "서울  9904312  9631482\n",
       "부산  3448737  3393191\n",
       "인천  2890451  2632035\n",
       "대구  2466052  2431774"
      ]
     },
     "execution_count": 36,
     "metadata": {},
     "output_type": "execute_result"
    }
   ],
   "source": [
    "# 전치\n",
    "pop = pop.T\n",
    "\n",
    "pop"
   ]
  },
  {
   "cell_type": "code",
   "execution_count": null,
   "id": "1633c159-8846-4d0b-87e7-9912751d18ff",
   "metadata": {},
   "outputs": [],
   "source": []
  },
  {
   "cell_type": "code",
   "execution_count": 37,
   "id": "820a6fbe-aa28-42c1-ac09-46ff55787294",
   "metadata": {},
   "outputs": [
    {
     "data": {
      "text/html": [
       "<div>\n",
       "<style scoped>\n",
       "    .dataframe tbody tr th:only-of-type {\n",
       "        vertical-align: middle;\n",
       "    }\n",
       "\n",
       "    .dataframe tbody tr th {\n",
       "        vertical-align: top;\n",
       "    }\n",
       "\n",
       "    .dataframe thead th {\n",
       "        text-align: right;\n",
       "    }\n",
       "</style>\n",
       "<table border=\"1\" class=\"dataframe\">\n",
       "  <thead>\n",
       "    <tr style=\"text-align: right;\">\n",
       "      <th></th>\n",
       "      <th>2015</th>\n",
       "      <th>2010</th>\n",
       "    </tr>\n",
       "  </thead>\n",
       "  <tbody>\n",
       "    <tr>\n",
       "      <th>서울</th>\n",
       "      <td>990</td>\n",
       "      <td>9631482</td>\n",
       "    </tr>\n",
       "    <tr>\n",
       "      <th>부산</th>\n",
       "      <td>345</td>\n",
       "      <td>3393191</td>\n",
       "    </tr>\n",
       "    <tr>\n",
       "      <th>인천</th>\n",
       "      <td>289</td>\n",
       "      <td>2632035</td>\n",
       "    </tr>\n",
       "    <tr>\n",
       "      <th>대구</th>\n",
       "      <td>247</td>\n",
       "      <td>2431774</td>\n",
       "    </tr>\n",
       "  </tbody>\n",
       "</table>\n",
       "</div>"
      ],
      "text/plain": [
       "    2015     2010\n",
       "서울   990  9631482\n",
       "부산   345  3393191\n",
       "인천   289  2632035\n",
       "대구   247  2431774"
      ]
     },
     "execution_count": 37,
     "metadata": {},
     "output_type": "execute_result"
    }
   ],
   "source": [
    "# DF의 컬럼 변경\n",
    "# 기존 컬럼을 인덱싱해서 새 값 대입\n",
    "pop['2015']=[990,345,289,247]\n",
    "\n",
    "pop"
   ]
  },
  {
   "cell_type": "markdown",
   "id": "009a6781-7ae8-4f4b-972f-0633628f9fbf",
   "metadata": {},
   "source": [
    "### 행(=튜플=인덱스명)은 슬라이싱, 열(=컬럼)은 인덱싱으로만 불러올수있다."
   ]
  },
  {
   "cell_type": "code",
   "execution_count": 38,
   "id": "11033091-5dbf-4f72-b246-b39c845cbdde",
   "metadata": {},
   "outputs": [
    {
     "data": {
      "text/html": [
       "<div>\n",
       "<style scoped>\n",
       "    .dataframe tbody tr th:only-of-type {\n",
       "        vertical-align: middle;\n",
       "    }\n",
       "\n",
       "    .dataframe tbody tr th {\n",
       "        vertical-align: top;\n",
       "    }\n",
       "\n",
       "    .dataframe thead th {\n",
       "        text-align: right;\n",
       "    }\n",
       "</style>\n",
       "<table border=\"1\" class=\"dataframe\">\n",
       "  <thead>\n",
       "    <tr style=\"text-align: right;\">\n",
       "      <th></th>\n",
       "      <th>2015</th>\n",
       "      <th>2010</th>\n",
       "      <th>2005</th>\n",
       "    </tr>\n",
       "  </thead>\n",
       "  <tbody>\n",
       "    <tr>\n",
       "      <th>서울</th>\n",
       "      <td>990</td>\n",
       "      <td>9631482</td>\n",
       "      <td>1</td>\n",
       "    </tr>\n",
       "    <tr>\n",
       "      <th>부산</th>\n",
       "      <td>345</td>\n",
       "      <td>3393191</td>\n",
       "      <td>2</td>\n",
       "    </tr>\n",
       "    <tr>\n",
       "      <th>인천</th>\n",
       "      <td>289</td>\n",
       "      <td>2632035</td>\n",
       "      <td>3</td>\n",
       "    </tr>\n",
       "    <tr>\n",
       "      <th>대구</th>\n",
       "      <td>247</td>\n",
       "      <td>2431774</td>\n",
       "      <td>4</td>\n",
       "    </tr>\n",
       "  </tbody>\n",
       "</table>\n",
       "</div>"
      ],
      "text/plain": [
       "    2015     2010  2005\n",
       "서울   990  9631482     1\n",
       "부산   345  3393191     2\n",
       "인천   289  2632035     3\n",
       "대구   247  2431774     4"
      ]
     },
     "execution_count": 38,
     "metadata": {},
     "output_type": "execute_result"
    }
   ],
   "source": [
    "# DF에 새로운 컬럼 추가\n",
    "pop['2005'] =[1,2,3,4]\n",
    "\n",
    "pop"
   ]
  },
  {
   "cell_type": "code",
   "execution_count": 39,
   "id": "e42bf59a-dec3-4ea1-99df-a34a59dc9e53",
   "metadata": {},
   "outputs": [
    {
     "data": {
      "text/html": [
       "<div>\n",
       "<style scoped>\n",
       "    .dataframe tbody tr th:only-of-type {\n",
       "        vertical-align: middle;\n",
       "    }\n",
       "\n",
       "    .dataframe tbody tr th {\n",
       "        vertical-align: top;\n",
       "    }\n",
       "\n",
       "    .dataframe thead th {\n",
       "        text-align: right;\n",
       "    }\n",
       "</style>\n",
       "<table border=\"1\" class=\"dataframe\">\n",
       "  <thead>\n",
       "    <tr style=\"text-align: right;\">\n",
       "      <th></th>\n",
       "      <th>2015</th>\n",
       "      <th>2010</th>\n",
       "    </tr>\n",
       "  </thead>\n",
       "  <tbody>\n",
       "    <tr>\n",
       "      <th>서울</th>\n",
       "      <td>990</td>\n",
       "      <td>9631482</td>\n",
       "    </tr>\n",
       "    <tr>\n",
       "      <th>부산</th>\n",
       "      <td>345</td>\n",
       "      <td>3393191</td>\n",
       "    </tr>\n",
       "    <tr>\n",
       "      <th>인천</th>\n",
       "      <td>289</td>\n",
       "      <td>2632035</td>\n",
       "    </tr>\n",
       "    <tr>\n",
       "      <th>대구</th>\n",
       "      <td>247</td>\n",
       "      <td>2431774</td>\n",
       "    </tr>\n",
       "  </tbody>\n",
       "</table>\n",
       "</div>"
      ],
      "text/plain": [
       "    2015     2010\n",
       "서울   990  9631482\n",
       "부산   345  3393191\n",
       "인천   289  2632035\n",
       "대구   247  2431774"
      ]
     },
     "execution_count": 39,
     "metadata": {},
     "output_type": "execute_result"
    }
   ],
   "source": [
    "# DF에 컬럼 삭제\n",
    "del pop['2005']\n",
    "\n",
    "pop"
   ]
  },
  {
   "cell_type": "markdown",
   "id": "8e3c567b-9da5-4fe7-9cae-abe3f8625392",
   "metadata": {},
   "source": [
    "행 or 열 삭제(drop)"
   ]
  },
  {
   "cell_type": "code",
   "execution_count": 40,
   "id": "7e9bf371-47a7-4d45-a35b-fb99daf94533",
   "metadata": {},
   "outputs": [
    {
     "data": {
      "text/html": [
       "<div>\n",
       "<style scoped>\n",
       "    .dataframe tbody tr th:only-of-type {\n",
       "        vertical-align: middle;\n",
       "    }\n",
       "\n",
       "    .dataframe tbody tr th {\n",
       "        vertical-align: top;\n",
       "    }\n",
       "\n",
       "    .dataframe thead th {\n",
       "        text-align: right;\n",
       "    }\n",
       "</style>\n",
       "<table border=\"1\" class=\"dataframe\">\n",
       "  <thead>\n",
       "    <tr style=\"text-align: right;\">\n",
       "      <th></th>\n",
       "      <th>2015</th>\n",
       "      <th>2010</th>\n",
       "      <th>2005</th>\n",
       "    </tr>\n",
       "  </thead>\n",
       "  <tbody>\n",
       "    <tr>\n",
       "      <th>서울</th>\n",
       "      <td>990</td>\n",
       "      <td>9631482</td>\n",
       "      <td>1</td>\n",
       "    </tr>\n",
       "    <tr>\n",
       "      <th>부산</th>\n",
       "      <td>345</td>\n",
       "      <td>3393191</td>\n",
       "      <td>2</td>\n",
       "    </tr>\n",
       "    <tr>\n",
       "      <th>인천</th>\n",
       "      <td>289</td>\n",
       "      <td>2632035</td>\n",
       "      <td>3</td>\n",
       "    </tr>\n",
       "    <tr>\n",
       "      <th>대구</th>\n",
       "      <td>247</td>\n",
       "      <td>2431774</td>\n",
       "      <td>4</td>\n",
       "    </tr>\n",
       "  </tbody>\n",
       "</table>\n",
       "</div>"
      ],
      "text/plain": [
       "    2015     2010  2005\n",
       "서울   990  9631482     1\n",
       "부산   345  3393191     2\n",
       "인천   289  2632035     3\n",
       "대구   247  2431774     4"
      ]
     },
     "execution_count": 40,
     "metadata": {},
     "output_type": "execute_result"
    }
   ],
   "source": [
    "# DF에 새로운 컬럼 추가\n",
    "pop['2005'] =[1,2,3,4]\n",
    "\n",
    "pop"
   ]
  },
  {
   "cell_type": "code",
   "execution_count": 41,
   "id": "bea7a174-d9d5-4a1e-b680-6cb337ef42ba",
   "metadata": {},
   "outputs": [
    {
     "data": {
      "text/html": [
       "<div>\n",
       "<style scoped>\n",
       "    .dataframe tbody tr th:only-of-type {\n",
       "        vertical-align: middle;\n",
       "    }\n",
       "\n",
       "    .dataframe tbody tr th {\n",
       "        vertical-align: top;\n",
       "    }\n",
       "\n",
       "    .dataframe thead th {\n",
       "        text-align: right;\n",
       "    }\n",
       "</style>\n",
       "<table border=\"1\" class=\"dataframe\">\n",
       "  <thead>\n",
       "    <tr style=\"text-align: right;\">\n",
       "      <th></th>\n",
       "      <th>2015</th>\n",
       "      <th>2010</th>\n",
       "    </tr>\n",
       "  </thead>\n",
       "  <tbody>\n",
       "    <tr>\n",
       "      <th>서울</th>\n",
       "      <td>990</td>\n",
       "      <td>9631482</td>\n",
       "    </tr>\n",
       "    <tr>\n",
       "      <th>부산</th>\n",
       "      <td>345</td>\n",
       "      <td>3393191</td>\n",
       "    </tr>\n",
       "    <tr>\n",
       "      <th>인천</th>\n",
       "      <td>289</td>\n",
       "      <td>2632035</td>\n",
       "    </tr>\n",
       "    <tr>\n",
       "      <th>대구</th>\n",
       "      <td>247</td>\n",
       "      <td>2431774</td>\n",
       "    </tr>\n",
       "  </tbody>\n",
       "</table>\n",
       "</div>"
      ],
      "text/plain": [
       "    2015     2010\n",
       "서울   990  9631482\n",
       "부산   345  3393191\n",
       "인천   289  2632035\n",
       "대구   247  2431774"
      ]
     },
     "execution_count": 41,
     "metadata": {},
     "output_type": "execute_result"
    }
   ],
   "source": [
    "# drop: 행 또는 열 삭제\n",
    "# 행 삭제시에는 인덱스명(서울 부산), 열 삭제시에는 컬럼명(2015 2005)\n",
    "# 축방향 설정 필요. axis = 0 (행), axis = 1 (열) (축방향 axis 생략할 경우, axis =0 행에 접근한다.)\n",
    "# inplace = True 원본에 영향을 미침, 생략할 경우 False\n",
    "\n",
    "# DF명.drop(행 or 열 이름, axis = 0 or 1, inplace = True or False)\n",
    "\n",
    "pop.drop('2005',axis=1, inplace=False)"
   ]
  },
  {
   "cell_type": "code",
   "execution_count": 42,
   "id": "9d9c4189-4df6-47a9-bbad-844df9cb9ec7",
   "metadata": {},
   "outputs": [
    {
     "data": {
      "text/html": [
       "<div>\n",
       "<style scoped>\n",
       "    .dataframe tbody tr th:only-of-type {\n",
       "        vertical-align: middle;\n",
       "    }\n",
       "\n",
       "    .dataframe tbody tr th {\n",
       "        vertical-align: top;\n",
       "    }\n",
       "\n",
       "    .dataframe thead th {\n",
       "        text-align: right;\n",
       "    }\n",
       "</style>\n",
       "<table border=\"1\" class=\"dataframe\">\n",
       "  <thead>\n",
       "    <tr style=\"text-align: right;\">\n",
       "      <th></th>\n",
       "      <th>2015</th>\n",
       "      <th>2010</th>\n",
       "      <th>2005</th>\n",
       "    </tr>\n",
       "  </thead>\n",
       "  <tbody>\n",
       "    <tr>\n",
       "      <th>서울</th>\n",
       "      <td>990</td>\n",
       "      <td>9631482</td>\n",
       "      <td>1</td>\n",
       "    </tr>\n",
       "    <tr>\n",
       "      <th>부산</th>\n",
       "      <td>345</td>\n",
       "      <td>3393191</td>\n",
       "      <td>2</td>\n",
       "    </tr>\n",
       "    <tr>\n",
       "      <th>인천</th>\n",
       "      <td>289</td>\n",
       "      <td>2632035</td>\n",
       "      <td>3</td>\n",
       "    </tr>\n",
       "    <tr>\n",
       "      <th>대구</th>\n",
       "      <td>247</td>\n",
       "      <td>2431774</td>\n",
       "      <td>4</td>\n",
       "    </tr>\n",
       "  </tbody>\n",
       "</table>\n",
       "</div>"
      ],
      "text/plain": [
       "    2015     2010  2005\n",
       "서울   990  9631482     1\n",
       "부산   345  3393191     2\n",
       "인천   289  2632035     3\n",
       "대구   247  2431774     4"
      ]
     },
     "execution_count": 42,
     "metadata": {},
     "output_type": "execute_result"
    }
   ],
   "source": [
    "pop"
   ]
  },
  {
   "cell_type": "code",
   "execution_count": 43,
   "id": "dd5110bb-ca3b-43de-aead-e734c60913d1",
   "metadata": {},
   "outputs": [],
   "source": [
    "# inplace - True\n",
    "pop.drop('2005',axis=1, inplace=True)"
   ]
  },
  {
   "cell_type": "code",
   "execution_count": 44,
   "id": "b9c6b2f7-4cf1-49e9-a6c3-1b72ba02f088",
   "metadata": {},
   "outputs": [
    {
     "data": {
      "text/html": [
       "<div>\n",
       "<style scoped>\n",
       "    .dataframe tbody tr th:only-of-type {\n",
       "        vertical-align: middle;\n",
       "    }\n",
       "\n",
       "    .dataframe tbody tr th {\n",
       "        vertical-align: top;\n",
       "    }\n",
       "\n",
       "    .dataframe thead th {\n",
       "        text-align: right;\n",
       "    }\n",
       "</style>\n",
       "<table border=\"1\" class=\"dataframe\">\n",
       "  <thead>\n",
       "    <tr style=\"text-align: right;\">\n",
       "      <th></th>\n",
       "      <th>2015</th>\n",
       "      <th>2010</th>\n",
       "    </tr>\n",
       "  </thead>\n",
       "  <tbody>\n",
       "    <tr>\n",
       "      <th>서울</th>\n",
       "      <td>990</td>\n",
       "      <td>9631482</td>\n",
       "    </tr>\n",
       "    <tr>\n",
       "      <th>부산</th>\n",
       "      <td>345</td>\n",
       "      <td>3393191</td>\n",
       "    </tr>\n",
       "    <tr>\n",
       "      <th>인천</th>\n",
       "      <td>289</td>\n",
       "      <td>2632035</td>\n",
       "    </tr>\n",
       "    <tr>\n",
       "      <th>대구</th>\n",
       "      <td>247</td>\n",
       "      <td>2431774</td>\n",
       "    </tr>\n",
       "  </tbody>\n",
       "</table>\n",
       "</div>"
      ],
      "text/plain": [
       "    2015     2010\n",
       "서울   990  9631482\n",
       "부산   345  3393191\n",
       "인천   289  2632035\n",
       "대구   247  2431774"
      ]
     },
     "execution_count": 44,
     "metadata": {},
     "output_type": "execute_result"
    }
   ],
   "source": [
    "pop"
   ]
  },
  {
   "cell_type": "code",
   "execution_count": 45,
   "id": "ca20547d-c107-48d9-b790-61b8e74391dc",
   "metadata": {},
   "outputs": [
    {
     "data": {
      "text/html": [
       "<div>\n",
       "<style scoped>\n",
       "    .dataframe tbody tr th:only-of-type {\n",
       "        vertical-align: middle;\n",
       "    }\n",
       "\n",
       "    .dataframe tbody tr th {\n",
       "        vertical-align: top;\n",
       "    }\n",
       "\n",
       "    .dataframe thead th {\n",
       "        text-align: right;\n",
       "    }\n",
       "</style>\n",
       "<table border=\"1\" class=\"dataframe\">\n",
       "  <thead>\n",
       "    <tr style=\"text-align: right;\">\n",
       "      <th></th>\n",
       "      <th>2015</th>\n",
       "      <th>2010</th>\n",
       "    </tr>\n",
       "  </thead>\n",
       "  <tbody>\n",
       "    <tr>\n",
       "      <th>부산</th>\n",
       "      <td>345</td>\n",
       "      <td>3393191</td>\n",
       "    </tr>\n",
       "    <tr>\n",
       "      <th>인천</th>\n",
       "      <td>289</td>\n",
       "      <td>2632035</td>\n",
       "    </tr>\n",
       "    <tr>\n",
       "      <th>대구</th>\n",
       "      <td>247</td>\n",
       "      <td>2431774</td>\n",
       "    </tr>\n",
       "  </tbody>\n",
       "</table>\n",
       "</div>"
      ],
      "text/plain": [
       "    2015     2010\n",
       "부산   345  3393191\n",
       "인천   289  2632035\n",
       "대구   247  2431774"
      ]
     },
     "execution_count": 45,
     "metadata": {},
     "output_type": "execute_result"
    }
   ],
   "source": [
    "pop.drop('서울')\n",
    "# axis = 0, inplace = False"
   ]
  },
  {
   "cell_type": "code",
   "execution_count": 46,
   "id": "4cf22a2f-a415-4d09-ac9d-917f62891412",
   "metadata": {},
   "outputs": [
    {
     "data": {
      "text/html": [
       "<div>\n",
       "<style scoped>\n",
       "    .dataframe tbody tr th:only-of-type {\n",
       "        vertical-align: middle;\n",
       "    }\n",
       "\n",
       "    .dataframe tbody tr th {\n",
       "        vertical-align: top;\n",
       "    }\n",
       "\n",
       "    .dataframe thead th {\n",
       "        text-align: right;\n",
       "    }\n",
       "</style>\n",
       "<table border=\"1\" class=\"dataframe\">\n",
       "  <thead>\n",
       "    <tr style=\"text-align: right;\">\n",
       "      <th></th>\n",
       "      <th>2015</th>\n",
       "      <th>2010</th>\n",
       "    </tr>\n",
       "  </thead>\n",
       "  <tbody>\n",
       "    <tr>\n",
       "      <th>서울</th>\n",
       "      <td>990</td>\n",
       "      <td>9631482</td>\n",
       "    </tr>\n",
       "    <tr>\n",
       "      <th>부산</th>\n",
       "      <td>345</td>\n",
       "      <td>3393191</td>\n",
       "    </tr>\n",
       "    <tr>\n",
       "      <th>인천</th>\n",
       "      <td>289</td>\n",
       "      <td>2632035</td>\n",
       "    </tr>\n",
       "    <tr>\n",
       "      <th>대구</th>\n",
       "      <td>247</td>\n",
       "      <td>2431774</td>\n",
       "    </tr>\n",
       "  </tbody>\n",
       "</table>\n",
       "</div>"
      ],
      "text/plain": [
       "    2015     2010\n",
       "서울   990  9631482\n",
       "부산   345  3393191\n",
       "인천   289  2632035\n",
       "대구   247  2431774"
      ]
     },
     "execution_count": 46,
     "metadata": {},
     "output_type": "execute_result"
    }
   ],
   "source": [
    "pop"
   ]
  },
  {
   "cell_type": "code",
   "execution_count": 47,
   "id": "60c1ff56-d2a9-4c88-881a-e779b0c3da1b",
   "metadata": {},
   "outputs": [
    {
     "data": {
      "text/html": [
       "<div>\n",
       "<style scoped>\n",
       "    .dataframe tbody tr th:only-of-type {\n",
       "        vertical-align: middle;\n",
       "    }\n",
       "\n",
       "    .dataframe tbody tr th {\n",
       "        vertical-align: top;\n",
       "    }\n",
       "\n",
       "    .dataframe thead th {\n",
       "        text-align: right;\n",
       "    }\n",
       "</style>\n",
       "<table border=\"1\" class=\"dataframe\">\n",
       "  <thead>\n",
       "    <tr style=\"text-align: right;\">\n",
       "      <th></th>\n",
       "      <th>2015</th>\n",
       "      <th>2010</th>\n",
       "    </tr>\n",
       "  </thead>\n",
       "  <tbody>\n",
       "    <tr>\n",
       "      <th>서울</th>\n",
       "      <td>9904312</td>\n",
       "      <td>9631482</td>\n",
       "    </tr>\n",
       "    <tr>\n",
       "      <th>부산</th>\n",
       "      <td>3448737</td>\n",
       "      <td>3393191</td>\n",
       "    </tr>\n",
       "    <tr>\n",
       "      <th>인천</th>\n",
       "      <td>2890451</td>\n",
       "      <td>2632035</td>\n",
       "    </tr>\n",
       "    <tr>\n",
       "      <th>대구</th>\n",
       "      <td>2466052</td>\n",
       "      <td>2431774</td>\n",
       "    </tr>\n",
       "  </tbody>\n",
       "</table>\n",
       "</div>"
      ],
      "text/plain": [
       "       2015     2010\n",
       "서울  9904312  9631482\n",
       "부산  3448737  3393191\n",
       "인천  2890451  2632035\n",
       "대구  2466052  2431774"
      ]
     },
     "execution_count": 47,
     "metadata": {},
     "output_type": "execute_result"
    }
   ],
   "source": [
    "pop['2015'] = [9904312,3448737,2890451,2466052]\n",
    "\n",
    "pop"
   ]
  },
  {
   "cell_type": "markdown",
   "id": "64910fae-f3b1-463e-bf5f-1e81a42d07e7",
   "metadata": {},
   "source": [
    "### DataFrame 속성 확인\n",
    "- 형태, 값, 인덱스, 컬럼명"
   ]
  },
  {
   "cell_type": "code",
   "execution_count": 48,
   "id": "d1e6a329-af01-41fc-960e-1663b3c2b780",
   "metadata": {},
   "outputs": [
    {
     "data": {
      "text/plain": [
       "(4, 2)"
      ]
     },
     "execution_count": 48,
     "metadata": {},
     "output_type": "execute_result"
    }
   ],
   "source": [
    "# 형태\n",
    "\n",
    "pop.shape\n",
    "# 4행 2열"
   ]
  },
  {
   "cell_type": "code",
   "execution_count": 49,
   "id": "810028f8-2ffb-49cb-b502-086c01a61af6",
   "metadata": {},
   "outputs": [
    {
     "data": {
      "text/plain": [
       "array([[9904312, 9631482],\n",
       "       [3448737, 3393191],\n",
       "       [2890451, 2632035],\n",
       "       [2466052, 2431774]], dtype=int64)"
      ]
     },
     "execution_count": 49,
     "metadata": {},
     "output_type": "execute_result"
    }
   ],
   "source": [
    "# 값\n",
    "\n",
    "pop.values"
   ]
  },
  {
   "cell_type": "code",
   "execution_count": 50,
   "id": "d22ef03a-2c28-48df-86f4-ef9b7629307e",
   "metadata": {},
   "outputs": [
    {
     "data": {
      "text/plain": [
       "Index(['서울', '부산', '인천', '대구'], dtype='object')"
      ]
     },
     "execution_count": 50,
     "metadata": {},
     "output_type": "execute_result"
    }
   ],
   "source": [
    "# 인덱스명\n",
    "pop.index"
   ]
  },
  {
   "cell_type": "code",
   "execution_count": 51,
   "id": "a59708ed-a49d-41b1-ac49-776b4e2b92b6",
   "metadata": {},
   "outputs": [
    {
     "data": {
      "text/plain": [
       "Index(['2015', '2010'], dtype='object')"
      ]
     },
     "execution_count": 51,
     "metadata": {},
     "output_type": "execute_result"
    }
   ],
   "source": [
    "# 컬럼명\n",
    "pop.columns"
   ]
  },
  {
   "attachments": {
    "158e5cb0-bc61-4817-8016-9ed6fbdc9782.png": {
     "image/png": "[encoded data removed]"
    }
   },
   "cell_type": "markdown",
   "id": "3a1f368c-d29f-46eb-a359-9162f2ebf555",
   "metadata": {},
   "source": [
    "![image.png](attachment:158e5cb0-bc61-4817-8016-9ed6fbdc9782.png)"
   ]
  },
  {
   "cell_type": "code",
   "execution_count": 52,
   "id": "6db0532e-fbf7-4235-b2b4-1d099ff2a962",
   "metadata": {},
   "outputs": [
    {
     "data": {
      "text/html": [
       "<div>\n",
       "<style scoped>\n",
       "    .dataframe tbody tr th:only-of-type {\n",
       "        vertical-align: middle;\n",
       "    }\n",
       "\n",
       "    .dataframe tbody tr th {\n",
       "        vertical-align: top;\n",
       "    }\n",
       "\n",
       "    .dataframe thead th {\n",
       "        text-align: right;\n",
       "    }\n",
       "</style>\n",
       "<table border=\"1\" class=\"dataframe\">\n",
       "  <thead>\n",
       "    <tr style=\"text-align: right;\">\n",
       "      <th></th>\n",
       "      <th>키</th>\n",
       "      <th>몸무게</th>\n",
       "      <th>나이</th>\n",
       "    </tr>\n",
       "  </thead>\n",
       "  <tbody>\n",
       "    <tr>\n",
       "      <th>홍길동</th>\n",
       "      <td>175.3</td>\n",
       "      <td>66.2</td>\n",
       "      <td>27.0</td>\n",
       "    </tr>\n",
       "    <tr>\n",
       "      <th>김사또</th>\n",
       "      <td>180.2</td>\n",
       "      <td>78.9</td>\n",
       "      <td>49.0</td>\n",
       "    </tr>\n",
       "    <tr>\n",
       "      <th>임꺽정</th>\n",
       "      <td>178.6</td>\n",
       "      <td>55.1</td>\n",
       "      <td>35.0</td>\n",
       "    </tr>\n",
       "  </tbody>\n",
       "</table>\n",
       "</div>"
      ],
      "text/plain": [
       "         키   몸무게    나이\n",
       "홍길동  175.3  66.2  27.0\n",
       "김사또  180.2  78.9  49.0\n",
       "임꺽정  178.6  55.1  35.0"
      ]
     },
     "execution_count": 52,
     "metadata": {},
     "output_type": "execute_result"
    }
   ],
   "source": [
    "# 리스트 이용, 데이터 프레임 생성\n",
    "\n",
    "data= [[175.3,66.2, 27.0],\n",
    "       [180.2,78.9,49.0],\n",
    "       [178.6,55.1,35.0]\n",
    "      ]\n",
    "ind = ['홍길동','김사또','임꺽정']\n",
    "col = ['키','몸무게','나이']\n",
    "\n",
    "# pd.DataFrame(데이터, index = 인덱스 이름, columns = 컬럼이름)\n",
    "human = pd.DataFrame(data, index = ind, columns = col)\n",
    "\n",
    "human"
   ]
  },
  {
   "cell_type": "code",
   "execution_count": 53,
   "id": "dec8a02a-c6bb-462c-ae95-2f0609844170",
   "metadata": {},
   "outputs": [
    {
     "data": {
      "text/html": [
       "<div>\n",
       "<style scoped>\n",
       "    .dataframe tbody tr th:only-of-type {\n",
       "        vertical-align: middle;\n",
       "    }\n",
       "\n",
       "    .dataframe tbody tr th {\n",
       "        vertical-align: top;\n",
       "    }\n",
       "\n",
       "    .dataframe thead th {\n",
       "        text-align: right;\n",
       "    }\n",
       "</style>\n",
       "<table border=\"1\" class=\"dataframe\">\n",
       "  <thead>\n",
       "    <tr style=\"text-align: right;\">\n",
       "      <th></th>\n",
       "      <th>홍길동</th>\n",
       "      <th>김사또</th>\n",
       "      <th>임꺽정</th>\n",
       "    </tr>\n",
       "  </thead>\n",
       "  <tbody>\n",
       "    <tr>\n",
       "      <th>키</th>\n",
       "      <td>175.3</td>\n",
       "      <td>180.2</td>\n",
       "      <td>178.6</td>\n",
       "    </tr>\n",
       "    <tr>\n",
       "      <th>몸무게</th>\n",
       "      <td>66.2</td>\n",
       "      <td>78.9</td>\n",
       "      <td>55.1</td>\n",
       "    </tr>\n",
       "    <tr>\n",
       "      <th>나이</th>\n",
       "      <td>27.0</td>\n",
       "      <td>49.0</td>\n",
       "      <td>35.0</td>\n",
       "    </tr>\n",
       "  </tbody>\n",
       "</table>\n",
       "</div>"
      ],
      "text/plain": [
       "       홍길동    김사또    임꺽정\n",
       "키    175.3  180.2  178.6\n",
       "몸무게   66.2   78.9   55.1\n",
       "나이    27.0   49.0   35.0"
      ]
     },
     "execution_count": 53,
     "metadata": {},
     "output_type": "execute_result"
    }
   ],
   "source": [
    "human=human.T\n",
    "\n",
    "human"
   ]
  },
  {
   "cell_type": "code",
   "execution_count": 54,
   "id": "414cccb2-bc4b-43fe-a4ed-ea90a7cf4157",
   "metadata": {},
   "outputs": [
    {
     "data": {
      "text/html": [
       "<div>\n",
       "<style scoped>\n",
       "    .dataframe tbody tr th:only-of-type {\n",
       "        vertical-align: middle;\n",
       "    }\n",
       "\n",
       "    .dataframe tbody tr th {\n",
       "        vertical-align: top;\n",
       "    }\n",
       "\n",
       "    .dataframe thead th {\n",
       "        text-align: right;\n",
       "    }\n",
       "</style>\n",
       "<table border=\"1\" class=\"dataframe\">\n",
       "  <thead>\n",
       "    <tr style=\"text-align: right;\">\n",
       "      <th></th>\n",
       "      <th>키</th>\n",
       "      <th>몸무게</th>\n",
       "      <th>나이</th>\n",
       "    </tr>\n",
       "  </thead>\n",
       "  <tbody>\n",
       "    <tr>\n",
       "      <th>홍길동</th>\n",
       "      <td>175.3</td>\n",
       "      <td>66.2</td>\n",
       "      <td>27.0</td>\n",
       "    </tr>\n",
       "    <tr>\n",
       "      <th>김사또</th>\n",
       "      <td>180.2</td>\n",
       "      <td>78.9</td>\n",
       "      <td>49.0</td>\n",
       "    </tr>\n",
       "    <tr>\n",
       "      <th>임꺽정</th>\n",
       "      <td>178.6</td>\n",
       "      <td>55.1</td>\n",
       "      <td>35.0</td>\n",
       "    </tr>\n",
       "  </tbody>\n",
       "</table>\n",
       "</div>"
      ],
      "text/plain": [
       "         키   몸무게    나이\n",
       "홍길동  175.3  66.2  27.0\n",
       "김사또  180.2  78.9  49.0\n",
       "임꺽정  178.6  55.1  35.0"
      ]
     },
     "execution_count": 54,
     "metadata": {},
     "output_type": "execute_result"
    }
   ],
   "source": [
    "# 딕셔너리를 이용하여 생성\n",
    "data = {'키' : [175.3, 180.2, 178.6],\n",
    "        '몸무게' : [66.2, 78.9, 55.1],\n",
    "        '나이' : [27.0, 49.0, 35.0],\n",
    "       }\n",
    "\n",
    "ind = ['홍길동', '김사또', '임꺽정']\n",
    "\n",
    "DF2 = pd.DataFrame(data, index = ind)\n",
    "\n",
    "DF2"
   ]
  },
  {
   "cell_type": "code",
   "execution_count": 55,
   "id": "6255f77a-6413-44bc-8027-5d5ac3fdaa9d",
   "metadata": {},
   "outputs": [
    {
     "data": {
      "text/html": [
       "<div>\n",
       "<style scoped>\n",
       "    .dataframe tbody tr th:only-of-type {\n",
       "        vertical-align: middle;\n",
       "    }\n",
       "\n",
       "    .dataframe tbody tr th {\n",
       "        vertical-align: top;\n",
       "    }\n",
       "\n",
       "    .dataframe thead th {\n",
       "        text-align: right;\n",
       "    }\n",
       "</style>\n",
       "<table border=\"1\" class=\"dataframe\">\n",
       "  <thead>\n",
       "    <tr style=\"text-align: right;\">\n",
       "      <th></th>\n",
       "      <th>키</th>\n",
       "      <th>몸무게</th>\n",
       "      <th>나이</th>\n",
       "    </tr>\n",
       "  </thead>\n",
       "  <tbody>\n",
       "    <tr>\n",
       "      <th>홍길동</th>\n",
       "      <td>175.3</td>\n",
       "      <td>66.2</td>\n",
       "      <td>27.0</td>\n",
       "    </tr>\n",
       "    <tr>\n",
       "      <th>김사또</th>\n",
       "      <td>180.2</td>\n",
       "      <td>78.9</td>\n",
       "      <td>49.0</td>\n",
       "    </tr>\n",
       "    <tr>\n",
       "      <th>임꺽정</th>\n",
       "      <td>178.6</td>\n",
       "      <td>55.1</td>\n",
       "      <td>35.0</td>\n",
       "    </tr>\n",
       "  </tbody>\n",
       "</table>\n",
       "</div>"
      ],
      "text/plain": [
       "         키   몸무게    나이\n",
       "홍길동  175.3  66.2  27.0\n",
       "김사또  180.2  78.9  49.0\n",
       "임꺽정  178.6  55.1  35.0"
      ]
     },
     "execution_count": 55,
     "metadata": {},
     "output_type": "execute_result"
    }
   ],
   "source": [
    "# 리스트를 이용하여 생성\n",
    "DF1 = pd.DataFrame([[175.3, 66.2, 27.0],\n",
    "                    [180.2, 78.9, 49.0],\n",
    "                    [178.6, 55.1, 35.0]],   # 데이터부분\n",
    "                   index = ['홍길동', '김사또', '임꺽정'],   # 인덱스\n",
    "                   columns = ['키', '몸무게', '나이']   # 컬럼\n",
    "                  )\n",
    "\n",
    "DF1"
   ]
  },
  {
   "cell_type": "markdown",
   "id": "bb75574b-39f9-489a-b0a3-25a92c12bc8f",
   "metadata": {},
   "source": [
    "### 연산"
   ]
  },
  {
   "cell_type": "code",
   "execution_count": 56,
   "id": "db3b75f0-cf1e-4fe4-a436-b2b5e10f25f0",
   "metadata": {},
   "outputs": [
    {
     "data": {
      "text/html": [
       "<div>\n",
       "<style scoped>\n",
       "    .dataframe tbody tr th:only-of-type {\n",
       "        vertical-align: middle;\n",
       "    }\n",
       "\n",
       "    .dataframe tbody tr th {\n",
       "        vertical-align: top;\n",
       "    }\n",
       "\n",
       "    .dataframe thead th {\n",
       "        text-align: right;\n",
       "    }\n",
       "</style>\n",
       "<table border=\"1\" class=\"dataframe\">\n",
       "  <thead>\n",
       "    <tr style=\"text-align: right;\">\n",
       "      <th></th>\n",
       "      <th>2015</th>\n",
       "      <th>2010</th>\n",
       "    </tr>\n",
       "  </thead>\n",
       "  <tbody>\n",
       "    <tr>\n",
       "      <th>서울</th>\n",
       "      <td>9904312</td>\n",
       "      <td>9631482</td>\n",
       "    </tr>\n",
       "    <tr>\n",
       "      <th>부산</th>\n",
       "      <td>3448737</td>\n",
       "      <td>3393191</td>\n",
       "    </tr>\n",
       "    <tr>\n",
       "      <th>인천</th>\n",
       "      <td>2890451</td>\n",
       "      <td>2632035</td>\n",
       "    </tr>\n",
       "    <tr>\n",
       "      <th>대구</th>\n",
       "      <td>2466052</td>\n",
       "      <td>2431774</td>\n",
       "    </tr>\n",
       "  </tbody>\n",
       "</table>\n",
       "</div>"
      ],
      "text/plain": [
       "       2015     2010\n",
       "서울  9904312  9631482\n",
       "부산  3448737  3393191\n",
       "인천  2890451  2632035\n",
       "대구  2466052  2431774"
      ]
     },
     "execution_count": 56,
     "metadata": {},
     "output_type": "execute_result"
    }
   ],
   "source": [
    "pop"
   ]
  },
  {
   "cell_type": "code",
   "execution_count": 57,
   "id": "3426b0d4-4dff-4cab-a68b-1a5663fa6b80",
   "metadata": {},
   "outputs": [
    {
     "data": {
      "text/html": [
       "<div>\n",
       "<style scoped>\n",
       "    .dataframe tbody tr th:only-of-type {\n",
       "        vertical-align: middle;\n",
       "    }\n",
       "\n",
       "    .dataframe tbody tr th {\n",
       "        vertical-align: top;\n",
       "    }\n",
       "\n",
       "    .dataframe thead th {\n",
       "        text-align: right;\n",
       "    }\n",
       "</style>\n",
       "<table border=\"1\" class=\"dataframe\">\n",
       "  <thead>\n",
       "    <tr style=\"text-align: right;\">\n",
       "      <th></th>\n",
       "      <th>2015</th>\n",
       "      <th>2010</th>\n",
       "    </tr>\n",
       "  </thead>\n",
       "  <tbody>\n",
       "    <tr>\n",
       "      <th>서울</th>\n",
       "      <td>10904312</td>\n",
       "      <td>10631482</td>\n",
       "    </tr>\n",
       "    <tr>\n",
       "      <th>부산</th>\n",
       "      <td>4448737</td>\n",
       "      <td>4393191</td>\n",
       "    </tr>\n",
       "    <tr>\n",
       "      <th>인천</th>\n",
       "      <td>3890451</td>\n",
       "      <td>3632035</td>\n",
       "    </tr>\n",
       "    <tr>\n",
       "      <th>대구</th>\n",
       "      <td>3466052</td>\n",
       "      <td>3431774</td>\n",
       "    </tr>\n",
       "  </tbody>\n",
       "</table>\n",
       "</div>"
      ],
      "text/plain": [
       "        2015      2010\n",
       "서울  10904312  10631482\n",
       "부산   4448737   4393191\n",
       "인천   3890451   3632035\n",
       "대구   3466052   3431774"
      ]
     },
     "execution_count": 57,
     "metadata": {},
     "output_type": "execute_result"
    }
   ],
   "source": [
    "pop+1000000\n",
    "# 각 값에 모두 계산"
   ]
  },
  {
   "cell_type": "code",
   "execution_count": 58,
   "id": "904f0016-e81c-47e6-8cb5-3a429f0f5621",
   "metadata": {},
   "outputs": [
    {
     "data": {
      "text/html": [
       "<div>\n",
       "<style scoped>\n",
       "    .dataframe tbody tr th:only-of-type {\n",
       "        vertical-align: middle;\n",
       "    }\n",
       "\n",
       "    .dataframe tbody tr th {\n",
       "        vertical-align: top;\n",
       "    }\n",
       "\n",
       "    .dataframe thead th {\n",
       "        text-align: right;\n",
       "    }\n",
       "</style>\n",
       "<table border=\"1\" class=\"dataframe\">\n",
       "  <thead>\n",
       "    <tr style=\"text-align: right;\">\n",
       "      <th></th>\n",
       "      <th>2015</th>\n",
       "      <th>2010</th>\n",
       "    </tr>\n",
       "  </thead>\n",
       "  <tbody>\n",
       "    <tr>\n",
       "      <th>서울</th>\n",
       "      <td>10904312</td>\n",
       "      <td>10631482</td>\n",
       "    </tr>\n",
       "    <tr>\n",
       "      <th>부산</th>\n",
       "      <td>4448737</td>\n",
       "      <td>4393191</td>\n",
       "    </tr>\n",
       "    <tr>\n",
       "      <th>인천</th>\n",
       "      <td>3890451</td>\n",
       "      <td>3632035</td>\n",
       "    </tr>\n",
       "    <tr>\n",
       "      <th>대구</th>\n",
       "      <td>3466052</td>\n",
       "      <td>3431774</td>\n",
       "    </tr>\n",
       "  </tbody>\n",
       "</table>\n",
       "</div>"
      ],
      "text/plain": [
       "        2015      2010\n",
       "서울  10904312  10631482\n",
       "부산   4448737   4393191\n",
       "인천   3890451   3632035\n",
       "대구   3466052   3431774"
      ]
     },
     "execution_count": 58,
     "metadata": {},
     "output_type": "execute_result"
    }
   ],
   "source": [
    "# 새로운 데이터 pop2 정의\n",
    "pop2 = pop+1000000\n",
    "pop2 # pop1과의 차이는 1000000"
   ]
  },
  {
   "cell_type": "code",
   "execution_count": 59,
   "id": "d5fe6168-3433-42d2-b466-34597631d8d8",
   "metadata": {},
   "outputs": [
    {
     "data": {
      "text/html": [
       "<div>\n",
       "<style scoped>\n",
       "    .dataframe tbody tr th:only-of-type {\n",
       "        vertical-align: middle;\n",
       "    }\n",
       "\n",
       "    .dataframe tbody tr th {\n",
       "        vertical-align: top;\n",
       "    }\n",
       "\n",
       "    .dataframe thead th {\n",
       "        text-align: right;\n",
       "    }\n",
       "</style>\n",
       "<table border=\"1\" class=\"dataframe\">\n",
       "  <thead>\n",
       "    <tr style=\"text-align: right;\">\n",
       "      <th></th>\n",
       "      <th>2015</th>\n",
       "      <th>2010</th>\n",
       "    </tr>\n",
       "  </thead>\n",
       "  <tbody>\n",
       "    <tr>\n",
       "      <th>서울</th>\n",
       "      <td>1000000</td>\n",
       "      <td>1000000</td>\n",
       "    </tr>\n",
       "    <tr>\n",
       "      <th>부산</th>\n",
       "      <td>1000000</td>\n",
       "      <td>1000000</td>\n",
       "    </tr>\n",
       "    <tr>\n",
       "      <th>인천</th>\n",
       "      <td>1000000</td>\n",
       "      <td>1000000</td>\n",
       "    </tr>\n",
       "    <tr>\n",
       "      <th>대구</th>\n",
       "      <td>1000000</td>\n",
       "      <td>1000000</td>\n",
       "    </tr>\n",
       "  </tbody>\n",
       "</table>\n",
       "</div>"
      ],
      "text/plain": [
       "       2015     2010\n",
       "서울  1000000  1000000\n",
       "부산  1000000  1000000\n",
       "인천  1000000  1000000\n",
       "대구  1000000  1000000"
      ]
     },
     "execution_count": 59,
     "metadata": {},
     "output_type": "execute_result"
    }
   ],
   "source": [
    "pop2-pop"
   ]
  },
  {
   "cell_type": "code",
   "execution_count": 60,
   "id": "688883ad-9135-4a27-baf1-db120c079439",
   "metadata": {},
   "outputs": [
    {
     "data": {
      "text/html": [
       "<div>\n",
       "<style scoped>\n",
       "    .dataframe tbody tr th:only-of-type {\n",
       "        vertical-align: middle;\n",
       "    }\n",
       "\n",
       "    .dataframe tbody tr th {\n",
       "        vertical-align: top;\n",
       "    }\n",
       "\n",
       "    .dataframe thead th {\n",
       "        text-align: right;\n",
       "    }\n",
       "</style>\n",
       "<table border=\"1\" class=\"dataframe\">\n",
       "  <thead>\n",
       "    <tr style=\"text-align: right;\">\n",
       "      <th></th>\n",
       "      <th>2015</th>\n",
       "      <th>2010</th>\n",
       "    </tr>\n",
       "  </thead>\n",
       "  <tbody>\n",
       "    <tr>\n",
       "      <th>서울</th>\n",
       "      <td>0</td>\n",
       "      <td>0</td>\n",
       "    </tr>\n",
       "    <tr>\n",
       "      <th>부산</th>\n",
       "      <td>0</td>\n",
       "      <td>0</td>\n",
       "    </tr>\n",
       "    <tr>\n",
       "      <th>인천</th>\n",
       "      <td>0</td>\n",
       "      <td>0</td>\n",
       "    </tr>\n",
       "    <tr>\n",
       "      <th>대구</th>\n",
       "      <td>0</td>\n",
       "      <td>0</td>\n",
       "    </tr>\n",
       "  </tbody>\n",
       "</table>\n",
       "</div>"
      ],
      "text/plain": [
       "    2015  2010\n",
       "서울     0     0\n",
       "부산     0     0\n",
       "인천     0     0\n",
       "대구     0     0"
      ]
     },
     "execution_count": 60,
     "metadata": {},
     "output_type": "execute_result"
    }
   ],
   "source": [
    "pop-pop"
   ]
  },
  {
   "cell_type": "code",
   "execution_count": 61,
   "id": "30bf5804-e60a-4c49-8577-dc20cf9a30a5",
   "metadata": {},
   "outputs": [
    {
     "data": {
      "text/html": [
       "<div>\n",
       "<style scoped>\n",
       "    .dataframe tbody tr th:only-of-type {\n",
       "        vertical-align: middle;\n",
       "    }\n",
       "\n",
       "    .dataframe tbody tr th {\n",
       "        vertical-align: top;\n",
       "    }\n",
       "\n",
       "    .dataframe thead th {\n",
       "        text-align: right;\n",
       "    }\n",
       "</style>\n",
       "<table border=\"1\" class=\"dataframe\">\n",
       "  <thead>\n",
       "    <tr style=\"text-align: right;\">\n",
       "      <th></th>\n",
       "      <th>2015</th>\n",
       "      <th>2010</th>\n",
       "      <th>2005</th>\n",
       "    </tr>\n",
       "  </thead>\n",
       "  <tbody>\n",
       "    <tr>\n",
       "      <th>서울</th>\n",
       "      <td>10904312</td>\n",
       "      <td>10631482</td>\n",
       "      <td>1</td>\n",
       "    </tr>\n",
       "    <tr>\n",
       "      <th>부산</th>\n",
       "      <td>4448737</td>\n",
       "      <td>4393191</td>\n",
       "      <td>2</td>\n",
       "    </tr>\n",
       "    <tr>\n",
       "      <th>인천</th>\n",
       "      <td>3890451</td>\n",
       "      <td>3632035</td>\n",
       "      <td>3</td>\n",
       "    </tr>\n",
       "    <tr>\n",
       "      <th>대구</th>\n",
       "      <td>3466052</td>\n",
       "      <td>3431774</td>\n",
       "      <td>4</td>\n",
       "    </tr>\n",
       "  </tbody>\n",
       "</table>\n",
       "</div>"
      ],
      "text/plain": [
       "        2015      2010  2005\n",
       "서울  10904312  10631482     1\n",
       "부산   4448737   4393191     2\n",
       "인천   3890451   3632035     3\n",
       "대구   3466052   3431774     4"
      ]
     },
     "execution_count": 61,
     "metadata": {},
     "output_type": "execute_result"
    }
   ],
   "source": [
    "pop2['2005'] = [1,2,3,4]\n",
    "\n",
    "\n",
    "pop2"
   ]
  },
  {
   "cell_type": "code",
   "execution_count": 62,
   "id": "075f62c8-74a4-4584-9a4a-7f0b32a136f1",
   "metadata": {},
   "outputs": [
    {
     "data": {
      "text/html": [
       "<div>\n",
       "<style scoped>\n",
       "    .dataframe tbody tr th:only-of-type {\n",
       "        vertical-align: middle;\n",
       "    }\n",
       "\n",
       "    .dataframe tbody tr th {\n",
       "        vertical-align: top;\n",
       "    }\n",
       "\n",
       "    .dataframe thead th {\n",
       "        text-align: right;\n",
       "    }\n",
       "</style>\n",
       "<table border=\"1\" class=\"dataframe\">\n",
       "  <thead>\n",
       "    <tr style=\"text-align: right;\">\n",
       "      <th></th>\n",
       "      <th>2005</th>\n",
       "      <th>2010</th>\n",
       "      <th>2015</th>\n",
       "    </tr>\n",
       "  </thead>\n",
       "  <tbody>\n",
       "    <tr>\n",
       "      <th>서울</th>\n",
       "      <td>NaN</td>\n",
       "      <td>1000000</td>\n",
       "      <td>1000000</td>\n",
       "    </tr>\n",
       "    <tr>\n",
       "      <th>부산</th>\n",
       "      <td>NaN</td>\n",
       "      <td>1000000</td>\n",
       "      <td>1000000</td>\n",
       "    </tr>\n",
       "    <tr>\n",
       "      <th>인천</th>\n",
       "      <td>NaN</td>\n",
       "      <td>1000000</td>\n",
       "      <td>1000000</td>\n",
       "    </tr>\n",
       "    <tr>\n",
       "      <th>대구</th>\n",
       "      <td>NaN</td>\n",
       "      <td>1000000</td>\n",
       "      <td>1000000</td>\n",
       "    </tr>\n",
       "  </tbody>\n",
       "</table>\n",
       "</div>"
      ],
      "text/plain": [
       "    2005     2010     2015\n",
       "서울   NaN  1000000  1000000\n",
       "부산   NaN  1000000  1000000\n",
       "인천   NaN  1000000  1000000\n",
       "대구   NaN  1000000  1000000"
      ]
     },
     "execution_count": 62,
     "metadata": {},
     "output_type": "execute_result"
    }
   ],
   "source": [
    "# pop2 : 2005컬럼 보유\n",
    "# pop : 2005컬럼 미보유\n",
    "\n",
    "pop2 - pop\n",
    "\n",
    "# 인덱스명, 컬럼명 모두 일치한 부분끼리만 연산\n",
    "# NaN (Not a Number) : 정해지지 않은 값"
   ]
  },
  {
   "cell_type": "code",
   "execution_count": null,
   "id": "c9eaeb2d-5c29-434e-b7d1-cfbc1e6eadef",
   "metadata": {},
   "outputs": [],
   "source": []
  },
  {
   "cell_type": "markdown",
   "id": "2012cc1c-23bc-4b68-a62a-065057d6f3b5",
   "metadata": {},
   "source": [
    "### DataFrame의 인덱싱, 슬라이싱"
   ]
  },
  {
   "cell_type": "code",
   "execution_count": 78,
   "id": "bfbb7541-af54-4d0a-9b6c-6ad90b935018",
   "metadata": {},
   "outputs": [],
   "source": [
    "# read_csv -> 한글 인코딩.(한글을 0과1로 바꿔주는 것)(주피터 노트북 default는 영어 인코딩이기 때문)\n",
    "# read_csv('데이터 위치', encoding = '인코딩 방식', index_col= 인덱스로 만들 컬럼)\n",
    "score_data= pd.read_csv('data/score.csv',encoding ='euc-kr', index_col=0)\n",
    "\n",
    "# encoding : 컴퓨터가 문자를 인식할 수 있도록 해주는 처리 과정\n",
    "# euc-kr : 한글 전용 인코딩 방식\n",
    "# index_col: 데이터에서 인덱스로 만들어줄 컬럼 설정\n",
    "\n"
   ]
  },
  {
   "cell_type": "code",
   "execution_count": 79,
   "id": "17e823d9-b731-4518-8a63-7f6e1cabc0e9",
   "metadata": {},
   "outputs": [
    {
     "data": {
      "text/html": [
       "<div>\n",
       "<style scoped>\n",
       "    .dataframe tbody tr th:only-of-type {\n",
       "        vertical-align: middle;\n",
       "    }\n",
       "\n",
       "    .dataframe tbody tr th {\n",
       "        vertical-align: top;\n",
       "    }\n",
       "\n",
       "    .dataframe thead th {\n",
       "        text-align: right;\n",
       "    }\n",
       "</style>\n",
       "<table border=\"1\" class=\"dataframe\">\n",
       "  <thead>\n",
       "    <tr style=\"text-align: right;\">\n",
       "      <th></th>\n",
       "      <th>1반</th>\n",
       "      <th>2반</th>\n",
       "      <th>3반</th>\n",
       "      <th>4반</th>\n",
       "    </tr>\n",
       "    <tr>\n",
       "      <th>과목</th>\n",
       "      <th></th>\n",
       "      <th></th>\n",
       "      <th></th>\n",
       "      <th></th>\n",
       "    </tr>\n",
       "  </thead>\n",
       "  <tbody>\n",
       "    <tr>\n",
       "      <th>수학</th>\n",
       "      <td>45</td>\n",
       "      <td>44</td>\n",
       "      <td>73</td>\n",
       "      <td>39</td>\n",
       "    </tr>\n",
       "    <tr>\n",
       "      <th>영어</th>\n",
       "      <td>76</td>\n",
       "      <td>92</td>\n",
       "      <td>45</td>\n",
       "      <td>69</td>\n",
       "    </tr>\n",
       "    <tr>\n",
       "      <th>국어</th>\n",
       "      <td>47</td>\n",
       "      <td>92</td>\n",
       "      <td>45</td>\n",
       "      <td>69</td>\n",
       "    </tr>\n",
       "    <tr>\n",
       "      <th>사회</th>\n",
       "      <td>92</td>\n",
       "      <td>81</td>\n",
       "      <td>85</td>\n",
       "      <td>40</td>\n",
       "    </tr>\n",
       "    <tr>\n",
       "      <th>과학</th>\n",
       "      <td>11</td>\n",
       "      <td>79</td>\n",
       "      <td>47</td>\n",
       "      <td>26</td>\n",
       "    </tr>\n",
       "  </tbody>\n",
       "</table>\n",
       "</div>"
      ],
      "text/plain": [
       "    1반  2반  3반  4반\n",
       "과목                \n",
       "수학  45  44  73  39\n",
       "영어  76  92  45  69\n",
       "국어  47  92  45  69\n",
       "사회  92  81  85  40\n",
       "과학  11  79  47  26"
      ]
     },
     "execution_count": 79,
     "metadata": {},
     "output_type": "execute_result"
    }
   ],
   "source": [
    "score_data"
   ]
  },
  {
   "cell_type": "code",
   "execution_count": 175,
   "id": "904a1a5c-ece2-4bf5-b0da-84aac22c415c",
   "metadata": {},
   "outputs": [
    {
     "data": {
      "text/html": [
       "<div>\n",
       "<style scoped>\n",
       "    .dataframe tbody tr th:only-of-type {\n",
       "        vertical-align: middle;\n",
       "    }\n",
       "\n",
       "    .dataframe tbody tr th {\n",
       "        vertical-align: top;\n",
       "    }\n",
       "\n",
       "    .dataframe thead th {\n",
       "        text-align: right;\n",
       "    }\n",
       "</style>\n",
       "<table border=\"1\" class=\"dataframe\">\n",
       "  <thead>\n",
       "    <tr style=\"text-align: right;\">\n",
       "      <th>반</th>\n",
       "      <th>1반</th>\n",
       "      <th>2반</th>\n",
       "      <th>3반</th>\n",
       "      <th>4반</th>\n",
       "    </tr>\n",
       "    <tr>\n",
       "      <th>과목</th>\n",
       "      <th></th>\n",
       "      <th></th>\n",
       "      <th></th>\n",
       "      <th></th>\n",
       "    </tr>\n",
       "  </thead>\n",
       "  <tbody>\n",
       "    <tr>\n",
       "      <th>수학</th>\n",
       "      <td>45</td>\n",
       "      <td>44</td>\n",
       "      <td>73</td>\n",
       "      <td>39</td>\n",
       "    </tr>\n",
       "    <tr>\n",
       "      <th>영어</th>\n",
       "      <td>76</td>\n",
       "      <td>92</td>\n",
       "      <td>45</td>\n",
       "      <td>69</td>\n",
       "    </tr>\n",
       "    <tr>\n",
       "      <th>국어</th>\n",
       "      <td>47</td>\n",
       "      <td>92</td>\n",
       "      <td>45</td>\n",
       "      <td>69</td>\n",
       "    </tr>\n",
       "    <tr>\n",
       "      <th>사회</th>\n",
       "      <td>92</td>\n",
       "      <td>81</td>\n",
       "      <td>85</td>\n",
       "      <td>40</td>\n",
       "    </tr>\n",
       "    <tr>\n",
       "      <th>과학</th>\n",
       "      <td>11</td>\n",
       "      <td>79</td>\n",
       "      <td>47</td>\n",
       "      <td>26</td>\n",
       "    </tr>\n",
       "  </tbody>\n",
       "</table>\n",
       "</div>"
      ],
      "text/plain": [
       "반   1반  2반  3반  4반\n",
       "과목                \n",
       "수학  45  44  73  39\n",
       "영어  76  92  45  69\n",
       "국어  47  92  45  69\n",
       "사회  92  81  85  40\n",
       "과학  11  79  47  26"
      ]
     },
     "execution_count": 175,
     "metadata": {},
     "output_type": "execute_result"
    }
   ],
   "source": [
    "# 데이터 정의\n",
    "data = {\n",
    "    '1반': [45, 76, 47, 92, 11],\n",
    "    '2반': [44, 92, 92, 81, 79],\n",
    "    '3반': [73, 45, 45, 85, 47],\n",
    "    '4반': [39, 69, 69, 40, 26]\n",
    "}\n",
    "\n",
    "# 인덱스 정의\n",
    "index = ['수학', '영어', '국어', '사회', '과학']\n",
    "\n",
    "# DataFrame 생성\n",
    "df = pd.DataFrame(data, index=index)\n",
    "\n",
    "\n",
    "df.index.name = '과목' # 인덱스 전체의 이름 설정\n",
    "df.columns.name = '반'\n",
    "\n",
    "df"
   ]
  },
  {
   "cell_type": "code",
   "execution_count": 66,
   "id": "344f95ba-72a4-45c3-bd29-da1081a60abe",
   "metadata": {},
   "outputs": [],
   "source": [
    "# 행 추가\n",
    "df.loc['제2외국어',:] = 51,64,86,21 "
   ]
  },
  {
   "cell_type": "code",
   "execution_count": 67,
   "id": "40a8152b-f1f2-4f8a-acc6-082551c884ef",
   "metadata": {},
   "outputs": [
    {
     "data": {
      "text/html": [
       "<div>\n",
       "<style scoped>\n",
       "    .dataframe tbody tr th:only-of-type {\n",
       "        vertical-align: middle;\n",
       "    }\n",
       "\n",
       "    .dataframe tbody tr th {\n",
       "        vertical-align: top;\n",
       "    }\n",
       "\n",
       "    .dataframe thead th {\n",
       "        text-align: right;\n",
       "    }\n",
       "</style>\n",
       "<table border=\"1\" class=\"dataframe\">\n",
       "  <thead>\n",
       "    <tr style=\"text-align: right;\">\n",
       "      <th></th>\n",
       "      <th>1반</th>\n",
       "      <th>2반</th>\n",
       "      <th>3반</th>\n",
       "      <th>4반</th>\n",
       "    </tr>\n",
       "    <tr>\n",
       "      <th>과목</th>\n",
       "      <th></th>\n",
       "      <th></th>\n",
       "      <th></th>\n",
       "      <th></th>\n",
       "    </tr>\n",
       "  </thead>\n",
       "  <tbody>\n",
       "    <tr>\n",
       "      <th>수학</th>\n",
       "      <td>45</td>\n",
       "      <td>44</td>\n",
       "      <td>73</td>\n",
       "      <td>39</td>\n",
       "    </tr>\n",
       "    <tr>\n",
       "      <th>영어</th>\n",
       "      <td>76</td>\n",
       "      <td>92</td>\n",
       "      <td>45</td>\n",
       "      <td>69</td>\n",
       "    </tr>\n",
       "    <tr>\n",
       "      <th>국어</th>\n",
       "      <td>47</td>\n",
       "      <td>92</td>\n",
       "      <td>45</td>\n",
       "      <td>69</td>\n",
       "    </tr>\n",
       "    <tr>\n",
       "      <th>사회</th>\n",
       "      <td>92</td>\n",
       "      <td>81</td>\n",
       "      <td>85</td>\n",
       "      <td>40</td>\n",
       "    </tr>\n",
       "    <tr>\n",
       "      <th>과학</th>\n",
       "      <td>11</td>\n",
       "      <td>79</td>\n",
       "      <td>47</td>\n",
       "      <td>26</td>\n",
       "    </tr>\n",
       "    <tr>\n",
       "      <th>제2외국어</th>\n",
       "      <td>51</td>\n",
       "      <td>64</td>\n",
       "      <td>86</td>\n",
       "      <td>21</td>\n",
       "    </tr>\n",
       "  </tbody>\n",
       "</table>\n",
       "</div>"
      ],
      "text/plain": [
       "       1반  2반  3반  4반\n",
       "과목                   \n",
       "수학     45  44  73  39\n",
       "영어     76  92  45  69\n",
       "국어     47  92  45  69\n",
       "사회     92  81  85  40\n",
       "과학     11  79  47  26\n",
       "제2외국어  51  64  86  21"
      ]
     },
     "execution_count": 67,
     "metadata": {},
     "output_type": "execute_result"
    }
   ],
   "source": [
    "df.astype(int)"
   ]
  },
  {
   "cell_type": "markdown",
   "id": "232544b2-e206-4da9-b584-6639ee3fbeb5",
   "metadata": {},
   "source": [
    "DF 열(컬럼) 인덱싱"
   ]
  },
  {
   "cell_type": "code",
   "execution_count": 68,
   "id": "ede15a33-6f08-4726-88f4-526e8fa483e0",
   "metadata": {},
   "outputs": [
    {
     "data": {
      "text/plain": [
       "과목\n",
       "수학    45\n",
       "영어    76\n",
       "국어    47\n",
       "사회    92\n",
       "과학    11\n",
       "Name: 1반, dtype: int64"
      ]
     },
     "execution_count": 68,
     "metadata": {},
     "output_type": "execute_result"
    }
   ],
   "source": [
    "score_data['1반']   # 이 경우 1차원 데이터라 '시리즈'로 출력된 것."
   ]
  },
  {
   "cell_type": "code",
   "execution_count": 69,
   "id": "9d6fdad8-49d4-4c6b-8f3d-d3c78df3fc09",
   "metadata": {},
   "outputs": [
    {
     "data": {
      "text/html": [
       "<div>\n",
       "<style scoped>\n",
       "    .dataframe tbody tr th:only-of-type {\n",
       "        vertical-align: middle;\n",
       "    }\n",
       "\n",
       "    .dataframe tbody tr th {\n",
       "        vertical-align: top;\n",
       "    }\n",
       "\n",
       "    .dataframe thead th {\n",
       "        text-align: right;\n",
       "    }\n",
       "</style>\n",
       "<table border=\"1\" class=\"dataframe\">\n",
       "  <thead>\n",
       "    <tr style=\"text-align: right;\">\n",
       "      <th></th>\n",
       "      <th>1반</th>\n",
       "    </tr>\n",
       "    <tr>\n",
       "      <th>과목</th>\n",
       "      <th></th>\n",
       "    </tr>\n",
       "  </thead>\n",
       "  <tbody>\n",
       "    <tr>\n",
       "      <th>수학</th>\n",
       "      <td>45</td>\n",
       "    </tr>\n",
       "    <tr>\n",
       "      <th>영어</th>\n",
       "      <td>76</td>\n",
       "    </tr>\n",
       "    <tr>\n",
       "      <th>국어</th>\n",
       "      <td>47</td>\n",
       "    </tr>\n",
       "    <tr>\n",
       "      <th>사회</th>\n",
       "      <td>92</td>\n",
       "    </tr>\n",
       "    <tr>\n",
       "      <th>과학</th>\n",
       "      <td>11</td>\n",
       "    </tr>\n",
       "  </tbody>\n",
       "</table>\n",
       "</div>"
      ],
      "text/plain": [
       "    1반\n",
       "과목    \n",
       "수학  45\n",
       "영어  76\n",
       "국어  47\n",
       "사회  92\n",
       "과학  11"
      ]
     },
     "execution_count": 69,
     "metadata": {},
     "output_type": "execute_result"
    }
   ],
   "source": [
    "score_data[['1반']] # 이 경우 2차원 데이터인척 해서, 'DataFrame'으로 출력된다.  "
   ]
  },
  {
   "cell_type": "code",
   "execution_count": 70,
   "id": "9ea9d5dd-2d9a-486a-916b-436562b0f8d1",
   "metadata": {},
   "outputs": [
    {
     "data": {
      "text/html": [
       "<div>\n",
       "<style scoped>\n",
       "    .dataframe tbody tr th:only-of-type {\n",
       "        vertical-align: middle;\n",
       "    }\n",
       "\n",
       "    .dataframe tbody tr th {\n",
       "        vertical-align: top;\n",
       "    }\n",
       "\n",
       "    .dataframe thead th {\n",
       "        text-align: right;\n",
       "    }\n",
       "</style>\n",
       "<table border=\"1\" class=\"dataframe\">\n",
       "  <thead>\n",
       "    <tr style=\"text-align: right;\">\n",
       "      <th></th>\n",
       "      <th>1반</th>\n",
       "      <th>3반</th>\n",
       "    </tr>\n",
       "    <tr>\n",
       "      <th>과목</th>\n",
       "      <th></th>\n",
       "      <th></th>\n",
       "    </tr>\n",
       "  </thead>\n",
       "  <tbody>\n",
       "    <tr>\n",
       "      <th>수학</th>\n",
       "      <td>45</td>\n",
       "      <td>73</td>\n",
       "    </tr>\n",
       "    <tr>\n",
       "      <th>영어</th>\n",
       "      <td>76</td>\n",
       "      <td>45</td>\n",
       "    </tr>\n",
       "    <tr>\n",
       "      <th>국어</th>\n",
       "      <td>47</td>\n",
       "      <td>45</td>\n",
       "    </tr>\n",
       "    <tr>\n",
       "      <th>사회</th>\n",
       "      <td>92</td>\n",
       "      <td>85</td>\n",
       "    </tr>\n",
       "    <tr>\n",
       "      <th>과학</th>\n",
       "      <td>11</td>\n",
       "      <td>47</td>\n",
       "    </tr>\n",
       "  </tbody>\n",
       "</table>\n",
       "</div>"
      ],
      "text/plain": [
       "    1반  3반\n",
       "과목        \n",
       "수학  45  73\n",
       "영어  76  45\n",
       "국어  47  45\n",
       "사회  92  85\n",
       "과학  11  47"
      ]
     },
     "execution_count": 70,
     "metadata": {},
     "output_type": "execute_result"
    }
   ],
   "source": [
    "# 여러반 인덱싱\n",
    "# 1반, 3반\n",
    "score_data[['1반','3반']]"
   ]
  },
  {
   "cell_type": "code",
   "execution_count": null,
   "id": "8d987c42-c662-4b49-98c9-7415c3cd7f76",
   "metadata": {},
   "outputs": [],
   "source": []
  },
  {
   "cell_type": "markdown",
   "id": "b4bbd828-e14a-44cd-8d16-1f073e610e84",
   "metadata": {},
   "source": [
    "- DF 행 인덱싱\n",
    "- DF에서 행에 접근하기 위해서는 '슬라이싱'을 사용해야함"
   ]
  },
  {
   "cell_type": "code",
   "execution_count": 71,
   "id": "034c6d5c-8cdd-49da-996a-6934f919c5b7",
   "metadata": {},
   "outputs": [
    {
     "data": {
      "text/html": [
       "<div>\n",
       "<style scoped>\n",
       "    .dataframe tbody tr th:only-of-type {\n",
       "        vertical-align: middle;\n",
       "    }\n",
       "\n",
       "    .dataframe tbody tr th {\n",
       "        vertical-align: top;\n",
       "    }\n",
       "\n",
       "    .dataframe thead th {\n",
       "        text-align: right;\n",
       "    }\n",
       "</style>\n",
       "<table border=\"1\" class=\"dataframe\">\n",
       "  <thead>\n",
       "    <tr style=\"text-align: right;\">\n",
       "      <th></th>\n",
       "      <th>1반</th>\n",
       "      <th>2반</th>\n",
       "      <th>3반</th>\n",
       "      <th>4반</th>\n",
       "    </tr>\n",
       "    <tr>\n",
       "      <th>과목</th>\n",
       "      <th></th>\n",
       "      <th></th>\n",
       "      <th></th>\n",
       "      <th></th>\n",
       "    </tr>\n",
       "  </thead>\n",
       "  <tbody>\n",
       "    <tr>\n",
       "      <th>수학</th>\n",
       "      <td>45</td>\n",
       "      <td>44</td>\n",
       "      <td>73</td>\n",
       "      <td>39</td>\n",
       "    </tr>\n",
       "    <tr>\n",
       "      <th>영어</th>\n",
       "      <td>76</td>\n",
       "      <td>92</td>\n",
       "      <td>45</td>\n",
       "      <td>69</td>\n",
       "    </tr>\n",
       "    <tr>\n",
       "      <th>국어</th>\n",
       "      <td>47</td>\n",
       "      <td>92</td>\n",
       "      <td>45</td>\n",
       "      <td>69</td>\n",
       "    </tr>\n",
       "  </tbody>\n",
       "</table>\n",
       "</div>"
      ],
      "text/plain": [
       "    1반  2반  3반  4반\n",
       "과목                \n",
       "수학  45  44  73  39\n",
       "영어  76  92  45  69\n",
       "국어  47  92  45  69"
      ]
     },
     "execution_count": 71,
     "metadata": {},
     "output_type": "execute_result"
    }
   ],
   "source": [
    "# 수학 ~ 국어\n",
    "score_data['수학':'국어'] #끝값을 포함한다."
   ]
  },
  {
   "cell_type": "code",
   "execution_count": 72,
   "id": "87129339-5b0b-47fd-88a4-b51e447217f8",
   "metadata": {},
   "outputs": [
    {
     "data": {
      "text/html": [
       "<div>\n",
       "<style scoped>\n",
       "    .dataframe tbody tr th:only-of-type {\n",
       "        vertical-align: middle;\n",
       "    }\n",
       "\n",
       "    .dataframe tbody tr th {\n",
       "        vertical-align: top;\n",
       "    }\n",
       "\n",
       "    .dataframe thead th {\n",
       "        text-align: right;\n",
       "    }\n",
       "</style>\n",
       "<table border=\"1\" class=\"dataframe\">\n",
       "  <thead>\n",
       "    <tr style=\"text-align: right;\">\n",
       "      <th></th>\n",
       "      <th>1반</th>\n",
       "      <th>2반</th>\n",
       "      <th>3반</th>\n",
       "      <th>4반</th>\n",
       "    </tr>\n",
       "    <tr>\n",
       "      <th>과목</th>\n",
       "      <th></th>\n",
       "      <th></th>\n",
       "      <th></th>\n",
       "      <th></th>\n",
       "    </tr>\n",
       "  </thead>\n",
       "  <tbody>\n",
       "    <tr>\n",
       "      <th>수학</th>\n",
       "      <td>45</td>\n",
       "      <td>44</td>\n",
       "      <td>73</td>\n",
       "      <td>39</td>\n",
       "    </tr>\n",
       "  </tbody>\n",
       "</table>\n",
       "</div>"
      ],
      "text/plain": [
       "    1반  2반  3반  4반\n",
       "과목                \n",
       "수학  45  44  73  39"
      ]
     },
     "execution_count": 72,
     "metadata": {},
     "output_type": "execute_result"
    }
   ],
   "source": [
    "score_data['수학':'수학'] # 하나 가져올때도 행은 억지로 슬라이싱 사용해야한다."
   ]
  },
  {
   "cell_type": "code",
   "execution_count": 73,
   "id": "9b3cb011-ca44-4f86-9d54-03eaced50d6d",
   "metadata": {},
   "outputs": [
    {
     "data": {
      "text/html": [
       "<div>\n",
       "<style scoped>\n",
       "    .dataframe tbody tr th:only-of-type {\n",
       "        vertical-align: middle;\n",
       "    }\n",
       "\n",
       "    .dataframe tbody tr th {\n",
       "        vertical-align: top;\n",
       "    }\n",
       "\n",
       "    .dataframe thead th {\n",
       "        text-align: right;\n",
       "    }\n",
       "</style>\n",
       "<table border=\"1\" class=\"dataframe\">\n",
       "  <thead>\n",
       "    <tr style=\"text-align: right;\">\n",
       "      <th></th>\n",
       "      <th>1반</th>\n",
       "      <th>2반</th>\n",
       "      <th>3반</th>\n",
       "      <th>4반</th>\n",
       "    </tr>\n",
       "    <tr>\n",
       "      <th>과목</th>\n",
       "      <th></th>\n",
       "      <th></th>\n",
       "      <th></th>\n",
       "      <th></th>\n",
       "    </tr>\n",
       "  </thead>\n",
       "  <tbody>\n",
       "    <tr>\n",
       "      <th>수학</th>\n",
       "      <td>45</td>\n",
       "      <td>44</td>\n",
       "      <td>73</td>\n",
       "      <td>39</td>\n",
       "    </tr>\n",
       "  </tbody>\n",
       "</table>\n",
       "</div>"
      ],
      "text/plain": [
       "    1반  2반  3반  4반\n",
       "과목                \n",
       "수학  45  44  73  39"
      ]
     },
     "execution_count": 73,
     "metadata": {},
     "output_type": "execute_result"
    }
   ],
   "source": [
    "# 행 번호로도 가능\n",
    "score_data[0:1]"
   ]
  },
  {
   "cell_type": "markdown",
   "id": "851eb8ba-d54a-44d8-ac9d-d74cb0989a05",
   "metadata": {},
   "source": [
    "#### 정리\n",
    "- DF의 기본적인 열 접근은 컬럼명(인덱싱)으로!\n",
    "- 행 접근은 슬라이싱(범위)\n",
    "- 인덱싱 -> 열\n",
    "- 슬라이싱 -> 행"
   ]
  },
  {
   "cell_type": "markdown",
   "id": "7ab983a7-bb47-4beb-88c6-459576ba3e22",
   "metadata": {},
   "source": [
    "### loc, iloc를 활용한 인덱싱, 슬라이싱\n",
    "- 한번에 행과 열에 모두 접근 가능\n",
    "- 기본적으로 행에 먼저 접근"
   ]
  },
  {
   "cell_type": "code",
   "execution_count": 74,
   "id": "62771bad-bd83-4049-93d9-4a865e38658a",
   "metadata": {},
   "outputs": [
    {
     "data": {
      "text/html": [
       "<div>\n",
       "<style scoped>\n",
       "    .dataframe tbody tr th:only-of-type {\n",
       "        vertical-align: middle;\n",
       "    }\n",
       "\n",
       "    .dataframe tbody tr th {\n",
       "        vertical-align: top;\n",
       "    }\n",
       "\n",
       "    .dataframe thead th {\n",
       "        text-align: right;\n",
       "    }\n",
       "</style>\n",
       "<table border=\"1\" class=\"dataframe\">\n",
       "  <thead>\n",
       "    <tr style=\"text-align: right;\">\n",
       "      <th></th>\n",
       "      <th>1반</th>\n",
       "      <th>2반</th>\n",
       "      <th>3반</th>\n",
       "      <th>4반</th>\n",
       "    </tr>\n",
       "    <tr>\n",
       "      <th>과목</th>\n",
       "      <th></th>\n",
       "      <th></th>\n",
       "      <th></th>\n",
       "      <th></th>\n",
       "    </tr>\n",
       "  </thead>\n",
       "  <tbody>\n",
       "    <tr>\n",
       "      <th>수학</th>\n",
       "      <td>45</td>\n",
       "      <td>44</td>\n",
       "      <td>73</td>\n",
       "      <td>39</td>\n",
       "    </tr>\n",
       "    <tr>\n",
       "      <th>영어</th>\n",
       "      <td>76</td>\n",
       "      <td>92</td>\n",
       "      <td>45</td>\n",
       "      <td>69</td>\n",
       "    </tr>\n",
       "    <tr>\n",
       "      <th>국어</th>\n",
       "      <td>47</td>\n",
       "      <td>92</td>\n",
       "      <td>45</td>\n",
       "      <td>69</td>\n",
       "    </tr>\n",
       "    <tr>\n",
       "      <th>사회</th>\n",
       "      <td>92</td>\n",
       "      <td>81</td>\n",
       "      <td>85</td>\n",
       "      <td>40</td>\n",
       "    </tr>\n",
       "    <tr>\n",
       "      <th>과학</th>\n",
       "      <td>11</td>\n",
       "      <td>79</td>\n",
       "      <td>47</td>\n",
       "      <td>26</td>\n",
       "    </tr>\n",
       "  </tbody>\n",
       "</table>\n",
       "</div>"
      ],
      "text/plain": [
       "    1반  2반  3반  4반\n",
       "과목                \n",
       "수학  45  44  73  39\n",
       "영어  76  92  45  69\n",
       "국어  47  92  45  69\n",
       "사회  92  81  85  40\n",
       "과학  11  79  47  26"
      ]
     },
     "execution_count": 74,
     "metadata": {},
     "output_type": "execute_result"
    }
   ],
   "source": [
    "score_data"
   ]
  },
  {
   "cell_type": "code",
   "execution_count": 75,
   "id": "ade9bddb-038e-42d5-9b7c-ceb6ccb5ddbd",
   "metadata": {},
   "outputs": [
    {
     "data": {
      "text/plain": [
       "1반    11\n",
       "2반    79\n",
       "3반    47\n",
       "4반    26\n",
       "Name: 과학, dtype: int64"
      ]
     },
     "execution_count": 75,
     "metadata": {},
     "output_type": "execute_result"
    }
   ],
   "source": [
    "# loc : 이름으로 접근\n",
    "# DF명.loc[행의범위(명칭),열의 범위(명칭)]\n",
    "\n",
    "# 각 반의 과학 점수\n",
    "score_data.loc['과학',:] # 이 경우 1차원 데이터라 '시리즈'로 출력돼서, 세로로 출력된것."
   ]
  },
  {
   "cell_type": "code",
   "execution_count": 76,
   "id": "9b5603df-d537-48a5-8ab0-ba5ac1a7f22a",
   "metadata": {},
   "outputs": [
    {
     "data": {
      "text/html": [
       "<div>\n",
       "<style scoped>\n",
       "    .dataframe tbody tr th:only-of-type {\n",
       "        vertical-align: middle;\n",
       "    }\n",
       "\n",
       "    .dataframe tbody tr th {\n",
       "        vertical-align: top;\n",
       "    }\n",
       "\n",
       "    .dataframe thead th {\n",
       "        text-align: right;\n",
       "    }\n",
       "</style>\n",
       "<table border=\"1\" class=\"dataframe\">\n",
       "  <thead>\n",
       "    <tr style=\"text-align: right;\">\n",
       "      <th></th>\n",
       "      <th>4반</th>\n",
       "      <th>1반</th>\n",
       "    </tr>\n",
       "    <tr>\n",
       "      <th>과목</th>\n",
       "      <th></th>\n",
       "      <th></th>\n",
       "    </tr>\n",
       "  </thead>\n",
       "  <tbody>\n",
       "    <tr>\n",
       "      <th>수학</th>\n",
       "      <td>39</td>\n",
       "      <td>45</td>\n",
       "    </tr>\n",
       "    <tr>\n",
       "      <th>영어</th>\n",
       "      <td>69</td>\n",
       "      <td>76</td>\n",
       "    </tr>\n",
       "    <tr>\n",
       "      <th>국어</th>\n",
       "      <td>69</td>\n",
       "      <td>47</td>\n",
       "    </tr>\n",
       "    <tr>\n",
       "      <th>사회</th>\n",
       "      <td>40</td>\n",
       "      <td>92</td>\n",
       "    </tr>\n",
       "    <tr>\n",
       "      <th>과학</th>\n",
       "      <td>26</td>\n",
       "      <td>11</td>\n",
       "    </tr>\n",
       "  </tbody>\n",
       "</table>\n",
       "</div>"
      ],
      "text/plain": [
       "    4반  1반\n",
       "과목        \n",
       "수학  39  45\n",
       "영어  69  76\n",
       "국어  69  47\n",
       "사회  40  92\n",
       "과학  26  11"
      ]
     },
     "execution_count": 76,
     "metadata": {},
     "output_type": "execute_result"
    }
   ],
   "source": [
    "# 4반과 1반의 점수\n",
    "score_data.loc[:,['4반','1반']]"
   ]
  },
  {
   "cell_type": "code",
   "execution_count": 80,
   "id": "01300114-f762-4225-878d-2784b5420d55",
   "metadata": {},
   "outputs": [
    {
     "data": {
      "text/html": [
       "<div>\n",
       "<style scoped>\n",
       "    .dataframe tbody tr th:only-of-type {\n",
       "        vertical-align: middle;\n",
       "    }\n",
       "\n",
       "    .dataframe tbody tr th {\n",
       "        vertical-align: top;\n",
       "    }\n",
       "\n",
       "    .dataframe thead th {\n",
       "        text-align: right;\n",
       "    }\n",
       "</style>\n",
       "<table border=\"1\" class=\"dataframe\">\n",
       "  <thead>\n",
       "    <tr style=\"text-align: right;\">\n",
       "      <th></th>\n",
       "      <th>1반</th>\n",
       "      <th>2반</th>\n",
       "      <th>3반</th>\n",
       "      <th>4반</th>\n",
       "    </tr>\n",
       "    <tr>\n",
       "      <th>과목</th>\n",
       "      <th></th>\n",
       "      <th></th>\n",
       "      <th></th>\n",
       "      <th></th>\n",
       "    </tr>\n",
       "  </thead>\n",
       "  <tbody>\n",
       "    <tr>\n",
       "      <th>수학</th>\n",
       "      <td>45</td>\n",
       "      <td>44</td>\n",
       "      <td>73</td>\n",
       "      <td>39</td>\n",
       "    </tr>\n",
       "    <tr>\n",
       "      <th>영어</th>\n",
       "      <td>76</td>\n",
       "      <td>92</td>\n",
       "      <td>45</td>\n",
       "      <td>69</td>\n",
       "    </tr>\n",
       "    <tr>\n",
       "      <th>국어</th>\n",
       "      <td>47</td>\n",
       "      <td>92</td>\n",
       "      <td>45</td>\n",
       "      <td>69</td>\n",
       "    </tr>\n",
       "    <tr>\n",
       "      <th>사회</th>\n",
       "      <td>92</td>\n",
       "      <td>81</td>\n",
       "      <td>85</td>\n",
       "      <td>40</td>\n",
       "    </tr>\n",
       "    <tr>\n",
       "      <th>과학</th>\n",
       "      <td>11</td>\n",
       "      <td>79</td>\n",
       "      <td>47</td>\n",
       "      <td>26</td>\n",
       "    </tr>\n",
       "  </tbody>\n",
       "</table>\n",
       "</div>"
      ],
      "text/plain": [
       "    1반  2반  3반  4반\n",
       "과목                \n",
       "수학  45  44  73  39\n",
       "영어  76  92  45  69\n",
       "국어  47  92  45  69\n",
       "사회  92  81  85  40\n",
       "과학  11  79  47  26"
      ]
     },
     "execution_count": 80,
     "metadata": {},
     "output_type": "execute_result"
    }
   ],
   "source": [
    "score_data"
   ]
  },
  {
   "cell_type": "code",
   "execution_count": null,
   "id": "75f283b7-1531-46f2-8148-0c8001f940cf",
   "metadata": {},
   "outputs": [],
   "source": []
  },
  {
   "cell_type": "code",
   "execution_count": 83,
   "id": "617a547e-5dd1-4a2a-8546-371f91aef481",
   "metadata": {},
   "outputs": [
    {
     "data": {
      "text/plain": [
       "1반    11\n",
       "2반    79\n",
       "3반    47\n",
       "4반    26\n",
       "Name: 과학, dtype: int64"
      ]
     },
     "execution_count": 83,
     "metadata": {},
     "output_type": "execute_result"
    }
   ],
   "source": [
    "# iloc는 인덱스 번호로 접근\n",
    "# DF명.iloc[행의범위,열의 범위]\n",
    "\n",
    "# 각 반의 과학\n",
    "# score_data.iloc[4,:] # 열의 범위가 전체일 경우 생략 가능하다\n",
    "score_data.iloc[4]  # 한 행or열을 가져오면, 시리즈 자료형(구조)로 가져온다!"
   ]
  },
  {
   "cell_type": "code",
   "execution_count": 84,
   "id": "ef3104d3-948d-47e8-a008-a0ef3966f007",
   "metadata": {},
   "outputs": [
    {
     "data": {
      "text/plain": [
       "과목\n",
       "국어    45\n",
       "사회    85\n",
       "Name: 3반, dtype: int64"
      ]
     },
     "execution_count": 84,
     "metadata": {},
     "output_type": "execute_result"
    }
   ],
   "source": [
    "# 3반의 국어, 사회 점수\n",
    "score_data.iloc[2:4,2]"
   ]
  },
  {
   "cell_type": "code",
   "execution_count": 88,
   "id": "06179d31-ee62-4cde-a895-b0b234eb53e9",
   "metadata": {},
   "outputs": [
    {
     "data": {
      "text/html": [
       "<div>\n",
       "<style scoped>\n",
       "    .dataframe tbody tr th:only-of-type {\n",
       "        vertical-align: middle;\n",
       "    }\n",
       "\n",
       "    .dataframe tbody tr th {\n",
       "        vertical-align: top;\n",
       "    }\n",
       "\n",
       "    .dataframe thead th {\n",
       "        text-align: right;\n",
       "    }\n",
       "</style>\n",
       "<table border=\"1\" class=\"dataframe\">\n",
       "  <thead>\n",
       "    <tr style=\"text-align: right;\">\n",
       "      <th></th>\n",
       "      <th>1반</th>\n",
       "      <th>2반</th>\n",
       "    </tr>\n",
       "    <tr>\n",
       "      <th>과목</th>\n",
       "      <th></th>\n",
       "      <th></th>\n",
       "    </tr>\n",
       "  </thead>\n",
       "  <tbody>\n",
       "    <tr>\n",
       "      <th>수학</th>\n",
       "      <td>45</td>\n",
       "      <td>44</td>\n",
       "    </tr>\n",
       "    <tr>\n",
       "      <th>사회</th>\n",
       "      <td>92</td>\n",
       "      <td>81</td>\n",
       "    </tr>\n",
       "  </tbody>\n",
       "</table>\n",
       "</div>"
      ],
      "text/plain": [
       "    1반  2반\n",
       "과목        \n",
       "수학  45  44\n",
       "사회  92  81"
      ]
     },
     "execution_count": 88,
     "metadata": {},
     "output_type": "execute_result"
    }
   ],
   "source": [
    "# 1,2반의 수학,, 사회 점수\n",
    "score_data.iloc[[0,3],0:2]\n",
    "score_data.iloc[[0,3],[0,1]] # 넘파이의 nd배열은 리스트 인덱싱이 안된다고 한다. 판다스의 DataFrame은 리스트 인덱싱이 된다!"
   ]
  },
  {
   "cell_type": "markdown",
   "id": "9a0e2db3-75de-44b7-94e4-00b7bb24158b",
   "metadata": {},
   "source": [
    "- 2반의 사회점수 데이터 접근 (loc, iloc 두가지 다 해보세요)"
   ]
  },
  {
   "cell_type": "code",
   "execution_count": 89,
   "id": "1b489e3e-a476-4b92-b843-0a79f76520ed",
   "metadata": {},
   "outputs": [
    {
     "data": {
      "text/plain": [
       "81"
      ]
     },
     "execution_count": 89,
     "metadata": {},
     "output_type": "execute_result"
    }
   ],
   "source": [
    "score_data.loc['사회','2반']"
   ]
  },
  {
   "cell_type": "code",
   "execution_count": 90,
   "id": "a520ed3e-6506-41c2-89ad-f3c34f294c5c",
   "metadata": {},
   "outputs": [
    {
     "data": {
      "text/plain": [
       "81"
      ]
     },
     "execution_count": 90,
     "metadata": {},
     "output_type": "execute_result"
    }
   ],
   "source": [
    "score_data.iloc[-2,1]"
   ]
  },
  {
   "cell_type": "markdown",
   "id": "06c42c9c-8931-41f6-9e60-96b04db3362b",
   "metadata": {},
   "source": [
    "- 2반, 4반의 국어와 사회점수(loc,iloc 두가지 다 해보세요)"
   ]
  },
  {
   "cell_type": "code",
   "execution_count": 92,
   "id": "ef66b407-89d0-45f8-acb7-66c41ceac0ed",
   "metadata": {},
   "outputs": [
    {
     "data": {
      "text/html": [
       "<div>\n",
       "<style scoped>\n",
       "    .dataframe tbody tr th:only-of-type {\n",
       "        vertical-align: middle;\n",
       "    }\n",
       "\n",
       "    .dataframe tbody tr th {\n",
       "        vertical-align: top;\n",
       "    }\n",
       "\n",
       "    .dataframe thead th {\n",
       "        text-align: right;\n",
       "    }\n",
       "</style>\n",
       "<table border=\"1\" class=\"dataframe\">\n",
       "  <thead>\n",
       "    <tr style=\"text-align: right;\">\n",
       "      <th></th>\n",
       "      <th>2반</th>\n",
       "      <th>4반</th>\n",
       "    </tr>\n",
       "    <tr>\n",
       "      <th>과목</th>\n",
       "      <th></th>\n",
       "      <th></th>\n",
       "    </tr>\n",
       "  </thead>\n",
       "  <tbody>\n",
       "    <tr>\n",
       "      <th>국어</th>\n",
       "      <td>92</td>\n",
       "      <td>69</td>\n",
       "    </tr>\n",
       "    <tr>\n",
       "      <th>사회</th>\n",
       "      <td>81</td>\n",
       "      <td>40</td>\n",
       "    </tr>\n",
       "  </tbody>\n",
       "</table>\n",
       "</div>"
      ],
      "text/plain": [
       "    2반  4반\n",
       "과목        \n",
       "국어  92  69\n",
       "사회  81  40"
      ]
     },
     "execution_count": 92,
     "metadata": {},
     "output_type": "execute_result"
    }
   ],
   "source": [
    "score_data.loc[['국어','사회'],['2반','4반']]"
   ]
  },
  {
   "cell_type": "code",
   "execution_count": 95,
   "id": "c8b4689e-5870-4e43-92b2-fb9dbc6bc4b7",
   "metadata": {},
   "outputs": [
    {
     "data": {
      "text/html": [
       "<div>\n",
       "<style scoped>\n",
       "    .dataframe tbody tr th:only-of-type {\n",
       "        vertical-align: middle;\n",
       "    }\n",
       "\n",
       "    .dataframe tbody tr th {\n",
       "        vertical-align: top;\n",
       "    }\n",
       "\n",
       "    .dataframe thead th {\n",
       "        text-align: right;\n",
       "    }\n",
       "</style>\n",
       "<table border=\"1\" class=\"dataframe\">\n",
       "  <thead>\n",
       "    <tr style=\"text-align: right;\">\n",
       "      <th></th>\n",
       "      <th>2반</th>\n",
       "      <th>4반</th>\n",
       "    </tr>\n",
       "    <tr>\n",
       "      <th>과목</th>\n",
       "      <th></th>\n",
       "      <th></th>\n",
       "    </tr>\n",
       "  </thead>\n",
       "  <tbody>\n",
       "    <tr>\n",
       "      <th>국어</th>\n",
       "      <td>92</td>\n",
       "      <td>69</td>\n",
       "    </tr>\n",
       "    <tr>\n",
       "      <th>사회</th>\n",
       "      <td>81</td>\n",
       "      <td>40</td>\n",
       "    </tr>\n",
       "  </tbody>\n",
       "</table>\n",
       "</div>"
      ],
      "text/plain": [
       "    2반  4반\n",
       "과목        \n",
       "국어  92  69\n",
       "사회  81  40"
      ]
     },
     "execution_count": 95,
     "metadata": {},
     "output_type": "execute_result"
    }
   ],
   "source": [
    "score_data.iloc[[2,3],[1,-1]]"
   ]
  },
  {
   "cell_type": "code",
   "execution_count": 97,
   "id": "16229e57-cc78-4c2b-82ea-d3e65f0998e3",
   "metadata": {},
   "outputs": [
    {
     "data": {
      "text/html": [
       "<div>\n",
       "<style scoped>\n",
       "    .dataframe tbody tr th:only-of-type {\n",
       "        vertical-align: middle;\n",
       "    }\n",
       "\n",
       "    .dataframe tbody tr th {\n",
       "        vertical-align: top;\n",
       "    }\n",
       "\n",
       "    .dataframe thead th {\n",
       "        text-align: right;\n",
       "    }\n",
       "</style>\n",
       "<table border=\"1\" class=\"dataframe\">\n",
       "  <thead>\n",
       "    <tr style=\"text-align: right;\">\n",
       "      <th>과목</th>\n",
       "      <th>수학</th>\n",
       "      <th>영어</th>\n",
       "      <th>국어</th>\n",
       "      <th>사회</th>\n",
       "      <th>과학</th>\n",
       "    </tr>\n",
       "  </thead>\n",
       "  <tbody>\n",
       "    <tr>\n",
       "      <th>1반</th>\n",
       "      <td>45</td>\n",
       "      <td>76</td>\n",
       "      <td>47</td>\n",
       "      <td>92</td>\n",
       "      <td>11</td>\n",
       "    </tr>\n",
       "    <tr>\n",
       "      <th>2반</th>\n",
       "      <td>44</td>\n",
       "      <td>92</td>\n",
       "      <td>92</td>\n",
       "      <td>81</td>\n",
       "      <td>79</td>\n",
       "    </tr>\n",
       "    <tr>\n",
       "      <th>3반</th>\n",
       "      <td>73</td>\n",
       "      <td>45</td>\n",
       "      <td>45</td>\n",
       "      <td>85</td>\n",
       "      <td>47</td>\n",
       "    </tr>\n",
       "    <tr>\n",
       "      <th>4반</th>\n",
       "      <td>39</td>\n",
       "      <td>69</td>\n",
       "      <td>69</td>\n",
       "      <td>40</td>\n",
       "      <td>26</td>\n",
       "    </tr>\n",
       "  </tbody>\n",
       "</table>\n",
       "</div>"
      ],
      "text/plain": [
       "과목  수학  영어  국어  사회  과학\n",
       "1반  45  76  47  92  11\n",
       "2반  44  92  92  81  79\n",
       "3반  73  45  45  85  47\n",
       "4반  39  69  69  40  26"
      ]
     },
     "execution_count": 97,
     "metadata": {},
     "output_type": "execute_result"
    }
   ],
   "source": [
    "score = score_data.T\n",
    "\n",
    "score"
   ]
  },
  {
   "cell_type": "markdown",
   "id": "ac459f6b-fdf8-4439-8e5b-8d2a8b86d208",
   "metadata": {},
   "source": [
    "### 예제\n",
    "- 영어점수가 75점 이상인, 영어점수들을 가져와보자"
   ]
  },
  {
   "cell_type": "code",
   "execution_count": 111,
   "id": "711f8d10-8711-4bab-b139-2d6b9cf954ef",
   "metadata": {},
   "outputs": [
    {
     "data": {
      "text/plain": [
       "1반    76\n",
       "2반    92\n",
       "Name: 영어, dtype: int64"
      ]
     },
     "execution_count": 111,
     "metadata": {},
     "output_type": "execute_result"
    }
   ],
   "source": [
    "eng= score[score.loc[:,'영어']>=75]\n",
    "\n",
    "eng.loc[:, '영어']"
   ]
  },
  {
   "cell_type": "markdown",
   "id": "232d4fe1-795b-4201-928d-14ccd0499461",
   "metadata": {},
   "source": [
    "### 불리언 인덱싱!!!"
   ]
  },
  {
   "cell_type": "code",
   "execution_count": 110,
   "id": "4cb38581-ef4b-4f5e-ac50-07ce116e0abf",
   "metadata": {},
   "outputs": [
    {
     "data": {
      "text/plain": [
       "1반    76\n",
       "2반    92\n",
       "Name: 영어, dtype: int64"
      ]
     },
     "execution_count": 110,
     "metadata": {},
     "output_type": "execute_result"
    }
   ],
   "source": [
    "score.loc[:,'영어']>=75\n",
    "\n",
    "score.loc[score.loc[:,'영어']>=75, '영어']"
   ]
  },
  {
   "cell_type": "markdown",
   "id": "ec19cc28-c893-40c4-b6c3-d324c482739b",
   "metadata": {},
   "source": [
    "### 행은 슬라이싱, 열은 인덱싱"
   ]
  },
  {
   "cell_type": "code",
   "execution_count": 124,
   "id": "5df0848f-5a33-4b45-9048-76e5aa7de6aa",
   "metadata": {},
   "outputs": [
    {
     "data": {
      "text/plain": [
       "1반    76\n",
       "2반    92\n",
       "Name: 영어, dtype: int64"
      ]
     },
     "execution_count": 124,
     "metadata": {},
     "output_type": "execute_result"
    }
   ],
   "source": [
    "score['영어']>=75\n",
    "\n",
    "score[score['영어']>=75]['영어']"
   ]
  },
  {
   "cell_type": "markdown",
   "id": "efa161c3-e33b-4633-b8a3-66c1fe34d96e",
   "metadata": {},
   "source": [
    "### sum(), mean() 함수"
   ]
  },
  {
   "cell_type": "code",
   "execution_count": 125,
   "id": "133a7876-783a-44d0-b515-e71f67faf82b",
   "metadata": {},
   "outputs": [
    {
     "data": {
      "text/html": [
       "<div>\n",
       "<style scoped>\n",
       "    .dataframe tbody tr th:only-of-type {\n",
       "        vertical-align: middle;\n",
       "    }\n",
       "\n",
       "    .dataframe tbody tr th {\n",
       "        vertical-align: top;\n",
       "    }\n",
       "\n",
       "    .dataframe thead th {\n",
       "        text-align: right;\n",
       "    }\n",
       "</style>\n",
       "<table border=\"1\" class=\"dataframe\">\n",
       "  <thead>\n",
       "    <tr style=\"text-align: right;\">\n",
       "      <th></th>\n",
       "      <th>1반</th>\n",
       "      <th>2반</th>\n",
       "      <th>3반</th>\n",
       "      <th>4반</th>\n",
       "    </tr>\n",
       "    <tr>\n",
       "      <th>과목</th>\n",
       "      <th></th>\n",
       "      <th></th>\n",
       "      <th></th>\n",
       "      <th></th>\n",
       "    </tr>\n",
       "  </thead>\n",
       "  <tbody>\n",
       "    <tr>\n",
       "      <th>수학</th>\n",
       "      <td>45</td>\n",
       "      <td>44</td>\n",
       "      <td>73</td>\n",
       "      <td>39</td>\n",
       "    </tr>\n",
       "    <tr>\n",
       "      <th>영어</th>\n",
       "      <td>76</td>\n",
       "      <td>92</td>\n",
       "      <td>45</td>\n",
       "      <td>69</td>\n",
       "    </tr>\n",
       "    <tr>\n",
       "      <th>국어</th>\n",
       "      <td>47</td>\n",
       "      <td>92</td>\n",
       "      <td>45</td>\n",
       "      <td>69</td>\n",
       "    </tr>\n",
       "    <tr>\n",
       "      <th>사회</th>\n",
       "      <td>92</td>\n",
       "      <td>81</td>\n",
       "      <td>85</td>\n",
       "      <td>40</td>\n",
       "    </tr>\n",
       "    <tr>\n",
       "      <th>과학</th>\n",
       "      <td>11</td>\n",
       "      <td>79</td>\n",
       "      <td>47</td>\n",
       "      <td>26</td>\n",
       "    </tr>\n",
       "  </tbody>\n",
       "</table>\n",
       "</div>"
      ],
      "text/plain": [
       "    1반  2반  3반  4반\n",
       "과목                \n",
       "수학  45  44  73  39\n",
       "영어  76  92  45  69\n",
       "국어  47  92  45  69\n",
       "사회  92  81  85  40\n",
       "과학  11  79  47  26"
      ]
     },
     "execution_count": 125,
     "metadata": {},
     "output_type": "execute_result"
    }
   ],
   "source": [
    "score_data"
   ]
  },
  {
   "cell_type": "code",
   "execution_count": 127,
   "id": "d1b68923-9898-4b72-8f89-96b5e5e3b5d4",
   "metadata": {},
   "outputs": [
    {
     "data": {
      "text/plain": [
       "1반    271\n",
       "2반    388\n",
       "3반    295\n",
       "4반    243\n",
       "dtype: int64"
      ]
     },
     "execution_count": 127,
     "metadata": {},
     "output_type": "execute_result"
    }
   ],
   "source": [
    "# 합계를 구해주는 함수\n",
    "# sum()\n",
    "# DF.sum(axis = 0 or 1)\n",
    "# 행방향 합계 : axis = 0 \n",
    "# 열방향 합계 : axis = 1\n",
    "# axis는 생략시 0 디폴트\n",
    "score_data.sum()\n",
    "# 행방향 합계"
   ]
  },
  {
   "cell_type": "code",
   "execution_count": 128,
   "id": "912c067b-59f1-49c2-962a-ceb8fe3337ab",
   "metadata": {},
   "outputs": [
    {
     "data": {
      "text/plain": [
       "과목\n",
       "수학    201\n",
       "영어    282\n",
       "국어    253\n",
       "사회    298\n",
       "과학    163\n",
       "dtype: int64"
      ]
     },
     "execution_count": 128,
     "metadata": {},
     "output_type": "execute_result"
    }
   ],
   "source": [
    "score_data.sum(axis=1)\n",
    "# 열방향 합계"
   ]
  },
  {
   "cell_type": "code",
   "execution_count": 135,
   "id": "999eedf9-5c5f-4034-b017-15e129a9f1ef",
   "metadata": {},
   "outputs": [
    {
     "data": {
      "text/html": [
       "<div>\n",
       "<style scoped>\n",
       "    .dataframe tbody tr th:only-of-type {\n",
       "        vertical-align: middle;\n",
       "    }\n",
       "\n",
       "    .dataframe tbody tr th {\n",
       "        vertical-align: top;\n",
       "    }\n",
       "\n",
       "    .dataframe thead th {\n",
       "        text-align: right;\n",
       "    }\n",
       "</style>\n",
       "<table border=\"1\" class=\"dataframe\">\n",
       "  <thead>\n",
       "    <tr style=\"text-align: right;\">\n",
       "      <th></th>\n",
       "      <th>1반</th>\n",
       "      <th>2반</th>\n",
       "      <th>3반</th>\n",
       "      <th>4반</th>\n",
       "      <th>총합</th>\n",
       "    </tr>\n",
       "    <tr>\n",
       "      <th>과목</th>\n",
       "      <th></th>\n",
       "      <th></th>\n",
       "      <th></th>\n",
       "      <th></th>\n",
       "      <th></th>\n",
       "    </tr>\n",
       "  </thead>\n",
       "  <tbody>\n",
       "    <tr>\n",
       "      <th>수학</th>\n",
       "      <td>45</td>\n",
       "      <td>44</td>\n",
       "      <td>73</td>\n",
       "      <td>39</td>\n",
       "      <td>201</td>\n",
       "    </tr>\n",
       "    <tr>\n",
       "      <th>영어</th>\n",
       "      <td>76</td>\n",
       "      <td>92</td>\n",
       "      <td>45</td>\n",
       "      <td>69</td>\n",
       "      <td>282</td>\n",
       "    </tr>\n",
       "    <tr>\n",
       "      <th>국어</th>\n",
       "      <td>47</td>\n",
       "      <td>92</td>\n",
       "      <td>45</td>\n",
       "      <td>69</td>\n",
       "      <td>253</td>\n",
       "    </tr>\n",
       "    <tr>\n",
       "      <th>사회</th>\n",
       "      <td>92</td>\n",
       "      <td>81</td>\n",
       "      <td>85</td>\n",
       "      <td>40</td>\n",
       "      <td>298</td>\n",
       "    </tr>\n",
       "    <tr>\n",
       "      <th>과학</th>\n",
       "      <td>11</td>\n",
       "      <td>79</td>\n",
       "      <td>47</td>\n",
       "      <td>26</td>\n",
       "      <td>163</td>\n",
       "    </tr>\n",
       "  </tbody>\n",
       "</table>\n",
       "</div>"
      ],
      "text/plain": [
       "    1반  2반  3반  4반   총합\n",
       "과목                     \n",
       "수학  45  44  73  39  201\n",
       "영어  76  92  45  69  282\n",
       "국어  47  92  45  69  253\n",
       "사회  92  81  85  40  298\n",
       "과학  11  79  47  26  163"
      ]
     },
     "execution_count": 135,
     "metadata": {},
     "output_type": "execute_result"
    }
   ],
   "source": [
    "# 각 과목의 총합을 구해서 새로운 열에 넣기\n",
    "score_data['총합'] = score_data[['1반','2반','3반','4반']].sum(axis=1)\n",
    "\n",
    "score_data"
   ]
  },
  {
   "cell_type": "code",
   "execution_count": 137,
   "id": "b0bba573-72de-4379-b672-3c18bc017811",
   "metadata": {},
   "outputs": [
    {
     "data": {
      "text/html": [
       "<div>\n",
       "<style scoped>\n",
       "    .dataframe tbody tr th:only-of-type {\n",
       "        vertical-align: middle;\n",
       "    }\n",
       "\n",
       "    .dataframe tbody tr th {\n",
       "        vertical-align: top;\n",
       "    }\n",
       "\n",
       "    .dataframe thead th {\n",
       "        text-align: right;\n",
       "    }\n",
       "</style>\n",
       "<table border=\"1\" class=\"dataframe\">\n",
       "  <thead>\n",
       "    <tr style=\"text-align: right;\">\n",
       "      <th></th>\n",
       "      <th>1반</th>\n",
       "      <th>2반</th>\n",
       "      <th>3반</th>\n",
       "      <th>4반</th>\n",
       "      <th>총합</th>\n",
       "    </tr>\n",
       "    <tr>\n",
       "      <th>과목</th>\n",
       "      <th></th>\n",
       "      <th></th>\n",
       "      <th></th>\n",
       "      <th></th>\n",
       "      <th></th>\n",
       "    </tr>\n",
       "  </thead>\n",
       "  <tbody>\n",
       "    <tr>\n",
       "      <th>수학</th>\n",
       "      <td>45</td>\n",
       "      <td>44</td>\n",
       "      <td>73</td>\n",
       "      <td>39</td>\n",
       "      <td>201</td>\n",
       "    </tr>\n",
       "    <tr>\n",
       "      <th>영어</th>\n",
       "      <td>76</td>\n",
       "      <td>92</td>\n",
       "      <td>45</td>\n",
       "      <td>69</td>\n",
       "      <td>282</td>\n",
       "    </tr>\n",
       "    <tr>\n",
       "      <th>국어</th>\n",
       "      <td>47</td>\n",
       "      <td>92</td>\n",
       "      <td>45</td>\n",
       "      <td>69</td>\n",
       "      <td>253</td>\n",
       "    </tr>\n",
       "    <tr>\n",
       "      <th>사회</th>\n",
       "      <td>92</td>\n",
       "      <td>81</td>\n",
       "      <td>85</td>\n",
       "      <td>40</td>\n",
       "      <td>298</td>\n",
       "    </tr>\n",
       "    <tr>\n",
       "      <th>과학</th>\n",
       "      <td>11</td>\n",
       "      <td>79</td>\n",
       "      <td>47</td>\n",
       "      <td>26</td>\n",
       "      <td>163</td>\n",
       "    </tr>\n",
       "  </tbody>\n",
       "</table>\n",
       "</div>"
      ],
      "text/plain": [
       "    1반  2반  3반  4반   총합\n",
       "과목                     \n",
       "수학  45  44  73  39  201\n",
       "영어  76  92  45  69  282\n",
       "국어  47  92  45  69  253\n",
       "사회  92  81  85  40  298\n",
       "과학  11  79  47  26  163"
      ]
     },
     "execution_count": 137,
     "metadata": {},
     "output_type": "execute_result"
    }
   ],
   "source": [
    "score_data['총합'] = score_data.loc[:,'1반':'4반'].sum(axis=1)\n",
    "\n",
    "score_data"
   ]
  },
  {
   "cell_type": "code",
   "execution_count": 138,
   "id": "8e7f11fe-b7ae-4b20-b9b7-4b6a22cdfa2b",
   "metadata": {},
   "outputs": [
    {
     "data": {
      "text/html": [
       "<div>\n",
       "<style scoped>\n",
       "    .dataframe tbody tr th:only-of-type {\n",
       "        vertical-align: middle;\n",
       "    }\n",
       "\n",
       "    .dataframe tbody tr th {\n",
       "        vertical-align: top;\n",
       "    }\n",
       "\n",
       "    .dataframe thead th {\n",
       "        text-align: right;\n",
       "    }\n",
       "</style>\n",
       "<table border=\"1\" class=\"dataframe\">\n",
       "  <thead>\n",
       "    <tr style=\"text-align: right;\">\n",
       "      <th></th>\n",
       "      <th>1반</th>\n",
       "      <th>2반</th>\n",
       "      <th>3반</th>\n",
       "      <th>4반</th>\n",
       "      <th>총합</th>\n",
       "    </tr>\n",
       "    <tr>\n",
       "      <th>과목</th>\n",
       "      <th></th>\n",
       "      <th></th>\n",
       "      <th></th>\n",
       "      <th></th>\n",
       "      <th></th>\n",
       "    </tr>\n",
       "  </thead>\n",
       "  <tbody>\n",
       "    <tr>\n",
       "      <th>수학</th>\n",
       "      <td>45</td>\n",
       "      <td>44</td>\n",
       "      <td>73</td>\n",
       "      <td>39</td>\n",
       "      <td>201</td>\n",
       "    </tr>\n",
       "    <tr>\n",
       "      <th>영어</th>\n",
       "      <td>76</td>\n",
       "      <td>92</td>\n",
       "      <td>45</td>\n",
       "      <td>69</td>\n",
       "      <td>282</td>\n",
       "    </tr>\n",
       "    <tr>\n",
       "      <th>국어</th>\n",
       "      <td>47</td>\n",
       "      <td>92</td>\n",
       "      <td>45</td>\n",
       "      <td>69</td>\n",
       "      <td>253</td>\n",
       "    </tr>\n",
       "    <tr>\n",
       "      <th>사회</th>\n",
       "      <td>92</td>\n",
       "      <td>81</td>\n",
       "      <td>85</td>\n",
       "      <td>40</td>\n",
       "      <td>298</td>\n",
       "    </tr>\n",
       "    <tr>\n",
       "      <th>과학</th>\n",
       "      <td>11</td>\n",
       "      <td>79</td>\n",
       "      <td>47</td>\n",
       "      <td>26</td>\n",
       "      <td>163</td>\n",
       "    </tr>\n",
       "  </tbody>\n",
       "</table>\n",
       "</div>"
      ],
      "text/plain": [
       "    1반  2반  3반  4반   총합\n",
       "과목                     \n",
       "수학  45  44  73  39  201\n",
       "영어  76  92  45  69  282\n",
       "국어  47  92  45  69  253\n",
       "사회  92  81  85  40  298\n",
       "과학  11  79  47  26  163"
      ]
     },
     "execution_count": 138,
     "metadata": {},
     "output_type": "execute_result"
    }
   ],
   "source": [
    "score_data['총합'] = score_data.loc[:,:'4반'].sum(axis=1)\n",
    "\n",
    "score_data"
   ]
  },
  {
   "cell_type": "code",
   "execution_count": null,
   "id": "c7f28e07-cba9-4f80-b978-64435b4412ac",
   "metadata": {},
   "outputs": [],
   "source": []
  },
  {
   "cell_type": "markdown",
   "id": "57f99cda-d122-4a24-b44c-165a8f9409f3",
   "metadata": {},
   "source": [
    "value_counts()\n",
    "- 특정 컬럼에 있는 데이터들의 유니크값(유일한 값)과 그 개수를 출력"
   ]
  },
  {
   "cell_type": "code",
   "execution_count": 139,
   "id": "f9422487-d678-42ec-86be-ae7887cfd054",
   "metadata": {},
   "outputs": [
    {
     "data": {
      "text/html": [
       "<div>\n",
       "<style scoped>\n",
       "    .dataframe tbody tr th:only-of-type {\n",
       "        vertical-align: middle;\n",
       "    }\n",
       "\n",
       "    .dataframe tbody tr th {\n",
       "        vertical-align: top;\n",
       "    }\n",
       "\n",
       "    .dataframe thead th {\n",
       "        text-align: right;\n",
       "    }\n",
       "</style>\n",
       "<table border=\"1\" class=\"dataframe\">\n",
       "  <thead>\n",
       "    <tr style=\"text-align: right;\">\n",
       "      <th></th>\n",
       "      <th>5교시</th>\n",
       "      <th>6교시</th>\n",
       "      <th>7교시</th>\n",
       "      <th>8교시</th>\n",
       "    </tr>\n",
       "  </thead>\n",
       "  <tbody>\n",
       "    <tr>\n",
       "      <th>학생1</th>\n",
       "      <td>집중</td>\n",
       "      <td>집중</td>\n",
       "      <td>집중</td>\n",
       "      <td>집중</td>\n",
       "    </tr>\n",
       "    <tr>\n",
       "      <th>학생2</th>\n",
       "      <td>집중</td>\n",
       "      <td>집중</td>\n",
       "      <td>졸림</td>\n",
       "      <td>졸림</td>\n",
       "    </tr>\n",
       "    <tr>\n",
       "      <th>학생3</th>\n",
       "      <td>집중</td>\n",
       "      <td>졸림</td>\n",
       "      <td>숙면</td>\n",
       "      <td>숙면</td>\n",
       "    </tr>\n",
       "  </tbody>\n",
       "</table>\n",
       "</div>"
      ],
      "text/plain": [
       "    5교시 6교시 7교시 8교시\n",
       "학생1  집중  집중  집중  집중\n",
       "학생2  집중  집중  졸림  졸림\n",
       "학생3  집중  졸림  숙면  숙면"
      ]
     },
     "execution_count": 139,
     "metadata": {},
     "output_type": "execute_result"
    }
   ],
   "source": [
    "df_sleep = pd.DataFrame([['집중', '집중', '집중', '집중'],\n",
    "                         ['집중', '집중', '졸림', '졸림'],\n",
    "                         ['집중', '졸림', '숙면', '숙면']],\n",
    "                        index = ['학생1','학생2', '학생3'],\n",
    "                        columns = ['5교시', '6교시', '7교시', '8교시'])\n",
    "\n",
    "df_sleep"
   ]
  },
  {
   "cell_type": "code",
   "execution_count": 140,
   "id": "474ea043-533a-4f85-a3fe-49637e882b98",
   "metadata": {},
   "outputs": [
    {
     "data": {
      "text/plain": [
       "5교시\n",
       "집중    3\n",
       "Name: count, dtype: int64"
      ]
     },
     "execution_count": 140,
     "metadata": {},
     "output_type": "execute_result"
    }
   ],
   "source": [
    "# 5교시 학생들 상태\n",
    "df_sleep['5교시'].value_counts()"
   ]
  },
  {
   "cell_type": "code",
   "execution_count": 142,
   "id": "7cb7778f-2196-4c07-aa24-ba6b91f42ac1",
   "metadata": {},
   "outputs": [
    {
     "data": {
      "text/plain": [
       "6교시\n",
       "집중    2\n",
       "졸림    1\n",
       "Name: count, dtype: int64"
      ]
     },
     "execution_count": 142,
     "metadata": {},
     "output_type": "execute_result"
    }
   ],
   "source": [
    "# 6교시 학생들 상태\n",
    "df_sleep['6교시'].value_counts()"
   ]
  },
  {
   "cell_type": "code",
   "execution_count": 143,
   "id": "78f807c0-6bd9-4b7e-a44f-b1c8d89c52c6",
   "metadata": {},
   "outputs": [
    {
     "data": {
      "text/plain": [
       "6교시\n",
       "집중    2\n",
       "졸림    1\n",
       "Name: count, dtype: int64"
      ]
     },
     "execution_count": 143,
     "metadata": {},
     "output_type": "execute_result"
    }
   ],
   "source": [
    "df_sleep.loc[:,'6교시'].value_counts()"
   ]
  },
  {
   "cell_type": "code",
   "execution_count": 144,
   "id": "c4db0772-8a87-4312-be1e-7507dbf2cf6c",
   "metadata": {},
   "outputs": [
    {
     "data": {
      "text/plain": [
       "학생3\n",
       "숙면    2\n",
       "집중    1\n",
       "졸림    1\n",
       "Name: count, dtype: int64"
      ]
     },
     "execution_count": 144,
     "metadata": {},
     "output_type": "execute_result"
    }
   ],
   "source": [
    "# 학생별로 상태 확인\n",
    "df_sleep.loc['학생3',:].value_counts()"
   ]
  },
  {
   "cell_type": "code",
   "execution_count": 145,
   "id": "0b868074-7ea6-4938-b664-ef6e3d2e8a3e",
   "metadata": {},
   "outputs": [
    {
     "data": {
      "text/plain": [
       "6교시\n",
       "집중    2\n",
       "Name: count, dtype: int64"
      ]
     },
     "execution_count": 145,
     "metadata": {},
     "output_type": "execute_result"
    }
   ],
   "source": [
    "df_sleep.loc['학생1':'학생2','6교시'].value_counts()"
   ]
  },
  {
   "cell_type": "code",
   "execution_count": null,
   "id": "e8e2d87e-51d1-4b6b-8d45-29e4532169ba",
   "metadata": {},
   "outputs": [],
   "source": []
  },
  {
   "cell_type": "markdown",
   "id": "7b80b118-6112-4103-8017-24adb7417d10",
   "metadata": {},
   "source": [
    "### 2015~2017년 광주 광역시 범죄현황 데이터를 이용해, 전년 대비 지역별 범죄 증감률 구하기\n",
    "- 증감률 = (금년 - 작년) / 작년 * 100"
   ]
  },
  {
   "cell_type": "markdown",
   "id": "3fce1841-859e-4ff2-aa0c-08a2348f2d86",
   "metadata": {},
   "source": [
    "#### 1. 데이터 로드\n",
    "- 인덱스컬럼은 '관서명'\n",
    "- 인코딩은 'euc-kr'"
   ]
  },
  {
   "cell_type": "code",
   "execution_count": 146,
   "id": "d33a5c65-94da-4f14-af64-75bed8b56bb7",
   "metadata": {},
   "outputs": [],
   "source": [
    "df2015 = pd.read_csv('data/2015.csv', encoding='euc-kr', index_col='관서명')\n",
    "df2016 = pd.read_csv('data/2016.csv', encoding='euc-kr', index_col='관서명')\n",
    "df2017 = pd.read_csv('data/2017.csv', encoding='euc-kr', index_col='관서명')"
   ]
  },
  {
   "cell_type": "code",
   "execution_count": 147,
   "id": "c883525f-7514-45a7-8b9d-d2d874d74fb1",
   "metadata": {},
   "outputs": [
    {
     "data": {
      "text/html": [
       "<div>\n",
       "<style scoped>\n",
       "    .dataframe tbody tr th:only-of-type {\n",
       "        vertical-align: middle;\n",
       "    }\n",
       "\n",
       "    .dataframe tbody tr th {\n",
       "        vertical-align: top;\n",
       "    }\n",
       "\n",
       "    .dataframe thead th {\n",
       "        text-align: right;\n",
       "    }\n",
       "</style>\n",
       "<table border=\"1\" class=\"dataframe\">\n",
       "  <thead>\n",
       "    <tr style=\"text-align: right;\">\n",
       "      <th></th>\n",
       "      <th>구분</th>\n",
       "      <th>살인</th>\n",
       "      <th>강도</th>\n",
       "      <th>강간·강제추행</th>\n",
       "      <th>절도</th>\n",
       "      <th>폭력</th>\n",
       "    </tr>\n",
       "    <tr>\n",
       "      <th>관서명</th>\n",
       "      <th></th>\n",
       "      <th></th>\n",
       "      <th></th>\n",
       "      <th></th>\n",
       "      <th></th>\n",
       "      <th></th>\n",
       "    </tr>\n",
       "  </thead>\n",
       "  <tbody>\n",
       "    <tr>\n",
       "      <th>광주지방경찰청계</th>\n",
       "      <td>발생건수</td>\n",
       "      <td>18</td>\n",
       "      <td>44</td>\n",
       "      <td>750</td>\n",
       "      <td>8425</td>\n",
       "      <td>9593</td>\n",
       "    </tr>\n",
       "    <tr>\n",
       "      <th>광주지방경찰청계</th>\n",
       "      <td>검거건수</td>\n",
       "      <td>18</td>\n",
       "      <td>47</td>\n",
       "      <td>758</td>\n",
       "      <td>5409</td>\n",
       "      <td>8301</td>\n",
       "    </tr>\n",
       "    <tr>\n",
       "      <th>광주지방경찰청계</th>\n",
       "      <td>검거인원</td>\n",
       "      <td>17</td>\n",
       "      <td>66</td>\n",
       "      <td>776</td>\n",
       "      <td>3433</td>\n",
       "      <td>11774</td>\n",
       "    </tr>\n",
       "    <tr>\n",
       "      <th>광주지방경찰청계</th>\n",
       "      <td>구속</td>\n",
       "      <td>9</td>\n",
       "      <td>33</td>\n",
       "      <td>42</td>\n",
       "      <td>104</td>\n",
       "      <td>58</td>\n",
       "    </tr>\n",
       "    <tr>\n",
       "      <th>광주지방경찰청계</th>\n",
       "      <td>불구속</td>\n",
       "      <td>1</td>\n",
       "      <td>26</td>\n",
       "      <td>511</td>\n",
       "      <td>2781</td>\n",
       "      <td>5618</td>\n",
       "    </tr>\n",
       "    <tr>\n",
       "      <th>광주지방경찰청계</th>\n",
       "      <td>기타</td>\n",
       "      <td>7</td>\n",
       "      <td>7</td>\n",
       "      <td>223</td>\n",
       "      <td>548</td>\n",
       "      <td>6098</td>\n",
       "    </tr>\n",
       "    <tr>\n",
       "      <th>광주동부경찰서</th>\n",
       "      <td>발생건수</td>\n",
       "      <td>3</td>\n",
       "      <td>5</td>\n",
       "      <td>92</td>\n",
       "      <td>1100</td>\n",
       "      <td>1155</td>\n",
       "    </tr>\n",
       "    <tr>\n",
       "      <th>광주동부경찰서</th>\n",
       "      <td>검거건수</td>\n",
       "      <td>4</td>\n",
       "      <td>6</td>\n",
       "      <td>86</td>\n",
       "      <td>583</td>\n",
       "      <td>970</td>\n",
       "    </tr>\n",
       "    <tr>\n",
       "      <th>광주동부경찰서</th>\n",
       "      <td>검거인원</td>\n",
       "      <td>4</td>\n",
       "      <td>7</td>\n",
       "      <td>98</td>\n",
       "      <td>447</td>\n",
       "      <td>1483</td>\n",
       "    </tr>\n",
       "    <tr>\n",
       "      <th>광주동부경찰서</th>\n",
       "      <td>구속</td>\n",
       "      <td>3</td>\n",
       "      <td>2</td>\n",
       "      <td>8</td>\n",
       "      <td>13</td>\n",
       "      <td>10</td>\n",
       "    </tr>\n",
       "    <tr>\n",
       "      <th>광주동부경찰서</th>\n",
       "      <td>불구속</td>\n",
       "      <td>0</td>\n",
       "      <td>4</td>\n",
       "      <td>63</td>\n",
       "      <td>379</td>\n",
       "      <td>703</td>\n",
       "    </tr>\n",
       "    <tr>\n",
       "      <th>광주동부경찰서</th>\n",
       "      <td>기타</td>\n",
       "      <td>1</td>\n",
       "      <td>1</td>\n",
       "      <td>27</td>\n",
       "      <td>55</td>\n",
       "      <td>770</td>\n",
       "    </tr>\n",
       "    <tr>\n",
       "      <th>광주서부경찰서</th>\n",
       "      <td>발생건수</td>\n",
       "      <td>5</td>\n",
       "      <td>10</td>\n",
       "      <td>172</td>\n",
       "      <td>2050</td>\n",
       "      <td>2483</td>\n",
       "    </tr>\n",
       "    <tr>\n",
       "      <th>광주서부경찰서</th>\n",
       "      <td>검거건수</td>\n",
       "      <td>4</td>\n",
       "      <td>8</td>\n",
       "      <td>153</td>\n",
       "      <td>1471</td>\n",
       "      <td>2124</td>\n",
       "    </tr>\n",
       "    <tr>\n",
       "      <th>광주서부경찰서</th>\n",
       "      <td>검거인원</td>\n",
       "      <td>4</td>\n",
       "      <td>15</td>\n",
       "      <td>167</td>\n",
       "      <td>876</td>\n",
       "      <td>3080</td>\n",
       "    </tr>\n",
       "    <tr>\n",
       "      <th>광주서부경찰서</th>\n",
       "      <td>구속</td>\n",
       "      <td>3</td>\n",
       "      <td>10</td>\n",
       "      <td>7</td>\n",
       "      <td>27</td>\n",
       "      <td>19</td>\n",
       "    </tr>\n",
       "    <tr>\n",
       "      <th>광주서부경찰서</th>\n",
       "      <td>불구속</td>\n",
       "      <td>0</td>\n",
       "      <td>5</td>\n",
       "      <td>91</td>\n",
       "      <td>665</td>\n",
       "      <td>1366</td>\n",
       "    </tr>\n",
       "    <tr>\n",
       "      <th>광주서부경찰서</th>\n",
       "      <td>기타</td>\n",
       "      <td>1</td>\n",
       "      <td>0</td>\n",
       "      <td>69</td>\n",
       "      <td>184</td>\n",
       "      <td>1695</td>\n",
       "    </tr>\n",
       "    <tr>\n",
       "      <th>광주남부경찰서</th>\n",
       "      <td>발생건수</td>\n",
       "      <td>1</td>\n",
       "      <td>3</td>\n",
       "      <td>70</td>\n",
       "      <td>962</td>\n",
       "      <td>1081</td>\n",
       "    </tr>\n",
       "    <tr>\n",
       "      <th>광주남부경찰서</th>\n",
       "      <td>검거건수</td>\n",
       "      <td>1</td>\n",
       "      <td>3</td>\n",
       "      <td>53</td>\n",
       "      <td>506</td>\n",
       "      <td>941</td>\n",
       "    </tr>\n",
       "    <tr>\n",
       "      <th>광주남부경찰서</th>\n",
       "      <td>검거인원</td>\n",
       "      <td>1</td>\n",
       "      <td>3</td>\n",
       "      <td>52</td>\n",
       "      <td>418</td>\n",
       "      <td>1260</td>\n",
       "    </tr>\n",
       "    <tr>\n",
       "      <th>광주남부경찰서</th>\n",
       "      <td>구속</td>\n",
       "      <td>0</td>\n",
       "      <td>3</td>\n",
       "      <td>3</td>\n",
       "      <td>19</td>\n",
       "      <td>3</td>\n",
       "    </tr>\n",
       "    <tr>\n",
       "      <th>광주남부경찰서</th>\n",
       "      <td>불구속</td>\n",
       "      <td>1</td>\n",
       "      <td>0</td>\n",
       "      <td>39</td>\n",
       "      <td>325</td>\n",
       "      <td>675</td>\n",
       "    </tr>\n",
       "    <tr>\n",
       "      <th>광주남부경찰서</th>\n",
       "      <td>기타</td>\n",
       "      <td>0</td>\n",
       "      <td>0</td>\n",
       "      <td>10</td>\n",
       "      <td>74</td>\n",
       "      <td>582</td>\n",
       "    </tr>\n",
       "    <tr>\n",
       "      <th>광주북부경찰서</th>\n",
       "      <td>발생건수</td>\n",
       "      <td>5</td>\n",
       "      <td>14</td>\n",
       "      <td>256</td>\n",
       "      <td>2570</td>\n",
       "      <td>2621</td>\n",
       "    </tr>\n",
       "    <tr>\n",
       "      <th>광주북부경찰서</th>\n",
       "      <td>검거건수</td>\n",
       "      <td>5</td>\n",
       "      <td>18</td>\n",
       "      <td>212</td>\n",
       "      <td>1852</td>\n",
       "      <td>2319</td>\n",
       "    </tr>\n",
       "    <tr>\n",
       "      <th>광주북부경찰서</th>\n",
       "      <td>검거인원</td>\n",
       "      <td>5</td>\n",
       "      <td>28</td>\n",
       "      <td>216</td>\n",
       "      <td>948</td>\n",
       "      <td>3168</td>\n",
       "    </tr>\n",
       "    <tr>\n",
       "      <th>광주북부경찰서</th>\n",
       "      <td>구속</td>\n",
       "      <td>3</td>\n",
       "      <td>11</td>\n",
       "      <td>11</td>\n",
       "      <td>30</td>\n",
       "      <td>10</td>\n",
       "    </tr>\n",
       "    <tr>\n",
       "      <th>광주북부경찰서</th>\n",
       "      <td>불구속</td>\n",
       "      <td>0</td>\n",
       "      <td>12</td>\n",
       "      <td>153</td>\n",
       "      <td>770</td>\n",
       "      <td>1544</td>\n",
       "    </tr>\n",
       "    <tr>\n",
       "      <th>광주북부경찰서</th>\n",
       "      <td>기타</td>\n",
       "      <td>2</td>\n",
       "      <td>5</td>\n",
       "      <td>52</td>\n",
       "      <td>148</td>\n",
       "      <td>1614</td>\n",
       "    </tr>\n",
       "    <tr>\n",
       "      <th>광주광산경찰서</th>\n",
       "      <td>발생건수</td>\n",
       "      <td>4</td>\n",
       "      <td>12</td>\n",
       "      <td>160</td>\n",
       "      <td>1743</td>\n",
       "      <td>2253</td>\n",
       "    </tr>\n",
       "    <tr>\n",
       "      <th>광주광산경찰서</th>\n",
       "      <td>검거건수</td>\n",
       "      <td>4</td>\n",
       "      <td>10</td>\n",
       "      <td>135</td>\n",
       "      <td>996</td>\n",
       "      <td>1922</td>\n",
       "    </tr>\n",
       "    <tr>\n",
       "      <th>광주광산경찰서</th>\n",
       "      <td>검거인원</td>\n",
       "      <td>3</td>\n",
       "      <td>8</td>\n",
       "      <td>129</td>\n",
       "      <td>736</td>\n",
       "      <td>2585</td>\n",
       "    </tr>\n",
       "    <tr>\n",
       "      <th>광주광산경찰서</th>\n",
       "      <td>구속</td>\n",
       "      <td>0</td>\n",
       "      <td>4</td>\n",
       "      <td>5</td>\n",
       "      <td>12</td>\n",
       "      <td>6</td>\n",
       "    </tr>\n",
       "    <tr>\n",
       "      <th>광주광산경찰서</th>\n",
       "      <td>불구속</td>\n",
       "      <td>0</td>\n",
       "      <td>4</td>\n",
       "      <td>81</td>\n",
       "      <td>639</td>\n",
       "      <td>1181</td>\n",
       "    </tr>\n",
       "    <tr>\n",
       "      <th>광주광산경찰서</th>\n",
       "      <td>기타</td>\n",
       "      <td>3</td>\n",
       "      <td>0</td>\n",
       "      <td>43</td>\n",
       "      <td>85</td>\n",
       "      <td>1398</td>\n",
       "    </tr>\n",
       "  </tbody>\n",
       "</table>\n",
       "</div>"
      ],
      "text/plain": [
       "            구분  살인  강도  강간·강제추행    절도     폭력\n",
       "관서명                                         \n",
       "광주지방경찰청계  발생건수  18  44      750  8425   9593\n",
       "광주지방경찰청계  검거건수  18  47      758  5409   8301\n",
       "광주지방경찰청계  검거인원  17  66      776  3433  11774\n",
       "광주지방경찰청계    구속   9  33       42   104     58\n",
       "광주지방경찰청계   불구속   1  26      511  2781   5618\n",
       "광주지방경찰청계    기타   7   7      223   548   6098\n",
       "광주동부경찰서   발생건수   3   5       92  1100   1155\n",
       "광주동부경찰서   검거건수   4   6       86   583    970\n",
       "광주동부경찰서   검거인원   4   7       98   447   1483\n",
       "광주동부경찰서     구속   3   2        8    13     10\n",
       "광주동부경찰서    불구속   0   4       63   379    703\n",
       "광주동부경찰서     기타   1   1       27    55    770\n",
       "광주서부경찰서   발생건수   5  10      172  2050   2483\n",
       "광주서부경찰서   검거건수   4   8      153  1471   2124\n",
       "광주서부경찰서   검거인원   4  15      167   876   3080\n",
       "광주서부경찰서     구속   3  10        7    27     19\n",
       "광주서부경찰서    불구속   0   5       91   665   1366\n",
       "광주서부경찰서     기타   1   0       69   184   1695\n",
       "광주남부경찰서   발생건수   1   3       70   962   1081\n",
       "광주남부경찰서   검거건수   1   3       53   506    941\n",
       "광주남부경찰서   검거인원   1   3       52   418   1260\n",
       "광주남부경찰서     구속   0   3        3    19      3\n",
       "광주남부경찰서    불구속   1   0       39   325    675\n",
       "광주남부경찰서     기타   0   0       10    74    582\n",
       "광주북부경찰서   발생건수   5  14      256  2570   2621\n",
       "광주북부경찰서   검거건수   5  18      212  1852   2319\n",
       "광주북부경찰서   검거인원   5  28      216   948   3168\n",
       "광주북부경찰서     구속   3  11       11    30     10\n",
       "광주북부경찰서    불구속   0  12      153   770   1544\n",
       "광주북부경찰서     기타   2   5       52   148   1614\n",
       "광주광산경찰서   발생건수   4  12      160  1743   2253\n",
       "광주광산경찰서   검거건수   4  10      135   996   1922\n",
       "광주광산경찰서   검거인원   3   8      129   736   2585\n",
       "광주광산경찰서     구속   0   4        5    12      6\n",
       "광주광산경찰서    불구속   0   4       81   639   1181\n",
       "광주광산경찰서     기타   3   0       43    85   1398"
      ]
     },
     "execution_count": 147,
     "metadata": {},
     "output_type": "execute_result"
    }
   ],
   "source": [
    "df2015"
   ]
  },
  {
   "cell_type": "code",
   "execution_count": 149,
   "id": "746195bc-1875-4d09-b541-9021b2bdf2aa",
   "metadata": {},
   "outputs": [
    {
     "data": {
      "text/html": [
       "<div>\n",
       "<style scoped>\n",
       "    .dataframe tbody tr th:only-of-type {\n",
       "        vertical-align: middle;\n",
       "    }\n",
       "\n",
       "    .dataframe tbody tr th {\n",
       "        vertical-align: top;\n",
       "    }\n",
       "\n",
       "    .dataframe thead th {\n",
       "        text-align: right;\n",
       "    }\n",
       "</style>\n",
       "<table border=\"1\" class=\"dataframe\">\n",
       "  <thead>\n",
       "    <tr style=\"text-align: right;\">\n",
       "      <th></th>\n",
       "      <th>구분</th>\n",
       "      <th>살인</th>\n",
       "      <th>강도</th>\n",
       "      <th>강간·강제추행</th>\n",
       "      <th>절도</th>\n",
       "      <th>폭력</th>\n",
       "    </tr>\n",
       "    <tr>\n",
       "      <th>관서명</th>\n",
       "      <th></th>\n",
       "      <th></th>\n",
       "      <th></th>\n",
       "      <th></th>\n",
       "      <th></th>\n",
       "      <th></th>\n",
       "    </tr>\n",
       "  </thead>\n",
       "  <tbody>\n",
       "    <tr>\n",
       "      <th>광주동부경찰서</th>\n",
       "      <td>발생건수</td>\n",
       "      <td>3</td>\n",
       "      <td>5</td>\n",
       "      <td>92</td>\n",
       "      <td>1100</td>\n",
       "      <td>1155</td>\n",
       "    </tr>\n",
       "    <tr>\n",
       "      <th>광주동부경찰서</th>\n",
       "      <td>검거건수</td>\n",
       "      <td>4</td>\n",
       "      <td>6</td>\n",
       "      <td>86</td>\n",
       "      <td>583</td>\n",
       "      <td>970</td>\n",
       "    </tr>\n",
       "    <tr>\n",
       "      <th>광주동부경찰서</th>\n",
       "      <td>검거인원</td>\n",
       "      <td>4</td>\n",
       "      <td>7</td>\n",
       "      <td>98</td>\n",
       "      <td>447</td>\n",
       "      <td>1483</td>\n",
       "    </tr>\n",
       "    <tr>\n",
       "      <th>광주동부경찰서</th>\n",
       "      <td>구속</td>\n",
       "      <td>3</td>\n",
       "      <td>2</td>\n",
       "      <td>8</td>\n",
       "      <td>13</td>\n",
       "      <td>10</td>\n",
       "    </tr>\n",
       "    <tr>\n",
       "      <th>광주동부경찰서</th>\n",
       "      <td>불구속</td>\n",
       "      <td>0</td>\n",
       "      <td>4</td>\n",
       "      <td>63</td>\n",
       "      <td>379</td>\n",
       "      <td>703</td>\n",
       "    </tr>\n",
       "    <tr>\n",
       "      <th>광주동부경찰서</th>\n",
       "      <td>기타</td>\n",
       "      <td>1</td>\n",
       "      <td>1</td>\n",
       "      <td>27</td>\n",
       "      <td>55</td>\n",
       "      <td>770</td>\n",
       "    </tr>\n",
       "  </tbody>\n",
       "</table>\n",
       "</div>"
      ],
      "text/plain": [
       "           구분  살인  강도  강간·강제추행    절도    폭력\n",
       "관서명                                       \n",
       "광주동부경찰서  발생건수   3   5       92  1100  1155\n",
       "광주동부경찰서  검거건수   4   6       86   583   970\n",
       "광주동부경찰서  검거인원   4   7       98   447  1483\n",
       "광주동부경찰서    구속   3   2        8    13    10\n",
       "광주동부경찰서   불구속   0   4       63   379   703\n",
       "광주동부경찰서    기타   1   1       27    55   770"
      ]
     },
     "execution_count": 149,
     "metadata": {},
     "output_type": "execute_result"
    }
   ],
   "source": [
    "df2015.loc['광주동부경찰서']\n",
    "\n",
    "# 다중인덱스(MultiIndex)"
   ]
  },
  {
   "cell_type": "code",
   "execution_count": null,
   "id": "698f13eb-2822-4e15-b21e-5fea6203fca4",
   "metadata": {},
   "outputs": [],
   "source": []
  },
  {
   "cell_type": "code",
   "execution_count": 152,
   "id": "366c56c7-3aef-4967-bade-9af9e5243c07",
   "metadata": {},
   "outputs": [
    {
     "name": "stdout",
     "output_type": "stream",
     "text": [
      "(36, 6)\n",
      "(36, 6)\n",
      "(42, 6)\n"
     ]
    }
   ],
   "source": [
    "# 데이터의 형태 확인\n",
    "print(df2015.shape)\n",
    "print(df2016.shape)\n",
    "print(df2017.shape) # 6개 더 늘어남"
   ]
  },
  {
   "cell_type": "code",
   "execution_count": 153,
   "id": "61aef679-bdb9-426c-a966-b2137082d79e",
   "metadata": {},
   "outputs": [
    {
     "data": {
      "text/plain": [
       "Index(['광주지방경찰청계', '광주지방경찰청계', '광주지방경찰청계', '광주지방경찰청계', '광주지방경찰청계', '광주지방경찰청계',\n",
       "       '광주지방경찰청', '광주지방경찰청', '광주지방경찰청', '광주지방경찰청', '광주지방경찰청', '광주지방경찰청',\n",
       "       '광주동부경찰서', '광주동부경찰서', '광주동부경찰서', '광주동부경찰서', '광주동부경찰서', '광주동부경찰서',\n",
       "       '광주서부경찰서', '광주서부경찰서', '광주서부경찰서', '광주서부경찰서', '광주서부경찰서', '광주서부경찰서',\n",
       "       '광주남부경찰서', '광주남부경찰서', '광주남부경찰서', '광주남부경찰서', '광주남부경찰서', '광주남부경찰서',\n",
       "       '광주북부경찰서', '광주북부경찰서', '광주북부경찰서', '광주북부경찰서', '광주북부경찰서', '광주북부경찰서',\n",
       "       '광주광산경찰서', '광주광산경찰서', '광주광산경찰서', '광주광산경찰서', '광주광산경찰서', '광주광산경찰서'],\n",
       "      dtype='object', name='관서명')"
      ]
     },
     "execution_count": 153,
     "metadata": {},
     "output_type": "execute_result"
    }
   ],
   "source": [
    "# 2017년도의 index확인\n",
    "df2017.index"
   ]
  },
  {
   "cell_type": "code",
   "execution_count": 154,
   "id": "e479f159-8731-423c-a206-adbc7c9263ed",
   "metadata": {},
   "outputs": [
    {
     "data": {
      "text/plain": [
       "{'광주광산경찰서', '광주남부경찰서', '광주동부경찰서', '광주북부경찰서', '광주서부경찰서', '광주지방경찰청', '광주지방경찰청계'}"
      ]
     },
     "execution_count": 154,
     "metadata": {},
     "output_type": "execute_result"
    }
   ],
   "source": [
    "# set: 중복값 제거 후 유니크값(유일한 값)만\n",
    "set(df2017.index)"
   ]
  },
  {
   "cell_type": "code",
   "execution_count": 155,
   "id": "e522d4ad-6997-443d-81eb-175f664657fb",
   "metadata": {},
   "outputs": [
    {
     "data": {
      "text/plain": [
       "set"
      ]
     },
     "execution_count": 155,
     "metadata": {},
     "output_type": "execute_result"
    }
   ],
   "source": [
    "type(set(df2017.index))"
   ]
  },
  {
   "cell_type": "code",
   "execution_count": 156,
   "id": "bd7fb388-bdbe-4f36-99fa-38438a0a6f58",
   "metadata": {},
   "outputs": [
    {
     "data": {
      "text/plain": [
       "{'광주광산경찰서', '광주남부경찰서', '광주동부경찰서', '광주북부경찰서', '광주서부경찰서', '광주지방경찰청계'}"
      ]
     },
     "execution_count": 156,
     "metadata": {},
     "output_type": "execute_result"
    }
   ],
   "source": [
    "set(df2015.index)"
   ]
  },
  {
   "cell_type": "code",
   "execution_count": 157,
   "id": "7d4916ac-4dae-40b6-afa6-2bc5ac669026",
   "metadata": {},
   "outputs": [
    {
     "data": {
      "text/plain": [
       "{'광주지방경찰청'}"
      ]
     },
     "execution_count": 157,
     "metadata": {},
     "output_type": "execute_result"
    }
   ],
   "source": [
    "# 2017년도에만 있는 index 추출\n",
    "set(df2017.index) -set(df2015.index)"
   ]
  },
  {
   "cell_type": "code",
   "execution_count": 158,
   "id": "3a11c61d-1cd3-4809-8b72-196353ca0261",
   "metadata": {},
   "outputs": [
    {
     "data": {
      "text/html": [
       "<div>\n",
       "<style scoped>\n",
       "    .dataframe tbody tr th:only-of-type {\n",
       "        vertical-align: middle;\n",
       "    }\n",
       "\n",
       "    .dataframe tbody tr th {\n",
       "        vertical-align: top;\n",
       "    }\n",
       "\n",
       "    .dataframe thead th {\n",
       "        text-align: right;\n",
       "    }\n",
       "</style>\n",
       "<table border=\"1\" class=\"dataframe\">\n",
       "  <thead>\n",
       "    <tr style=\"text-align: right;\">\n",
       "      <th></th>\n",
       "      <th>구분</th>\n",
       "      <th>살인</th>\n",
       "      <th>강도</th>\n",
       "      <th>강간·강제추행</th>\n",
       "      <th>절도</th>\n",
       "      <th>폭력</th>\n",
       "    </tr>\n",
       "    <tr>\n",
       "      <th>관서명</th>\n",
       "      <th></th>\n",
       "      <th></th>\n",
       "      <th></th>\n",
       "      <th></th>\n",
       "      <th></th>\n",
       "      <th></th>\n",
       "    </tr>\n",
       "  </thead>\n",
       "  <tbody>\n",
       "    <tr>\n",
       "      <th>광주지방경찰청계</th>\n",
       "      <td>발생건수</td>\n",
       "      <td>9</td>\n",
       "      <td>33</td>\n",
       "      <td>725</td>\n",
       "      <td>4816</td>\n",
       "      <td>8366</td>\n",
       "    </tr>\n",
       "    <tr>\n",
       "      <th>광주지방경찰청계</th>\n",
       "      <td>검거건수</td>\n",
       "      <td>9</td>\n",
       "      <td>32</td>\n",
       "      <td>732</td>\n",
       "      <td>3487</td>\n",
       "      <td>7553</td>\n",
       "    </tr>\n",
       "    <tr>\n",
       "      <th>광주지방경찰청계</th>\n",
       "      <td>검거인원</td>\n",
       "      <td>10</td>\n",
       "      <td>61</td>\n",
       "      <td>824</td>\n",
       "      <td>3046</td>\n",
       "      <td>11018</td>\n",
       "    </tr>\n",
       "    <tr>\n",
       "      <th>광주지방경찰청계</th>\n",
       "      <td>구속</td>\n",
       "      <td>8</td>\n",
       "      <td>28</td>\n",
       "      <td>71</td>\n",
       "      <td>115</td>\n",
       "      <td>88</td>\n",
       "    </tr>\n",
       "    <tr>\n",
       "      <th>광주지방경찰청계</th>\n",
       "      <td>불구속</td>\n",
       "      <td>0</td>\n",
       "      <td>26</td>\n",
       "      <td>523</td>\n",
       "      <td>2493</td>\n",
       "      <td>5235</td>\n",
       "    </tr>\n",
       "    <tr>\n",
       "      <th>광주지방경찰청계</th>\n",
       "      <td>기타</td>\n",
       "      <td>2</td>\n",
       "      <td>7</td>\n",
       "      <td>230</td>\n",
       "      <td>438</td>\n",
       "      <td>5695</td>\n",
       "    </tr>\n",
       "    <tr>\n",
       "      <th>광주지방경찰청</th>\n",
       "      <td>발생건수</td>\n",
       "      <td>0</td>\n",
       "      <td>0</td>\n",
       "      <td>0</td>\n",
       "      <td>0</td>\n",
       "      <td>0</td>\n",
       "    </tr>\n",
       "    <tr>\n",
       "      <th>광주지방경찰청</th>\n",
       "      <td>검거건수</td>\n",
       "      <td>0</td>\n",
       "      <td>1</td>\n",
       "      <td>91</td>\n",
       "      <td>0</td>\n",
       "      <td>37</td>\n",
       "    </tr>\n",
       "    <tr>\n",
       "      <th>광주지방경찰청</th>\n",
       "      <td>검거인원</td>\n",
       "      <td>0</td>\n",
       "      <td>1</td>\n",
       "      <td>105</td>\n",
       "      <td>0</td>\n",
       "      <td>149</td>\n",
       "    </tr>\n",
       "    <tr>\n",
       "      <th>광주지방경찰청</th>\n",
       "      <td>구속</td>\n",
       "      <td>0</td>\n",
       "      <td>0</td>\n",
       "      <td>17</td>\n",
       "      <td>0</td>\n",
       "      <td>7</td>\n",
       "    </tr>\n",
       "    <tr>\n",
       "      <th>광주지방경찰청</th>\n",
       "      <td>불구속</td>\n",
       "      <td>0</td>\n",
       "      <td>1</td>\n",
       "      <td>53</td>\n",
       "      <td>0</td>\n",
       "      <td>69</td>\n",
       "    </tr>\n",
       "    <tr>\n",
       "      <th>광주지방경찰청</th>\n",
       "      <td>기타</td>\n",
       "      <td>0</td>\n",
       "      <td>0</td>\n",
       "      <td>35</td>\n",
       "      <td>0</td>\n",
       "      <td>73</td>\n",
       "    </tr>\n",
       "    <tr>\n",
       "      <th>광주동부경찰서</th>\n",
       "      <td>발생건수</td>\n",
       "      <td>3</td>\n",
       "      <td>5</td>\n",
       "      <td>77</td>\n",
       "      <td>624</td>\n",
       "      <td>1090</td>\n",
       "    </tr>\n",
       "    <tr>\n",
       "      <th>광주동부경찰서</th>\n",
       "      <td>검거건수</td>\n",
       "      <td>3</td>\n",
       "      <td>5</td>\n",
       "      <td>70</td>\n",
       "      <td>470</td>\n",
       "      <td>953</td>\n",
       "    </tr>\n",
       "    <tr>\n",
       "      <th>광주동부경찰서</th>\n",
       "      <td>검거인원</td>\n",
       "      <td>4</td>\n",
       "      <td>4</td>\n",
       "      <td>76</td>\n",
       "      <td>483</td>\n",
       "      <td>1538</td>\n",
       "    </tr>\n",
       "    <tr>\n",
       "      <th>광주동부경찰서</th>\n",
       "      <td>구속</td>\n",
       "      <td>2</td>\n",
       "      <td>3</td>\n",
       "      <td>2</td>\n",
       "      <td>19</td>\n",
       "      <td>9</td>\n",
       "    </tr>\n",
       "    <tr>\n",
       "      <th>광주동부경찰서</th>\n",
       "      <td>불구속</td>\n",
       "      <td>0</td>\n",
       "      <td>1</td>\n",
       "      <td>57</td>\n",
       "      <td>395</td>\n",
       "      <td>801</td>\n",
       "    </tr>\n",
       "    <tr>\n",
       "      <th>광주동부경찰서</th>\n",
       "      <td>기타</td>\n",
       "      <td>2</td>\n",
       "      <td>0</td>\n",
       "      <td>17</td>\n",
       "      <td>69</td>\n",
       "      <td>728</td>\n",
       "    </tr>\n",
       "    <tr>\n",
       "      <th>광주서부경찰서</th>\n",
       "      <td>발생건수</td>\n",
       "      <td>0</td>\n",
       "      <td>7</td>\n",
       "      <td>196</td>\n",
       "      <td>1142</td>\n",
       "      <td>2293</td>\n",
       "    </tr>\n",
       "    <tr>\n",
       "      <th>광주서부경찰서</th>\n",
       "      <td>검거건수</td>\n",
       "      <td>0</td>\n",
       "      <td>7</td>\n",
       "      <td>172</td>\n",
       "      <td>708</td>\n",
       "      <td>2065</td>\n",
       "    </tr>\n",
       "    <tr>\n",
       "      <th>광주서부경찰서</th>\n",
       "      <td>검거인원</td>\n",
       "      <td>0</td>\n",
       "      <td>23</td>\n",
       "      <td>188</td>\n",
       "      <td>708</td>\n",
       "      <td>2971</td>\n",
       "    </tr>\n",
       "    <tr>\n",
       "      <th>광주서부경찰서</th>\n",
       "      <td>구속</td>\n",
       "      <td>0</td>\n",
       "      <td>8</td>\n",
       "      <td>6</td>\n",
       "      <td>20</td>\n",
       "      <td>31</td>\n",
       "    </tr>\n",
       "    <tr>\n",
       "      <th>광주서부경찰서</th>\n",
       "      <td>불구속</td>\n",
       "      <td>0</td>\n",
       "      <td>15</td>\n",
       "      <td>123</td>\n",
       "      <td>582</td>\n",
       "      <td>1356</td>\n",
       "    </tr>\n",
       "    <tr>\n",
       "      <th>광주서부경찰서</th>\n",
       "      <td>기타</td>\n",
       "      <td>0</td>\n",
       "      <td>0</td>\n",
       "      <td>59</td>\n",
       "      <td>106</td>\n",
       "      <td>1584</td>\n",
       "    </tr>\n",
       "    <tr>\n",
       "      <th>광주남부경찰서</th>\n",
       "      <td>발생건수</td>\n",
       "      <td>0</td>\n",
       "      <td>4</td>\n",
       "      <td>68</td>\n",
       "      <td>577</td>\n",
       "      <td>898</td>\n",
       "    </tr>\n",
       "    <tr>\n",
       "      <th>광주남부경찰서</th>\n",
       "      <td>검거건수</td>\n",
       "      <td>0</td>\n",
       "      <td>4</td>\n",
       "      <td>51</td>\n",
       "      <td>522</td>\n",
       "      <td>799</td>\n",
       "    </tr>\n",
       "    <tr>\n",
       "      <th>광주남부경찰서</th>\n",
       "      <td>검거인원</td>\n",
       "      <td>0</td>\n",
       "      <td>5</td>\n",
       "      <td>47</td>\n",
       "      <td>363</td>\n",
       "      <td>1107</td>\n",
       "    </tr>\n",
       "    <tr>\n",
       "      <th>광주남부경찰서</th>\n",
       "      <td>구속</td>\n",
       "      <td>0</td>\n",
       "      <td>2</td>\n",
       "      <td>1</td>\n",
       "      <td>18</td>\n",
       "      <td>1</td>\n",
       "    </tr>\n",
       "    <tr>\n",
       "      <th>광주남부경찰서</th>\n",
       "      <td>불구속</td>\n",
       "      <td>0</td>\n",
       "      <td>2</td>\n",
       "      <td>29</td>\n",
       "      <td>271</td>\n",
       "      <td>591</td>\n",
       "    </tr>\n",
       "    <tr>\n",
       "      <th>광주남부경찰서</th>\n",
       "      <td>기타</td>\n",
       "      <td>0</td>\n",
       "      <td>1</td>\n",
       "      <td>17</td>\n",
       "      <td>74</td>\n",
       "      <td>515</td>\n",
       "    </tr>\n",
       "    <tr>\n",
       "      <th>광주북부경찰서</th>\n",
       "      <td>발생건수</td>\n",
       "      <td>3</td>\n",
       "      <td>5</td>\n",
       "      <td>215</td>\n",
       "      <td>1546</td>\n",
       "      <td>2176</td>\n",
       "    </tr>\n",
       "    <tr>\n",
       "      <th>광주북부경찰서</th>\n",
       "      <td>검거건수</td>\n",
       "      <td>3</td>\n",
       "      <td>5</td>\n",
       "      <td>204</td>\n",
       "      <td>1127</td>\n",
       "      <td>1997</td>\n",
       "    </tr>\n",
       "    <tr>\n",
       "      <th>광주북부경찰서</th>\n",
       "      <td>검거인원</td>\n",
       "      <td>3</td>\n",
       "      <td>6</td>\n",
       "      <td>260</td>\n",
       "      <td>898</td>\n",
       "      <td>2863</td>\n",
       "    </tr>\n",
       "    <tr>\n",
       "      <th>광주북부경찰서</th>\n",
       "      <td>구속</td>\n",
       "      <td>3</td>\n",
       "      <td>4</td>\n",
       "      <td>39</td>\n",
       "      <td>33</td>\n",
       "      <td>22</td>\n",
       "    </tr>\n",
       "    <tr>\n",
       "      <th>광주북부경찰서</th>\n",
       "      <td>불구속</td>\n",
       "      <td>0</td>\n",
       "      <td>0</td>\n",
       "      <td>159</td>\n",
       "      <td>730</td>\n",
       "      <td>1314</td>\n",
       "    </tr>\n",
       "    <tr>\n",
       "      <th>광주북부경찰서</th>\n",
       "      <td>기타</td>\n",
       "      <td>0</td>\n",
       "      <td>2</td>\n",
       "      <td>62</td>\n",
       "      <td>135</td>\n",
       "      <td>1527</td>\n",
       "    </tr>\n",
       "    <tr>\n",
       "      <th>광주광산경찰서</th>\n",
       "      <td>발생건수</td>\n",
       "      <td>3</td>\n",
       "      <td>12</td>\n",
       "      <td>169</td>\n",
       "      <td>927</td>\n",
       "      <td>1909</td>\n",
       "    </tr>\n",
       "    <tr>\n",
       "      <th>광주광산경찰서</th>\n",
       "      <td>검거건수</td>\n",
       "      <td>3</td>\n",
       "      <td>10</td>\n",
       "      <td>144</td>\n",
       "      <td>660</td>\n",
       "      <td>1702</td>\n",
       "    </tr>\n",
       "    <tr>\n",
       "      <th>광주광산경찰서</th>\n",
       "      <td>검거인원</td>\n",
       "      <td>3</td>\n",
       "      <td>22</td>\n",
       "      <td>148</td>\n",
       "      <td>594</td>\n",
       "      <td>2390</td>\n",
       "    </tr>\n",
       "    <tr>\n",
       "      <th>광주광산경찰서</th>\n",
       "      <td>구속</td>\n",
       "      <td>3</td>\n",
       "      <td>11</td>\n",
       "      <td>6</td>\n",
       "      <td>25</td>\n",
       "      <td>18</td>\n",
       "    </tr>\n",
       "    <tr>\n",
       "      <th>광주광산경찰서</th>\n",
       "      <td>불구속</td>\n",
       "      <td>0</td>\n",
       "      <td>7</td>\n",
       "      <td>102</td>\n",
       "      <td>515</td>\n",
       "      <td>1104</td>\n",
       "    </tr>\n",
       "    <tr>\n",
       "      <th>광주광산경찰서</th>\n",
       "      <td>기타</td>\n",
       "      <td>0</td>\n",
       "      <td>4</td>\n",
       "      <td>40</td>\n",
       "      <td>54</td>\n",
       "      <td>1268</td>\n",
       "    </tr>\n",
       "  </tbody>\n",
       "</table>\n",
       "</div>"
      ],
      "text/plain": [
       "            구분  살인  강도  강간·강제추행    절도     폭력\n",
       "관서명                                         \n",
       "광주지방경찰청계  발생건수   9  33      725  4816   8366\n",
       "광주지방경찰청계  검거건수   9  32      732  3487   7553\n",
       "광주지방경찰청계  검거인원  10  61      824  3046  11018\n",
       "광주지방경찰청계    구속   8  28       71   115     88\n",
       "광주지방경찰청계   불구속   0  26      523  2493   5235\n",
       "광주지방경찰청계    기타   2   7      230   438   5695\n",
       "광주지방경찰청   발생건수   0   0        0     0      0\n",
       "광주지방경찰청   검거건수   0   1       91     0     37\n",
       "광주지방경찰청   검거인원   0   1      105     0    149\n",
       "광주지방경찰청     구속   0   0       17     0      7\n",
       "광주지방경찰청    불구속   0   1       53     0     69\n",
       "광주지방경찰청     기타   0   0       35     0     73\n",
       "광주동부경찰서   발생건수   3   5       77   624   1090\n",
       "광주동부경찰서   검거건수   3   5       70   470    953\n",
       "광주동부경찰서   검거인원   4   4       76   483   1538\n",
       "광주동부경찰서     구속   2   3        2    19      9\n",
       "광주동부경찰서    불구속   0   1       57   395    801\n",
       "광주동부경찰서     기타   2   0       17    69    728\n",
       "광주서부경찰서   발생건수   0   7      196  1142   2293\n",
       "광주서부경찰서   검거건수   0   7      172   708   2065\n",
       "광주서부경찰서   검거인원   0  23      188   708   2971\n",
       "광주서부경찰서     구속   0   8        6    20     31\n",
       "광주서부경찰서    불구속   0  15      123   582   1356\n",
       "광주서부경찰서     기타   0   0       59   106   1584\n",
       "광주남부경찰서   발생건수   0   4       68   577    898\n",
       "광주남부경찰서   검거건수   0   4       51   522    799\n",
       "광주남부경찰서   검거인원   0   5       47   363   1107\n",
       "광주남부경찰서     구속   0   2        1    18      1\n",
       "광주남부경찰서    불구속   0   2       29   271    591\n",
       "광주남부경찰서     기타   0   1       17    74    515\n",
       "광주북부경찰서   발생건수   3   5      215  1546   2176\n",
       "광주북부경찰서   검거건수   3   5      204  1127   1997\n",
       "광주북부경찰서   검거인원   3   6      260   898   2863\n",
       "광주북부경찰서     구속   3   4       39    33     22\n",
       "광주북부경찰서    불구속   0   0      159   730   1314\n",
       "광주북부경찰서     기타   0   2       62   135   1527\n",
       "광주광산경찰서   발생건수   3  12      169   927   1909\n",
       "광주광산경찰서   검거건수   3  10      144   660   1702\n",
       "광주광산경찰서   검거인원   3  22      148   594   2390\n",
       "광주광산경찰서     구속   3  11        6    25     18\n",
       "광주광산경찰서    불구속   0   7      102   515   1104\n",
       "광주광산경찰서     기타   0   4       40    54   1268"
      ]
     },
     "execution_count": 158,
     "metadata": {},
     "output_type": "execute_result"
    }
   ],
   "source": [
    "df2017"
   ]
  },
  {
   "cell_type": "code",
   "execution_count": null,
   "id": "e94308cf-6d8f-4153-82a3-0efd91394221",
   "metadata": {},
   "outputs": [],
   "source": []
  },
  {
   "cell_type": "markdown",
   "id": "fda45d0e-34a8-4251-957f-c590c316d587",
   "metadata": {},
   "source": [
    "#### 2.데이터 전처리\n",
    "- 데이터를 살펴보면 df2017에만 '광주지방경찰청' index가 있고, 데이터도 부실\n",
    "- 해당 행 삭제"
   ]
  },
  {
   "cell_type": "code",
   "execution_count": 159,
   "id": "8bea6b39-8ba4-4fda-a9b5-2fa46b5b03db",
   "metadata": {},
   "outputs": [],
   "source": [
    "df2017.drop('광주지방경찰청',inplace=True)"
   ]
  },
  {
   "cell_type": "code",
   "execution_count": 160,
   "id": "0da71aa6-260d-4471-ae5c-064b071977cc",
   "metadata": {},
   "outputs": [
    {
     "data": {
      "text/plain": [
       "(36, 6)"
      ]
     },
     "execution_count": 160,
     "metadata": {},
     "output_type": "execute_result"
    }
   ],
   "source": [
    "df2017.shape"
   ]
  },
  {
   "cell_type": "code",
   "execution_count": 161,
   "id": "8cc718ef-46d4-40de-8aa6-49da0507ddc4",
   "metadata": {},
   "outputs": [],
   "source": [
    "#총계라는 새로운 컬럼 추가\n",
    "df2015['총계'] = df2015.loc[:,'살인':'폭력'].sum(axis=1)\n",
    "df2016['총계'] = df2016.loc[:,'살인':'폭력'].sum(axis=1)\n",
    "df2017['총계'] = df2017.loc[:,'살인':'폭력'].sum(axis=1)"
   ]
  },
  {
   "cell_type": "code",
   "execution_count": 162,
   "id": "054a8b95-a3f2-44da-a936-5d83a1146c3e",
   "metadata": {},
   "outputs": [
    {
     "data": {
      "text/html": [
       "<div>\n",
       "<style scoped>\n",
       "    .dataframe tbody tr th:only-of-type {\n",
       "        vertical-align: middle;\n",
       "    }\n",
       "\n",
       "    .dataframe tbody tr th {\n",
       "        vertical-align: top;\n",
       "    }\n",
       "\n",
       "    .dataframe thead th {\n",
       "        text-align: right;\n",
       "    }\n",
       "</style>\n",
       "<table border=\"1\" class=\"dataframe\">\n",
       "  <thead>\n",
       "    <tr style=\"text-align: right;\">\n",
       "      <th></th>\n",
       "      <th>구분</th>\n",
       "      <th>살인</th>\n",
       "      <th>강도</th>\n",
       "      <th>강간·강제추행</th>\n",
       "      <th>절도</th>\n",
       "      <th>폭력</th>\n",
       "      <th>총계</th>\n",
       "    </tr>\n",
       "    <tr>\n",
       "      <th>관서명</th>\n",
       "      <th></th>\n",
       "      <th></th>\n",
       "      <th></th>\n",
       "      <th></th>\n",
       "      <th></th>\n",
       "      <th></th>\n",
       "      <th></th>\n",
       "    </tr>\n",
       "  </thead>\n",
       "  <tbody>\n",
       "    <tr>\n",
       "      <th>광주지방경찰청계</th>\n",
       "      <td>발생건수</td>\n",
       "      <td>18</td>\n",
       "      <td>44</td>\n",
       "      <td>750</td>\n",
       "      <td>8425</td>\n",
       "      <td>9593</td>\n",
       "      <td>18830</td>\n",
       "    </tr>\n",
       "    <tr>\n",
       "      <th>광주지방경찰청계</th>\n",
       "      <td>검거건수</td>\n",
       "      <td>18</td>\n",
       "      <td>47</td>\n",
       "      <td>758</td>\n",
       "      <td>5409</td>\n",
       "      <td>8301</td>\n",
       "      <td>14533</td>\n",
       "    </tr>\n",
       "    <tr>\n",
       "      <th>광주지방경찰청계</th>\n",
       "      <td>검거인원</td>\n",
       "      <td>17</td>\n",
       "      <td>66</td>\n",
       "      <td>776</td>\n",
       "      <td>3433</td>\n",
       "      <td>11774</td>\n",
       "      <td>16066</td>\n",
       "    </tr>\n",
       "    <tr>\n",
       "      <th>광주지방경찰청계</th>\n",
       "      <td>구속</td>\n",
       "      <td>9</td>\n",
       "      <td>33</td>\n",
       "      <td>42</td>\n",
       "      <td>104</td>\n",
       "      <td>58</td>\n",
       "      <td>246</td>\n",
       "    </tr>\n",
       "    <tr>\n",
       "      <th>광주지방경찰청계</th>\n",
       "      <td>불구속</td>\n",
       "      <td>1</td>\n",
       "      <td>26</td>\n",
       "      <td>511</td>\n",
       "      <td>2781</td>\n",
       "      <td>5618</td>\n",
       "      <td>8937</td>\n",
       "    </tr>\n",
       "    <tr>\n",
       "      <th>광주지방경찰청계</th>\n",
       "      <td>기타</td>\n",
       "      <td>7</td>\n",
       "      <td>7</td>\n",
       "      <td>223</td>\n",
       "      <td>548</td>\n",
       "      <td>6098</td>\n",
       "      <td>6883</td>\n",
       "    </tr>\n",
       "    <tr>\n",
       "      <th>광주동부경찰서</th>\n",
       "      <td>발생건수</td>\n",
       "      <td>3</td>\n",
       "      <td>5</td>\n",
       "      <td>92</td>\n",
       "      <td>1100</td>\n",
       "      <td>1155</td>\n",
       "      <td>2355</td>\n",
       "    </tr>\n",
       "    <tr>\n",
       "      <th>광주동부경찰서</th>\n",
       "      <td>검거건수</td>\n",
       "      <td>4</td>\n",
       "      <td>6</td>\n",
       "      <td>86</td>\n",
       "      <td>583</td>\n",
       "      <td>970</td>\n",
       "      <td>1649</td>\n",
       "    </tr>\n",
       "    <tr>\n",
       "      <th>광주동부경찰서</th>\n",
       "      <td>검거인원</td>\n",
       "      <td>4</td>\n",
       "      <td>7</td>\n",
       "      <td>98</td>\n",
       "      <td>447</td>\n",
       "      <td>1483</td>\n",
       "      <td>2039</td>\n",
       "    </tr>\n",
       "    <tr>\n",
       "      <th>광주동부경찰서</th>\n",
       "      <td>구속</td>\n",
       "      <td>3</td>\n",
       "      <td>2</td>\n",
       "      <td>8</td>\n",
       "      <td>13</td>\n",
       "      <td>10</td>\n",
       "      <td>36</td>\n",
       "    </tr>\n",
       "    <tr>\n",
       "      <th>광주동부경찰서</th>\n",
       "      <td>불구속</td>\n",
       "      <td>0</td>\n",
       "      <td>4</td>\n",
       "      <td>63</td>\n",
       "      <td>379</td>\n",
       "      <td>703</td>\n",
       "      <td>1149</td>\n",
       "    </tr>\n",
       "    <tr>\n",
       "      <th>광주동부경찰서</th>\n",
       "      <td>기타</td>\n",
       "      <td>1</td>\n",
       "      <td>1</td>\n",
       "      <td>27</td>\n",
       "      <td>55</td>\n",
       "      <td>770</td>\n",
       "      <td>854</td>\n",
       "    </tr>\n",
       "    <tr>\n",
       "      <th>광주서부경찰서</th>\n",
       "      <td>발생건수</td>\n",
       "      <td>5</td>\n",
       "      <td>10</td>\n",
       "      <td>172</td>\n",
       "      <td>2050</td>\n",
       "      <td>2483</td>\n",
       "      <td>4720</td>\n",
       "    </tr>\n",
       "    <tr>\n",
       "      <th>광주서부경찰서</th>\n",
       "      <td>검거건수</td>\n",
       "      <td>4</td>\n",
       "      <td>8</td>\n",
       "      <td>153</td>\n",
       "      <td>1471</td>\n",
       "      <td>2124</td>\n",
       "      <td>3760</td>\n",
       "    </tr>\n",
       "    <tr>\n",
       "      <th>광주서부경찰서</th>\n",
       "      <td>검거인원</td>\n",
       "      <td>4</td>\n",
       "      <td>15</td>\n",
       "      <td>167</td>\n",
       "      <td>876</td>\n",
       "      <td>3080</td>\n",
       "      <td>4142</td>\n",
       "    </tr>\n",
       "    <tr>\n",
       "      <th>광주서부경찰서</th>\n",
       "      <td>구속</td>\n",
       "      <td>3</td>\n",
       "      <td>10</td>\n",
       "      <td>7</td>\n",
       "      <td>27</td>\n",
       "      <td>19</td>\n",
       "      <td>66</td>\n",
       "    </tr>\n",
       "    <tr>\n",
       "      <th>광주서부경찰서</th>\n",
       "      <td>불구속</td>\n",
       "      <td>0</td>\n",
       "      <td>5</td>\n",
       "      <td>91</td>\n",
       "      <td>665</td>\n",
       "      <td>1366</td>\n",
       "      <td>2127</td>\n",
       "    </tr>\n",
       "    <tr>\n",
       "      <th>광주서부경찰서</th>\n",
       "      <td>기타</td>\n",
       "      <td>1</td>\n",
       "      <td>0</td>\n",
       "      <td>69</td>\n",
       "      <td>184</td>\n",
       "      <td>1695</td>\n",
       "      <td>1949</td>\n",
       "    </tr>\n",
       "    <tr>\n",
       "      <th>광주남부경찰서</th>\n",
       "      <td>발생건수</td>\n",
       "      <td>1</td>\n",
       "      <td>3</td>\n",
       "      <td>70</td>\n",
       "      <td>962</td>\n",
       "      <td>1081</td>\n",
       "      <td>2117</td>\n",
       "    </tr>\n",
       "    <tr>\n",
       "      <th>광주남부경찰서</th>\n",
       "      <td>검거건수</td>\n",
       "      <td>1</td>\n",
       "      <td>3</td>\n",
       "      <td>53</td>\n",
       "      <td>506</td>\n",
       "      <td>941</td>\n",
       "      <td>1504</td>\n",
       "    </tr>\n",
       "    <tr>\n",
       "      <th>광주남부경찰서</th>\n",
       "      <td>검거인원</td>\n",
       "      <td>1</td>\n",
       "      <td>3</td>\n",
       "      <td>52</td>\n",
       "      <td>418</td>\n",
       "      <td>1260</td>\n",
       "      <td>1734</td>\n",
       "    </tr>\n",
       "    <tr>\n",
       "      <th>광주남부경찰서</th>\n",
       "      <td>구속</td>\n",
       "      <td>0</td>\n",
       "      <td>3</td>\n",
       "      <td>3</td>\n",
       "      <td>19</td>\n",
       "      <td>3</td>\n",
       "      <td>28</td>\n",
       "    </tr>\n",
       "    <tr>\n",
       "      <th>광주남부경찰서</th>\n",
       "      <td>불구속</td>\n",
       "      <td>1</td>\n",
       "      <td>0</td>\n",
       "      <td>39</td>\n",
       "      <td>325</td>\n",
       "      <td>675</td>\n",
       "      <td>1040</td>\n",
       "    </tr>\n",
       "    <tr>\n",
       "      <th>광주남부경찰서</th>\n",
       "      <td>기타</td>\n",
       "      <td>0</td>\n",
       "      <td>0</td>\n",
       "      <td>10</td>\n",
       "      <td>74</td>\n",
       "      <td>582</td>\n",
       "      <td>666</td>\n",
       "    </tr>\n",
       "    <tr>\n",
       "      <th>광주북부경찰서</th>\n",
       "      <td>발생건수</td>\n",
       "      <td>5</td>\n",
       "      <td>14</td>\n",
       "      <td>256</td>\n",
       "      <td>2570</td>\n",
       "      <td>2621</td>\n",
       "      <td>5466</td>\n",
       "    </tr>\n",
       "    <tr>\n",
       "      <th>광주북부경찰서</th>\n",
       "      <td>검거건수</td>\n",
       "      <td>5</td>\n",
       "      <td>18</td>\n",
       "      <td>212</td>\n",
       "      <td>1852</td>\n",
       "      <td>2319</td>\n",
       "      <td>4406</td>\n",
       "    </tr>\n",
       "    <tr>\n",
       "      <th>광주북부경찰서</th>\n",
       "      <td>검거인원</td>\n",
       "      <td>5</td>\n",
       "      <td>28</td>\n",
       "      <td>216</td>\n",
       "      <td>948</td>\n",
       "      <td>3168</td>\n",
       "      <td>4365</td>\n",
       "    </tr>\n",
       "    <tr>\n",
       "      <th>광주북부경찰서</th>\n",
       "      <td>구속</td>\n",
       "      <td>3</td>\n",
       "      <td>11</td>\n",
       "      <td>11</td>\n",
       "      <td>30</td>\n",
       "      <td>10</td>\n",
       "      <td>65</td>\n",
       "    </tr>\n",
       "    <tr>\n",
       "      <th>광주북부경찰서</th>\n",
       "      <td>불구속</td>\n",
       "      <td>0</td>\n",
       "      <td>12</td>\n",
       "      <td>153</td>\n",
       "      <td>770</td>\n",
       "      <td>1544</td>\n",
       "      <td>2479</td>\n",
       "    </tr>\n",
       "    <tr>\n",
       "      <th>광주북부경찰서</th>\n",
       "      <td>기타</td>\n",
       "      <td>2</td>\n",
       "      <td>5</td>\n",
       "      <td>52</td>\n",
       "      <td>148</td>\n",
       "      <td>1614</td>\n",
       "      <td>1821</td>\n",
       "    </tr>\n",
       "    <tr>\n",
       "      <th>광주광산경찰서</th>\n",
       "      <td>발생건수</td>\n",
       "      <td>4</td>\n",
       "      <td>12</td>\n",
       "      <td>160</td>\n",
       "      <td>1743</td>\n",
       "      <td>2253</td>\n",
       "      <td>4172</td>\n",
       "    </tr>\n",
       "    <tr>\n",
       "      <th>광주광산경찰서</th>\n",
       "      <td>검거건수</td>\n",
       "      <td>4</td>\n",
       "      <td>10</td>\n",
       "      <td>135</td>\n",
       "      <td>996</td>\n",
       "      <td>1922</td>\n",
       "      <td>3067</td>\n",
       "    </tr>\n",
       "    <tr>\n",
       "      <th>광주광산경찰서</th>\n",
       "      <td>검거인원</td>\n",
       "      <td>3</td>\n",
       "      <td>8</td>\n",
       "      <td>129</td>\n",
       "      <td>736</td>\n",
       "      <td>2585</td>\n",
       "      <td>3461</td>\n",
       "    </tr>\n",
       "    <tr>\n",
       "      <th>광주광산경찰서</th>\n",
       "      <td>구속</td>\n",
       "      <td>0</td>\n",
       "      <td>4</td>\n",
       "      <td>5</td>\n",
       "      <td>12</td>\n",
       "      <td>6</td>\n",
       "      <td>27</td>\n",
       "    </tr>\n",
       "    <tr>\n",
       "      <th>광주광산경찰서</th>\n",
       "      <td>불구속</td>\n",
       "      <td>0</td>\n",
       "      <td>4</td>\n",
       "      <td>81</td>\n",
       "      <td>639</td>\n",
       "      <td>1181</td>\n",
       "      <td>1905</td>\n",
       "    </tr>\n",
       "    <tr>\n",
       "      <th>광주광산경찰서</th>\n",
       "      <td>기타</td>\n",
       "      <td>3</td>\n",
       "      <td>0</td>\n",
       "      <td>43</td>\n",
       "      <td>85</td>\n",
       "      <td>1398</td>\n",
       "      <td>1529</td>\n",
       "    </tr>\n",
       "  </tbody>\n",
       "</table>\n",
       "</div>"
      ],
      "text/plain": [
       "            구분  살인  강도  강간·강제추행    절도     폭력     총계\n",
       "관서명                                                \n",
       "광주지방경찰청계  발생건수  18  44      750  8425   9593  18830\n",
       "광주지방경찰청계  검거건수  18  47      758  5409   8301  14533\n",
       "광주지방경찰청계  검거인원  17  66      776  3433  11774  16066\n",
       "광주지방경찰청계    구속   9  33       42   104     58    246\n",
       "광주지방경찰청계   불구속   1  26      511  2781   5618   8937\n",
       "광주지방경찰청계    기타   7   7      223   548   6098   6883\n",
       "광주동부경찰서   발생건수   3   5       92  1100   1155   2355\n",
       "광주동부경찰서   검거건수   4   6       86   583    970   1649\n",
       "광주동부경찰서   검거인원   4   7       98   447   1483   2039\n",
       "광주동부경찰서     구속   3   2        8    13     10     36\n",
       "광주동부경찰서    불구속   0   4       63   379    703   1149\n",
       "광주동부경찰서     기타   1   1       27    55    770    854\n",
       "광주서부경찰서   발생건수   5  10      172  2050   2483   4720\n",
       "광주서부경찰서   검거건수   4   8      153  1471   2124   3760\n",
       "광주서부경찰서   검거인원   4  15      167   876   3080   4142\n",
       "광주서부경찰서     구속   3  10        7    27     19     66\n",
       "광주서부경찰서    불구속   0   5       91   665   1366   2127\n",
       "광주서부경찰서     기타   1   0       69   184   1695   1949\n",
       "광주남부경찰서   발생건수   1   3       70   962   1081   2117\n",
       "광주남부경찰서   검거건수   1   3       53   506    941   1504\n",
       "광주남부경찰서   검거인원   1   3       52   418   1260   1734\n",
       "광주남부경찰서     구속   0   3        3    19      3     28\n",
       "광주남부경찰서    불구속   1   0       39   325    675   1040\n",
       "광주남부경찰서     기타   0   0       10    74    582    666\n",
       "광주북부경찰서   발생건수   5  14      256  2570   2621   5466\n",
       "광주북부경찰서   검거건수   5  18      212  1852   2319   4406\n",
       "광주북부경찰서   검거인원   5  28      216   948   3168   4365\n",
       "광주북부경찰서     구속   3  11       11    30     10     65\n",
       "광주북부경찰서    불구속   0  12      153   770   1544   2479\n",
       "광주북부경찰서     기타   2   5       52   148   1614   1821\n",
       "광주광산경찰서   발생건수   4  12      160  1743   2253   4172\n",
       "광주광산경찰서   검거건수   4  10      135   996   1922   3067\n",
       "광주광산경찰서   검거인원   3   8      129   736   2585   3461\n",
       "광주광산경찰서     구속   0   4        5    12      6     27\n",
       "광주광산경찰서    불구속   0   4       81   639   1181   1905\n",
       "광주광산경찰서     기타   3   0       43    85   1398   1529"
      ]
     },
     "execution_count": 162,
     "metadata": {},
     "output_type": "execute_result"
    }
   ],
   "source": [
    "df2015"
   ]
  },
  {
   "cell_type": "markdown",
   "id": "5d18f17e-3f76-4072-b4a9-9d1998933748",
   "metadata": {},
   "source": [
    "#### 3. 구분 컬럼의 '발생건수'의 '총계' 가져오기"
   ]
  },
  {
   "cell_type": "code",
   "execution_count": 164,
   "id": "9b3ba701-e94c-44dd-9ecb-74f5e9d16fd6",
   "metadata": {},
   "outputs": [
    {
     "data": {
      "text/plain": [
       "관서명\n",
       "광주지방경찰청계    18830\n",
       "광주동부경찰서      2355\n",
       "광주서부경찰서      4720\n",
       "광주남부경찰서      2117\n",
       "광주북부경찰서      5466\n",
       "광주광산경찰서      4172\n",
       "Name: 총계, dtype: int64"
      ]
     },
     "execution_count": 164,
     "metadata": {},
     "output_type": "execute_result"
    }
   ],
   "source": [
    "# 구분 == '발생건수'\n",
    "\n",
    "s15 = df2015.loc[ df2015['구분']=='발생건수', '총계']\n",
    "# 행의 범위 : 조건식(불리언 인덱싱)\n",
    "# 열의 범위 : '총계'\n",
    "\n",
    "s15"
   ]
  },
  {
   "cell_type": "code",
   "execution_count": 165,
   "id": "3b7918d1-3708-42c6-bd32-1717585925af",
   "metadata": {},
   "outputs": [],
   "source": [
    "s16 = df2016.loc[ df2016['구분']=='발생건수', '총계']\n",
    "s17 = df2017.loc[ df2017['구분']=='발생건수', '총계']"
   ]
  },
  {
   "cell_type": "code",
   "execution_count": 166,
   "id": "7a0d9523-035e-4e4b-86fe-219a1741d118",
   "metadata": {},
   "outputs": [
    {
     "data": {
      "text/plain": [
       "관서명\n",
       "광주지방경찰청계    15416\n",
       "광주동부경찰서      2068\n",
       "광주서부경찰서      3892\n",
       "광주남부경찰서      1865\n",
       "광주북부경찰서      4148\n",
       "광주광산경찰서      3443\n",
       "Name: 총계, dtype: int64"
      ]
     },
     "execution_count": 166,
     "metadata": {},
     "output_type": "execute_result"
    }
   ],
   "source": [
    "s16"
   ]
  },
  {
   "cell_type": "code",
   "execution_count": 167,
   "id": "18965783-a994-4233-8992-68c80321fb47",
   "metadata": {},
   "outputs": [
    {
     "data": {
      "text/plain": [
       "관서명\n",
       "광주지방경찰청계    13949\n",
       "광주동부경찰서      1799\n",
       "광주서부경찰서      3638\n",
       "광주남부경찰서      1547\n",
       "광주북부경찰서      3945\n",
       "광주광산경찰서      3020\n",
       "Name: 총계, dtype: int64"
      ]
     },
     "execution_count": 167,
     "metadata": {},
     "output_type": "execute_result"
    }
   ],
   "source": [
    "s17"
   ]
  },
  {
   "cell_type": "code",
   "execution_count": null,
   "id": "e3aeceb7-db0e-4621-be54-1dbea5f032d4",
   "metadata": {},
   "outputs": [],
   "source": []
  },
  {
   "cell_type": "markdown",
   "id": "7aab4c29-77a0-43b7-8df3-e2cdd7da90d8",
   "metadata": {},
   "source": [
    "#### 4. 전년대비 범죄 발생 횟수 증감률 계산\n",
    "- 공식 : (금년 - 작년) / 작년 * 100"
   ]
  },
  {
   "cell_type": "code",
   "execution_count": 168,
   "id": "e9d40e50-4d55-46eb-87f0-38706daba5e4",
   "metadata": {},
   "outputs": [
    {
     "data": {
      "text/plain": [
       "관서명\n",
       "광주지방경찰청계   -18.130643\n",
       "광주동부경찰서    -12.186837\n",
       "광주서부경찰서    -17.542373\n",
       "광주남부경찰서    -11.903637\n",
       "광주북부경찰서    -24.112697\n",
       "광주광산경찰서    -17.473634\n",
       "Name: 총계, dtype: float64"
      ]
     },
     "execution_count": 168,
     "metadata": {},
     "output_type": "execute_result"
    }
   ],
   "source": [
    "# 15년~16년 사이의 범죄 증감률\n",
    "\n",
    "s1516 = (s16-s15)/s15*100\n",
    "s1516"
   ]
  },
  {
   "cell_type": "code",
   "execution_count": 169,
   "id": "5b0e9000-e03d-4882-8293-dea037422cea",
   "metadata": {},
   "outputs": [
    {
     "data": {
      "text/plain": [
       "관서명\n",
       "광주지방경찰청계    -9.516087\n",
       "광주동부경찰서    -13.007737\n",
       "광주서부경찰서     -6.526208\n",
       "광주남부경찰서    -17.050938\n",
       "광주북부경찰서     -4.893925\n",
       "광주광산경찰서    -12.285797\n",
       "Name: 총계, dtype: float64"
      ]
     },
     "execution_count": 169,
     "metadata": {},
     "output_type": "execute_result"
    }
   ],
   "source": [
    "# 16년~17년 사이의 범죄 증감률\n",
    "\n",
    "s1617 = (s17-s16)/s16*100\n",
    "s1617"
   ]
  },
  {
   "cell_type": "code",
   "execution_count": null,
   "id": "5ba7c033-7769-4e73-b60e-8a767847f436",
   "metadata": {},
   "outputs": [],
   "source": []
  },
  {
   "cell_type": "markdown",
   "id": "8435a26c-f045-4ee6-827e-63f5273fb19a",
   "metadata": {},
   "source": [
    "변수들 정리 (모두 Series 자료형이다)\n",
    "- s15 : 15년 범죄 발생건수 총계\n",
    "- s16 : 16년 범죄 발생건수 총계\n",
    "- s17 : 17년 범죄 발생건수 총계\n",
    "- s1516 : 15~16 범죄 증감률\n",
    "- s1617 : 16~17 범죄 증감률"
   ]
  },
  {
   "cell_type": "code",
   "execution_count": 171,
   "id": "39a1a0f8-3476-4720-8ad7-f7b3d1e75a12",
   "metadata": {},
   "outputs": [],
   "source": [
    "# pd.concat([DF or Series들], axis = 0 or 1) axis 생략시 0 (에이시스) (행방향 = 아래방향으로 쌓겠다.)\n",
    "# Series나 DF 병합할 때 사용"
   ]
  },
  {
   "cell_type": "code",
   "execution_count": 172,
   "id": "44116621-8978-4429-addc-21fae1faf4b2",
   "metadata": {},
   "outputs": [
    {
     "data": {
      "text/html": [
       "<div>\n",
       "<style scoped>\n",
       "    .dataframe tbody tr th:only-of-type {\n",
       "        vertical-align: middle;\n",
       "    }\n",
       "\n",
       "    .dataframe tbody tr th {\n",
       "        vertical-align: top;\n",
       "    }\n",
       "\n",
       "    .dataframe thead th {\n",
       "        text-align: right;\n",
       "    }\n",
       "</style>\n",
       "<table border=\"1\" class=\"dataframe\">\n",
       "  <thead>\n",
       "    <tr style=\"text-align: right;\">\n",
       "      <th></th>\n",
       "      <th>총계</th>\n",
       "      <th>총계</th>\n",
       "    </tr>\n",
       "    <tr>\n",
       "      <th>관서명</th>\n",
       "      <th></th>\n",
       "      <th></th>\n",
       "    </tr>\n",
       "  </thead>\n",
       "  <tbody>\n",
       "    <tr>\n",
       "      <th>광주지방경찰청계</th>\n",
       "      <td>18830</td>\n",
       "      <td>15416</td>\n",
       "    </tr>\n",
       "    <tr>\n",
       "      <th>광주동부경찰서</th>\n",
       "      <td>2355</td>\n",
       "      <td>2068</td>\n",
       "    </tr>\n",
       "    <tr>\n",
       "      <th>광주서부경찰서</th>\n",
       "      <td>4720</td>\n",
       "      <td>3892</td>\n",
       "    </tr>\n",
       "    <tr>\n",
       "      <th>광주남부경찰서</th>\n",
       "      <td>2117</td>\n",
       "      <td>1865</td>\n",
       "    </tr>\n",
       "    <tr>\n",
       "      <th>광주북부경찰서</th>\n",
       "      <td>5466</td>\n",
       "      <td>4148</td>\n",
       "    </tr>\n",
       "    <tr>\n",
       "      <th>광주광산경찰서</th>\n",
       "      <td>4172</td>\n",
       "      <td>3443</td>\n",
       "    </tr>\n",
       "  </tbody>\n",
       "</table>\n",
       "</div>"
      ],
      "text/plain": [
       "             총계     총계\n",
       "관서명                   \n",
       "광주지방경찰청계  18830  15416\n",
       "광주동부경찰서    2355   2068\n",
       "광주서부경찰서    4720   3892\n",
       "광주남부경찰서    2117   1865\n",
       "광주북부경찰서    5466   4148\n",
       "광주광산경찰서    4172   3443"
      ]
     },
     "execution_count": 172,
     "metadata": {},
     "output_type": "execute_result"
    }
   ],
   "source": [
    "pd.concat([s15,s16],axis=1) # 열방향 = 오른쪽으로 쌓겠다."
   ]
  },
  {
   "cell_type": "code",
   "execution_count": 174,
   "id": "cb7cc5a6-8214-48c6-bf4d-0d9f3e1b1aae",
   "metadata": {},
   "outputs": [
    {
     "data": {
      "text/html": [
       "<div>\n",
       "<style scoped>\n",
       "    .dataframe tbody tr th:only-of-type {\n",
       "        vertical-align: middle;\n",
       "    }\n",
       "\n",
       "    .dataframe tbody tr th {\n",
       "        vertical-align: top;\n",
       "    }\n",
       "\n",
       "    .dataframe thead th {\n",
       "        text-align: right;\n",
       "    }\n",
       "</style>\n",
       "<table border=\"1\" class=\"dataframe\">\n",
       "  <thead>\n",
       "    <tr style=\"text-align: right;\">\n",
       "      <th></th>\n",
       "      <th>2015총계</th>\n",
       "      <th>2015-2016증감률</th>\n",
       "      <th>2016총계</th>\n",
       "      <th>2016-2017증감률</th>\n",
       "      <th>2017총계</th>\n",
       "    </tr>\n",
       "    <tr>\n",
       "      <th>관서명</th>\n",
       "      <th></th>\n",
       "      <th></th>\n",
       "      <th></th>\n",
       "      <th></th>\n",
       "      <th></th>\n",
       "    </tr>\n",
       "  </thead>\n",
       "  <tbody>\n",
       "    <tr>\n",
       "      <th>광주지방경찰청계</th>\n",
       "      <td>18830</td>\n",
       "      <td>-18.130643</td>\n",
       "      <td>15416</td>\n",
       "      <td>-9.516087</td>\n",
       "      <td>13949</td>\n",
       "    </tr>\n",
       "    <tr>\n",
       "      <th>광주동부경찰서</th>\n",
       "      <td>2355</td>\n",
       "      <td>-12.186837</td>\n",
       "      <td>2068</td>\n",
       "      <td>-13.007737</td>\n",
       "      <td>1799</td>\n",
       "    </tr>\n",
       "    <tr>\n",
       "      <th>광주서부경찰서</th>\n",
       "      <td>4720</td>\n",
       "      <td>-17.542373</td>\n",
       "      <td>3892</td>\n",
       "      <td>-6.526208</td>\n",
       "      <td>3638</td>\n",
       "    </tr>\n",
       "    <tr>\n",
       "      <th>광주남부경찰서</th>\n",
       "      <td>2117</td>\n",
       "      <td>-11.903637</td>\n",
       "      <td>1865</td>\n",
       "      <td>-17.050938</td>\n",
       "      <td>1547</td>\n",
       "    </tr>\n",
       "    <tr>\n",
       "      <th>광주북부경찰서</th>\n",
       "      <td>5466</td>\n",
       "      <td>-24.112697</td>\n",
       "      <td>4148</td>\n",
       "      <td>-4.893925</td>\n",
       "      <td>3945</td>\n",
       "    </tr>\n",
       "    <tr>\n",
       "      <th>광주광산경찰서</th>\n",
       "      <td>4172</td>\n",
       "      <td>-17.473634</td>\n",
       "      <td>3443</td>\n",
       "      <td>-12.285797</td>\n",
       "      <td>3020</td>\n",
       "    </tr>\n",
       "  </tbody>\n",
       "</table>\n",
       "</div>"
      ],
      "text/plain": [
       "          2015총계  2015-2016증감률  2016총계  2016-2017증감률  2017총계\n",
       "관서명                                                         \n",
       "광주지방경찰청계   18830    -18.130643   15416     -9.516087   13949\n",
       "광주동부경찰서     2355    -12.186837    2068    -13.007737    1799\n",
       "광주서부경찰서     4720    -17.542373    3892     -6.526208    3638\n",
       "광주남부경찰서     2117    -11.903637    1865    -17.050938    1547\n",
       "광주북부경찰서     5466    -24.112697    4148     -4.893925    3945\n",
       "광주광산경찰서     4172    -17.473634    3443    -12.285797    3020"
      ]
     },
     "execution_count": 174,
     "metadata": {},
     "output_type": "execute_result"
    }
   ],
   "source": [
    "total = pd.concat([s15,s1516,s16,s1617,s17],axis=1)\n",
    "total.columns = ['2015총계','2015-2016증감률','2016총계','2016-2017증감률','2017총계']\n",
    "\n",
    "total"
   ]
  },
  {
   "cell_type": "code",
   "execution_count": 177,
   "id": "74280b74-9095-4cb2-a358-abccedd72e6d",
   "metadata": {},
   "outputs": [
    {
     "data": {
      "text/html": [
       "<style type=\"text/css\">\n",
       "</style>\n",
       "<table id=\"T_e0187\">\n",
       "  <thead>\n",
       "    <tr>\n",
       "      <th class=\"blank level0\" >&nbsp;</th>\n",
       "      <th id=\"T_e0187_level0_col0\" class=\"col_heading level0 col0\" >2015총계</th>\n",
       "      <th id=\"T_e0187_level0_col1\" class=\"col_heading level0 col1\" >2015-2016증감률</th>\n",
       "      <th id=\"T_e0187_level0_col2\" class=\"col_heading level0 col2\" >2016총계</th>\n",
       "      <th id=\"T_e0187_level0_col3\" class=\"col_heading level0 col3\" >2016-2017증감률</th>\n",
       "      <th id=\"T_e0187_level0_col4\" class=\"col_heading level0 col4\" >2017총계</th>\n",
       "    </tr>\n",
       "    <tr>\n",
       "      <th class=\"index_name level0\" >관서명</th>\n",
       "      <th class=\"blank col0\" >&nbsp;</th>\n",
       "      <th class=\"blank col1\" >&nbsp;</th>\n",
       "      <th class=\"blank col2\" >&nbsp;</th>\n",
       "      <th class=\"blank col3\" >&nbsp;</th>\n",
       "      <th class=\"blank col4\" >&nbsp;</th>\n",
       "    </tr>\n",
       "  </thead>\n",
       "  <tbody>\n",
       "    <tr>\n",
       "      <th id=\"T_e0187_level0_row0\" class=\"row_heading level0 row0\" >광주지방경찰청계</th>\n",
       "      <td id=\"T_e0187_row0_col0\" class=\"data row0 col0\" >18830.00%</td>\n",
       "      <td id=\"T_e0187_row0_col1\" class=\"data row0 col1\" >-18.13%</td>\n",
       "      <td id=\"T_e0187_row0_col2\" class=\"data row0 col2\" >15416.00%</td>\n",
       "      <td id=\"T_e0187_row0_col3\" class=\"data row0 col3\" >-9.52%</td>\n",
       "      <td id=\"T_e0187_row0_col4\" class=\"data row0 col4\" >13949.00%</td>\n",
       "    </tr>\n",
       "    <tr>\n",
       "      <th id=\"T_e0187_level0_row1\" class=\"row_heading level0 row1\" >광주동부경찰서</th>\n",
       "      <td id=\"T_e0187_row1_col0\" class=\"data row1 col0\" >2355.00%</td>\n",
       "      <td id=\"T_e0187_row1_col1\" class=\"data row1 col1\" >-12.19%</td>\n",
       "      <td id=\"T_e0187_row1_col2\" class=\"data row1 col2\" >2068.00%</td>\n",
       "      <td id=\"T_e0187_row1_col3\" class=\"data row1 col3\" >-13.01%</td>\n",
       "      <td id=\"T_e0187_row1_col4\" class=\"data row1 col4\" >1799.00%</td>\n",
       "    </tr>\n",
       "    <tr>\n",
       "      <th id=\"T_e0187_level0_row2\" class=\"row_heading level0 row2\" >광주서부경찰서</th>\n",
       "      <td id=\"T_e0187_row2_col0\" class=\"data row2 col0\" >4720.00%</td>\n",
       "      <td id=\"T_e0187_row2_col1\" class=\"data row2 col1\" >-17.54%</td>\n",
       "      <td id=\"T_e0187_row2_col2\" class=\"data row2 col2\" >3892.00%</td>\n",
       "      <td id=\"T_e0187_row2_col3\" class=\"data row2 col3\" >-6.53%</td>\n",
       "      <td id=\"T_e0187_row2_col4\" class=\"data row2 col4\" >3638.00%</td>\n",
       "    </tr>\n",
       "    <tr>\n",
       "      <th id=\"T_e0187_level0_row3\" class=\"row_heading level0 row3\" >광주남부경찰서</th>\n",
       "      <td id=\"T_e0187_row3_col0\" class=\"data row3 col0\" >2117.00%</td>\n",
       "      <td id=\"T_e0187_row3_col1\" class=\"data row3 col1\" >-11.90%</td>\n",
       "      <td id=\"T_e0187_row3_col2\" class=\"data row3 col2\" >1865.00%</td>\n",
       "      <td id=\"T_e0187_row3_col3\" class=\"data row3 col3\" >-17.05%</td>\n",
       "      <td id=\"T_e0187_row3_col4\" class=\"data row3 col4\" >1547.00%</td>\n",
       "    </tr>\n",
       "    <tr>\n",
       "      <th id=\"T_e0187_level0_row4\" class=\"row_heading level0 row4\" >광주북부경찰서</th>\n",
       "      <td id=\"T_e0187_row4_col0\" class=\"data row4 col0\" >5466.00%</td>\n",
       "      <td id=\"T_e0187_row4_col1\" class=\"data row4 col1\" >-24.11%</td>\n",
       "      <td id=\"T_e0187_row4_col2\" class=\"data row4 col2\" >4148.00%</td>\n",
       "      <td id=\"T_e0187_row4_col3\" class=\"data row4 col3\" >-4.89%</td>\n",
       "      <td id=\"T_e0187_row4_col4\" class=\"data row4 col4\" >3945.00%</td>\n",
       "    </tr>\n",
       "    <tr>\n",
       "      <th id=\"T_e0187_level0_row5\" class=\"row_heading level0 row5\" >광주광산경찰서</th>\n",
       "      <td id=\"T_e0187_row5_col0\" class=\"data row5 col0\" >4172.00%</td>\n",
       "      <td id=\"T_e0187_row5_col1\" class=\"data row5 col1\" >-17.47%</td>\n",
       "      <td id=\"T_e0187_row5_col2\" class=\"data row5 col2\" >3443.00%</td>\n",
       "      <td id=\"T_e0187_row5_col3\" class=\"data row5 col3\" >-12.29%</td>\n",
       "      <td id=\"T_e0187_row5_col4\" class=\"data row5 col4\" >3020.00%</td>\n",
       "    </tr>\n",
       "  </tbody>\n",
       "</table>\n"
      ],
      "text/plain": [
       "<pandas.io.formats.style.Styler at 0x1e743705f40>"
      ]
     },
     "execution_count": 177,
     "metadata": {},
     "output_type": "execute_result"
    }
   ],
   "source": [
    "total.style.format('{:.2f}%')\n",
    "\n",
    "# : (포멧 옵션 시작)\n",
    "# .2 (소수점 자리수)\n",
    "# f (부동소수점)\n",
    "# % (뒤에 %붙이겠단 뜻) "
   ]
  },
  {
   "cell_type": "code",
   "execution_count": 178,
   "id": "32ef0d79-220f-46a5-9395-22b3f2a8e705",
   "metadata": {},
   "outputs": [
    {
     "data": {
      "text/html": [
       "<style type=\"text/css\">\n",
       "</style>\n",
       "<table id=\"T_df68b\">\n",
       "  <thead>\n",
       "    <tr>\n",
       "      <th class=\"blank level0\" >&nbsp;</th>\n",
       "      <th id=\"T_df68b_level0_col0\" class=\"col_heading level0 col0\" >2015총계</th>\n",
       "      <th id=\"T_df68b_level0_col1\" class=\"col_heading level0 col1\" >2015-2016증감률</th>\n",
       "      <th id=\"T_df68b_level0_col2\" class=\"col_heading level0 col2\" >2016총계</th>\n",
       "      <th id=\"T_df68b_level0_col3\" class=\"col_heading level0 col3\" >2016-2017증감률</th>\n",
       "      <th id=\"T_df68b_level0_col4\" class=\"col_heading level0 col4\" >2017총계</th>\n",
       "    </tr>\n",
       "    <tr>\n",
       "      <th class=\"index_name level0\" >관서명</th>\n",
       "      <th class=\"blank col0\" >&nbsp;</th>\n",
       "      <th class=\"blank col1\" >&nbsp;</th>\n",
       "      <th class=\"blank col2\" >&nbsp;</th>\n",
       "      <th class=\"blank col3\" >&nbsp;</th>\n",
       "      <th class=\"blank col4\" >&nbsp;</th>\n",
       "    </tr>\n",
       "  </thead>\n",
       "  <tbody>\n",
       "    <tr>\n",
       "      <th id=\"T_df68b_level0_row0\" class=\"row_heading level0 row0\" >광주지방경찰청계</th>\n",
       "      <td id=\"T_df68b_row0_col0\" class=\"data row0 col0\" >18830</td>\n",
       "      <td id=\"T_df68b_row0_col1\" class=\"data row0 col1\" >-18.13%</td>\n",
       "      <td id=\"T_df68b_row0_col2\" class=\"data row0 col2\" >15416</td>\n",
       "      <td id=\"T_df68b_row0_col3\" class=\"data row0 col3\" >-9.516%</td>\n",
       "      <td id=\"T_df68b_row0_col4\" class=\"data row0 col4\" >13949</td>\n",
       "    </tr>\n",
       "    <tr>\n",
       "      <th id=\"T_df68b_level0_row1\" class=\"row_heading level0 row1\" >광주동부경찰서</th>\n",
       "      <td id=\"T_df68b_row1_col0\" class=\"data row1 col0\" >2355</td>\n",
       "      <td id=\"T_df68b_row1_col1\" class=\"data row1 col1\" >-12.19%</td>\n",
       "      <td id=\"T_df68b_row1_col2\" class=\"data row1 col2\" >2068</td>\n",
       "      <td id=\"T_df68b_row1_col3\" class=\"data row1 col3\" >-13.008%</td>\n",
       "      <td id=\"T_df68b_row1_col4\" class=\"data row1 col4\" >1799</td>\n",
       "    </tr>\n",
       "    <tr>\n",
       "      <th id=\"T_df68b_level0_row2\" class=\"row_heading level0 row2\" >광주서부경찰서</th>\n",
       "      <td id=\"T_df68b_row2_col0\" class=\"data row2 col0\" >4720</td>\n",
       "      <td id=\"T_df68b_row2_col1\" class=\"data row2 col1\" >-17.54%</td>\n",
       "      <td id=\"T_df68b_row2_col2\" class=\"data row2 col2\" >3892</td>\n",
       "      <td id=\"T_df68b_row2_col3\" class=\"data row2 col3\" >-6.526%</td>\n",
       "      <td id=\"T_df68b_row2_col4\" class=\"data row2 col4\" >3638</td>\n",
       "    </tr>\n",
       "    <tr>\n",
       "      <th id=\"T_df68b_level0_row3\" class=\"row_heading level0 row3\" >광주남부경찰서</th>\n",
       "      <td id=\"T_df68b_row3_col0\" class=\"data row3 col0\" >2117</td>\n",
       "      <td id=\"T_df68b_row3_col1\" class=\"data row3 col1\" >-11.90%</td>\n",
       "      <td id=\"T_df68b_row3_col2\" class=\"data row3 col2\" >1865</td>\n",
       "      <td id=\"T_df68b_row3_col3\" class=\"data row3 col3\" >-17.051%</td>\n",
       "      <td id=\"T_df68b_row3_col4\" class=\"data row3 col4\" >1547</td>\n",
       "    </tr>\n",
       "    <tr>\n",
       "      <th id=\"T_df68b_level0_row4\" class=\"row_heading level0 row4\" >광주북부경찰서</th>\n",
       "      <td id=\"T_df68b_row4_col0\" class=\"data row4 col0\" >5466</td>\n",
       "      <td id=\"T_df68b_row4_col1\" class=\"data row4 col1\" >-24.11%</td>\n",
       "      <td id=\"T_df68b_row4_col2\" class=\"data row4 col2\" >4148</td>\n",
       "      <td id=\"T_df68b_row4_col3\" class=\"data row4 col3\" >-4.894%</td>\n",
       "      <td id=\"T_df68b_row4_col4\" class=\"data row4 col4\" >3945</td>\n",
       "    </tr>\n",
       "    <tr>\n",
       "      <th id=\"T_df68b_level0_row5\" class=\"row_heading level0 row5\" >광주광산경찰서</th>\n",
       "      <td id=\"T_df68b_row5_col0\" class=\"data row5 col0\" >4172</td>\n",
       "      <td id=\"T_df68b_row5_col1\" class=\"data row5 col1\" >-17.47%</td>\n",
       "      <td id=\"T_df68b_row5_col2\" class=\"data row5 col2\" >3443</td>\n",
       "      <td id=\"T_df68b_row5_col3\" class=\"data row5 col3\" >-12.286%</td>\n",
       "      <td id=\"T_df68b_row5_col4\" class=\"data row5 col4\" >3020</td>\n",
       "    </tr>\n",
       "  </tbody>\n",
       "</table>\n"
      ],
      "text/plain": [
       "<pandas.io.formats.style.Styler at 0x1e743721e80>"
      ]
     },
     "execution_count": 178,
     "metadata": {},
     "output_type": "execute_result"
    }
   ],
   "source": [
    "total.style.format({\n",
    "    '2015-2016증감률':'{:.2f}%',\n",
    "    '2016-2017증감률':'{:.3f}%'\n",
    "})  #딕셔너리 형태로 바꿀 수 있다"
   ]
  },
  {
   "cell_type": "code",
   "execution_count": null,
   "id": "12bd3bf7-bcbf-4b9b-9e2b-fa141331f1c4",
   "metadata": {},
   "outputs": [],
   "source": []
  },
  {
   "cell_type": "code",
   "execution_count": null,
   "id": "45400fa0-162d-4a6a-b365-c2c8332e567f",
   "metadata": {},
   "outputs": [],
   "source": []
  },
  {
   "cell_type": "code",
   "execution_count": null,
   "id": "8aac1aa8-bebe-4188-b7a1-08d79326d992",
   "metadata": {},
   "outputs": [],
   "source": []
  },
  {
   "cell_type": "code",
   "execution_count": null,
   "id": "6264213c-97e5-415b-b613-6ded519df62d",
   "metadata": {},
   "outputs": [],
   "source": []
  },
  {
   "cell_type": "code",
   "execution_count": null,
   "id": "8c33a704-e06c-4375-ac79-2a81f5fabe6c",
   "metadata": {},
   "outputs": [],
   "source": []
  },
  {
   "cell_type": "code",
   "execution_count": null,
   "id": "02f71af0-f828-4ba9-b585-9b3ffe2363c8",
   "metadata": {},
   "outputs": [],
   "source": []
  },
  {
   "cell_type": "code",
   "execution_count": null,
   "id": "62f09c39-6cc5-4c2c-8c32-0bd2ff795482",
   "metadata": {},
   "outputs": [],
   "source": []
  },
  {
   "cell_type": "code",
   "execution_count": null,
   "id": "06291827-2482-423c-9c68-f41a80966e16",
   "metadata": {},
   "outputs": [],
   "source": []
  },
  {
   "cell_type": "code",
   "execution_count": null,
   "id": "26e46811-6ba1-406b-8b38-7e79ca0eb82b",
   "metadata": {},
   "outputs": [],
   "source": []
  },
  {
   "cell_type": "code",
   "execution_count": null,
   "id": "90c81d98-f480-496b-b1f2-54f3d1127a53",
   "metadata": {},
   "outputs": [],
   "source": []
  },
  {
   "cell_type": "code",
   "execution_count": null,
   "id": "6ec5d1d8-d400-4728-bf99-151334ab2a9f",
   "metadata": {},
   "outputs": [],
   "source": []
  },
  {
   "cell_type": "code",
   "execution_count": null,
   "id": "77824f1f-693f-4900-8443-06aa9274e2fa",
   "metadata": {},
   "outputs": [],
   "source": []
  },
  {
   "cell_type": "code",
   "execution_count": null,
   "id": "1e47efeb-29c9-42c1-9138-06b77a7b67a5",
   "metadata": {},
   "outputs": [],
   "source": []
  },
  {
   "cell_type": "code",
   "execution_count": null,
   "id": "47f05c9a-40a4-4d8e-9f90-e91d8f44fde9",
   "metadata": {},
   "outputs": [],
   "source": []
  },
  {
   "cell_type": "code",
   "execution_count": null,
   "id": "a96989f2-0032-4089-867f-e67c79bd8df6",
   "metadata": {},
   "outputs": [],
   "source": []
  },
  {
   "cell_type": "code",
   "execution_count": null,
   "id": "ed76aa27-081f-4ab3-b033-7ea11b62d816",
   "metadata": {},
   "outputs": [],
   "source": []
  },
  {
   "cell_type": "code",
   "execution_count": null,
   "id": "68ba3a34-1908-49c0-8338-25ec6ba7faf8",
   "metadata": {},
   "outputs": [],
   "source": []
  },
  {
   "cell_type": "code",
   "execution_count": null,
   "id": "936e0a7d-873c-4503-970c-8ed19e7bb140",
   "metadata": {},
   "outputs": [],
   "source": []
  },
  {
   "cell_type": "code",
   "execution_count": null,
   "id": "8dd3b294-d204-44bf-9cbe-df1ef742f0de",
   "metadata": {},
   "outputs": [],
   "source": []
  },
  {
   "cell_type": "code",
   "execution_count": null,
   "id": "a80e91a6-eb3d-4f45-a429-4bf04fa492af",
   "metadata": {},
   "outputs": [],
   "source": []
  },
  {
   "cell_type": "code",
   "execution_count": null,
   "id": "e1423f1d-adc7-4c89-8e17-3959fef5b84b",
   "metadata": {},
   "outputs": [],
   "source": []
  },
  {
   "cell_type": "code",
   "execution_count": null,
   "id": "2776026f-fbdb-4437-9a94-c640e9c4a773",
   "metadata": {},
   "outputs": [],
   "source": []
  },
  {
   "cell_type": "code",
   "execution_count": null,
   "id": "e012544a-eca5-449e-8875-a7ad291145de",
   "metadata": {},
   "outputs": [],
   "source": []
  },
  {
   "cell_type": "code",
   "execution_count": null,
   "id": "f8e1f1ea-8869-4e3d-9fd0-ba0f9274c58a",
   "metadata": {},
   "outputs": [],
   "source": []
  },
  {
   "cell_type": "code",
   "execution_count": null,
   "id": "63bdfe5d-a9bf-4ef9-9252-0c8fe265317f",
   "metadata": {},
   "outputs": [],
   "source": []
  },
  {
   "cell_type": "code",
   "execution_count": null,
   "id": "c2421d15-19a8-4ea0-8cfc-4c2f745bc836",
   "metadata": {},
   "outputs": [],
   "source": []
  },
  {
   "cell_type": "code",
   "execution_count": null,
   "id": "d9b4125a-ed7a-4160-99b4-612aaafd9043",
   "metadata": {},
   "outputs": [],
   "source": []
  },
  {
   "cell_type": "code",
   "execution_count": null,
   "id": "5d19f78c-288a-4253-bcd4-75a0f8667bb6",
   "metadata": {},
   "outputs": [],
   "source": []
  },
  {
   "cell_type": "code",
   "execution_count": null,
   "id": "9cd2f1bc-3a7f-4e05-a027-094fa30abe3a",
   "metadata": {},
   "outputs": [],
   "source": []
  }
 ],
 "metadata": {
  "kernelspec": {
   "display_name": "Python 3 (ipykernel)",
   "language": "python",
   "name": "python3"
  },
  "language_info": {
   "codemirror_mode": {
    "name": "ipython",
    "version": 3
   },
   "file_extension": ".py",
   "mimetype": "text/x-python",
   "name": "python",
   "nbconvert_exporter": "python",
   "pygments_lexer": "ipython3",
   "version": "3.12.4"
  }
 },
 "nbformat": 4,
 "nbformat_minor": 5
}
