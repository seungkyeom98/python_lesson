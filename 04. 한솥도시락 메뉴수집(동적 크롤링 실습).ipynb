{
 "cells": [
  {
   "cell_type": "markdown",
   "id": "578566ea-4954-4dc0-82d0-9464f3aaf834",
   "metadata": {},
   "source": [
    " ### 실습! 한솥도시락 메뉴 데이터 수집하기!\n",
    " - 링크 : https://www.hsd.co.kr/menu/menu_list "
   ]
  },
  {
   "cell_type": "code",
   "execution_count": 14,
   "id": "94fc78cd-ed8e-468a-b2b7-c1275ced6ca0",
   "metadata": {},
   "outputs": [],
   "source": [
    "#1. 테스트 브라우저\n",
    "#2. 요청\n",
    "#3. 더보기 버튼 클릭하기(파싱은 정적 크롤링때 하는 것.)\n",
    "#4. 수집 - 메뉴명, 가격 -> content 추출: .text\n",
    "#5. 저장(csv)"
   ]
  },
  {
   "cell_type": "code",
   "execution_count": 71,
   "id": "6f8e2187-8356-4e59-9add-a9b108002112",
   "metadata": {},
   "outputs": [],
   "source": [
    "import pandas as pd\n",
    "from selenium import webdriver as wb # 컴퓨터 전용 브라우저를 실행 및 관리하는 도구\n",
    "from selenium.webdriver.common.by import By # 요소 지정 방식을 제공하는 도구\n",
    "from selenium.webdriver.common.keys import Keys # 키보드 입력을 제공하는 도구\n",
    "import time #시간 지연 도구\n",
    "import requests as req # 요청하는 도구\n",
    "from bs4 import BeautifulSoup as bs # 파싱하는 도구"
   ]
  },
  {
   "cell_type": "code",
   "execution_count": 53,
   "id": "b386e751-7fc3-47d3-b104-53038e851a04",
   "metadata": {},
   "outputs": [],
   "source": [
    "#1. 테스트 브라우저\n",
    "driver = wb.Chrome()"
   ]
  },
  {
   "cell_type": "code",
   "execution_count": 54,
   "id": "401c4b09-1535-48ee-adaf-bc6046318ef7",
   "metadata": {},
   "outputs": [],
   "source": [
    "#2. 요청\n",
    "driver.get(\"https://www.hsd.co.kr/menu/menu_list\")"
   ]
  },
  {
   "cell_type": "code",
   "execution_count": 70,
   "id": "5aef497f-b1cd-4f5c-951f-0673d13c2827",
   "metadata": {},
   "outputs": [
    {
     "name": "stdout",
     "output_type": "stream",
     "text": [
      "더보기 완료~\n"
     ]
    }
   ],
   "source": [
    "#3. 더보기 버튼 클릭하기(파싱은 정적 크롤링때 HTML 다 긁어오는 것. 동적 크롤링의 .text하는게 더 편하다)\n",
    "while True:\n",
    "    try:\n",
    "        btn1= driver.find_element(By.CSS_SELECTOR, \"a.c_05\")\n",
    "        btn1.click()\n",
    "        time.sleep(2) #2초 정도 기다려!\n",
    "    except:\n",
    "        print(\"더보기 완료~\")\n",
    "        break\n",
    "#우클릭 -> copy -> 복사 : 고유 경로 반환!\n",
    "# ⚠️단, id값이 class처럼 사용되는 경우도 있음!\n",
    "\n",
    "#예를들어, 이렇게: #menuList_579 > div > div.item-text > h4   ,  #btn_more > span > a"
   ]
  },
  {
   "cell_type": "code",
   "execution_count": 73,
   "id": "f97d2954-9493-4a43-beda-1d4ecef3ccc6",
   "metadata": {
    "scrolled": true
   },
   "outputs": [
    {
     "data": {
      "text/plain": [
       "[<h4 class=\"h fz_03\">오모가리 김치제육덮밥</h4>,\n",
       " <h4 class=\"h fz_03\">빅 오모가리 김치제육덮밥</h4>,\n",
       " <h4 class=\"h fz_03\">한우 함박스테이크&amp; 청양 토네이도 소세지</h4>,\n",
       " <h4 class=\"h fz_03\">한우 함박스테이크&amp;토네이도 소세지</h4>,\n",
       " <h4 class=\"h fz_03\">제주녹차 미니꿀호떡</h4>,\n",
       " <h4 class=\"h fz_03\">사골 매생이 떡국</h4>,\n",
       " <h4 class=\"h fz_03\">불닭 치킨마요</h4>,\n",
       " <h4 class=\"h fz_03\">불닭 참치마요</h4>,\n",
       " <h4 class=\"h fz_03\">치킹 반반순살(양념, 후라이드)</h4>,\n",
       " <h4 class=\"h fz_03\">치킹 반반순살(후라이드)</h4>,\n",
       " <h4 class=\"h fz_03\">연잎 오리구이</h4>,\n",
       " <h4 class=\"h fz_03\">사골 조랭이떡 만둣국</h4>,\n",
       " <h4 class=\"h fz_03\">해바라기</h4>,\n",
       " <h4 class=\"h fz_03\">매화</h4>,\n",
       " <h4 class=\"h fz_03\">진달래</h4>,\n",
       " <h4 class=\"h fz_03\">돈까스도련님 고기고기</h4>,\n",
       " <h4 class=\"h fz_03\">새치 고기고기</h4>,\n",
       " <h4 class=\"h fz_03\">돈치 고기고기</h4>,\n",
       " <h4 class=\"h fz_03\">송정식 떡갈비 Ⅱ</h4>,\n",
       " <h4 class=\"h fz_03\">제육돈까스 도련님</h4>,\n",
       " <h4 class=\"h fz_03\">숯불직화구이</h4>,\n",
       " <h4 class=\"h fz_03\">소불고기</h4>,\n",
       " <h4 class=\"h fz_03\">메가치킨제육</h4>,\n",
       " <h4 class=\"h fz_03\">칠리 찹쌀탕수육도련님</h4>,\n",
       " <h4 class=\"h fz_03\">동백</h4>,\n",
       " <h4 class=\"h fz_03\">치킨제육</h4>,\n",
       " <h4 class=\"h fz_03\">돈까스도련님</h4>,\n",
       " <h4 class=\"h fz_03\">제육볶음</h4>,\n",
       " <h4 class=\"h fz_03\">믹스후라이</h4>,\n",
       " <h4 class=\"h fz_03\">돈치스팸</h4>,\n",
       " <h4 class=\"h fz_03\">송정식 떡갈비</h4>,\n",
       " <h4 class=\"h fz_03\">제육 김치찌개 정식</h4>,\n",
       " <h4 class=\"h fz_03\">빅치킨마요 김치 부대찌개 정식</h4>,\n",
       " <h4 class=\"h fz_03\">치킨마요 김치 부대찌개 정식</h4>,\n",
       " <h4 class=\"h fz_03\">빅치킨마요 김치찌개 정식</h4>,\n",
       " <h4 class=\"h fz_03\">치킨마요 김치찌개 정식</h4>,\n",
       " <h4 class=\"h fz_03\">메가스팸마요</h4>,\n",
       " <h4 class=\"h fz_03\">스팸마요</h4>,\n",
       " <h4 class=\"h fz_03\">메가치킨마요</h4>,\n",
       " <h4 class=\"h fz_03\">왕치킨마요</h4>,\n",
       " <h4 class=\"h fz_03\">빅치킨마요</h4>,\n",
       " <h4 class=\"h fz_03\">치킨마요</h4>,\n",
       " <h4 class=\"h fz_03\">참치마요</h4>,\n",
       " <h4 class=\"h fz_03\">돈치마요</h4>,\n",
       " <h4 class=\"h fz_03\">돈까스 카레</h4>,\n",
       " <h4 class=\"h fz_03\">스팸 김치볶음밥</h4>,\n",
       " <h4 class=\"h fz_03\">김치볶음밥</h4>,\n",
       " <h4 class=\"h fz_03\">스팸 철판볶음밥</h4>,\n",
       " <h4 class=\"h fz_03\">소불고기 철판볶음밥</h4>,\n",
       " <h4 class=\"h fz_03\">묵은지 김치찌개</h4>,\n",
       " <h4 class=\"h fz_03\">김치 부대찌개</h4>,\n",
       " <h4 class=\"h fz_03\">스페셜 하이라이스</h4>,\n",
       " <h4 class=\"h fz_03\">핫 치즈 닭갈비덮밥</h4>,\n",
       " <h4 class=\"h fz_03\">오리지널 치즈 닭갈비덮밥</h4>,\n",
       " <h4 class=\"h fz_03\">숯불직화구이 덮밥</h4>,\n",
       " <h4 class=\"h fz_03\">마파두부 덮밥</h4>,\n",
       " <h4 class=\"h fz_03\">왕카레돈까스덮밥</h4>,\n",
       " <h4 class=\"h fz_03\">새우돈까스 덮밥</h4>,\n",
       " <h4 class=\"h fz_03\">돈까스 덮밥</h4>,\n",
       " <h4 class=\"h fz_03\">아보카도 소불고기 명란 비빔밥</h4>,\n",
       " <h4 class=\"h fz_03\">소불고기 감초고추장 비빔밥</h4>,\n",
       " <h4 class=\"h fz_03\">시골제육 두부강된장 비빔밥</h4>,\n",
       " <h4 class=\"h fz_03\">참치야채 감초고추장 비빔밥</h4>,\n",
       " <h4 class=\"h fz_03\">튼튼도시락</h4>,\n",
       " <h4 class=\"h fz_03\">반찬 묵은지김치찌개</h4>,\n",
       " <h4 class=\"h fz_03\">반찬 카레</h4>,\n",
       " <h4 class=\"h fz_03\">반찬 순살 고등어 간장구이</h4>,\n",
       " <h4 class=\"h fz_03\">반찬 김치 부대찌개</h4>,\n",
       " <h4 class=\"h fz_03\">반찬 치킨</h4>,\n",
       " <h4 class=\"h fz_03\">반찬 고기고기</h4>,\n",
       " <h4 class=\"h fz_03\">반찬 돈까스도련님</h4>,\n",
       " <h4 class=\"h fz_03\">반찬 제육볶음</h4>,\n",
       " <h4 class=\"h fz_03\">반찬 토네이도 소세지</h4>,\n",
       " <h4 class=\"h fz_03\">반찬 돈까스</h4>,\n",
       " <h4 class=\"h fz_03\">치즈버터 해시 포테이토 스틱</h4>,\n",
       " <h4 class=\"h fz_03\">허니버터 해시 포테이토 스틱</h4>,\n",
       " <h4 class=\"h fz_03\">해시 포테이토 스틱</h4>,\n",
       " <h4 class=\"h fz_03\">뉴 감자고로케</h4>,\n",
       " <h4 class=\"h fz_03\">미니 찹쌀핫도그</h4>,\n",
       " <h4 class=\"h fz_03\">미니 찹쌀탕수육</h4>,\n",
       " <h4 class=\"h fz_03\">케이준후라이</h4>,\n",
       " <h4 class=\"h fz_03\">멘치카츠</h4>,\n",
       " <h4 class=\"h fz_03\">김피탕</h4>,\n",
       " <h4 class=\"h fz_03\">빅김피탕</h4>,\n",
       " <h4 class=\"h fz_03\">통현미 닭강정(소)</h4>,\n",
       " <h4 class=\"h fz_03\">통현미 닭강정(중)</h4>,\n",
       " <h4 class=\"h fz_03\">후라이드 순살(중)</h4>,\n",
       " <h4 class=\"h fz_03\">후라이드 순살(소)_양념치킨소스</h4>,\n",
       " <h4 class=\"h fz_03\">후라이드 순살(소)_케이준소스</h4>,\n",
       " <h4 class=\"h fz_03\">3종 미니반찬B</h4>,\n",
       " <h4 class=\"h fz_03\">3종 미니반찬A</h4>,\n",
       " <h4 class=\"h fz_03\">오징어젓갈</h4>,\n",
       " <h4 class=\"h fz_03\">한솥 두부강된장소스</h4>,\n",
       " <h4 class=\"h fz_03\">한솥 감초볶음고추장소스</h4>,\n",
       " <h4 class=\"h fz_03\">볶음김치</h4>,\n",
       " <h4 class=\"h fz_03\">김치</h4>,\n",
       " <h4 class=\"h fz_03\">무말랭이 무침</h4>,\n",
       " <h4 class=\"h fz_03\">한솥밥</h4>,\n",
       " <h4 class=\"h fz_03\">현미밥</h4>,\n",
       " <h4 class=\"h fz_03\">리얼꿀 미니호떡</h4>]"
      ]
     },
     "execution_count": 73,
     "metadata": {},
     "output_type": "execute_result"
    }
   ],
   "source": [
    "# 4. 수집 - 메뉴명, 가격 -> req, bs\n",
    "\n",
    "soup=bs(driver.page_source,\"lxml\")\n",
    "soup.select(\"div > div.item-text > h4\")"
   ]
  },
  {
   "cell_type": "code",
   "execution_count": 58,
   "id": "4f34b8a8-722f-4edc-9e0d-b13ce29807c9",
   "metadata": {},
   "outputs": [],
   "source": [
    "#4. 수집\n",
    "                            #menuList_475 > div > div.item-text > h4 -> #아이디만 지운다.\n",
    "menu= driver.find_elements(By.CSS_SELECTOR,\"div > div.item-text > h4\")\n",
    "price=driver.find_elements(By.CLASS_NAME,\"item-price\")\n",
    "\n",
    "# menu.text\n",
    "menuList=[]\n",
    "priceList=[]\n",
    "for i in range(len(menu)):\n",
    "    menuList.append(menu[i].text)\n",
    "    priceList.append(price[i].text)\n",
    "\n",
    "    \n",
    "# menuList=[check.text for check in menu]\n",
    "# menuList"
   ]
  },
  {
   "cell_type": "code",
   "execution_count": 62,
   "id": "548194b1-a191-4e99-9b99-9d204125acf1",
   "metadata": {},
   "outputs": [
    {
     "data": {
      "text/plain": [
       "(100, 100)"
      ]
     },
     "execution_count": 62,
     "metadata": {},
     "output_type": "execute_result"
    }
   ],
   "source": [
    "menuList=[menu[i].text for i in range(len(menu))]\n",
    "priceList=[price[i].text for i in range(len(price))]\n",
    "len(menuList), len(priceList)"
   ]
  },
  {
   "cell_type": "code",
   "execution_count": 72,
   "id": "d08bd607-05fb-49e3-89df-9a5b9b0940a8",
   "metadata": {
    "scrolled": true
   },
   "outputs": [],
   "source": [
    "#5. 저장(csv)\n",
    "dictMenu = {\n",
    "    \"메뉴명\":menuList,\n",
    "    \"가격\":priceList\n",
    "}\n",
    "#DF제작\n",
    "menuDF= pd.DataFrame(dictMenu)\n",
    "#csv로 변환\n",
    "menuDF.to_csv(\"./menuDF.csv\",encoding = \"utf-8\")"
   ]
  },
  {
   "cell_type": "code",
   "execution_count": null,
   "id": "e42e29aa-c180-4cf9-824b-8c67d364e77c",
   "metadata": {},
   "outputs": [],
   "source": []
  },
  {
   "cell_type": "code",
   "execution_count": 74,
   "id": "3a11b5f1-71e7-4d23-8728-6f4a5d6f8740",
   "metadata": {},
   "outputs": [],
   "source": [
    "driver.quit() #쿼잇"
   ]
  },
  {
   "cell_type": "code",
   "execution_count": null,
   "id": "43bdca35-a60f-4a0a-afe4-28b97b77e622",
   "metadata": {},
   "outputs": [],
   "source": []
  },
  {
   "cell_type": "code",
   "execution_count": null,
   "id": "d3962eaa-fb71-41a6-a8f4-a0bbbb1519ef",
   "metadata": {},
   "outputs": [],
   "source": []
  },
  {
   "cell_type": "code",
   "execution_count": null,
   "id": "a18cebca-8fc2-4631-a921-945e94c8164c",
   "metadata": {},
   "outputs": [],
   "source": []
  },
  {
   "cell_type": "code",
   "execution_count": null,
   "id": "2d1c8202-9056-44c0-9ce8-b8631dfa1d87",
   "metadata": {},
   "outputs": [],
   "source": []
  },
  {
   "cell_type": "code",
   "execution_count": null,
   "id": "f373b7fe-8fde-4d99-be31-f3d0cbc43343",
   "metadata": {},
   "outputs": [],
   "source": []
  },
  {
   "cell_type": "code",
   "execution_count": null,
   "id": "a0cdc784-f965-42b3-9506-0360c82a9dbe",
   "metadata": {},
   "outputs": [],
   "source": []
  },
  {
   "cell_type": "code",
   "execution_count": null,
   "id": "c4d01996-56ab-4dfd-acb0-72cb3047c6e0",
   "metadata": {},
   "outputs": [],
   "source": []
  },
  {
   "cell_type": "code",
   "execution_count": null,
   "id": "7e20a8d8-d724-40bc-98e7-b8764d79a214",
   "metadata": {},
   "outputs": [],
   "source": []
  },
  {
   "cell_type": "code",
   "execution_count": null,
   "id": "703520bf-9ea4-45a1-bff2-17dfef39fcca",
   "metadata": {},
   "outputs": [],
   "source": []
  },
  {
   "cell_type": "code",
   "execution_count": null,
   "id": "1b748b4c-ab36-4759-9027-a23082c753c4",
   "metadata": {},
   "outputs": [],
   "source": []
  },
  {
   "cell_type": "code",
   "execution_count": null,
   "id": "af6139b5-0a77-4f6d-bd5c-67949027759a",
   "metadata": {},
   "outputs": [],
   "source": []
  },
  {
   "cell_type": "code",
   "execution_count": null,
   "id": "4167d0e3-72e0-468d-a706-e99d67aaca70",
   "metadata": {},
   "outputs": [],
   "source": []
  },
  {
   "cell_type": "code",
   "execution_count": null,
   "id": "26560747-87a9-4eb8-9c02-3fd40429b622",
   "metadata": {},
   "outputs": [],
   "source": []
  },
  {
   "cell_type": "code",
   "execution_count": null,
   "id": "600d339b-4be7-4e2b-9cc2-4ee8bc5714b3",
   "metadata": {},
   "outputs": [],
   "source": []
  },
  {
   "cell_type": "code",
   "execution_count": null,
   "id": "3f57a68e-710e-48b2-8bae-243aa9b20595",
   "metadata": {},
   "outputs": [],
   "source": []
  },
  {
   "cell_type": "code",
   "execution_count": null,
   "id": "bf679329-68e4-46d6-b506-0623b1ca68e7",
   "metadata": {},
   "outputs": [],
   "source": []
  },
  {
   "cell_type": "code",
   "execution_count": null,
   "id": "a237aa13-c521-49ad-afdd-59eb2aa63e98",
   "metadata": {},
   "outputs": [],
   "source": []
  },
  {
   "cell_type": "code",
   "execution_count": null,
   "id": "371840c8-9e61-4593-8c99-f05c48ac5763",
   "metadata": {},
   "outputs": [],
   "source": []
  },
  {
   "cell_type": "code",
   "execution_count": null,
   "id": "5d8fcb4c-6255-4ebb-b72c-3afcfe0a27d5",
   "metadata": {},
   "outputs": [],
   "source": []
  },
  {
   "cell_type": "code",
   "execution_count": null,
   "id": "23ecd02f-d9fc-412d-b997-93fe0d4757d1",
   "metadata": {},
   "outputs": [],
   "source": []
  },
  {
   "cell_type": "code",
   "execution_count": null,
   "id": "7ff533b4-51e3-458a-a5cf-1781399cea3c",
   "metadata": {},
   "outputs": [],
   "source": []
  },
  {
   "cell_type": "code",
   "execution_count": null,
   "id": "d3e8dadc-caef-4f0a-bd06-9a31b23f73bb",
   "metadata": {},
   "outputs": [],
   "source": []
  },
  {
   "cell_type": "code",
   "execution_count": null,
   "id": "3d7ecd68-cb42-40c9-a1e6-0e8735f29c67",
   "metadata": {},
   "outputs": [],
   "source": []
  },
  {
   "cell_type": "code",
   "execution_count": null,
   "id": "14b62078-1050-4311-99a0-6f1565245a27",
   "metadata": {},
   "outputs": [],
   "source": []
  },
  {
   "cell_type": "code",
   "execution_count": null,
   "id": "53a2e45c-4cdb-48fa-ba3e-20c239881a24",
   "metadata": {},
   "outputs": [],
   "source": []
  },
  {
   "cell_type": "code",
   "execution_count": null,
   "id": "b42734c5-1353-4b3f-b8d6-1770ee87de70",
   "metadata": {},
   "outputs": [],
   "source": []
  },
  {
   "cell_type": "code",
   "execution_count": null,
   "id": "f50c3ba1-901b-45cd-8e7a-24fbbe1b96a0",
   "metadata": {},
   "outputs": [],
   "source": []
  },
  {
   "cell_type": "code",
   "execution_count": null,
   "id": "faa7b9d1-9c77-43a6-b13e-752f5b5d6f2b",
   "metadata": {},
   "outputs": [],
   "source": []
  },
  {
   "cell_type": "code",
   "execution_count": null,
   "id": "1b06da32-10c3-48e3-bcb6-e85c7ade985f",
   "metadata": {},
   "outputs": [],
   "source": []
  },
  {
   "cell_type": "code",
   "execution_count": null,
   "id": "d9fb887a-b9a2-4e58-a19d-f3f9cef73e99",
   "metadata": {},
   "outputs": [],
   "source": []
  },
  {
   "cell_type": "code",
   "execution_count": null,
   "id": "bb52c19e-1b1f-4542-b542-a8a8d0b65948",
   "metadata": {},
   "outputs": [],
   "source": []
  }
 ],
 "metadata": {
  "kernelspec": {
   "display_name": "Python 3 (ipykernel)",
   "language": "python",
   "name": "python3"
  },
  "language_info": {
   "codemirror_mode": {
    "name": "ipython",
    "version": 3
   },
   "file_extension": ".py",
   "mimetype": "text/x-python",
   "name": "python",
   "nbconvert_exporter": "python",
   "pygments_lexer": "ipython3",
   "version": "3.12.4"
  }
 },
 "nbformat": 4,
 "nbformat_minor": 5
}
