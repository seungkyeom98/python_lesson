{
 "cells": [
  {
   "cell_type": "markdown",
   "id": "44475856-d56c-4b07-82ae-e303e83ed358",
   "metadata": {},
   "source": [
    "Question1 "
   ]
  },
  {
   "cell_type": "markdown",
   "id": "61fbb868-8117-4157-a6d1-b07fbfa18499",
   "metadata": {},
   "source": [
    "문제1\n",
    "1-1 a\n",
    "1-2 f\n",
    "1-3 c\n",
    "1-4 h\n",
    "\n",
    "문제2\n",
    "웹 사이트의 정보를 수집하기 위해 작성한 코드를 웹 크롤러라고 하는데, 이를 이용해 데이터를 수집하는 행위를 웹 크롤링이라고 합니다.\n",
    "필요성은 단시간에 많은 정보를 수집할 수 있으며, 단순한 반복 작업도 자동화할 수 있고, 웹 사이트에 있는 수많은 정보 가운데 우리가 원하는 정보를 특정지어, 수집할 수 있습니다.(웹 크롤링으로 자동화로 정보를 수집하지 않으면, 데이터가 많아질수록 자신이 원하는 정보를 찾는데 시간이 그만큼 더 오래걸립니다)\n",
    "\n",
    "문제3\n",
    "beautifulSoup모듈은 크롤리하는 데 필요한 함수를 한데 모아 놓은 모듈입니다. 문자열 형태의 문서를 트리 구조로 파싱하는 데에 이용합니다.\n",
    "\n",
    "문제4\n",
    "1번은 1개의 데이터를 가져오고,\n",
    "2번은 여러개의 데이터를 iterable(시퀀스)형태로 가져와서, 각각의 데이터를 호출하려면, 인덱싱 혹은 슬라이싱을 이용해야합니다. \n",
    "\n",
    "문제5\n",
    "\"span#this_span\"\n",
    "text"
   ]
  },
  {
   "cell_type": "markdown",
   "id": "6d6a4cb0-fb3e-4b9b-bede-0d3438c4db55",
   "metadata": {},
   "source": [
    "Question2"
   ]
  },
  {
   "cell_type": "code",
   "execution_count": 8,
   "id": "80f45615-0e75-4143-8114-bbe8d0542154",
   "metadata": {},
   "outputs": [],
   "source": [
    "import pandas as pd\n",
    "from selenium import webdriver as wb # 컴퓨터 전용 브라우저를 실행 및 관리하는 도구\n",
    "from selenium.webdriver.common.by import By # 요소 지정 방식을 제공하는 도구\n",
    "from selenium.webdriver.common.keys import Keys # 키보드 입력을 제공하는 도구\n",
    "import time #시간 지연 도구\n",
    "import requests as req # 요청하는 도구\n",
    "from bs4 import BeautifulSoup as bs # 파싱하는 도구"
   ]
  },
  {
   "cell_type": "code",
   "execution_count": 2,
   "id": "0d891682-8d97-401e-aa2e-9763fab80b36",
   "metadata": {},
   "outputs": [],
   "source": [
    "# 컴퓨터 전용 브라우저 (테스트 브라우저)\n",
    "driver = wb.Chrome()\n",
    "# 1. url 요청\n",
    "driver.get(\"https://www.naver.com\")"
   ]
  },
  {
   "cell_type": "code",
   "execution_count": 3,
   "id": "4013bc5c-c262-43c4-ad14-f003e6d1b579",
   "metadata": {},
   "outputs": [],
   "source": [
    "# 검색란 찾기 -> 검색을 받는 요소를 지정\n",
    "search=driver.find_element(By.ID, \"query\")\n",
    "# 키보드 값을 보내는 함수\n",
    "search.send_keys(\"크롤링\")\n",
    "search.send_keys(Keys.ENTER)"
   ]
  },
  {
   "cell_type": "code",
   "execution_count": 4,
   "id": "874f4c61-1e82-4d55-8af6-34009d8dfe6d",
   "metadata": {},
   "outputs": [],
   "source": [
    "# 뒤로가기\n",
    "driver.back()"
   ]
  },
  {
   "cell_type": "code",
   "execution_count": 5,
   "id": "4221d7cf-e284-44c6-b1a5-98a9615f04e5",
   "metadata": {},
   "outputs": [],
   "source": [
    "search = driver.find_element(By.ID,\"query\")\n",
    "search.send_keys(\"크롤링\")"
   ]
  },
  {
   "cell_type": "code",
   "execution_count": 6,
   "id": "3b60dd6f-9a86-430a-a4ee-9fe28a3594db",
   "metadata": {},
   "outputs": [],
   "source": [
    "# 버튼 클릭도 가능!\n",
    "btn = driver.find_element(By.ID, \"search-btn\")\n",
    "btn.click()"
   ]
  },
  {
   "cell_type": "code",
   "execution_count": 7,
   "id": "cfaa98ff-92ba-4d2e-bf96-afe1dfb87c12",
   "metadata": {},
   "outputs": [],
   "source": [
    "driver.quit() "
   ]
  },
  {
   "cell_type": "markdown",
   "id": "fcb7bf16-50b6-4bca-88b2-8cbf64f2f318",
   "metadata": {},
   "source": [
    "Question3"
   ]
  },
  {
   "cell_type": "code",
   "execution_count": 36,
   "id": "e5d6520f-11d5-4daf-b9a7-eecedfc3457a",
   "metadata": {},
   "outputs": [],
   "source": [
    "#1. 테스트 브라우저\n",
    "driver = wb.Chrome()\n",
    "#2. 요청\n",
    "driver.get(\"https://www.gmarket.co.kr/n/best\")"
   ]
  },
  {
   "cell_type": "code",
   "execution_count": 15,
   "id": "4378d8c6-44e1-4c4d-8ed3-ad67bc2ad4aa",
   "metadata": {},
   "outputs": [],
   "source": [
    "#3. 수집 - 메뉴명, 가격 -> req, bs\n",
    "menu= driver.find_elements(By.CSS_SELECTOR,\"a > div.box__item-info > p\")[:20]\n",
    "price=driver.find_elements(By.CSS_SELECTOR,\"div.box__price-seller > span.text.text__value\")[:20]"
   ]
  },
  {
   "cell_type": "code",
   "execution_count": 16,
   "id": "875ee3f8-a7d8-4e98-a70f-e2c5b90ffe45",
   "metadata": {},
   "outputs": [],
   "source": [
    "# menu.text\n",
    "menuList=[]\n",
    "priceList=[]\n",
    "for i in range(len(menu)):\n",
    "    menuList.append(menu[i].text)\n",
    "    priceList.append(price[i].text)"
   ]
  },
  {
   "cell_type": "code",
   "execution_count": 17,
   "id": "bcb1cc6e-6988-4a42-8c15-0e5703576cf2",
   "metadata": {},
   "outputs": [
    {
     "data": {
      "text/plain": [
       "(20, 20)"
      ]
     },
     "execution_count": 17,
     "metadata": {},
     "output_type": "execute_result"
    }
   ],
   "source": [
    "menuList=[menu[i].text for i in range(len(menu))]\n",
    "priceList=[price[i].text for i in range(len(price))]\n",
    "len(menuList), len(priceList)"
   ]
  },
  {
   "cell_type": "code",
   "execution_count": 18,
   "id": "787555b1-0de4-4b5e-a16f-c39d4b468fba",
   "metadata": {},
   "outputs": [],
   "source": [
    "#5. 저장(csv)\n",
    "dictMenu = {\n",
    "    \"메뉴명\":menuList,\n",
    "    \"가격\":priceList\n",
    "}\n",
    "#DF제작\n",
    "menuDF= pd.DataFrame(dictMenu)"
   ]
  },
  {
   "cell_type": "code",
   "execution_count": 19,
   "id": "78cdff43-3e4c-4326-82d1-646477e3fb8d",
   "metadata": {
    "scrolled": true
   },
   "outputs": [
    {
     "data": {
      "text/html": [
       "<div>\n",
       "<style scoped>\n",
       "    .dataframe tbody tr th:only-of-type {\n",
       "        vertical-align: middle;\n",
       "    }\n",
       "\n",
       "    .dataframe tbody tr th {\n",
       "        vertical-align: top;\n",
       "    }\n",
       "\n",
       "    .dataframe thead th {\n",
       "        text-align: right;\n",
       "    }\n",
       "</style>\n",
       "<table border=\"1\" class=\"dataframe\">\n",
       "  <thead>\n",
       "    <tr style=\"text-align: right;\">\n",
       "      <th></th>\n",
       "      <th>메뉴명</th>\n",
       "      <th>가격</th>\n",
       "    </tr>\n",
       "  </thead>\n",
       "  <tbody>\n",
       "    <tr>\n",
       "      <th>0</th>\n",
       "      <td>(무료반품+30%)11/11 단하루 페이지플린 본격겨울 겨울신상 베스트 특가 코트/...</td>\n",
       "      <td>23,730</td>\n",
       "    </tr>\n",
       "    <tr>\n",
       "      <th>1</th>\n",
       "      <td>(15%/쿠폰가5870원) 1+1 포근 따뜻 털 실내화 외 생활용품 모음전</td>\n",
       "      <td>5,870</td>\n",
       "    </tr>\n",
       "    <tr>\n",
       "      <th>2</th>\n",
       "      <td>10% 스파클생수 2L 30병 (도착보장/무라벨생수)</td>\n",
       "      <td>12,030</td>\n",
       "    </tr>\n",
       "    <tr>\n",
       "      <th>3</th>\n",
       "      <td>BEST 생리대 (최대 76% 초특가/입오버 395원유기농 490원) 부드러운 블랙...</td>\n",
       "      <td>13,950</td>\n",
       "    </tr>\n",
       "    <tr>\n",
       "      <th>4</th>\n",
       "      <td>(사은품증정)베베쥬 10+15%/겨울 인기 신상 특가전/ 전상품 무료배송</td>\n",
       "      <td>9,980</td>\n",
       "    </tr>\n",
       "    <tr>\n",
       "      <th>5</th>\n",
       "      <td>(15%+10%) New 슈팅스타 캐치 티니핑 스티커/놀이북/색칠북/코디북 골라담기...</td>\n",
       "      <td>8,100</td>\n",
       "    </tr>\n",
       "    <tr>\n",
       "      <th>6</th>\n",
       "      <td>(신선집중) 20%+10% / 조은해남 절임배추 20kg 해남 절임배추 100%국내산</td>\n",
       "      <td>29,200</td>\n",
       "    </tr>\n",
       "    <tr>\n",
       "      <th>7</th>\n",
       "      <td>오뚜기 맛있는 오뚜기밥 200g 18개+18개 외 골라담기</td>\n",
       "      <td>26,320</td>\n",
       "    </tr>\n",
       "    <tr>\n",
       "      <th>8</th>\n",
       "      <td>아디다스 언더아머 아동 키즈 (10+5%쿠폰)4930원~ 긴팔 티셔츠 트랙자켓 트랙...</td>\n",
       "      <td>7,480</td>\n",
       "    </tr>\n",
       "    <tr>\n",
       "      <th>9</th>\n",
       "      <td>약산성 탈모완화샴푸 1350ml+1350ml+100ml 2세트70샴푸3세트두마</td>\n",
       "      <td>22,000</td>\n",
       "    </tr>\n",
       "    <tr>\n",
       "      <th>10</th>\n",
       "      <td>(공식) 노스페이스 24FW 다운 자켓/맨투맨/팬츠 BEST50</td>\n",
       "      <td>157,680</td>\n",
       "    </tr>\n",
       "    <tr>\n",
       "      <th>11</th>\n",
       "      <td>(10%+10%쿠폰+무료반품) 로즈맘 4900원대부터~FW신상/인기BEST의류 초특...</td>\n",
       "      <td>10,320</td>\n",
       "    </tr>\n",
       "    <tr>\n",
       "      <th>12</th>\n",
       "      <td>무료반품+(10%+20%/G단독가) 겨울신상/기모팬츠/융/빅사이즈/데님/슬랙스/면바...</td>\n",
       "      <td>14,630</td>\n",
       "    </tr>\n",
       "    <tr>\n",
       "      <th>13</th>\n",
       "      <td>영재사고력 수학 1031 키즈 세트</td>\n",
       "      <td>211,000</td>\n",
       "    </tr>\n",
       "    <tr>\n",
       "      <th>14</th>\n",
       "      <td>스파클생수 500ml 100병 (도착보장/무라벨)</td>\n",
       "      <td>14,280</td>\n",
       "    </tr>\n",
       "    <tr>\n",
       "      <th>15</th>\n",
       "      <td>키즈꼬모 가을시즌오프 + 겨울신상 등원룩 특가로 준비 상하복세트 아동복 등원복 가을...</td>\n",
       "      <td>6,930</td>\n",
       "    </tr>\n",
       "    <tr>\n",
       "      <th>16</th>\n",
       "      <td>무료배송 3M플러스와이퍼 균일가 행사/2개묶음 행사</td>\n",
       "      <td>8,550</td>\n",
       "    </tr>\n",
       "    <tr>\n",
       "      <th>17</th>\n",
       "      <td>(신선집중) 15%+10%/ 본죽 대용량 냉장 메추리알 장조림 1kg 2팩 외 2종</td>\n",
       "      <td>14,070</td>\n",
       "    </tr>\n",
       "    <tr>\n",
       "      <th>18</th>\n",
       "      <td>(신선집중) 22%+10%/ 서귀포인정 노지감귤 4.5kg 중대과 (L-2L) / ...</td>\n",
       "      <td>9,460</td>\n",
       "    </tr>\n",
       "    <tr>\n",
       "      <th>19</th>\n",
       "      <td>OLOLA 오로라 기저귀 4팩 모음전 (기저귀바우처 사용 가능) +생리대 증정</td>\n",
       "      <td>25,080</td>\n",
       "    </tr>\n",
       "  </tbody>\n",
       "</table>\n",
       "</div>"
      ],
      "text/plain": [
       "                                                  메뉴명       가격\n",
       "0   (무료반품+30%)11/11 단하루 페이지플린 본격겨울 겨울신상 베스트 특가 코트/...   23,730\n",
       "1           (15%/쿠폰가5870원) 1+1 포근 따뜻 털 실내화 외 생활용품 모음전    5,870\n",
       "2                       10% 스파클생수 2L 30병 (도착보장/무라벨생수)   12,030\n",
       "3   BEST 생리대 (최대 76% 초특가/입오버 395원유기농 490원) 부드러운 블랙...   13,950\n",
       "4            (사은품증정)베베쥬 10+15%/겨울 인기 신상 특가전/ 전상품 무료배송    9,980\n",
       "5   (15%+10%) New 슈팅스타 캐치 티니핑 스티커/놀이북/색칠북/코디북 골라담기...    8,100\n",
       "6     (신선집중) 20%+10% / 조은해남 절임배추 20kg 해남 절임배추 100%국내산   29,200\n",
       "7                    오뚜기 맛있는 오뚜기밥 200g 18개+18개 외 골라담기   26,320\n",
       "8   아디다스 언더아머 아동 키즈 (10+5%쿠폰)4930원~ 긴팔 티셔츠 트랙자켓 트랙...    7,480\n",
       "9         약산성 탈모완화샴푸 1350ml+1350ml+100ml 2세트70샴푸3세트두마   22,000\n",
       "10                (공식) 노스페이스 24FW 다운 자켓/맨투맨/팬츠 BEST50  157,680\n",
       "11  (10%+10%쿠폰+무료반품) 로즈맘 4900원대부터~FW신상/인기BEST의류 초특...   10,320\n",
       "12  무료반품+(10%+20%/G단독가) 겨울신상/기모팬츠/융/빅사이즈/데님/슬랙스/면바...   14,630\n",
       "13                                영재사고력 수학 1031 키즈 세트  211,000\n",
       "14                        스파클생수 500ml 100병 (도착보장/무라벨)   14,280\n",
       "15  키즈꼬모 가을시즌오프 + 겨울신상 등원룩 특가로 준비 상하복세트 아동복 등원복 가을...    6,930\n",
       "16                       무료배송 3M플러스와이퍼 균일가 행사/2개묶음 행사    8,550\n",
       "17     (신선집중) 15%+10%/ 본죽 대용량 냉장 메추리알 장조림 1kg 2팩 외 2종   14,070\n",
       "18  (신선집중) 22%+10%/ 서귀포인정 노지감귤 4.5kg 중대과 (L-2L) / ...    9,460\n",
       "19        OLOLA 오로라 기저귀 4팩 모음전 (기저귀바우처 사용 가능) +생리대 증정   25,080"
      ]
     },
     "execution_count": 19,
     "metadata": {},
     "output_type": "execute_result"
    }
   ],
   "source": [
    "menuDF"
   ]
  },
  {
   "cell_type": "code",
   "execution_count": 37,
   "id": "61a91a6f-8862-4271-88f5-14f32218512d",
   "metadata": {},
   "outputs": [],
   "source": [
    "driver.quit() #쿼잇"
   ]
  },
  {
   "cell_type": "markdown",
   "id": "2015018c-c910-448d-9494-e8e4ea4fcea8",
   "metadata": {},
   "source": [
    "Question4"
   ]
  },
  {
   "cell_type": "code",
   "execution_count": 22,
   "id": "c6f20970-d5b6-4594-b38b-a644cad10bef",
   "metadata": {},
   "outputs": [
    {
     "data": {
      "text/plain": [
       "<Response [200]>"
      ]
     },
     "execution_count": 22,
     "metadata": {},
     "output_type": "execute_result"
    }
   ],
   "source": [
    "# 1. 요청\n",
    "url = \"https://www.melon.com/chart/index.htm\"\n",
    "# 정확하게는 일반 사용자(크롬 브라우저)가 요청했다는 정보를 서버에서 확인할 수 있도록 User-Agent를 가져옴\n",
    "user_agent = {\"User-Agent\":\"Mozilla/5.0 (Windows NT 10.0; Win64; x64) AppleWebKit/537.36 (KHTML, like Gecko) Chrome/130.0.0.0 Safari/537.36\"}\n",
    "res=req.get(url, headers=user_agent) #header를 컴퓨터가 아니라, 유저_agent라고 속여서, 통신 성공!\n",
    "res"
   ]
  },
  {
   "cell_type": "code",
   "execution_count": 23,
   "id": "e4c4f004-ddcb-40e5-bd3e-4cc12f3c3fb6",
   "metadata": {},
   "outputs": [],
   "source": [
    "# 2. 파싱\n",
    "soup=bs(res.text,\"lxml\") "
   ]
  },
  {
   "cell_type": "code",
   "execution_count": 24,
   "id": "40674168-b0bd-473c-968f-83be6da6c672",
   "metadata": {},
   "outputs": [
    {
     "data": {
      "text/plain": [
       "100"
      ]
     },
     "execution_count": 24,
     "metadata": {},
     "output_type": "execute_result"
    }
   ],
   "source": [
    "titles=soup.select(\"div.ellipsis.rank01 > span > a\")\n",
    "len(titles)"
   ]
  },
  {
   "cell_type": "code",
   "execution_count": 25,
   "id": "05b9da77-a8a9-47f8-807e-2deabcc5e66c",
   "metadata": {},
   "outputs": [
    {
     "data": {
      "text/plain": [
       "100"
      ]
     },
     "execution_count": 25,
     "metadata": {},
     "output_type": "execute_result"
    }
   ],
   "source": [
    "singers=soup.select(\"div.ellipsis.rank02>span\")\n",
    "len(singers)"
   ]
  },
  {
   "cell_type": "code",
   "execution_count": 26,
   "id": "9fefb667-3ad6-4d38-b152-b3187b68255e",
   "metadata": {},
   "outputs": [],
   "source": [
    "# 수집한 데이터를 저장하기 쉽게 DataFrame으로 형변환\n",
    "# iterable = 시퀀스= 반복가능한 자료형들.\n",
    "title_list=[]\n",
    "singer_list=[]\n",
    "for i in range(len(singers)):\n",
    "    title_list.append(titles[i].text)\n",
    "    singer_list.append(singers[i].text)"
   ]
  },
  {
   "cell_type": "code",
   "execution_count": 27,
   "id": "dce89cd7-bb86-4d71-aa98-6e7c34df46f7",
   "metadata": {},
   "outputs": [
    {
     "data": {
      "text/html": [
       "<div>\n",
       "<style scoped>\n",
       "    .dataframe tbody tr th:only-of-type {\n",
       "        vertical-align: middle;\n",
       "    }\n",
       "\n",
       "    .dataframe tbody tr th {\n",
       "        vertical-align: top;\n",
       "    }\n",
       "\n",
       "    .dataframe thead th {\n",
       "        text-align: right;\n",
       "    }\n",
       "</style>\n",
       "<table border=\"1\" class=\"dataframe\">\n",
       "  <thead>\n",
       "    <tr style=\"text-align: right;\">\n",
       "      <th></th>\n",
       "      <th>노래제목</th>\n",
       "      <th>가수명</th>\n",
       "    </tr>\n",
       "  </thead>\n",
       "  <tbody>\n",
       "    <tr>\n",
       "      <th>1</th>\n",
       "      <td>APT.</td>\n",
       "      <td>로제 (ROSÉ), Bruno Mars</td>\n",
       "    </tr>\n",
       "    <tr>\n",
       "      <th>2</th>\n",
       "      <td>Whiplash</td>\n",
       "      <td>aespa</td>\n",
       "    </tr>\n",
       "    <tr>\n",
       "      <th>3</th>\n",
       "      <td>POWER</td>\n",
       "      <td>G-DRAGON</td>\n",
       "    </tr>\n",
       "    <tr>\n",
       "      <th>4</th>\n",
       "      <td>UP (KARINA Solo)</td>\n",
       "      <td>aespa</td>\n",
       "    </tr>\n",
       "    <tr>\n",
       "      <th>5</th>\n",
       "      <td>HAPPY</td>\n",
       "      <td>DAY6 (데이식스)</td>\n",
       "    </tr>\n",
       "    <tr>\n",
       "      <th>...</th>\n",
       "      <td>...</td>\n",
       "      <td>...</td>\n",
       "    </tr>\n",
       "    <tr>\n",
       "      <th>96</th>\n",
       "      <td>Get A Guitar</td>\n",
       "      <td>RIIZE</td>\n",
       "    </tr>\n",
       "    <tr>\n",
       "      <th>97</th>\n",
       "      <td>Attention</td>\n",
       "      <td>NewJeans</td>\n",
       "    </tr>\n",
       "    <tr>\n",
       "      <th>98</th>\n",
       "      <td>Heaven</td>\n",
       "      <td>투모로우바이투게더</td>\n",
       "    </tr>\n",
       "    <tr>\n",
       "      <th>99</th>\n",
       "      <td>MEOW</td>\n",
       "      <td>MEOVV (미야오)</td>\n",
       "    </tr>\n",
       "    <tr>\n",
       "      <th>100</th>\n",
       "      <td>가까운 듯 먼 그대여</td>\n",
       "      <td>카더가든</td>\n",
       "    </tr>\n",
       "  </tbody>\n",
       "</table>\n",
       "<p>100 rows × 2 columns</p>\n",
       "</div>"
      ],
      "text/plain": [
       "                 노래제목                    가수명\n",
       "1                APT.  로제 (ROSÉ), Bruno Mars\n",
       "2            Whiplash                  aespa\n",
       "3               POWER               G-DRAGON\n",
       "4    UP (KARINA Solo)                  aespa\n",
       "5               HAPPY            DAY6 (데이식스)\n",
       "..                ...                    ...\n",
       "96       Get A Guitar                  RIIZE\n",
       "97          Attention               NewJeans\n",
       "98             Heaven              투모로우바이투게더\n",
       "99               MEOW            MEOVV (미야오)\n",
       "100       가까운 듯 먼 그대여                   카더가든\n",
       "\n",
       "[100 rows x 2 columns]"
      ]
     },
     "execution_count": 27,
     "metadata": {},
     "output_type": "execute_result"
    }
   ],
   "source": [
    "dict_melon = {\n",
    "    \"노래제목\":title_list,\n",
    "    \"가수명\":singer_list\n",
    "}\n",
    "\n",
    "melon_top100= pd.DataFrame(dict_melon,index=range(1,101))\n",
    "melon_top100"
   ]
  },
  {
   "cell_type": "code",
   "execution_count": 28,
   "id": "071a45c4-250b-4dae-bdbf-370aab74b04c",
   "metadata": {},
   "outputs": [],
   "source": [
    "#4. 저장\n",
    "melon_top100.to_csv(\"./melon_top_100.csv\",encoding = \"utf-8\")"
   ]
  },
  {
   "cell_type": "markdown",
   "id": "160d0855-dfc1-47ed-9270-c283de471d17",
   "metadata": {},
   "source": [
    "Question5"
   ]
  },
  {
   "cell_type": "code",
   "execution_count": 29,
   "id": "93ca5a01-7600-46a4-bfcf-3573dd1d397e",
   "metadata": {},
   "outputs": [],
   "source": [
    "#1. 테스트 브라우저\n",
    "driver = wb.Chrome()\n",
    "#2. 요청\n",
    "driver.get(\"https://www.hsd.co.kr/menu/menu_list\")"
   ]
  },
  {
   "cell_type": "code",
   "execution_count": 30,
   "id": "d672d798-7b39-43fb-9812-466a113824ee",
   "metadata": {},
   "outputs": [
    {
     "name": "stdout",
     "output_type": "stream",
     "text": [
      "더보기 완료~\n"
     ]
    }
   ],
   "source": [
    "#3. 더보기 버튼 클릭하기(파싱은 정적 크롤링때 HTML 다 긁어오는 것. 동적 크롤링의 .text하는게 더 편하다)\n",
    "while True:\n",
    "    try:\n",
    "        btn1= driver.find_element(By.CSS_SELECTOR, \"a.c_05\")\n",
    "        btn1.click()\n",
    "        time.sleep(2) #2초 정도 기다려!\n",
    "    except:\n",
    "        print(\"더보기 완료~\")\n",
    "        break"
   ]
  },
  {
   "cell_type": "code",
   "execution_count": 32,
   "id": "cd320291-57a0-416a-8cce-db252c5ed6f7",
   "metadata": {},
   "outputs": [],
   "source": [
    "menu= driver.find_elements(By.CSS_SELECTOR,\"div > div.item-text > h4\")\n",
    "price=driver.find_elements(By.CLASS_NAME,\"item-price\")\n",
    "\n",
    "# menu.text\n",
    "menuList=[]\n",
    "priceList=[]\n",
    "for i in range(len(menu)):\n",
    "    menuList.append(menu[i].text)\n",
    "    priceList.append(price[i].text)"
   ]
  },
  {
   "cell_type": "code",
   "execution_count": 33,
   "id": "8a02b066-a453-45fc-afba-b3e947e68764",
   "metadata": {},
   "outputs": [
    {
     "data": {
      "text/html": [
       "<div>\n",
       "<style scoped>\n",
       "    .dataframe tbody tr th:only-of-type {\n",
       "        vertical-align: middle;\n",
       "    }\n",
       "\n",
       "    .dataframe tbody tr th {\n",
       "        vertical-align: top;\n",
       "    }\n",
       "\n",
       "    .dataframe thead th {\n",
       "        text-align: right;\n",
       "    }\n",
       "</style>\n",
       "<table border=\"1\" class=\"dataframe\">\n",
       "  <thead>\n",
       "    <tr style=\"text-align: right;\">\n",
       "      <th></th>\n",
       "      <th>메뉴명</th>\n",
       "      <th>가격</th>\n",
       "    </tr>\n",
       "  </thead>\n",
       "  <tbody>\n",
       "    <tr>\n",
       "      <th>0</th>\n",
       "      <td>오모가리 김치제육덮밥</td>\n",
       "      <td>4,900원</td>\n",
       "    </tr>\n",
       "    <tr>\n",
       "      <th>1</th>\n",
       "      <td>빅 오모가리 김치제육덮밥</td>\n",
       "      <td>5,500원</td>\n",
       "    </tr>\n",
       "    <tr>\n",
       "      <th>2</th>\n",
       "      <td>한우 함박스테이크&amp; 청양 토네이도 소세지</td>\n",
       "      <td>8,900원</td>\n",
       "    </tr>\n",
       "    <tr>\n",
       "      <th>3</th>\n",
       "      <td>한우 함박스테이크&amp;토네이도 소세지</td>\n",
       "      <td>8,900원</td>\n",
       "    </tr>\n",
       "    <tr>\n",
       "      <th>4</th>\n",
       "      <td>제주녹차 미니꿀호떡</td>\n",
       "      <td>2,500원</td>\n",
       "    </tr>\n",
       "    <tr>\n",
       "      <th>...</th>\n",
       "      <td>...</td>\n",
       "      <td>...</td>\n",
       "    </tr>\n",
       "    <tr>\n",
       "      <th>95</th>\n",
       "      <td>김치</td>\n",
       "      <td>500원</td>\n",
       "    </tr>\n",
       "    <tr>\n",
       "      <th>96</th>\n",
       "      <td>무말랭이 무침</td>\n",
       "      <td>500원</td>\n",
       "    </tr>\n",
       "    <tr>\n",
       "      <th>97</th>\n",
       "      <td>한솥밥</td>\n",
       "      <td>1,000원</td>\n",
       "    </tr>\n",
       "    <tr>\n",
       "      <th>98</th>\n",
       "      <td>현미밥</td>\n",
       "      <td>1,700원</td>\n",
       "    </tr>\n",
       "    <tr>\n",
       "      <th>99</th>\n",
       "      <td>리얼꿀 미니호떡</td>\n",
       "      <td>2,200원</td>\n",
       "    </tr>\n",
       "  </tbody>\n",
       "</table>\n",
       "<p>100 rows × 2 columns</p>\n",
       "</div>"
      ],
      "text/plain": [
       "                       메뉴명      가격\n",
       "0              오모가리 김치제육덮밥  4,900원\n",
       "1            빅 오모가리 김치제육덮밥  5,500원\n",
       "2   한우 함박스테이크& 청양 토네이도 소세지  8,900원\n",
       "3       한우 함박스테이크&토네이도 소세지  8,900원\n",
       "4               제주녹차 미니꿀호떡  2,500원\n",
       "..                     ...     ...\n",
       "95                      김치    500원\n",
       "96                 무말랭이 무침    500원\n",
       "97                     한솥밥  1,000원\n",
       "98                     현미밥  1,700원\n",
       "99                리얼꿀 미니호떡  2,200원\n",
       "\n",
       "[100 rows x 2 columns]"
      ]
     },
     "execution_count": 33,
     "metadata": {},
     "output_type": "execute_result"
    }
   ],
   "source": [
    "#5. 저장(csv)\n",
    "dictMenu = {\n",
    "    \"메뉴명\":menuList,\n",
    "    \"가격\":priceList\n",
    "}\n",
    "#DF제작\n",
    "menuDF= pd.DataFrame(dictMenu)\n",
    "menuDF"
   ]
  },
  {
   "cell_type": "code",
   "execution_count": 34,
   "id": "6f7ed587-3a89-4c0f-943c-ebef1fd57bb9",
   "metadata": {},
   "outputs": [],
   "source": [
    "#csv로 변환\n",
    "menuDF.to_csv(\"./menuDF.csv\",encoding = \"utf-8\")"
   ]
  },
  {
   "cell_type": "code",
   "execution_count": 35,
   "id": "36b47098-5b0f-4dd7-9a69-ceb30dcf9b19",
   "metadata": {},
   "outputs": [],
   "source": [
    "driver.quit() #쿼잇"
   ]
  },
  {
   "cell_type": "code",
   "execution_count": null,
   "id": "b49f7003-e5bf-4e30-8902-1ca8166a369c",
   "metadata": {},
   "outputs": [],
   "source": []
  },
  {
   "cell_type": "code",
   "execution_count": null,
   "id": "2cdd6986-5b2c-4cec-98f5-2f437232c110",
   "metadata": {},
   "outputs": [],
   "source": []
  },
  {
   "cell_type": "code",
   "execution_count": null,
   "id": "c4f900fa-1c20-429f-8685-316f301f4c5a",
   "metadata": {},
   "outputs": [],
   "source": []
  },
  {
   "cell_type": "code",
   "execution_count": null,
   "id": "2b8b68ca-7c8e-4972-8020-3b460330d827",
   "metadata": {},
   "outputs": [],
   "source": []
  },
  {
   "cell_type": "code",
   "execution_count": null,
   "id": "24660aac-9c16-4c68-b318-35039995e10b",
   "metadata": {},
   "outputs": [],
   "source": []
  },
  {
   "cell_type": "code",
   "execution_count": null,
   "id": "20ba0344-40c3-4433-9208-690d06d4faa3",
   "metadata": {},
   "outputs": [],
   "source": []
  }
 ],
 "metadata": {
  "kernelspec": {
   "display_name": "Python 3 (ipykernel)",
   "language": "python",
   "name": "python3"
  },
  "language_info": {
   "codemirror_mode": {
    "name": "ipython",
    "version": 3
   },
   "file_extension": ".py",
   "mimetype": "text/x-python",
   "name": "python",
   "nbconvert_exporter": "python",
   "pygments_lexer": "ipython3",
   "version": "3.12.4"
  }
 },
 "nbformat": 4,
 "nbformat_minor": 5
}
