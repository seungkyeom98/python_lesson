{
 "cells": [
  {
   "cell_type": "code",
   "execution_count": 1,
   "id": "61b50ff0-00de-4459-8835-bdd56fe2dc84",
   "metadata": {},
   "outputs": [],
   "source": [
    "import numpy as np\n",
    "import pandas as pd\n",
    "\n",
    "from selenium import webdriver as wb\n",
    "from selenium.webdriver.common.by import By\n",
    "from selenium.webdriver.common.keys import Keys\n",
    "\n",
    "import time\n",
    "from tqdm import tqdm"
   ]
  },
  {
   "cell_type": "code",
   "execution_count": 3,
   "id": "1b47aa0c-423d-4ea4-bef9-c8880b9835d7",
   "metadata": {},
   "outputs": [],
   "source": [
    "# 유튜브 - 사나고 영상 페이지\n",
    "url = \"https://www.youtube.com/watch?v=vEIjQYiiOvM&t=8s\""
   ]
  },
  {
   "cell_type": "code",
   "execution_count": 5,
   "id": "941515b7-544b-4155-aeae-091ce13f8866",
   "metadata": {},
   "outputs": [],
   "source": [
    "# 테스트 브라우저 열기\n",
    "driver = wb.Chrome()\n",
    "driver.get(url)"
   ]
  },
  {
   "cell_type": "code",
   "execution_count": 7,
   "id": "83e61e75-a877-4048-a27e-e83a89d28fb0",
   "metadata": {},
   "outputs": [],
   "source": [
    "driver.maximize_window()"
   ]
  },
  {
   "cell_type": "code",
   "execution_count": 9,
   "id": "ed9cdece-3b0f-4dfe-ba16-815f794151f8",
   "metadata": {},
   "outputs": [],
   "source": [
    "# 모든 댓글을 수집하기에는 시간이 많이 걸림...\n",
    "# 5번만 스크롤 하강 수행\n",
    "\n",
    "for i in range(5) : \n",
    "    body = driver.find_element(By.TAG_NAME, \"body\")\n",
    "    body.send_keys(Keys.END)\n",
    "    time.sleep(2)"
   ]
  },
  {
   "cell_type": "code",
   "execution_count": 13,
   "id": "e549a3c7-cfc4-4e00-81c6-9e43740c091c",
   "metadata": {},
   "outputs": [
    {
     "data": {
      "text/plain": [
       "''"
      ]
     },
     "execution_count": 13,
     "metadata": {},
     "output_type": "execute_result"
    }
   ],
   "source": [
    "driver.find_element(By.CSS_SELECTOR, \"yt-attributed-string\").text"
   ]
  },
  {
   "cell_type": "code",
   "execution_count": null,
   "id": "85194354-32c0-49b6-8033-f0c91e76d428",
   "metadata": {},
   "outputs": [],
   "source": []
  },
  {
   "cell_type": "code",
   "execution_count": null,
   "id": "65ef1943-575c-4dee-9b3a-81eb671086df",
   "metadata": {},
   "outputs": [],
   "source": []
  }
 ],
 "metadata": {
  "kernelspec": {
   "display_name": "Python 3 (ipykernel)",
   "language": "python",
   "name": "python3"
  },
  "language_info": {
   "codemirror_mode": {
    "name": "ipython",
    "version": 3
   },
   "file_extension": ".py",
   "mimetype": "text/x-python",
   "name": "python",
   "nbconvert_exporter": "python",
   "pygments_lexer": "ipython3",
   "version": "3.12.4"
  }
 },
 "nbformat": 4,
 "nbformat_minor": 5
}
