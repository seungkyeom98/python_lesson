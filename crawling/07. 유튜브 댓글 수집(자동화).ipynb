{
 "cells": [
  {
   "cell_type": "code",
   "execution_count": 1,
   "id": "61b50ff0-00de-4459-8835-bdd56fe2dc84",
   "metadata": {},
   "outputs": [],
   "source": [
    "import numpy as np\n",
    "import pandas as pd\n",
    "\n",
    "from selenium import webdriver as wb\n",
    "from selenium.webdriver.common.by import By\n",
    "from selenium.webdriver.common.keys import Keys\n",
    "\n",
    "import time\n",
    "from tqdm import tqdm"
   ]
  },
  {
   "cell_type": "code",
   "execution_count": 2,
   "id": "1b47aa0c-423d-4ea4-bef9-c8880b9835d7",
   "metadata": {},
   "outputs": [],
   "source": [
    "# 유튜브 - 사나고 영상 페이지\n",
    "url = \"https://www.youtube.com/watch?v=vEIjQYiiOvM&t=8s\""
   ]
  },
  {
   "cell_type": "code",
   "execution_count": 3,
   "id": "941515b7-544b-4155-aeae-091ce13f8866",
   "metadata": {},
   "outputs": [],
   "source": [
    "# 테스트 브라우저 열기\n",
    "driver = wb.Chrome()\n",
    "driver.get(url)"
   ]
  },
  {
   "cell_type": "code",
   "execution_count": 4,
   "id": "83e61e75-a877-4048-a27e-e83a89d28fb0",
   "metadata": {},
   "outputs": [],
   "source": [
    "driver.maximize_window()"
   ]
  },
  {
   "cell_type": "code",
   "execution_count": 5,
   "id": "ed9cdece-3b0f-4dfe-ba16-815f794151f8",
   "metadata": {},
   "outputs": [],
   "source": [
    "# 모든 댓글을 수집하기에는 시간이 많이 걸림...\n",
    "# 5번만 스크롤 하강 수행\n",
    "\n",
    "for i in range(5) : \n",
    "    body = driver.find_element(By.TAG_NAME, \"body\")\n",
    "    body.send_keys(Keys.END)\n",
    "    time.sleep(2)"
   ]
  },
  {
   "cell_type": "code",
   "execution_count": 6,
   "id": "e549a3c7-cfc4-4e00-81c6-9e43740c091c",
   "metadata": {},
   "outputs": [
    {
     "data": {
      "text/plain": [
       "'엄마 엄마! 나 사나고 사줘~!'"
      ]
     },
     "execution_count": 6,
     "metadata": {},
     "output_type": "execute_result"
    }
   ],
   "source": [
    "# 지정할 때 copy selector를 쓰던, 수기로 작성하던 항상 결과 확인!\n",
    "driver.find_elements(By.CSS_SELECTOR, \"yt-attributed-string#content-text\")[0].text"
   ]
  },
  {
   "cell_type": "code",
   "execution_count": 9,
   "id": "d09ca961-f5d0-4aae-b318-1d0a5d3077b3",
   "metadata": {},
   "outputs": [],
   "source": [
    "#content-text"
   ]
  },
  {
   "cell_type": "code",
   "execution_count": 7,
   "id": "dfcc3e92-ef98-4bb1-925f-75299a18532b",
   "metadata": {},
   "outputs": [],
   "source": [
    "# 리뷰와 좋아요 요소 지정\n",
    "reviews=driver.find_elements(By.CSS_SELECTOR, \"yt-attributed-string#content-text\")\n",
    "likes = driver.find_elements(By.CSS_SELECTOR, \"span#vote-count-middle\")"
   ]
  },
  {
   "cell_type": "code",
   "execution_count": 8,
   "id": "fcc40105-c07c-4f8e-8279-f81e59f5ad9e",
   "metadata": {},
   "outputs": [
    {
     "data": {
      "text/plain": [
       "(100, 100)"
      ]
     },
     "execution_count": 8,
     "metadata": {},
     "output_type": "execute_result"
    }
   ],
   "source": [
    "len(reviews), len(likes)"
   ]
  },
  {
   "cell_type": "code",
   "execution_count": 9,
   "id": "90fa1748-1e1a-4560-83bf-d66f584496dc",
   "metadata": {},
   "outputs": [
    {
     "data": {
      "text/plain": [
       "3000"
      ]
     },
     "execution_count": 9,
     "metadata": {},
     "output_type": "execute_result"
    }
   ],
   "source": [
    "int(float(likes[1].text.replace(\"천\",\"\"))*1000)"
   ]
  },
  {
   "cell_type": "code",
   "execution_count": 10,
   "id": "238818e5-f0da-4169-9934-6aea4933ba7b",
   "metadata": {},
   "outputs": [],
   "source": [
    "# 1. 좋아요가 없으면 0으로 채우기\n",
    "# 2. 단위로 글자가 들어가 있는 경우 변환\n",
    "\n",
    "reviews_list=[]\n",
    "like_list=[]\n",
    "\n",
    "#추출\n",
    "for i in range(len(reviews)):\n",
    "    reviews_list.append(reviews[i].text) #해당 리뷰 쌓아주기\n",
    "    # 좋아요가 없으면 0으로 채우기\n",
    "    if likes[i].text == \"\": #해당 리뷰에 좋아요가 없을때\n",
    "        like_list.append(0) #0으로 대체해서 쌓아주기\n",
    "    else:\n",
    "        try: #좋아요를 형변환(정수)해서 쌓아주기\n",
    "            like_list.append(int(likes[i].text)) #정수로 형변환 시도해보기!\n",
    "        except: #좋아요가 숫자값이 아닌 경우!\n",
    "            like_list.append(int(float(likes[i].text.replace(\"천\",\"\"))*1000))"
   ]
  },
  {
   "cell_type": "code",
   "execution_count": 11,
   "id": "022d5824-8efa-4acb-ac50-b7f2a254c0cb",
   "metadata": {},
   "outputs": [
    {
     "data": {
      "text/html": [
       "<div>\n",
       "<style scoped>\n",
       "    .dataframe tbody tr th:only-of-type {\n",
       "        vertical-align: middle;\n",
       "    }\n",
       "\n",
       "    .dataframe tbody tr th {\n",
       "        vertical-align: top;\n",
       "    }\n",
       "\n",
       "    .dataframe thead th {\n",
       "        text-align: right;\n",
       "    }\n",
       "</style>\n",
       "<table border=\"1\" class=\"dataframe\">\n",
       "  <thead>\n",
       "    <tr style=\"text-align: right;\">\n",
       "      <th></th>\n",
       "      <th>리뷰</th>\n",
       "      <th>좋아요 수</th>\n",
       "    </tr>\n",
       "  </thead>\n",
       "  <tbody>\n",
       "    <tr>\n",
       "      <th>0</th>\n",
       "      <td>엄마 엄마! 나 사나고 사줘~!</td>\n",
       "      <td>635</td>\n",
       "    </tr>\n",
       "    <tr>\n",
       "      <th>1</th>\n",
       "      <td>곧 문의 메일이 폭주할 사나고님입니다</td>\n",
       "      <td>3000</td>\n",
       "    </tr>\n",
       "    <tr>\n",
       "      <th>2</th>\n",
       "      <td>11:24 치마 훌렁~ 훌렁~ 하는고 왤케 귀여우셬ㅋㅋㅋㅋㅋㅋㅋㅋㅋ 목소리 중독적</td>\n",
       "      <td>160</td>\n",
       "    </tr>\n",
       "    <tr>\n",
       "      <th>3</th>\n",
       "      <td>왕크니까 왕귀엽습니다</td>\n",
       "      <td>410</td>\n",
       "    </tr>\n",
       "    <tr>\n",
       "      <th>4</th>\n",
       "      <td>11:25 훌렁 너무 웃기네 ㅋㅋㅋㅋㅋㅋㅋ</td>\n",
       "      <td>1500</td>\n",
       "    </tr>\n",
       "    <tr>\n",
       "      <th>...</th>\n",
       "      <td>...</td>\n",
       "      <td>...</td>\n",
       "    </tr>\n",
       "    <tr>\n",
       "      <th>95</th>\n",
       "      <td>티니핑  마니아로써 더 높은 퀄리티와 반짝이를 요청합니다...!! 다른 것도 해주세...</td>\n",
       "      <td>2</td>\n",
       "    </tr>\n",
       "    <tr>\n",
       "      <th>96</th>\n",
       "      <td>그냥 하츄핑이 아닌 플로라 하츄핑입니다..</td>\n",
       "      <td>4</td>\n",
       "    </tr>\n",
       "    <tr>\n",
       "      <th>97</th>\n",
       "      <td>확대해주셔서 감사해요 대리만족!!!!!\\n제가 좋아요 잘 누르는 사람은 아닌데\\n이...</td>\n",
       "      <td>0</td>\n",
       "    </tr>\n",
       "    <tr>\n",
       "      <th>98</th>\n",
       "      <td>2:45 아련...</td>\n",
       "      <td>5</td>\n",
       "    </tr>\n",
       "    <tr>\n",
       "      <th>99</th>\n",
       "      <td>잊을만하면 돌아오는 유트버</td>\n",
       "      <td>2</td>\n",
       "    </tr>\n",
       "  </tbody>\n",
       "</table>\n",
       "<p>100 rows × 2 columns</p>\n",
       "</div>"
      ],
      "text/plain": [
       "                                                   리뷰  좋아요 수\n",
       "0                                   엄마 엄마! 나 사나고 사줘~!    635\n",
       "1                                곧 문의 메일이 폭주할 사나고님입니다   3000\n",
       "2       11:24 치마 훌렁~ 훌렁~ 하는고 왤케 귀여우셬ㅋㅋㅋㅋㅋㅋㅋㅋㅋ 목소리 중독적    160\n",
       "3                                         왕크니까 왕귀엽습니다    410\n",
       "4                             11:25 훌렁 너무 웃기네 ㅋㅋㅋㅋㅋㅋㅋ   1500\n",
       "..                                                ...    ...\n",
       "95  티니핑  마니아로써 더 높은 퀄리티와 반짝이를 요청합니다...!! 다른 것도 해주세...      2\n",
       "96                            그냥 하츄핑이 아닌 플로라 하츄핑입니다..      4\n",
       "97  확대해주셔서 감사해요 대리만족!!!!!\\n제가 좋아요 잘 누르는 사람은 아닌데\\n이...      0\n",
       "98                                         2:45 아련...      5\n",
       "99                                     잊을만하면 돌아오는 유트버      2\n",
       "\n",
       "[100 rows x 2 columns]"
      ]
     },
     "execution_count": 11,
     "metadata": {},
     "output_type": "execute_result"
    }
   ],
   "source": [
    "re_dict={\n",
    "    \"리뷰\":reviews_list,\n",
    "    \"좋아요 수\":like_list\n",
    "}\n",
    "pd.DataFrame(re_dict)"
   ]
  },
  {
   "cell_type": "markdown",
   "id": "5743d591-3d88-4e1b-9f73-038115e19f9e",
   "metadata": {},
   "source": [
    "### 자동화\n",
    "- 시간을 트리거로 작동\n",
    "- 하나의 셀에 모든 코드들을 다 합치기 -> 함수화 -> 스케줄 사용"
   ]
  },
  {
   "cell_type": "code",
   "execution_count": 2,
   "id": "a527e80f-610e-495b-aeb0-2b1d66d6f77d",
   "metadata": {},
   "outputs": [],
   "source": [
    "def youtube_comments():\n",
    "    \"\"\"리뷰와 좋아요 수를 수집 후, DataFrame 형변환\"\"\"\n",
    "    # 유튜브 - 사나고 영상 페이지\n",
    "    url = \"https://www.youtube.com/watch?v=vEIjQYiiOvM&t=8s\"\n",
    "    \n",
    "    # 테스트 브라우저 열기\n",
    "    driver = wb.Chrome()\n",
    "    driver.get(url)\n",
    "    \n",
    "    driver.maximize_window()\n",
    "    \n",
    "    # 모든 댓글을 수집하기에는 시간이 많이 걸림...\n",
    "    # 5번만 스크롤 하강 수행\n",
    "    \n",
    "    for i in range(5) : \n",
    "        body = driver.find_element(By.TAG_NAME, \"body\")\n",
    "        body.send_keys(Keys.END)\n",
    "        time.sleep(2)\n",
    "    \n",
    "    # 지정할 때 copy selector를 쓰던, 수기로 작성하던 항상 결과 확인!\n",
    "    driver.find_elements(By.CSS_SELECTOR, \"yt-attributed-string#content-text\")[0].text\n",
    "    \n",
    "    #content-text\n",
    "    \n",
    "    # 리뷰와 좋아요 요소 지정\n",
    "    reviews=driver.find_elements(By.CSS_SELECTOR, \"yt-attributed-string#content-text\")\n",
    "    likes = driver.find_elements(By.CSS_SELECTOR, \"span#vote-count-middle\")\n",
    "    \n",
    "    # 1. 좋아요가 없으면 0으로 채우기\n",
    "    # 2. 단위로 글자가 들어가 있는 경우 변환\n",
    "    \n",
    "    reviews_list=[]\n",
    "    like_list=[]\n",
    "    \n",
    "    #추출\n",
    "    for i in range(len(reviews)):\n",
    "        reviews_list.append(reviews[i].text) #해당 리뷰 쌓아주기\n",
    "        # 좋아요가 없으면 0으로 채우기\n",
    "        if likes[i].text == \"\": #해당 리뷰에 좋아요가 없을때\n",
    "            like_list.append(0) #0으로 대체해서 쌓아주기\n",
    "        else:\n",
    "            try: #좋아요를 형변환(정수)해서 쌓아주기\n",
    "                like_list.append(int(likes[i].text)) #정수로 형변환 시도해보기!\n",
    "            except: #좋아요가 숫자값이 아닌 경우!\n",
    "                like_list.append(int(float(likes[i].text.replace(\"천\",\"\"))*1000))\n",
    "    \n",
    "    re_dict={\n",
    "        \"리뷰\":reviews_list,\n",
    "        \"좋아요 수\":like_list\n",
    "    }\n",
    "    df= pd.DataFrame(re_dict)\n",
    "    driver.quit()\n",
    "    return df"
   ]
  },
  {
   "cell_type": "code",
   "execution_count": 3,
   "id": "4be54b15-3c5f-44e2-a616-8a1ccef31aae",
   "metadata": {},
   "outputs": [],
   "source": [
    "# 파일로 저장하는 함수\n",
    "def save_to_csv(dataframe, filename): \n",
    "    \"\"\"csv저장\"\"\" #독스트링, 주석임\n",
    "    dataframe.to_csv(filename,index=False, encoding=\"utf-8\")\n",
    "    print(f\"{filename} 저장 완료\")"
   ]
  },
  {
   "cell_type": "code",
   "execution_count": 4,
   "id": "2e4ec08f-f26e-4d13-ad22-83d7c65cc90a",
   "metadata": {},
   "outputs": [],
   "source": [
    "# 작업 정의\n",
    "def job():\n",
    "    print(\"작업을 시작합니다.\")\n",
    "    data= youtube_comments()\n",
    "    save_to_csv(data,filename=f\"youtube_comments_{time.strftime(\"%Y%m%d_%H%M%S\")}.csv\") #매번 다른 파일명으로 저장\n",
    "    print(\"작업을 완료하였습니다.\")"
   ]
  },
  {
   "cell_type": "code",
   "execution_count": 36,
   "id": "ac1ad856-11df-4e2c-926f-d6a86fc87067",
   "metadata": {},
   "outputs": [
    {
     "data": {
      "text/plain": [
       "'20241108_102008'"
      ]
     },
     "execution_count": 36,
     "metadata": {},
     "output_type": "execute_result"
    }
   ],
   "source": [
    "time.strftime(\"%Y%m%d_%H%M%S\")"
   ]
  },
  {
   "cell_type": "markdown",
   "id": "86262cb3-cae0-4623-b708-4aa8e6fcda3d",
   "metadata": {},
   "source": [
    "#### Schedule Library"
   ]
  },
  {
   "cell_type": "code",
   "execution_count": 39,
   "id": "99169a61-cd74-40ca-b87f-bd7c26ee778c",
   "metadata": {},
   "outputs": [],
   "source": [
    "# !pip install schedule"
   ]
  },
  {
   "cell_type": "code",
   "execution_count": 5,
   "id": "c57eaf72-35c1-4bb4-9081-8c5f8bfc13be",
   "metadata": {},
   "outputs": [
    {
     "data": {
      "text/plain": [
       "Every 1 day at 10:35:00 do job() (last run: [never], next run: 2024-11-08 10:35:00)"
      ]
     },
     "execution_count": 5,
     "metadata": {},
     "output_type": "execute_result"
    }
   ],
   "source": [
    "import schedule\n",
    "#1. 스케줄에 작업을 등록\n",
    "schedule.every().day.at(\"10:35\").do(job)\n",
    "\n",
    "# every(): 일정간격마다 작업을 수행하겠다는 스케줄 설정\n",
    "# every(5): 5초마다 실행\n",
    "\n",
    "# day: 하루하루 반복\n",
    "# at: 시간대 설정\n",
    "#do(): 실행시킬 함수, 모듈"
   ]
  },
  {
   "cell_type": "code",
   "execution_count": null,
   "id": "17510bd7-48e8-4911-b09a-f8f183b8de85",
   "metadata": {},
   "outputs": [
    {
     "name": "stdout",
     "output_type": "stream",
     "text": [
      "작업을 시작합니다.\n",
      "youtube_comments_20241108_103613.csv 저장 완료\n",
      "작업을 완료하였습니다.\n"
     ]
    }
   ],
   "source": [
    "# 2. 스케줄대로 작업을 수행\n",
    "while True:\n",
    "    schedule.run_pending() # 현 시점에서 실행 될 준비가 된 작업을 실행\n",
    "    time.sleep(60)"
   ]
  },
  {
   "cell_type": "code",
   "execution_count": null,
   "id": "4ca4a8e8-a92e-4c88-8d1c-a135777929c9",
   "metadata": {},
   "outputs": [],
   "source": []
  },
  {
   "cell_type": "code",
   "execution_count": null,
   "id": "eb748397-9dc8-4a3e-b849-15daa5274bb0",
   "metadata": {},
   "outputs": [],
   "source": []
  },
  {
   "cell_type": "code",
   "execution_count": null,
   "id": "f82d72fa-1375-49ef-b4c2-26dab271468e",
   "metadata": {},
   "outputs": [],
   "source": []
  },
  {
   "cell_type": "code",
   "execution_count": null,
   "id": "f82b27b3-8faf-44a6-b90f-4d03a6ad0419",
   "metadata": {},
   "outputs": [],
   "source": []
  },
  {
   "cell_type": "code",
   "execution_count": null,
   "id": "7e363d09-a011-4636-aeb2-dcf21bd03ed5",
   "metadata": {},
   "outputs": [],
   "source": []
  },
  {
   "cell_type": "code",
   "execution_count": null,
   "id": "e28febef-050f-4d86-a2ab-a4008cfca7ae",
   "metadata": {},
   "outputs": [],
   "source": []
  },
  {
   "cell_type": "code",
   "execution_count": null,
   "id": "65ef1943-575c-4dee-9b3a-81eb671086df",
   "metadata": {},
   "outputs": [],
   "source": []
  }
 ],
 "metadata": {
  "kernelspec": {
   "display_name": "Python 3 (ipykernel)",
   "language": "python",
   "name": "python3"
  },
  "language_info": {
   "codemirror_mode": {
    "name": "ipython",
    "version": 3
   },
   "file_extension": ".py",
   "mimetype": "text/x-python",
   "name": "python",
   "nbconvert_exporter": "python",
   "pygments_lexer": "ipython3",
   "version": "3.12.4"
  }
 },
 "nbformat": 4,
 "nbformat_minor": 5
}
