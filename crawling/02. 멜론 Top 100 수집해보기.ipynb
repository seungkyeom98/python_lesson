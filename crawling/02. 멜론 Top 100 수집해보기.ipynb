{
 "cells": [
  {
   "cell_type": "code",
   "execution_count": 42,
   "id": "0965f5ea-5ea3-4f42-87ff-db3b5b644e64",
   "metadata": {},
   "outputs": [],
   "source": [
    "import requests as req # 요청하는 도구\n",
    "from bs4 import BeautifulSoup as bs # 파싱하는 도구"
   ]
  },
  {
   "cell_type": "markdown",
   "id": "355ffd1f-852f-4119-b08e-d69f34901d84",
   "metadata": {},
   "source": [
    "### 멜론 음원차트 Top 100 데이터 수집\n",
    "- 노래 제목, 가수명 수집"
   ]
  },
  {
   "cell_type": "code",
   "execution_count": 43,
   "id": "e6b6988c-c3a0-4303-90a6-29987a10ed61",
   "metadata": {},
   "outputs": [
    {
     "data": {
      "text/plain": [
       "<Response [406]>"
      ]
     },
     "execution_count": 43,
     "metadata": {},
     "output_type": "execute_result"
    }
   ],
   "source": [
    "# 1. 요청\n",
    "url = \"https://www.melon.com/chart/index.htm\"\n",
    "\n",
    "req.get(url)\n",
    "# 멜론에서는 컴퓨터(req라이브러리)로 접근하는 것을 허용치 않음.."
   ]
  },
  {
   "cell_type": "code",
   "execution_count": 44,
   "id": "2dbfee26-8167-4340-b776-d03b6dae110d",
   "metadata": {},
   "outputs": [],
   "source": [
    "# 정확하게는 일반 사용자(크롬 브라우저)가 요청했다는 정보를 서버에서 확인할 수 있도록 User-Agent를 가져옴\n",
    "user_agent = {\"User-Agent\":\"Mozilla/5.0 (Windows NT 10.0; Win64; x64) AppleWebKit/537.36 (KHTML, like Gecko) Chrome/130.0.0.0 Safari/537.36\"}"
   ]
  },
  {
   "cell_type": "code",
   "execution_count": 45,
   "id": "8413679c-f059-4c87-915b-9ef9a27dd833",
   "metadata": {},
   "outputs": [
    {
     "data": {
      "text/plain": [
       "<Response [200]>"
      ]
     },
     "execution_count": 45,
     "metadata": {},
     "output_type": "execute_result"
    }
   ],
   "source": [
    "res=req.get(url, headers=user_agent) #header를 컴퓨터가 아니라, 유저_agent라고 속여서, 통신 성공!\n",
    "res"
   ]
  },
  {
   "cell_type": "code",
   "execution_count": 46,
   "id": "71e31d5f-6962-428c-a0d7-d7a699b4a618",
   "metadata": {},
   "outputs": [],
   "source": [
    "# 2. 파싱\n",
    "soup=bs(res.text,\"lxml\") # html 코드 잘 긁어온다."
   ]
  },
  {
   "cell_type": "markdown",
   "id": "a8213379-2215-4f26-b0b2-1fc3fdefad33",
   "metadata": {},
   "source": [
    "3. 지정 추출\n",
    "   - 노래제목, 가수명\n",
    "- 3-1.노래제목 수집해보기"
   ]
  },
  {
   "cell_type": "code",
   "execution_count": 47,
   "id": "64f32f93-f06e-47d4-a323-d4096dacca66",
   "metadata": {},
   "outputs": [
    {
     "data": {
      "text/plain": [
       "100"
      ]
     },
     "execution_count": 47,
     "metadata": {},
     "output_type": "execute_result"
    }
   ],
   "source": [
    "# \" \"(스페이스바=공백)은 자손선택자 ! 그러므로, .클래스명.클래스명 이렇게 적어야한다! \n",
    "#(css 접근자!, 1개의 태그가 ellipsis라는 클래스와 rank01이라는 클래스 이렇게 2개의 클래스를 가진거다.)\n",
    "#(1개의 태그는 2개의 클래스를 가질 수 있다)\n",
    "\n",
    "titles=soup.select(\"div.ellipsis.rank01 > span > a\")\n",
    "len(titles)"
   ]
  },
  {
   "cell_type": "markdown",
   "id": "b9d7baa5-fdd3-481f-ae5f-71a4c48bd777",
   "metadata": {},
   "source": [
    "3-2. 가수명 수집해보기"
   ]
  },
  {
   "cell_type": "code",
   "execution_count": 48,
   "id": "98c6ca5d-50bf-48ae-9934-1079a1a36f8c",
   "metadata": {},
   "outputs": [
    {
     "data": {
      "text/plain": [
       "107"
      ]
     },
     "execution_count": 48,
     "metadata": {},
     "output_type": "execute_result"
    }
   ],
   "source": [
    "singers=soup.select(\"div.ellipsis.rank02 >  a\")\n",
    "len(singers) # Top 100인데, 107명 가수 나옴"
   ]
  },
  {
   "cell_type": "code",
   "execution_count": 49,
   "id": "f17e97ea-088f-4c3e-8e56-1bbfc467035d",
   "metadata": {
    "scrolled": true
   },
   "outputs": [
    {
     "name": "stdout",
     "output_type": "stream",
     "text": [
      "로제 (ROSÉ)\n",
      "Bruno Mars\n",
      "aespa\n",
      "G-DRAGON\n",
      "aespa\n",
      "제니 (JENNIE)\n",
      "DAY6 (데이식스)\n",
      "QWER\n",
      "DAY6 (데이식스)\n",
      "aespa\n",
      "로이킴\n",
      "AKMU (악뮤)\n",
      "DAY6 (데이식스)\n",
      "프로미스나인\n",
      "이클립스 (ECLIPSE)\n",
      "DAY6 (데이식스)\n",
      "PLAVE\n",
      "QWER\n",
      "임영웅\n",
      "이창섭\n",
      "PLAVE\n",
      "DAY6 (데이식스)\n",
      "NewJeans\n",
      "이영지\n",
      "PLAVE\n",
      "순순희(지환)\n",
      "PLAVE\n",
      "(여자)아이들\n",
      "임영웅\n",
      "아이유\n",
      "임영웅\n",
      "(여자)아이들\n",
      "임영웅\n",
      "PLAVE\n",
      "TWS (투어스)\n",
      "KISS OF LIFE\n",
      "임영웅\n",
      "아일릿(ILLIT)\n",
      "PLAVE\n",
      "PLAVE\n",
      "임영웅\n",
      "너드커넥션 (Nerd Connection)\n",
      "잔나비\n",
      "성시경\n",
      "aespa\n",
      "NewJeans\n",
      "임영웅\n",
      "세븐틴 (SEVENTEEN)\n",
      "이무진\n",
      "박재정\n",
      "임영웅\n",
      "황가람\n",
      "WOODZ\n",
      "정국\n",
      "임영웅\n",
      "이무진\n",
      "임영웅\n",
      "폴킴\n",
      "임재현\n",
      "경서예지\n",
      "전건호\n",
      "임영웅\n",
      "지코 (ZICO)\n",
      "PLAVE\n",
      "IVE (아이브)\n",
      "NewJeans\n",
      "Crush\n",
      "범진\n",
      "DAY6 (데이식스)\n",
      "NewJeans\n",
      "아일릿(ILLIT)\n",
      "임영웅\n",
      "IVE (아이브)\n",
      "방탄소년단\n",
      "방탄소년단\n",
      "NewJeans\n",
      "김민석\n",
      "멜로망스\n",
      "이무진\n",
      "부석순 (SEVENTEEN)\n",
      "임영웅\n",
      "RIIZE\n",
      "NMIXX\n",
      "태연 (TAEYEON)\n",
      "윤하 (YOUNHA)\n",
      "aespa\n",
      "임영웅\n",
      "RIIZE\n",
      "우디 (Woody)\n",
      "NewJeans\n",
      "Charlie Puth\n",
      "YENA (최예나)\n",
      "허각\n",
      "임한별\n",
      "이무진\n",
      "이진성 (먼데이 키즈)\n",
      "김희재\n",
      "#안녕\n",
      "황인욱\n",
      "TWS (투어스)\n",
      "RIIZE\n",
      "NewJeans\n",
      "투모로우바이투게더\n",
      "MEOVV (미야오)\n",
      "NewJeans\n",
      "LE SSERAFIM (르세라핌)\n",
      "KISS OF LIFE\n"
     ]
    }
   ],
   "source": [
    "for singer in singers:\n",
    "    print(singer.text) \n",
    "# 살펴보니, 가수명이 2개인 요소도 존재함!"
   ]
  },
  {
   "cell_type": "code",
   "execution_count": 50,
   "id": "882792b6-c765-4db8-ae4a-444645f3029e",
   "metadata": {},
   "outputs": [
    {
     "data": {
      "text/plain": [
       "100"
      ]
     },
     "execution_count": 50,
     "metadata": {},
     "output_type": "execute_result"
    }
   ],
   "source": [
    "#\n",
    "\n",
    "singers=soup.select(\"div.ellipsis.rank02>span\")\n",
    "len(singers)"
   ]
  },
  {
   "cell_type": "code",
   "execution_count": 51,
   "id": "5bcea52d-68d2-43b5-8854-01d2a8637c28",
   "metadata": {
    "scrolled": true
   },
   "outputs": [
    {
     "name": "stdout",
     "output_type": "stream",
     "text": [
      "로제 (ROSÉ), Bruno Mars\n",
      "aespa\n",
      "G-DRAGON\n",
      "aespa\n",
      "제니 (JENNIE)\n",
      "DAY6 (데이식스)\n",
      "QWER\n",
      "DAY6 (데이식스)\n",
      "aespa\n",
      "로이킴\n",
      "AKMU (악뮤)\n",
      "DAY6 (데이식스)\n",
      "프로미스나인\n",
      "이클립스 (ECLIPSE)\n",
      "DAY6 (데이식스)\n",
      "PLAVE\n",
      "QWER\n",
      "임영웅\n",
      "이창섭\n",
      "PLAVE\n",
      "DAY6 (데이식스)\n",
      "NewJeans\n",
      "이영지\n",
      "PLAVE\n",
      "순순희(지환)\n",
      "PLAVE\n",
      "(여자)아이들\n",
      "임영웅\n",
      "아이유\n",
      "임영웅\n",
      "(여자)아이들\n",
      "임영웅\n",
      "PLAVE\n",
      "TWS (투어스)\n",
      "KISS OF LIFE\n",
      "임영웅\n",
      "아일릿(ILLIT)\n",
      "PLAVE\n",
      "PLAVE\n",
      "임영웅\n",
      "너드커넥션 (Nerd Connection)\n",
      "잔나비\n",
      "성시경\n",
      "aespa\n",
      "NewJeans\n",
      "임영웅\n",
      "세븐틴 (SEVENTEEN)\n",
      "이무진\n",
      "박재정\n",
      "임영웅\n",
      "황가람\n",
      "WOODZ\n",
      "정국\n",
      "임영웅\n",
      "이무진\n",
      "임영웅\n",
      "폴킴\n",
      "임재현\n",
      "경서예지, 전건호\n",
      "임영웅\n",
      "지코 (ZICO)\n",
      "PLAVE\n",
      "IVE (아이브)\n",
      "NewJeans\n",
      "Crush\n",
      "범진\n",
      "DAY6 (데이식스)\n",
      "NewJeans\n",
      "아일릿(ILLIT)\n",
      "임영웅\n",
      "IVE (아이브)\n",
      "방탄소년단\n",
      "방탄소년단\n",
      "NewJeans\n",
      "김민석\n",
      "멜로망스\n",
      "이무진\n",
      "부석순 (SEVENTEEN)\n",
      "임영웅\n",
      "RIIZE\n",
      "NMIXX\n",
      "태연 (TAEYEON)\n",
      "윤하 (YOUNHA)\n",
      "aespa\n",
      "임영웅\n",
      "RIIZE\n",
      "우디 (Woody)\n",
      "NewJeans\n",
      "Charlie Puth\n",
      "YENA (최예나)\n",
      "허각, 임한별, 이무진, 이진성 (먼데이 키즈), 김희재, #안녕\n",
      "황인욱\n",
      "TWS (투어스)\n",
      "RIIZE\n",
      "NewJeans\n",
      "투모로우바이투게더\n",
      "MEOVV (미야오)\n",
      "NewJeans\n",
      "LE SSERAFIM (르세라핌)\n",
      "KISS OF LIFE\n"
     ]
    }
   ],
   "source": [
    "for singer in singers:\n",
    "    print(singer.text) "
   ]
  },
  {
   "cell_type": "code",
   "execution_count": 52,
   "id": "0ca12101-dbaa-41c2-bdad-dda7704b76b5",
   "metadata": {
    "scrolled": true
   },
   "outputs": [],
   "source": [
    "# 수집한 데이터를 저장하기 쉽게 DataFrame으로 형변환\n",
    "# intable = 시퀀스= 반복가능한 자료형들.\n",
    "title_list=[]\n",
    "singer_list=[]\n",
    "for i in range(len(singers)):\n",
    "    title_list.append(titles[i].text)\n",
    "    singer_list.append(singers[i].text)\n",
    "\n",
    "#리스트 내포랑, map함수, 위처럼 반복문 사용으로 삽입\n",
    "#3가지 방법 모두 해보자.  map좀 잘 써보자. *******************************************************************************************"
   ]
  },
  {
   "cell_type": "code",
   "execution_count": 53,
   "id": "973ee9ce-ba7d-45c4-be3b-ddd81818e621",
   "metadata": {},
   "outputs": [
    {
     "data": {
      "text/plain": [
       "(['APT.', 'Whiplash', 'POWER', 'UP (KARINA Solo)', 'Mantra'],\n",
       " ['로제 (ROSÉ), Bruno Mars', 'aespa', 'G-DRAGON', 'aespa', '제니 (JENNIE)'])"
      ]
     },
     "execution_count": 53,
     "metadata": {},
     "output_type": "execute_result"
    }
   ],
   "source": [
    "title_list[:5], singer_list[:5]"
   ]
  },
  {
   "cell_type": "code",
   "execution_count": 54,
   "id": "cfde3583-68c2-440d-bd4a-d4c1d2f970a6",
   "metadata": {},
   "outputs": [],
   "source": [
    "# 수집한 데이터를 저장하기 쉽게 DataFrame으로 형변환\n",
    "import pandas as pd"
   ]
  },
  {
   "cell_type": "code",
   "execution_count": 55,
   "id": "0e33402b-5d24-4323-b499-306bf1d60690",
   "metadata": {
    "scrolled": true
   },
   "outputs": [],
   "source": [
    "dict_melon = {\n",
    "    \"노래제목\":title_list,\n",
    "    \"가수명\":singer_list\n",
    "}\n",
    "\n",
    "melon_top100= pd.DataFrame(dict_melon)"
   ]
  },
  {
   "cell_type": "code",
   "execution_count": 56,
   "id": "6a7511ae-be9d-437f-beeb-879826821df1",
   "metadata": {},
   "outputs": [],
   "source": [
    "#4. 저장\n",
    "melon_top100.to_csv(\"./melon_top_100.csv\",encoding = \"utf-8\")\n",
    "#UTf-8, cp949, euc-kr"
   ]
  },
  {
   "cell_type": "code",
   "execution_count": null,
   "id": "54b19808-57ac-4e52-b391-8217046749b1",
   "metadata": {},
   "outputs": [],
   "source": []
  },
  {
   "cell_type": "code",
   "execution_count": null,
   "id": "d2676945-5377-4f19-91f1-7be602c6ca49",
   "metadata": {},
   "outputs": [],
   "source": []
  },
  {
   "cell_type": "code",
   "execution_count": null,
   "id": "de0dc60b-f901-4439-8aaa-95731a20653a",
   "metadata": {},
   "outputs": [],
   "source": []
  },
  {
   "cell_type": "code",
   "execution_count": null,
   "id": "3f537af0-fc23-4eaf-97c4-6cb119a46c1b",
   "metadata": {},
   "outputs": [],
   "source": []
  },
  {
   "cell_type": "code",
   "execution_count": null,
   "id": "5b5528d5-381e-45ea-8650-6df290f1c39c",
   "metadata": {},
   "outputs": [],
   "source": []
  },
  {
   "cell_type": "code",
   "execution_count": null,
   "id": "0fd4b9dd-5c11-4478-9f58-aede38ceb6a2",
   "metadata": {},
   "outputs": [],
   "source": []
  },
  {
   "cell_type": "code",
   "execution_count": null,
   "id": "13ccdac0-7c7a-4494-926f-ba2ebf68b403",
   "metadata": {},
   "outputs": [],
   "source": []
  },
  {
   "cell_type": "code",
   "execution_count": null,
   "id": "5d84bc76-35b0-4746-a824-32bf7047f851",
   "metadata": {},
   "outputs": [],
   "source": []
  },
  {
   "cell_type": "code",
   "execution_count": null,
   "id": "e37d3c91-c6ed-42ae-b4cb-cd89e0a8eefc",
   "metadata": {},
   "outputs": [],
   "source": []
  },
  {
   "cell_type": "code",
   "execution_count": null,
   "id": "97755c76-324b-4de6-b469-2d8d867ed4cb",
   "metadata": {},
   "outputs": [],
   "source": []
  }
 ],
 "metadata": {
  "kernelspec": {
   "display_name": "Python 3 (ipykernel)",
   "language": "python",
   "name": "python3"
  },
  "language_info": {
   "codemirror_mode": {
    "name": "ipython",
    "version": 3
   },
   "file_extension": ".py",
   "mimetype": "text/x-python",
   "name": "python",
   "nbconvert_exporter": "python",
   "pygments_lexer": "ipython3",
   "version": "3.12.4"
  }
 },
 "nbformat": 4,
 "nbformat_minor": 5
}
